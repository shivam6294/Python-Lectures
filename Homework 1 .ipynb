{
 "cells": [
  {
   "cell_type": "markdown",
   "metadata": {},
   "source": [
    "# Homework 1"
   ]
  },
  {
   "cell_type": "markdown",
   "metadata": {},
   "source": [
    "# Recap / Concepts we've learned so far:\n",
    "### a. Basic / `Primitive` data types:\n",
    "    1. Arithmetic data types\n",
    "        * Integers\n",
    "        * Floating Point Numbers\n",
    "    2. String\n",
    "    3. Boolean\n",
    "\n",
    "### b. Conditional Statements (if, elif, else)\n",
    "\n",
    "```python\n",
    "    if x % 2 == 0:\n",
    "        print(True)\n",
    "    else:\n",
    "        print(False)\n",
    "```\n",
    "\n",
    "\n",
    "### c. Functions\n",
    "\n",
    "```python\n",
    "    def square(x):\n",
    "        return x * x \n",
    "```\n",
    "### d. Data Structures:\n",
    "    1. Lists\n",
    "    \n",
    "```python\n",
    "    numbers = [1,2,3,4,5]\n",
    "```"
   ]
  },
  {
   "cell_type": "markdown",
   "metadata": {},
   "source": [
    "# Homework Problem:\n",
    "\n",
    "## Part 1\n",
    "\n",
    "Write a program / python code to calculate the monthly telecom bill for a customer.\n",
    "\n",
    "**Telecom Company XYZ** calculates monthly bills based on the following criterion:\n",
    "\n",
    "1. ** Base Price :** 50 HKD (This is the minimum bill amount for every month\n",
    "\n",
    "2. **Calls :**\n",
    "\n",
    "| Usage Tier             | Usage (in minutes)      | Cost per minute |\n",
    "|------------------------|-----------------------|-----------------|\n",
    "| Tier 1                 | First 300 minutes         | 0.1 `$`           |\n",
    "| Tier 2                 | Next 300 minutes          | 0.3 `$`           |\n",
    "| Tier 3                 | After first 600 minutes of use | 0.5 `$`           |\n",
    "\n",
    "\n",
    "`The Final Bill Amount = Base Price + Cost for all calls`\n",
    "\n",
    "\n",
    "Your homework is to finish the function defined below and pass the three test cases:\n",
    "\n",
    "```python\n",
    "def calculate_bill_hkd(call_usage_minutes)\n",
    "\n",
    "    # Your code should go here\n",
    "    \n",
    "    return bill_amount_hkd\n",
    "```"
   ]
  },
  {
   "cell_type": "code",
   "execution_count": null,
   "metadata": {},
   "outputs": [],
   "source": [
    "def calculate_bill_hkd(call_usage_minutes):\n",
    "\n",
    "    # Your code should go here\n",
    "\n",
    "    \n",
    "    bill_amount_hkd = 0 # Just a placeholder, makes sure that the function returns an integer. You should remove this \n",
    "    return bill_amount_hkd"
   ]
  },
  {
   "cell_type": "markdown",
   "metadata": {},
   "source": [
    "## Test Cases: \n",
    "\n",
    "* If you want to check if your function works properly - run the three cells below. \n",
    "\n",
    "* If all three of them output **`True`** - you're done!!"
   ]
  },
  {
   "cell_type": "code",
   "execution_count": null,
   "metadata": {},
   "outputs": [],
   "source": [
    "# Test case 1 - the output should be true\n",
    "calculate_bill_hkd(300) == (80.0)"
   ]
  },
  {
   "cell_type": "code",
   "execution_count": null,
   "metadata": {},
   "outputs": [],
   "source": [
    "# Test case 2 - the output should be true\n",
    "calculate_bill_hkd(590) == (167.0)"
   ]
  },
  {
   "cell_type": "code",
   "execution_count": null,
   "metadata": {},
   "outputs": [],
   "source": [
    "# Test case 1 - the output should be true\n",
    "calculate_bill_hkd(1000) == (370)"
   ]
  },
  {
   "cell_type": "markdown",
   "metadata": {},
   "source": [
    "# Unable to solve the problem? \n",
    "\n",
    "## Run the code block below for a valuable hint!!"
   ]
  },
  {
   "cell_type": "code",
   "execution_count": null,
   "metadata": {},
   "outputs": [],
   "source": [
    "import base64\n",
    "hint_1 = 'Cmluc2lkZSBmdW5jdGlvbiBjYWxjdWxhdGVfYmlsbF9oa2Q6CiMgYS4gZGVmaW5lIHRoZSBiYXNlIHByaWNlIHRvIGEgdmFyaWFibGUgdG8gNTAKIyBiLiBjYWxjdWxhdGUgdGhlIGJpbGwgYW1vdW50IGZvciBjYWxscyAodXNpbmcgaWYsIGVsaWYgYW5kIGVsc2Ugb24gdGhlIHZhcmlhYmxlIGNhbGxfdXNhZ2VfbWludXRlcykKIyBhZGQgdXAgYS4gYW5kIGIuIGFuZCByZXR1cm4gdGhlIGZpbmFsIGJpbGwgYW1vdW50IC0+IHRoYXQncyB5b3VyIGFuc3dlcgo='\n",
    "print(base64.b64decode(hint_1).decode('utf-8'))"
   ]
  },
  {
   "cell_type": "markdown",
   "metadata": {},
   "source": [
    "# Solution is in the code cell below\n",
    "\n",
    "Don't run the code block below until you've tried solving the problem by yourself a few times!!\n",
    "\n",
    "If you're absolutely stuck and can't solve the problem - remove the `#` hash symbol at the beginning of each line below and run the code block"
   ]
  },
  {
   "cell_type": "code",
   "execution_count": null,
   "metadata": {},
   "outputs": [],
   "source": [
    "# solution = b'CmRlZiBjYWxjdWxhdGVfYmlsbF9oa2QoY2FsbF91c2FnZV9taW51dGVzKToKICAgIAogICAgYmFzZV9wcmljZV9oa2QgPSA1MC4wCiAgICAKICAgIHRvdGFsX2NhbGxfY29zdCA9IDAuMAogICAgCiAgICBpZiBjYWxsX3VzYWdlX21pbnV0ZXMgPD0gMzAwLjA6CiAgICAgICAgdG90YWxfY2FsbF9jb3N0ID0gdG90YWxfY2FsbF9jb3N0ICsgKDAuMSAqIChjYWxsX3VzYWdlX21pbnV0ZXMpKQogICAgZWxpZiBjYWxsX3VzYWdlX21pbnV0ZXMgPD0gNjAwLjA6CiAgICAgICAgIyBjYWxjdWxhdGUgY29zdCBmb3IgZmlyc3QgMzAwIG1pbnV0ZXMKICAgICAgICBjYWxsX2Nvc3RfdGllcl8xID0gMC4xICogMzAwCiAgICAgICAgCiAgICAgICAgIyBzdWJ0cmFjdCAzMDAgbWludXRlcyBmcm9tIGNhbGxfdXNhZ2VfbWludXRlcwogICAgICAgIGNhbGxfdXNhZ2VfbWludXRlcyA9IGNhbGxfdXNhZ2VfbWludXRlcyAtIDMwMAogICAgICAgIAogICAgICAgICMgY2FsY3VsYXRlIHRoZSByZW1haW5pbmcgY29zdAogICAgICAgIGNhbGxfY29zdF90aWVyXzIgPSAwLjMgKiBjYWxsX3VzYWdlX21pbnV0ZXMKICAgICAgICAKICAgICAgICAjIGFkZCBlbSB1cCEKICAgICAgICB0b3RhbF9jYWxsX2Nvc3QgPSBjYWxsX2Nvc3RfdGllcl8xICsgY2FsbF9jb3N0X3RpZXJfMgogICAgZWxzZToKICAgICAgICAjIGNhbGN1bGF0ZSBjb3N0IGZvciBmaXJzdCAzMDAgbWludXRlcwogICAgICAgIGNhbGxfY29zdF90aWVyXzEgPSAwLjEgKiAzMDAKICAgICAgICAKICAgICAgICAjIHN1YnRyYWN0IDMwMCBtaW51dGVzIGZyb20gY2FsbF91c2FnZV9taW51dGVzCiAgICAgICAgY2FsbF91c2FnZV9taW51dGVzID0gY2FsbF91c2FnZV9taW51dGVzIC0gMzAwCiAgICAgICAgCiAgICAgICAgIyBjYWxjdWxhdGUgY29zdCBmb3IgbmV4dCAzMDAgbWludXRlcwogICAgICAgIGNhbGxfY29zdF90aWVyXzIgPSAwLjMgKiAzMDAKICAgICAgICAKICAgICAgICAjIHN1YnRyYWN0IDMwMCBtaW51dGVzIGZyb20gY2FsbF91c2FnZV9taW51dGVzCiAgICAgICAgY2FsbF91c2FnZV9taW51dGVzID0gY2FsbF91c2FnZV9taW51dGVzIC0gMzAwCiAgICAgICAgCiAgICAgICAgIyBjYWxjdWxhdGUgdGhlIHJlbWFpbmluZyBjb3N0CiAgICAgICAgY2FsbF9jb3N0X3RpZXJfMyA9IDAuNSAqIGNhbGxfdXNhZ2VfbWludXRlcwogICAgICAgIAogICAgICAgICMgYWRkIGVtIHVwCiAgICAgICAgdG90YWxfY2FsbF9jb3N0ID0gY2FsbF9jb3N0X3RpZXJfMSArIGNhbGxfY29zdF90aWVyXzIgKyBjYWxsX2Nvc3RfdGllcl8zCiAgICAKICAgIGJpbGxfYW1vdW50X2hrZCA9IGJhc2VfcHJpY2VfaGtkICsgdG90YWxfY2FsbF9jb3N0IAogICAgcmV0dXJuIGJpbGxfYW1vdW50X2hrZAo='\n",
    "# print(base64.b64decode(solution).decode('utf-8'))"
   ]
  }
 ],
 "metadata": {
  "kernelspec": {
   "display_name": "Python 3",
   "language": "python",
   "name": "python3"
  },
  "language_info": {
   "codemirror_mode": {
    "name": "ipython",
    "version": 3
   },
   "file_extension": ".py",
   "mimetype": "text/x-python",
   "name": "python",
   "nbconvert_exporter": "python",
   "pygments_lexer": "ipython3",
   "version": "3.6.1"
  }
 },
 "nbformat": 4,
 "nbformat_minor": 2
}
