{
 "cells": [
  {
   "cell_type": "markdown",
   "metadata": {},
   "source": [
    "# Session 00a - Computing Architecture, Operating Systems and Programming Fundamentals"
   ]
  },
  {
   "cell_type": "markdown",
   "metadata": {},
   "source": [
    "## Introduction"
   ]
  },
  {
   "cell_type": "markdown",
   "metadata": {},
   "source": [
    "Before we jump into programming with Python, it's important to understand a few fundamental concepts about how a computer works. "
   ]
  },
  {
   "cell_type": "markdown",
   "metadata": {},
   "source": [
    "## 1. Hardware - Today's Computing Architecture - `Von Neumann's Architecture`\n",
    "\n",
    "* This architecture hasn't changed much since 1945"
   ]
  },
  {
   "cell_type": "markdown",
   "metadata": {},
   "source": [
    "![alt text](./images/00/von_neumann_architecture.gif)"
   ]
  },
  {
   "cell_type": "markdown",
   "metadata": {},
   "source": [
    "* **CPU**:\n",
    "    * Hardware component that has the ability to execute \"instructions\" - issued either by a user or a software\n",
    "    * Responsible for performing math / logical operations\n",
    "\n",
    "\n",
    "* **Memory** (Random Access Memory or RAM):\n",
    "    * Think of this as \"short term memory\" for storing data that needs to be retrieved quickly and often\n",
    "    * Fast to store and retrive data from RAM (almost instantaneous)\n",
    "    * Volatile - all data is lost when the machine is turned off / unplugged\n",
    "    * It's important to know how the Memory works - as it'll make understanding data structures easier\n",
    "    \n",
    "    * Conceptually, you can think of memory as a table with two columns/key value pairs - address and data/instruction\n",
    "        \n",
    "        ```\n",
    "        address  | data / instruction\n",
    "        00000000 | 0101000100\n",
    "        00000001 | 0100101011 \n",
    "        ```\n",
    "      Here, both the address and data are in binary, a.k.a represented using 0's and 1's (the fundamental number system that computers use). From a high-level problem solvers view - all we need to know is that it takes constant time to retrieve any data / instruction at a given memory address"
   ]
  },
  {
   "cell_type": "markdown",
   "metadata": {},
   "source": [
    "* **External Storage**:\n",
    "    * The \"long term memory\" of a computer, for storing data that may or may not be retrieved quickly and often\n",
    "    * Non-volatile - the data still persists even after the machine is turned off / restarted\n",
    "\n",
    "\n",
    "* **Input Devices**:\n",
    "    * Keyboard\n",
    "    * Mouse / Touchpad\n",
    "    * Xbox Controller\n",
    "\n",
    "\n",
    "* **Output Devices**:\n",
    "    * Display\n",
    "    * Projector"
   ]
  },
  {
   "cell_type": "markdown",
   "metadata": {},
   "source": [
    "# 2. Software\n",
    "\n",
    "* Set of instructions (or data) that are executed (or processed) by a computer system \n",
    "\n",
    "## 2a. Operating Systems\n",
    "\n",
    "* An **operating system** is the most important software that runs on a computer. \n",
    "\n",
    "* Acts as the interface between the user and the hardware  \n",
    "\n",
    "* It manages the computer's *memory* (discussed above) and *processes* (an instance of a program that runs on a CPU). \n",
    "\n",
    "* It also allows a user to communicate with the computer without knowing how to speak the computer's language.\n",
    "\n",
    "* Popular Operating Systems include - Mac OS\n"
   ]
  },
  {
   "cell_type": "markdown",
   "metadata": {},
   "source": [
    "## 2b. Application / Application Software\n",
    "\n",
    "An application is a program written by a user - with the aim of solving a business / tech problem\n",
    "\n",
    "* These programs are written in Programming languages - such as C++, C#, Java, Python etc. \n",
    "\n",
    "* Each programming language has it's own philosophy, syntax and quirks - but the end goal is the same - **convert human readable logic into a machine executable instructions**\n",
    "\n",
    "\n",
    "\n",
    "Programming languages are of two types:\n",
    "1. **Compiled Languages:** Write your code --> use an intermediate program called a \"compiler\" to convert your human readable program to machine code --> execute machine code \n",
    "    * **Pros:**\n",
    "        * Blazing fast (in most cases 5-10x faster than interoreted languages\n",
    "    * **Cons:**\n",
    "        * Verbose / more explicit code - lots of lines\n",
    "        * Much harder and less intuitive for someone who doesn't have a programming background\n",
    "            \n",
    "1. **Interpreted Languages:** Write your code --> execute it directly on a machine (the system translates your code into machine code line-by-line, on the fly!)\n",
    "    * **Pros:**\n",
    "        * The Syntax of these languages is much more user friendly\n",
    "        * Fewer lines of code\n",
    "    * **Cons:**\n",
    "        * Much slower than compiled languages (due to the overhead of on-the-fly compilation\n"
   ]
  },
  {
   "cell_type": "markdown",
   "metadata": {
    "collapsed": true
   },
   "source": [
    "![alt text](./images/00/high_level_vs_low_level_programming_languages.png)"
   ]
  }
 ],
 "metadata": {
  "kernelspec": {
   "display_name": "Python 3",
   "language": "python",
   "name": "python3"
  },
  "language_info": {
   "codemirror_mode": {
    "name": "ipython",
    "version": 3
   },
   "file_extension": ".py",
   "mimetype": "text/x-python",
   "name": "python",
   "nbconvert_exporter": "python",
   "pygments_lexer": "ipython3",
   "version": "3.6.0"
  }
 },
 "nbformat": 4,
 "nbformat_minor": 0
}
