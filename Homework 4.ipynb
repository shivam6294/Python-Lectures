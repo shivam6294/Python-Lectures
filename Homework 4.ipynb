{
 "cells": [
  {
   "cell_type": "markdown",
   "metadata": {},
   "source": [
    "# Homework 4\n",
    "\n",
    "This homework contains **two** problems"
   ]
  },
  {
   "cell_type": "code",
   "execution_count": 1,
   "metadata": {
    "collapsed": true
   },
   "outputs": [],
   "source": [
    "# importing modules used for displaying hints\n",
    "import base64\n",
    "\n",
    "# display functions\n",
    "from IPython.display import Markdown, display"
   ]
  },
  {
   "cell_type": "markdown",
   "metadata": {},
   "source": [
    "# Problem #1: A Dog's age in human years\n",
    "\n",
    "If you own a dog, you've heard this rule: 1 year for Fido equals 7 years for you. While this may or may not be accuracte, it's a great idea for a programming problem :) If you're not familiar with this concept - [this]( https://pets.webmd.com/dogs/how-to-calculate-your-dogs-age) is a great article. \n",
    "\n",
    "## Your task\n",
    "Write a Python program to convert a dog's age to human years.\n",
    "\n",
    "To accomplish this, you need to create a function called `to_human_years(dog_years)` that accepts an integer `dog_years` and returns a `float` / decimal number which represents the age in human years.\n",
    "\n",
    "### Rule to convert age from human years to dog years - \n",
    "* For the first two years - a dog year is equal to 10.5 human years\n",
    "* After that - Each dog year equals 4 human years\n",
    "\n",
    "\n",
    "Example Input:\n",
    "```\n",
    "     to_human_years(2)\n",
    "```\n",
    "\n",
    "Output:\n",
    "```\n",
    "    21   \n",
    "```\n",
    "\n",
    "Fuction to create:\n",
    "\n",
    "```python\n",
    "def to_human_years(dog_years):\n",
    "    \n",
    "    ## convert dog years to human years, and save your answer in the variable `human_years` below\n",
    "    # human_years = \n",
    "    \n",
    "    return human_years\n",
    "```\n",
    "\n",
    "**Hint:** You're given two rules for calculating a dog's age in human years. When you're given a set of rules, wherein you're required to conditionally run lines of code - `if`-`else` statements are the way to go!\n",
    "\n",
    "### Test cases \n",
    "\n",
    "Once you've completed this program, please verify the correctness using the following input and output test cases:\n",
    "\n",
    "Once you've completed this program, please verify the correctness using the following input and output test cases:\n",
    "\n",
    "\n",
    "| Input(dog_years) | Output |         \n",
    "| :-: |:-------------: |\n",
    "|2| 21.0 |\n",
    "|5| 33.0 |\n",
    "| 10 | 53.0|\n",
    "| 15 | 73.0|\n"
   ]
  },
  {
   "cell_type": "code",
   "execution_count": 3,
   "metadata": {
    "collapsed": false
   },
   "outputs": [],
   "source": [
    "def to_human_years(dog_years): \n",
    "    \n",
    "    if dog_years <= 2:\n",
    "        human_years = dog_years * 10.5\n",
    "    else:\n",
    "        human_years = 21 + (dog_years - 2) * 4\n",
    "    \n",
    "    return human_years\n"
   ]
  },
  {
   "cell_type": "code",
   "execution_count": 5,
   "metadata": {
    "collapsed": false
   },
   "outputs": [
    {
     "data": {
      "text/plain": [
       "73"
      ]
     },
     "execution_count": 5,
     "metadata": {},
     "output_type": "execute_result"
    }
   ],
   "source": [
    "to_human_years(15)"
   ]
  },
  {
   "cell_type": "markdown",
   "metadata": {},
   "source": [
    "### Solution 1 "
   ]
  },
  {
   "cell_type": "code",
   "execution_count": 7,
   "metadata": {
    "collapsed": false
   },
   "outputs": [],
   "source": [
    "# solution_1 = b'ZGVmIHRvX2h1bWFuX3llYXJzKGRvZ195ZWFycyk6CiAgICAKICAgICMgY29udmVydCBkb2cgeWVhcnMgdG8gaHVtYW4geWVhcnMsIGFuZCBzYXZlIHlvdXIgYW5zd2VyIGluIHRoZSB2YXJpYWJsZSBgaHVtYW5feWVhcnNgIGJlbG93CiAgICBpZiBkb2dfeWVhcnMgPD0gMjoKICAgICAgICBodW1hbl95ZWFycyA9IGRvZ195ZWFycyAqIDEwLjUKICAgIGVsc2U6CiAgICAgICAgaHVtYW5feWVhcnMgPSAoMiAqIDEwLjUpICsgKGRvZ195ZWFycyAtIDIpICogNAogICAgCiAgICByZXR1cm4gaHVtYW5feWVhcnMK'\n",
    "# display(Markdown(\"```python\\n{}\\n```\".format(base64.b64decode(solution_1).decode('utf-8'))))"
   ]
  },
  {
   "cell_type": "markdown",
   "metadata": {},
   "source": [
    "# Problem #2: File Operations \n",
    "\n",
    "Now that you've written the function `to_human_years`, you can successfully convert a dog's age from \"dog years\" to \"human years\". This function lets you convert a dog's age to human years, but what if you had a database of dog-names and their current age - and you wanted to know their ages in human years?\n",
    "\n",
    "Here's a file which contains data pertaining to 11 dogs, namely - their name and age - `python-tutorials/data/dogs.csv` (feel free to open this file by double clicking on it via Finder, first)\n",
    "\n",
    "Once you open the file, it should look like this -\n",
    "\n",
    "```\n",
    "Bailey, 3\n",
    "Bella, 5\n",
    "Max, 18\n",
    "Lucy, 12\n",
    "Charlie, 5\n",
    "Molly, 2\n",
    "Buddy, 12\n",
    "Daisy, 10\n",
    "Rocky, 8\n",
    "Maggie, 6\n",
    "Chloe, 1\n",
    "```\n",
    "\n",
    "You can see that the file contains two columns separated by commas. A **`.csv`** file represents a comma-separated-values file. In this file - the first column represents the dog's **`name`** and the second column represents the **`age_in_dog_years`**.\n",
    "\n",
    "## Your task\n",
    "\n",
    "Open this file in read mode in python - and run the **`to_human_years(dog_years)`** function for each dog entry, and print out the final result to console. This is what your output should look like - \n",
    "\n",
    "Output:\n",
    "```\n",
    "Bailey : 3 dog years, 25.0 human years\n",
    "Bella : 5 dog years, 33.0 human years\n",
    "Max : 18 dog years, 85.0 human years\n",
    "Lucy : 12 dog years, 61.0 human years\n",
    "Charlie : 5 dog years, 33.0 human years\n",
    "Molly : 2 dog years, 21.0 human years\n",
    "Buddy : 12 dog years, 61.0 human years\n",
    "Daisy : 10 dog years, 53.0 human years\n",
    "Rocky : 8 dog years, 45.0 human years\n",
    "Maggie : 6 dog years, 37.0 human years\n",
    "Chloe : 1 dog years, 10.5 human years\n",
    "```\n",
    "\n",
    "Fuction to create:\n",
    "\n",
    "```python\n",
    "def print_dog_ages_in_human_years(absolute_path_to_file):\n",
    "    \n",
    "    # Open the file from location = `absolute_path_to_file`\n",
    "    # in read mode and read all the lines in the file\n",
    "    # using the file.readlines() function\n",
    "\n",
    "    # Iterate over each line (using a for loop)\n",
    "    # Use the string split function to \n",
    "    # separate the name and the age_dog_years \n",
    "    \n",
    "    # Convert the age_dog_years from string to integer\n",
    "\n",
    "    # Convert age_dog_years to age_human_years using the function \n",
    "    # `to_human_years` you wrote earlier\n",
    "\n",
    "    # Print the output using string formatting, like this: \n",
    "    #    print(\"{} : {} dog years, {} human years\".format(dog_name, age_dog_years, age_human_years))\n",
    "```\n"
   ]
  },
  {
   "cell_type": "code",
   "execution_count": 17,
   "metadata": {
    "collapsed": false
   },
   "outputs": [],
   "source": [
    "def print_dog_ages_in_human_years(absolute_filename):\n",
    "    with open(absolute_filename, 'r') as dog_data:\n",
    "        for line in dog_data:\n",
    "            current_line = line.rstrip('\\n')\n",
    "            current_line = current_line.split(',')\n",
    "            name = current_line[0]\n",
    "            dog_years = int(current_line[1])\n",
    "            human_years = to_human_years(dog_years) \n",
    "            print(\"{name} : {dog_years} dog years, {human_years} human years\".format(name=name, \n",
    "                                                                                     dog_years=dog_years, \n",
    "                                                                                     human_years=human_years))\n",
    "            \n",
    "        \n",
    "        \n",
    "    \n",
    "    # Open the file from location = `absolute_path_to_file`\n",
    "    # in read mode and read all the lines in the file\n",
    "    # using the file.readlines() function\n",
    "\n",
    "    # Iterate over each line (using a for loop)\n",
    "    # Use the string split function to \n",
    "    # separate the name and the age_dog_years \n",
    "    \n",
    "    # Convert the age_dog_years from string to integer\n",
    "\n",
    "    # Convert age_dog_years to age_human_years using the function \n",
    "    # `to_human_years` you wrote earlier\n",
    "\n",
    "    # Print the output using string formatting, like this: \n",
    "    #    print(\"{} : {} dog years, {} human years\".format(dog_name, age_dog_years, age_human_years))\n"
   ]
  },
  {
   "cell_type": "code",
   "execution_count": 18,
   "metadata": {
    "collapsed": false
   },
   "outputs": [
    {
     "name": "stdout",
     "output_type": "stream",
     "text": [
      "Bailey : 3 dog years, 25 human years\n",
      "Bella : 5 dog years, 33 human years\n",
      "Max : 18 dog years, 85 human years\n",
      "Lucy : 12 dog years, 61 human years\n",
      "Charlie : 5 dog years, 33 human years\n",
      "Molly : 2 dog years, 21.0 human years\n",
      "Buddy : 12 dog years, 61 human years\n",
      "Daisy : 10 dog years, 53 human years\n",
      "Rocky : 8 dog years, 45 human years\n",
      "Maggie : 6 dog years, 37 human years\n",
      "Chloe : 1 dog years, 10.5 human years\n"
     ]
    }
   ],
   "source": [
    "print_dog_ages_in_human_years('data/dogs.csv')"
   ]
  },
  {
   "cell_type": "code",
   "execution_count": 5,
   "metadata": {
    "collapsed": true
   },
   "outputs": [],
   "source": [
    "### NOTE: first find the absolute path to the dogs.csv file\n",
    "\n",
    "# use the terminal to go to the directory where \n",
    "# these tutorials are saved and run the `pwd` command in this \n",
    "# 'python-tutorials/data' directory\n",
    "\n",
    "# if you ran the jupyter notebook command in terminal from inside the \n",
    "# `python-tutorials` directory \n",
    "# then the `absolute_path_to_file` value below should work\n",
    "\n",
    "absolute_path_to_file = 'data/dogs.csv'\n",
    "\n",
    "## If it doesnt work, try the variable below\n",
    "# absolute_path_to_file = '~/Desktop/Tutorials/python-tutorials/data/dogs.csv'"
   ]
  },
  {
   "cell_type": "code",
   "execution_count": 6,
   "metadata": {
    "collapsed": false
   },
   "outputs": [
    {
     "name": "stdout",
     "output_type": "stream",
     "text": [
      "\n"
     ]
    }
   ],
   "source": [
    "# Test your function\n",
    "\n",
    "print_dog_ages_in_human_years(absolute_path_to_file)"
   ]
  },
  {
   "cell_type": "markdown",
   "metadata": {},
   "source": [
    "# Solution 2"
   ]
  },
  {
   "cell_type": "code",
   "execution_count": 19,
   "metadata": {
    "collapsed": false
   },
   "outputs": [
    {
     "data": {
      "text/markdown": [
       "```python\n",
       "def print_dog_ages_in_human_years(absolute_path_to_file):\n",
       "    \n",
       "    # Open the file from location = `absolute_path_to_file`\n",
       "    # in read mode and read all the lines in the file\n",
       "    # using the file.readlines() function\n",
       "\n",
       "    with open(absolute_path_to_file, 'r') as fp:\n",
       "        all_lines = fp.readlines()\n",
       "\n",
       "    # Iterate over each line (using a for loop)\n",
       "    # Use the string split function to \n",
       "    # separate the name and the age_dog_years \n",
       "    for line in all_lines:\n",
       "        dog_name, age_dog_years = line.split(',')\n",
       "\n",
       "    # Convert the age_dog_years from string to integer\n",
       "        age_dog_years = int(age_dog_years)\n",
       "\n",
       "    # Convert age_dog_years to age_human_years using the function \n",
       "    # `to_human_years` you wrote earlier\n",
       "        age_human_years = to_human_years(age_dog_years)\n",
       "\n",
       "    # Print the output using string formatting, like this: \n",
       "    #    print(\"{} : {} dog years, {} human years\".format(dog_name, age_dog_years, age_human_years))\n",
       "        print(\"{} : {} dog years, {} human years\".format(dog_name, age_dog_years, age_human_years))\n",
       "\n",
       "```"
      ],
      "text/plain": [
       "<IPython.core.display.Markdown object>"
      ]
     },
     "metadata": {},
     "output_type": "display_data"
    }
   ],
   "source": [
    "solution_2 = b'ZGVmIHByaW50X2RvZ19hZ2VzX2luX2h1bWFuX3llYXJzKGFic29sdXRlX3BhdGhfdG9fZmlsZSk6CiAgICAKICAgICMgT3BlbiB0aGUgZmlsZSBmcm9tIGxvY2F0aW9uID0gYGFic29sdXRlX3BhdGhfdG9fZmlsZWAKICAgICMgaW4gcmVhZCBtb2RlIGFuZCByZWFkIGFsbCB0aGUgbGluZXMgaW4gdGhlIGZpbGUKICAgICMgdXNpbmcgdGhlIGZpbGUucmVhZGxpbmVzKCkgZnVuY3Rpb24KCiAgICB3aXRoIG9wZW4oYWJzb2x1dGVfcGF0aF90b19maWxlLCAncicpIGFzIGZwOgogICAgICAgIGFsbF9saW5lcyA9IGZwLnJlYWRsaW5lcygpCgogICAgIyBJdGVyYXRlIG92ZXIgZWFjaCBsaW5lICh1c2luZyBhIGZvciBsb29wKQogICAgIyBVc2UgdGhlIHN0cmluZyBzcGxpdCBmdW5jdGlvbiB0byAKICAgICMgc2VwYXJhdGUgdGhlIG5hbWUgYW5kIHRoZSBhZ2VfZG9nX3llYXJzIAogICAgZm9yIGxpbmUgaW4gYWxsX2xpbmVzOgogICAgICAgIGRvZ19uYW1lLCBhZ2VfZG9nX3llYXJzID0gbGluZS5zcGxpdCgnLCcpCgogICAgIyBDb252ZXJ0IHRoZSBhZ2VfZG9nX3llYXJzIGZyb20gc3RyaW5nIHRvIGludGVnZXIKICAgICAgICBhZ2VfZG9nX3llYXJzID0gaW50KGFnZV9kb2dfeWVhcnMpCgogICAgIyBDb252ZXJ0IGFnZV9kb2dfeWVhcnMgdG8gYWdlX2h1bWFuX3llYXJzIHVzaW5nIHRoZSBmdW5jdGlvbiAKICAgICMgYHRvX2h1bWFuX3llYXJzYCB5b3Ugd3JvdGUgZWFybGllcgogICAgICAgIGFnZV9odW1hbl95ZWFycyA9IHRvX2h1bWFuX3llYXJzKGFnZV9kb2dfeWVhcnMpCgogICAgIyBQcmludCB0aGUgb3V0cHV0IHVzaW5nIHN0cmluZyBmb3JtYXR0aW5nLCBsaWtlIHRoaXM6IAogICAgIyAgICBwcmludCgie30gOiB7fSBkb2cgeWVhcnMsIHt9IGh1bWFuIHllYXJzIi5mb3JtYXQoZG9nX25hbWUsIGFnZV9kb2dfeWVhcnMsIGFnZV9odW1hbl95ZWFycykpCiAgICAgICAgcHJpbnQoInt9IDoge30gZG9nIHllYXJzLCB7fSBodW1hbiB5ZWFycyIuZm9ybWF0KGRvZ19uYW1lLCBhZ2VfZG9nX3llYXJzLCBhZ2VfaHVtYW5feWVhcnMpKQo='\n",
    "display(Markdown(\"```python\\n{}\\n```\".format(base64.b64decode(solution_2).decode('utf-8')))) "
   ]
  },
  {
   "cell_type": "code",
   "execution_count": null,
   "metadata": {
    "collapsed": true
   },
   "outputs": [],
   "source": []
  }
 ],
 "metadata": {
  "kernelspec": {
   "display_name": "Python 2",
   "language": "python",
   "name": "python2"
  },
  "language_info": {
   "codemirror_mode": {
    "name": "ipython",
    "version": 2
   },
   "file_extension": ".py",
   "mimetype": "text/x-python",
   "name": "python",
   "nbconvert_exporter": "python",
   "pygments_lexer": "ipython2",
   "version": "2.7.13"
  }
 },
 "nbformat": 4,
 "nbformat_minor": 2
}
