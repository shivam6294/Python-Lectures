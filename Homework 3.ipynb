{
 "cells": [
  {
   "cell_type": "markdown",
   "metadata": {},
   "source": [
    "# Homework 3"
   ]
  },
  {
   "cell_type": "code",
   "execution_count": null,
   "metadata": {
    "collapsed": true
   },
   "outputs": [],
   "source": [
    "# importing modules used for displaying hints\n",
    "import base64\n",
    "\n",
    "# display functions\n",
    "from IPython.display import Markdown, display"
   ]
  },
  {
   "cell_type": "markdown",
   "metadata": {},
   "source": [
    "# Problem:\n",
    "\n",
    "Given a not-empty list of numbers (including decimal / floating point numbers)- create a function called `summarize(list_of_nums)` that prints the following statistics:\n",
    "* **`Sum`**: The sum of all the numbers in the list\n",
    "* **`Count`**: The length of the list\n",
    "* **`Min`**: The minimum number in the list\n",
    "* **`Max`**: The maximum number in the list\n",
    "* **`Mean`**: The average of all the numbers in the list \n",
    "\n",
    "Print the above statistics in the format shown below(using strings formatting):\n",
    "\n",
    "Example Input list:\n",
    "```\n",
    "     [5, 4, 3, 2, 1]\n",
    "```\n",
    "\n",
    "Output:\n",
    "```\n",
    "    Summary Statistics for List: [5, 4, 3, 2, 1]\n",
    "    Sum = 15\n",
    "    Count = 5\n",
    "    Min = 1\n",
    "    Max = 5\n",
    "    Mean = 3.0   \n",
    "```\n",
    "\n",
    "Fuction to create:\n",
    "\n",
    "```python\n",
    "def summary(list_of_nums):\n",
    "    # initialize variables for min_num, max_num, sum, count, mean\n",
    "    \n",
    "    # use a for loop to go over the list so as to compute the mentioned statistics\n",
    "    \n",
    "    # use string formatting and print the stats. One example of this is shown below:\n",
    "    print(\"Summary Statistics for List: {}\".format(str(list_of_nums)))\n",
    "```\n",
    "\n",
    "**Hint:** You can calculate the `Min`, `Max`, and `Sum` stats by iterating over the list in a for loop. Use the `len()` function to calculate the `Count` - you can then use the `Sum` and `Count` values to calculate the `Mean`. First, try solving this problem without using python's inbuilt modules / functions. If you have extra time, you can create another function that uses _only_ python's inbuilt modules, such as:  \n",
    "\n",
    "```python\n",
    "\n",
    "min() # for finding the minimum number in a list\n",
    "max() # for finding the largest number in a list\n",
    "sum() # finding the sum of all numbers in a list\n",
    "```\n",
    "\n",
    "\n",
    "### Test cases \n",
    "\n",
    "Once you've completed this program, please verify the correctness using the following input and output test cases:\n",
    "\n",
    "* **Test Case 1**:\n",
    "\n",
    "```\n",
    "INPUT:    \n",
    "     \n",
    "list_of_nums = [5, 4, 3, 2, 1]\n",
    "    \n",
    "OUTPUT:     \n",
    "\n",
    "Summary Statistics for List: [5, 4, 3, 2, 1]\n",
    "Sum = 15\n",
    "Count = 5\n",
    "Min = 1\n",
    "Max = 5\n",
    "Mean = 3.0   \n",
    "\n",
    "```\n",
    "\n",
    "* **Test Case 2**:\n",
    "\n",
    "```\n",
    "INPUT:    \n",
    "     \n",
    "list_of_nums = [2, 3, 5, 6, 11, 13, 17, 19]\n",
    "    \n",
    "OUTPUT:     \n",
    "\n",
    "Summary Statistics for List: [2, 3, 5, 6, 11, 13, 17, 19]\n",
    "Sum = 76\n",
    "Count = 8\n",
    "Min = 2\n",
    "Max = 19\n",
    "Mean = 9.5\n",
    "\n",
    "```\n",
    "\n",
    "* **Test Case 3**:\n",
    "\n",
    "```\n",
    "INPUT:    \n",
    "     \n",
    "list_of_nums = [ 278.28656022, 72.32016122, 93.05403749, 167.37806141, 9.2031622 ]\n",
    "    \n",
    "OUTPUT:     \n",
    "\n",
    "Summary Statistics for List: [278.28656022, 72.32016122, 93.05403749, 167.37806141, 9.2031622]\n",
    "Sum = 620.24198254\n",
    "Count = 5\n",
    "Min = 9.2031622\n",
    "Max = 278.28656022\n",
    "Mean = 124.048396508\n",
    "\n",
    "```"
   ]
  },
  {
   "cell_type": "code",
   "execution_count": null,
   "metadata": {
    "collapsed": true
   },
   "outputs": [],
   "source": [
    "def summary(list_of_nums):\n",
    "    # initialize variables for min_num, max_num, sum, count, mean\n",
    "    \n",
    "    # use a for loop to go over the list so as to compute the mentioned statistics\n",
    "    \n",
    "    # use string formatting and print the stats. One example of this is shown below:\n",
    "    print(\"Summary Statistics for List: {}\".format(str(list_of_nums)))\n"
   ]
  },
  {
   "cell_type": "markdown",
   "metadata": {},
   "source": [
    "## There are many ways this problem can be solved\n",
    "\n",
    "For the following solutions: Uncomment both lines and run each code block in order to see the answer)\n",
    "\n",
    "### Solution 1a (using for-loops, if-else and string formatting)"
   ]
  },
  {
   "cell_type": "code",
   "execution_count": null,
   "metadata": {},
   "outputs": [],
   "source": [
    "# solution_1a = b'ZGVmIHN1bW1hcnkobGlzdF9vZl9udW1zKToKICAgIAogICAgZmlyc3RfZWxlbWVudCA9IGxpc3Rfb2ZfbnVtc1swXQogICAgCiAgICAjIEluaXRpYWxpemUgbWluX251bSBhbmQgbWF4X251bSB2YXJpYWJsZXMKICAgIG1heF9udW0gPSBmaXJzdF9lbGVtZW50CiAgICBtaW5fbnVtID0gZmlyc3RfZWxlbWVudCAKICAgIAogICAgIyBJbml0aWFsaXplIGEgdmFyaWFibGUgdGhhdCBrZWVwcyB0cmFjayBvZiB0aGUgc3VtIG9mIHRoZSBsaXN0CiAgICBzdW1fb2ZfbGlzdCA9IDAKICAgIAogICAgIyBHZXQgdGhlIExlbmd0aCBvZiB0aGUgbGlzdCB1c2luZyBweXRob24ncyBpbmJ1aWx0IGBsZW5gIGZ1bmN0aW9uIAogICAgY291bnQgPSBsZW4obGlzdF9vZl9udW1zKQogICAgCiAgICAjIEdvIG92ZXIgdGhlIGVudGlyZSBsaXN0IGFuZCBjYWxjdWxhdGUgdGhlIHN1bSwgbWluIGFuZCBtYXgKICAgIGZvciBudW0gaW4gbGlzdF9vZl9udW1zOgogICAgICAgIGlmIG51bSA+IG1heF9udW06CiAgICAgICAgICAgIG1heF9udW0gPSBudW0KICAgICAgICAKICAgICAgICBpZiBudW0gPCBtaW5fbnVtOgogICAgICAgICAgICBtaW5fbnVtID0gbnVtCiAgICAgICAgICAgIAogICAgICAgIHN1bV9vZl9saXN0ICs9IG51bQogICAgCiAgICAjIENhbGN1bGF0ZSBtZWFuIHVzaW5nIHN1bV9vZl9saXN0IGFuZCBjb3VudAogICAgbWVhbiA9IHN1bV9vZl9saXN0IC8gY291bnQKICAgIAogICAgcHJpbnQoIlN1bW1hcnkgU3RhdGlzdGljcyBmb3IgTGlzdDoge30iLmZvcm1hdChzdHIobGlzdF9vZl9udW1zKSkpCiAgICBwcmludCgiU3VtID0ge30iLmZvcm1hdChzdW1fb2ZfbGlzdCkpCiAgICBwcmludCgiQ291bnQgPSB7fSIuZm9ybWF0KGNvdW50KSkKICAgIHByaW50KCJNaW4gPSB7fSIuZm9ybWF0KG1pbl9udW0pKQogICAgcHJpbnQoIk1heCA9IHt9Ii5mb3JtYXQobWF4X251bSkpCiAgICBwcmludCgiTWVhbiA9IHt9Ii5mb3JtYXQobWVhbikpCiAgICA='\n",
    "# display(Markdown(\"```python\\n{}\\n```\".format(base64.b64decode(solution_1a).decode('utf-8'))))"
   ]
  },
  {
   "cell_type": "markdown",
   "metadata": {
    "collapsed": true
   },
   "source": [
    "### Solution 1b (using python's inbuilt functions)"
   ]
  },
  {
   "cell_type": "code",
   "execution_count": null,
   "metadata": {},
   "outputs": [],
   "source": [
    "# solution_1b = b'ZGVmIHN1bW1hcnkobGlzdF9vZl9udW1zKToKICAgIAogICAgbWF4X251bSA9IG1heChsaXN0X29mX251bXMpCiAgICBtaW5fbnVtID0gbWluKGxpc3Rfb2ZfbnVtcykKICAgIAogICAgc3VtX29mX2xpc3QgPSBzdW0obGlzdF9vZl9udW1zKQogICAgCiAgICBjb3VudCA9IGxlbihsaXN0X29mX251bXMpCiAgICAKICAgICMgQ2FsY3VsYXRlIG1lYW4gdXNpbmcgc3VtX29mX2xpc3QgYW5kIGNvdW50CiAgICBtZWFuID0gc3VtX29mX2xpc3QgLyBjb3VudAogICAgCiAgICBwcmludCgiU3VtbWFyeSBTdGF0aXN0aWNzIGZvciBMaXN0OiB7fSIuZm9ybWF0KHN0cihsaXN0X29mX251bXMpKSkKICAgIHByaW50KCJTdW0gPSB7fSIuZm9ybWF0KHN1bV9vZl9saXN0KSkKICAgIHByaW50KCJDb3VudCA9IHt9Ii5mb3JtYXQoY291bnQpKQogICAgcHJpbnQoIk1pbiA9IHt9Ii5mb3JtYXQobWluX251bSkpCiAgICBwcmludCgiTWF4ID0ge30iLmZvcm1hdChtYXhfbnVtKSkKICAgIHByaW50KCJNZWFuID0ge30iLmZvcm1hdChtZWFuKSk='\n",
    "# display(Markdown(\"```python\\n{}\\n```\".format(base64.b64decode(solution_1b).decode('utf-8'))))"
   ]
  }
 ],
 "metadata": {
  "kernelspec": {
   "display_name": "Python 3",
   "language": "python",
   "name": "python3"
  },
  "language_info": {
   "codemirror_mode": {
    "name": "ipython",
    "version": 3
   },
   "file_extension": ".py",
   "mimetype": "text/x-python",
   "name": "python",
   "nbconvert_exporter": "python",
   "pygments_lexer": "ipython3",
   "version": "3.6.1"
  }
 },
 "nbformat": 4,
 "nbformat_minor": 2
}
