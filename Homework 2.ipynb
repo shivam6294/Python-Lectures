{
 "cells": [
  {
   "cell_type": "markdown",
   "metadata": {},
   "source": [
    "# Recap / Concepts we've learned so far:\n",
    "### a. Basic / `Primitive` data types:\n",
    "1. Arithmetic data types\n",
    "    * Integers\n",
    "    * Floating Point Numbers\n",
    "2. String\n",
    "3. Boolean\n",
    "\n",
    "### b. Conditional Statements (if, elif, else)\n",
    "\n",
    "```python\n",
    "    if x % 2 == 0:\n",
    "        print(True)\n",
    "    else:\n",
    "        print(False)\n",
    "```\n",
    "\n",
    "\n",
    "### c. Functions\n",
    "\n",
    "```python\n",
    "    def square(x):\n",
    "        return x * x \n",
    "```\n",
    "### d. Data Structures:\n",
    "1. **Lists**\n",
    "    * Used to store a list or sequence of elements\n",
    "    * Syntax - lists start and end with square brackets `[]`, inside of which are _comma separated elements_. In the example below - each element in the `example_list` list is an **`integer literal`**.\n",
    "```python\n",
    "    example_list = [1,2,3,4,5]\n",
    "```\n",
    "2. **Tuples**\n",
    "    * Read-only lists\n",
    "    * Syntax - tuples start and end with parentheses `()`, inside of which are _comma separated elements_. In the example below - each element in the tuple `example_tuple` is an **`integer literal`**.\n",
    "```python\n",
    "    example_tuple = (1,2,3,4,5)\n",
    "```\n",
    "3. **Sets**\n",
    "    * Equivalent to Sets in Math\n",
    "    * Similar to lists, with two quirks:\n",
    "        * Items are not stored in order\n",
    "        * **`in`** operator works much faster on sets\n",
    "        * Sets don't hold duplicate elements\n",
    "    * Syntax - tuples start and end with parentheses `()`, inside of which are _comma separated elements_. In the example below - each element in the tuple `example_tuple` is an **`integer literal`**.\n",
    "```python\n",
    "set_of_fruits = {'apple', 'banana', 'orange'}\n",
    "```\n",
    "### e. Loops\n",
    "1. **`for` loop**\n",
    "    * A loop that executes for a fixed number of iterations\n",
    "    * Syntax: \n",
    "    \n",
    "    ```python\n",
    "        for number in range(0, 5):\n",
    "            print(number) \n",
    "    ```\n",
    "    * The output of the code above:\n",
    "    ```\n",
    "        0\n",
    "        1\n",
    "        2\n",
    "        3\n",
    "        4\n",
    "    ```\n",
    "    \n",
    "2. **`while` loop**\n",
    "    * A loop that executes until a certain condition is met\n",
    "    * Syntax:\n",
    "    ```python\n",
    "    number = 0\n",
    "    while number < 5:\n",
    "        print(number)\n",
    "        number += 1\n",
    "    ```\n",
    "    * The output of the code above:\n",
    "        ```\n",
    "        0\n",
    "        1\n",
    "        2\n",
    "        3\n",
    "        4\n",
    "    ```\n"
   ]
  },
  {
   "cell_type": "code",
   "execution_count": 162,
   "metadata": {
    "collapsed": true
   },
   "outputs": [],
   "source": [
    "# importing modules used for displaying hints\n",
    "import base64\n",
    "\n",
    "# display functions\n",
    "from IPython.display import Markdown, display"
   ]
  },
  {
   "cell_type": "markdown",
   "metadata": {},
   "source": [
    "# Problem 1:\n",
    "\n",
    "Write a function that accepts a positive integer n, and calculates the sum of the **_even_**\n",
    "integers and prints this total to the screen. For the input `n`, the output should be calculated as: **`2 + 4 + 6 + … + 2n`** .\n",
    "\n",
    "```python\n",
    "def sum_to_2n(n):\n",
    "    # calculate total  \n",
    "\n",
    "    print(total)\n",
    "```\n",
    "\n",
    "**Hint:** You need to sum all values in a sequence - could you use a for loop? could you use a while loop? there are many ways to solve this! Try to find atleast 2 ways! \n",
    "\n",
    "\n",
    "### Test cases \n",
    "\n",
    "Once you've completed this program, please verify the correctness using the following input and output test cases:\n",
    "\n",
    "\n",
    "| Input | Output |         \n",
    "| :-: |:-------------: |\n",
    "|5| 30 |\n",
    "|7| 56 |\n",
    "| 13 | 182|\n",
    "| 17 | 306|\n"
   ]
  },
  {
   "cell_type": "code",
   "execution_count": 155,
   "metadata": {
    "collapsed": true
   },
   "outputs": [],
   "source": [
    "def sum_to_2n(n):\n",
    "\n",
    "    ### START CODE\n",
    "    # calculate total  \n",
    "    \n",
    "    \n",
    "    ### END CODE\n",
    "    print(total)"
   ]
  },
  {
   "cell_type": "markdown",
   "metadata": {},
   "source": [
    "## There are many ways this problem can be solved\n",
    "\n",
    "For the following solutions: Uncomment both lines and run each code block in order to see the answer)\n",
    "\n",
    "### Solution 1a (using while loops)"
   ]
  },
  {
   "cell_type": "code",
   "execution_count": 207,
   "metadata": {},
   "outputs": [],
   "source": [
    "# solution_1a = b'ZGVmIHN1bV90b18ybihuKToKICAgIHRvdGFsID0gMAogICAgY291bnRlciA9IDEKICAgIAogICAgIyBzdGFydCBjb3VudGluZyAoYnkgaW5jcmVtZW50aW5nIHRoZSBgY291bnRlcmAgdmFyaWFibGUpIGZyb20gMSB0byAybgogICAgd2hpbGUgY291bnRlciA8PSAyKm46CiAgICAgICAgIyBpZiBjb3VudGVyIGlzIGV2ZW4gLSBhZGQgdGhlIGNvdW50ZXIgdG8gdGhlIHRvdGFsIAogICAgICAgIGlmIGNvdW50ZXIgJSAyID09IDA6ICMgY291bnQKICAgICAgICAgICAgdG90YWwgKz0gY291bnRlcgogICAgICAgICMgaW5jcmVtZW50IHRoZSBjb3VudGVyIC0gbm90IGRvaW5nIHNvIHdpbGwgcmVzdWx0IGluIHRoZSB3aGlsZSBsb29wIHJ1bm5pbmcgZm9yZXZlciEhCiAgICAgICAgY291bnRlciArPSAxCiAgICBwcmludCh0b3RhbCk='\n",
    "# display(Markdown(\"```python\\n{}\\n```\".format(base64.b64decode(solution_1a).decode('utf-8'))))"
   ]
  },
  {
   "cell_type": "markdown",
   "metadata": {
    "collapsed": true
   },
   "source": [
    "### Solution 1b (using range() + for loop)"
   ]
  },
  {
   "cell_type": "code",
   "execution_count": 185,
   "metadata": {},
   "outputs": [],
   "source": [
    "# solution_1b = b'ZGVmIHN1bV90b18ybihuKToKICAgIHRvdGFsID0gMAogICAgCiAgICAjIGNyZWF0ZSByYW5nZSBvZiBpbnRlZ2VycyBmcm9tIDEgdG8gMm4gKyAxCiAgICByYW5nZV90b18ybiA9IHJhbmdlKDEsIDIqbiArIDEpCiAgICAKICAgICMgbG9vcCBvdmVyIHRoZSByYW5nZQogICAgZm9yIG51bWJlciBpbiByYW5nZV90b18ybjoKICAgICAgICAjIGFkZCB0aGUgbnVtYmVyIHRvIHRoZSB0b3RhbCBpZiBpdCBpcyBldmVuIAogICAgICAgIGlmIG51bWJlciAlIDIgPT0gMDogCiAgICAgICAgICAgIHRvdGFsICs9IG51bWJlcgogICAgCiAgICBwcmludCh0b3RhbCk='\n",
    "# display(Markdown(\"```python\\n{}\\n```\".format(base64.b64decode(solution_1b).decode('utf-8'))))"
   ]
  },
  {
   "cell_type": "markdown",
   "metadata": {},
   "source": [
    "### Solution 1c (using range, list comprehension and a for loop for addition)"
   ]
  },
  {
   "cell_type": "code",
   "execution_count": 184,
   "metadata": {},
   "outputs": [],
   "source": [
    "# solution_1c = b'ZGVmIHN1bV90b18ybihuKToKICAgIHRvdGFsID0gMAogICAgCiAgICAjIGNyZWF0ZSByYW5nZSBvZiBpbnRlZ2VycyBmcm9tIDEgdG8gMm4gKyAxCiAgICByYW5nZV90b18ybiA9IHJhbmdlKDEsIDIqbiArIDEpCiAgICAKICAgICMgdXNlICdsaXN0IGNvbXByZWhlbnNpb24nIChjb25jZXB0IGxlYXJudCBsYXN0IHdlZWspIAogICAgIyB0byBmaWx0ZXIgdGhlIHJhbmdlLCBzdWNoIHRoYXQgb25seSBldmVuIG51bWJlcnMgYXJlIHJldGFpbmVkCiAgICByYW5nZV90b18ybiA9IFt4IGZvciB4IGluIHJhbmdlX3RvXzJuIGlmIHglMiA9PTBdCiAgICAKICAgICMgbG9vcCBvdmVyIHRoZSByYW5nZSBvZiBldmVuIG51bWJlcnMgCiAgICBmb3IgbnVtYmVyIGluIHJhbmdlX3RvXzJuOgogICAgICAgICMgYWRkIHRoZSBudW1iZXIgdG8gdGhlIHRvdGFsCiAgICAgICAgdG90YWwgKz0gbnVtYmVyCiAgICAKICAgIHByaW50KHRvdGFsKQ=='\n",
    "# display(Markdown(\"```python\\n{}\\n```\".format(base64.b64decode(solution_1c).decode('utf-8'))))"
   ]
  },
  {
   "cell_type": "markdown",
   "metadata": {},
   "source": [
    "### Solution 1d (List comprehensions only - no loops!)"
   ]
  },
  {
   "cell_type": "code",
   "execution_count": 187,
   "metadata": {},
   "outputs": [],
   "source": [
    "# solution_1d = b'ZGVmIHN1bV90b18ybihuKToKICAgIHRvdGFsID0gMAogICAgCiAgICAjIGNyZWF0ZSByYW5nZSBvZiBpbnRlZ2VycyBmcm9tIDEgdG8gMm4gKyAxCiAgICByYW5nZV90b18ybiA9IHJhbmdlKDEsIDIqbiArIDEpCiAgICAKICAgICMgdXNlICdsaXN0IGNvbXByZWhlbnNpb24nIChjb25jZXB0IGxlYXJudCBsYXN0IHdlZWspIAogICAgIyB0byBmaWx0ZXIgdGhlIHJhbmdlLCBzdWNoIHRoYXQgb25seSBldmVuIG51bWJlcnMgYXJlIHJldGFpbmVkCiAgICByYW5nZV90b18ybiA9IFt4IGZvciB4IGluIHJhbmdlX3RvXzJuIGlmIHglMiA9PTBdCiAgICAKICAgICMgdXNlIHB5dGhvbidzIGluYnVpbHQgc3VtIGZ1bmN0aW9uCiAgICB0b3RhbCA9IHN1bShyYW5nZV90b18ybikKICAgIAogICAgcHJpbnQodG90YWwpCg=='\n",
    "# display(Markdown(\"```python\\n{}\\n```\".format(base64.b64decode(solution_1d).decode('utf-8'))))"
   ]
  },
  {
   "cell_type": "markdown",
   "metadata": {},
   "source": [
    "# Problem 2:\n",
    "\n",
    "Write a program which:\n",
    "\n",
    "**a.** Will find all such numbers which are _**divisible by 7 but are not a multiple of 5**_,\n",
    "between in a given range (both included).\n",
    "\n",
    "**b.** Print the numbers obtained in a _**comma-separated sequence on a single line**_.\n",
    "\n",
    "** Hint: ** \n",
    "Consider using python's range(start, end) function\n",
    "\n",
    "Sample function to implement:\n",
    "```python\n",
    "def print_nums_divisible(start, end): \n",
    "\n",
    "    # in a range of numbers from `start` to `end` (both inclusive)\n",
    "    # find the numbers that are divisible by 7 but not by 5\n",
    "    # add them to a list\n",
    "    \n",
    "    # lastly, print the list of divisible numbers as a comma-separated string\n",
    "```\n",
    "\n",
    "\n",
    "### Test cases \n",
    "\n",
    "Once you've completed this program, please check with the following input and output test cases:\n",
    "\n",
    "\n",
    "| Input | Output |\n",
    "| :-: |:-------------: |\n",
    "|print_nums_divisible(5, 30) |7,14,21,28|\n",
    "|print_nums_divisible(15, 100)| 21,28,42,49,56,63,77,84,91,98 |\n",
    "| print_nums_divisible(100, 160) | 112,119,126,133,147,154|"
   ]
  },
  {
   "cell_type": "code",
   "execution_count": null,
   "metadata": {
    "collapsed": true
   },
   "outputs": [],
   "source": [
    "def print_nums_divisible(start, end): \n",
    "    ### START CODE\n",
    "    \n",
    "    ### END CODE"
   ]
  },
  {
   "cell_type": "markdown",
   "metadata": {},
   "source": [
    "# Solution 2:\n",
    "\n",
    "Again, there are many ways solve this problem (for loops, while loops, list comprehensions etc.), but I'll be listing only one. Try finding alternate solutions if you finish early!!\n",
    "\n",
    "## Solution 2a:"
   ]
  },
  {
   "cell_type": "code",
   "execution_count": 210,
   "metadata": {},
   "outputs": [],
   "source": [
    "# solution_2a = b'ZGVmIHByaW50X251bXNfZGl2aXNpYmxlKHN0YXJ0LCBlbmQpOgogICAgCiAgICBudW1fcmFuZ2UgPSByYW5nZShzdGFydCwgZW5kICsgMSkKICAgIAogICAgIyBpbml0aWxpemUgZW1wdHkgbGlzdCB0byBob2xkIHRoZSBudW1iZXJzIHRoYXQgbWVldCBvdXIgY3JpdGVyaWEKICAgIGRpdmlzaWJsZV9udW1iZXJzID0gW10KICAgIAogICAgIyBsb29wIG92ZXIgdGhlIHJhbmdlIGFuZCBmaW5kIG51bWJlcnMgdGhhdCBtZWV0IG91ciBjcml0ZXJpYQogICAgZm9yIG51bWJlciBpbiBudW1fcmFuZ2U6CiAgICAgICAgaWYgbnVtYmVyICUgNyA9PSAwIGFuZCBudW1iZXIgJTUgIT0gMDoKICAgICAgICAgICAgIyBhZGQgLyBhcHBlbmQgdGhlIHZhcmlhYmxlIGBudW1iZXJgIHRvIHRoZSBsaXN0IGNhbGxlZCBkaXZpc2libGVfbnVtYmVycwogICAgICAgICAgICBkaXZpc2libGVfbnVtYmVycy5hcHBlbmQobnVtYmVyKQogICAgCiAgICAjIGNvbnZlcnQgZWFjaCBkaXZpc2libGUgbnVtYmVyIGludG8gYSBzdHJpbmcsIHNvIHdlIGNhbiBwcmludCBpdCBpbiBhIGZvcm1hdHRlZCB3YXkKICAgIGRpdmlzaWJsZV9udW1iZXJzID0gW3N0cih4KSBmb3IgeCBpbiBkaXZpc2libGVfbnVtYmVyc10KICAgIAogICAgIyBqb2luIHRoZSBsaXN0IHVzaW5nIGNvbW1hcyAtIHRvIHByaW50IGluIHRoZSByZXF1aXJlZCBmb3JtYXQKICAgIHByaW50KCcsJy5qb2luKGRpdmlzaWJsZV9udW1iZXJzKSkK'\n",
    "# display(Markdown(\"```python\\n{}\\n```\".format(base64.b64decode(solution_2a).decode('utf-8'))))"
   ]
  },
  {
   "cell_type": "code",
   "execution_count": null,
   "metadata": {
    "collapsed": true
   },
   "outputs": [],
   "source": []
  }
 ],
 "metadata": {
  "kernelspec": {
   "display_name": "Python 3",
   "language": "python",
   "name": "python3"
  },
  "language_info": {
   "codemirror_mode": {
    "name": "ipython",
    "version": 3
   },
   "file_extension": ".py",
   "mimetype": "text/x-python",
   "name": "python",
   "nbconvert_exporter": "python",
   "pygments_lexer": "ipython3",
   "version": "3.6.1"
  }
 },
 "nbformat": 4,
 "nbformat_minor": 2
}
