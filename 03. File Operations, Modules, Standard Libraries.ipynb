{
 "cells": [
  {
   "cell_type": "markdown",
   "metadata": {},
   "source": [
    "# Managing files in Python\n",
    "\n",
    "## What are files, directories and paths?\n",
    "\n",
    "These are simple thing that many computer users already know, but I'll go\n",
    "through them just to make sure you know them also.\n",
    "\n",
    "### Files\n",
    "\n",
    "- Each file has a **name**, like `hello.py`, `mytext.txt` or\n",
    "    `coolimage.png`. Usually the name ends with an **extension** that\n",
    "    describes the content, like `py` for Python, `txt` for text or `png`\n",
    "    for \"portable network graphic\".\n",
    "- With just names identifying the files, it wouldn't be possible to have\n",
    "    two files with the same name. That's why files also have a\n",
    "    **location**. We'll talk more about this in a moment.\n",
    "- Files have **content** that consists of\n",
    "    [8-bit bytes](https://www.youtube.com/watch?v=Dnd28lQHquU).\n",
    "\n",
    "### Directories/folders\n",
    "\n",
    "Directories are a way to group files. They also have a name and a location\n",
    "like files, but instead of containing data directly like files do they\n",
    "contain other files and directories.\n",
    "\n",
    "### Paths\n",
    "\n",
    "Directories and files have a path, like `C:\\Users\\me\\hello.py`. That just\n",
    "means that there's a folder called `C:`, and inside it there's a folder\n",
    "called `Users`, and inside it there's a folder called `me` and inside it\n",
    "there's a `hello.py`. Like this:\n",
    "\n",
    "```\n",
    "C:\n",
    "└── Users\n",
    "    └── me\n",
    "        └── hello.py\n",
    "```\n",
    "\n",
    "`C:\\Users\\me\\hello.py` is an **absolute path**. But there are also\n",
    "**relative paths**. For example, if we are in `C:\\Users`, `me\\hello.py`\n",
    "is same as `C:\\Users\\me\\hello.py`. \n",
    "\n",
    "The place/path we are in is sometimes\n",
    "called **current directory**, **working directory** or\n",
    "**current working directory**.\n",
    "\n",
    "On a Mac (or any other `UNIX` like operating system) paths are slightly different. The equivalent to the above path would be `/home/me/hello.py`. And If you're in `/home`, `me/hello.py` is same as `/home/me/hello.py`.\n",
    "\n",
    "```\n",
    "/\n",
    "└── home\n",
    "    └── me\n",
    "        └── hello.py\n",
    "\n",
    "```"
   ]
  },
  {
   "cell_type": "markdown",
   "metadata": {},
   "source": [
    "## Writing to a file\n",
    "\n",
    "Let's create a file and write a hello world to it.\n"
   ]
  },
  {
   "cell_type": "code",
   "execution_count": null,
   "metadata": {
    "collapsed": true
   },
   "outputs": [],
   "source": [
    "with open('hello.txt', 'w') as f:\n",
    "    f.write(\"Hello World!\")"
   ]
  },
  {
   "cell_type": "markdown",
   "metadata": {},
   "source": [
    "Doesn't seem like it did anything. But actually it created a `hello.txt`\n",
    "somewhere on our system\n",
    "\n",
    "Since we're using jupyter notebooks - the code above would have created this file in the directory where the `jupyter notebook` is running (a.k.a this directory)\n",
    "\n",
    "On Windows it's probably in `C:\\Users\\YourName`,\n",
    "and on most other systems it should be in `/home/yourname`. \n",
    "\n",
    "You can open it with notepad or any other plain text editor your system comes with by opening the folder that contains the file and then double-clicking the file.\n",
    "\n",
    "\n",
    "#### So how does that code work?\n",
    "\n",
    "This is what's happening - \n",
    "* we open a path with `open`, and it gives us a Python file object that is assigned to the variable `f`.\n",
    "    * The first argument / input we passed to `open` was the path we wanted to write.\n",
    "    * The second argument was `w`. It's short for write, and that just means that we'll create a new file. There's some other modes we can use also:\n",
    "\n",
    "| Mode  | Short for | Meaning                                                               |\n",
    "|-------|-----------|-----------------------------------------------------------------------|\n",
    "| `r`   | read      | Read from an existing file.                                           |\n",
    "| `w`   | write     | Write to a file. **If the file exists, its old content is removed.**  |\n",
    "| `a`   | append    | Write to the end of a file, and keep the old content.                 |\n",
    "\n",
    "* this variable `f` has an inbuilt function called `write` which writes strings to files.\n",
    "\n",
    "But what is that `with ourfile as f` crap? That's just a fancy way to make sure that the file gets closed, no matter what happens. As we can see, the file was indeed closed.\n"
   ]
  },
  {
   "cell_type": "code",
   "execution_count": null,
   "metadata": {},
   "outputs": [],
   "source": [
    "f.closed"
   ]
  },
  {
   "cell_type": "markdown",
   "metadata": {},
   "source": [
    "In Python 3.0 - We can also write to a file using the `print` statement. The print is just like any other print, but we also need to specify that we want to print to the file we opened using `file=f`.\n"
   ]
  },
  {
   "cell_type": "code",
   "execution_count": null,
   "metadata": {
    "collapsed": true
   },
   "outputs": [],
   "source": [
    "with open('hello1.txt', 'w') as f:\n",
    "    print(\"Hello again, World!\", file=f)"
   ]
  },
  {
   "cell_type": "markdown",
   "metadata": {},
   "source": [
    "## Reading from files\n",
    "\n",
    "After opening a file with the `r` mode we can for loop over it, just\n",
    "like it was a list. So let's go ahead and read everything in the file\n",
    "we created to a list of lines.\n"
   ]
  },
  {
   "cell_type": "code",
   "execution_count": null,
   "metadata": {},
   "outputs": [],
   "source": [
    "lines = []\n",
    "with open('hello1.txt', 'r') as f:\n",
    "    for line in f:\n",
    "        lines.append(line)"
   ]
  },
  {
   "cell_type": "code",
   "execution_count": null,
   "metadata": {},
   "outputs": [],
   "source": [
    "lines"
   ]
  },
  {
   "cell_type": "markdown",
   "metadata": {},
   "source": [
    "So now we have the hello world in the `lines` variable, but it's\n",
    "`['Hello again, World!\\n']` instead of `['Hello again, World!']`. \n",
    "\n",
    "`\\n` means newline. Note that it needs to be a backslash, so `/n`\n",
    "doesn't have any special meaning like `\\n` has. When we wrote the file with print it actually added a `\\n` to the end of it. It's recommended to end the content of files with a newline character, but it's not necessary.\n",
    "\n",
    "However, when we initially wrote to the `hello.txt` file using the `write` function - we see that the newline was not added\n"
   ]
  },
  {
   "cell_type": "code",
   "execution_count": null,
   "metadata": {},
   "outputs": [],
   "source": [
    "lines = []\n",
    "with open('hello.txt', 'r') as f:\n",
    "    for line in f:\n",
    "        lines.append(line)"
   ]
  },
  {
   "cell_type": "code",
   "execution_count": null,
   "metadata": {},
   "outputs": [],
   "source": [
    "lines"
   ]
  },
  {
   "cell_type": "markdown",
   "metadata": {},
   "source": [
    "Trying to open a non-existent file with `w` or `a` creates the file for\n",
    "us, but doing that with `r` gives us an error instead"
   ]
  },
  {
   "cell_type": "code",
   "execution_count": null,
   "metadata": {},
   "outputs": [],
   "source": [
    "with open('this-doesnt-exist.txt', 'r') as f:\n",
    "    print('Is it working?')"
   ]
  },
  {
   "cell_type": "markdown",
   "metadata": {},
   "source": [
    "Let's see how that works if we have more than one line in the file.\n"
   ]
  },
  {
   "cell_type": "code",
   "execution_count": null,
   "metadata": {
    "collapsed": true
   },
   "outputs": [],
   "source": [
    "with open('hello.txt', 'w') as f:\n",
    "    print(\"Hello one!\", file=f)\n",
    "    print(\"Hello two!\", file=f)\n",
    "    print(\"Hello three!\", file=f)"
   ]
  },
  {
   "cell_type": "code",
   "execution_count": null,
   "metadata": {
    "collapsed": true
   },
   "outputs": [],
   "source": [
    "lines = []\n",
    "with open('hello.txt', 'r') as f:\n",
    "    for line in f:\n",
    "        lines.append(line)"
   ]
  },
  {
   "cell_type": "code",
   "execution_count": null,
   "metadata": {},
   "outputs": [],
   "source": [
    "lines"
   ]
  },
  {
   "cell_type": "markdown",
   "metadata": {},
   "source": [
    "There we go, each of our lines now ends with a `\\n`. When we for\n",
    "loop over the file it's divided into lines based on where the `\\n`\n",
    "characters are, not based on how we printed to it.\n",
    "\n",
    "But how to get rid of that `\\n`? \n",
    "\n",
    "Strings have a function called `rstrip` which removes a character from the right side of the string.\n"
   ]
  },
  {
   "cell_type": "code",
   "execution_count": null,
   "metadata": {
    "collapsed": true
   },
   "outputs": [],
   "source": [
    "stripped = []\n",
    "for line in lines:\n",
    "    stripped.append(line.rstrip('\\n'))\n"
   ]
  },
  {
   "cell_type": "code",
   "execution_count": null,
   "metadata": {},
   "outputs": [],
   "source": [
    "stripped"
   ]
  },
  {
   "cell_type": "markdown",
   "metadata": {},
   "source": [
    "The code above can be written using a **list comprehension** as well"
   ]
  },
  {
   "cell_type": "code",
   "execution_count": null,
   "metadata": {},
   "outputs": [],
   "source": [
    "[line.rstrip('\\n') for line in lines]"
   ]
  },
  {
   "cell_type": "markdown",
   "metadata": {},
   "source": [
    "There's only one confusing thing about reading files. If we try\n",
    "to read the same file object twice we'll find out that it only gets read\n",
    "once:"
   ]
  },
  {
   "cell_type": "code",
   "execution_count": null,
   "metadata": {
    "collapsed": true
   },
   "outputs": [],
   "source": [
    "first = []\n",
    "second = []\n",
    "with open('hello.txt', 'r') as f:\n",
    "    for line in f:\n",
    "        first.append(line)\n",
    "    for line in f:\n",
    "        second.append(line)\n"
   ]
  },
  {
   "cell_type": "code",
   "execution_count": null,
   "metadata": {},
   "outputs": [],
   "source": [
    "first"
   ]
  },
  {
   "cell_type": "code",
   "execution_count": null,
   "metadata": {},
   "outputs": [],
   "source": [
    "second"
   ]
  },
  {
   "cell_type": "markdown",
   "metadata": {},
   "source": [
    "File objects remember their position. When we tried to read the\n",
    "file again it was already at the end, and there was nothing left\n",
    "to read. But if we open the file again, we get a new file object that\n",
    "is in the beginning and everything works.\n"
   ]
  },
  {
   "cell_type": "code",
   "execution_count": null,
   "metadata": {
    "collapsed": true
   },
   "outputs": [],
   "source": [
    "first = []\n",
    "second = []\n",
    "with open('hello.txt', 'r') as f:\n",
    "    for line in f:\n",
    "        first.append(line)\n",
    "\n",
    "with open('hello.txt', 'r') as f:\n",
    "    for line in f:\n",
    "        second.append(line)"
   ]
  },
  {
   "cell_type": "code",
   "execution_count": null,
   "metadata": {},
   "outputs": [],
   "source": [
    "first"
   ]
  },
  {
   "cell_type": "code",
   "execution_count": null,
   "metadata": {},
   "outputs": [],
   "source": [
    "second"
   ]
  },
  {
   "cell_type": "markdown",
   "metadata": {},
   "source": [
    "Usually it's best to just read the file once, and use the\n",
    "content we have read from it multiple times.\n",
    "\n",
    "If we need all of the content as a string, we can use [the read\n",
    "method](https://docs.python.org/3/library/io.html#io.TextIOBase.read).\n"
   ]
  },
  {
   "cell_type": "code",
   "execution_count": null,
   "metadata": {
    "collapsed": true
   },
   "outputs": [],
   "source": [
    "with open('hello.txt', 'r') as f:\n",
    "    full_content = f.read()\n"
   ]
  },
  {
   "cell_type": "code",
   "execution_count": null,
   "metadata": {},
   "outputs": [],
   "source": [
    "full_content"
   ]
  },
  {
   "cell_type": "markdown",
   "metadata": {},
   "source": [
    "We can also open full paths, like `open('/home/me/myfile.txt', 'r')`.\n"
   ]
  },
  {
   "cell_type": "markdown",
   "metadata": {},
   "source": [
    "## Examples\n",
    "\n",
    "This program prints the contents of files:\n"
   ]
  },
  {
   "cell_type": "code",
   "execution_count": null,
   "metadata": {},
   "outputs": [],
   "source": [
    "while True:\n",
    "    filename = input(\"Filename or path, or nothing at all to exit: \")\n",
    "    if filename == '':\n",
    "        break\n",
    "\n",
    "    with open(filename, 'r') as f:\n",
    "        # We could read the whole file at once, but this is\n",
    "        # faster if the file is very large.\n",
    "        for line in f:\n",
    "            print(line.rstrip('\\n'))\n"
   ]
  },
  {
   "cell_type": "markdown",
   "metadata": {},
   "source": [
    "This program stores the user's username and password in a file.\n",
    "Plain text files are definitely not a good way to store usernames\n",
    "and passwords, but this is just an example.\n"
   ]
  },
  {
   "cell_type": "code",
   "execution_count": null,
   "metadata": {},
   "outputs": [],
   "source": [
    "# Ask repeatedly until the user answers 'y' or 'n'.\n",
    "while True:\n",
    "    answer = input(\"Have you been here before? (y/n) \")\n",
    "    if answer == 'Y' or answer == 'y':\n",
    "        been_here_before = True\n",
    "        break\n",
    "    elif answer == 'N' or answer == 'n':\n",
    "        been_here_before = False\n",
    "        break\n",
    "    else:\n",
    "        print(\"Enter 'y' or 'n'.\")\n",
    "\n",
    "if been_here_before:\n",
    "    # Read username and password from a file.\n",
    "    with open('userinfo.txt', 'r') as f:\n",
    "        username = f.readline().rstrip('\\n')\n",
    "        password = f.readline().rstrip('\\n')\n",
    "\n",
    "    if input(\"Username: \") != username:\n",
    "        print(\"Wrong username!\")\n",
    "    elif input(\"Password: \") != password:\n",
    "        print(\"Wrong password!\")\n",
    "    else:\n",
    "        print(\"Correct username and password, welcome!\")\n",
    "\n",
    "else:\n",
    "    # Write username and password to a file.\n",
    "    username = input(\"Username: \")\n",
    "    password = input(\"Password: \")\n",
    "    with open('userinfo.txt', 'w') as f:\n",
    "        print(username, file=f)\n",
    "        print(password, file=f)\n",
    "\n",
    "    print(\"Done! Now run this program again and select 'y'.\")\n"
   ]
  },
  {
   "cell_type": "markdown",
   "metadata": {},
   "source": [
    "# Modules\n",
    "\n",
    "Let's say we want to generate a random number between 1 and 3. The random module is a really easy way to do this:\n"
   ]
  },
  {
   "cell_type": "code",
   "execution_count": null,
   "metadata": {
    "collapsed": true
   },
   "outputs": [],
   "source": [
    "import random\n"
   ]
  },
  {
   "cell_type": "code",
   "execution_count": null,
   "metadata": {},
   "outputs": [],
   "source": [
    "random.randint(1, 3)\n"
   ]
  },
  {
   "cell_type": "code",
   "execution_count": null,
   "metadata": {},
   "outputs": [],
   "source": [
    "random.randint(1, 3)\n"
   ]
  },
  {
   "cell_type": "code",
   "execution_count": null,
   "metadata": {},
   "outputs": [],
   "source": [
    "random.randint(1, 3)\n"
   ]
  },
  {
   "cell_type": "code",
   "execution_count": null,
   "metadata": {},
   "outputs": [],
   "source": [
    "random.randint(1, 3)\n"
   ]
  },
  {
   "cell_type": "markdown",
   "metadata": {},
   "source": [
    "That's cool... but how does that work?\n",
    "\n"
   ]
  },
  {
   "cell_type": "markdown",
   "metadata": {},
   "source": [
    "# What are modules?\n",
    "\n",
    "The first line in the example, import random, was an import statement. But what is that random thing that it gave us?\n",
    "\n",
    "The first line in the example, `import random`, was an\n",
    "**import statement.** But what is that random thing that it\n",
    "gave us?\n"
   ]
  },
  {
   "cell_type": "code",
   "execution_count": null,
   "metadata": {},
   "outputs": [],
   "source": [
    "random"
   ]
  },
  {
   "cell_type": "markdown",
   "metadata": {},
   "source": [
    "So it's a module, and it comes from a path... but what does\n",
    "all that mean?\n",
    "\n",
    "Now open the folder that contains your `random.py` is. On my\n",
    "system it's `/usr/lib/python3.6`. \n",
    "\n",
    "You'll see a bunch of files and a few directories in the folder\n",
    "that opens.\n",
    "\n",
    "All of these `.py` files can be imported like we just imported\n",
    "`random.py`. In random.py, there's a line like `randint = something`,\n",
    "so we can use its randint variable with `random.randint` after\n",
    "importing it.\n",
    "\n",
    "You're probably wondering how a computer can generate random numbers.\n",
    "The random module does different things on different operating systems,\n",
    "but on most systems it reads random noise that several programs on the\n",
    "computer produce and creates random numbers based on that.\n",
    "\n",
    "## Where do modules come from?\n",
    "\n",
    "Create a `random.py` file with the following content:\n",
    "\n",
    "```python\n",
    "import random\n",
    "\n",
    "print(\"A random number between 1 and 3:\", random.randint(1, 3))\n",
    "```\n",
    "Now run the program by going to the command line, `cd` into the directory where the gile was created and type: \n",
    "\n",
    "```\n",
    "python3 random.py\n",
    "```\n",
    "\n",
    "This is what we get - \n",
    "```python\n",
    "Traceback (most recent call last):\n",
    "  File \"random.py\", line 1, in <module>\n",
    "    import random\n",
    "  File \"/home/akuli/random.py\", line 4, in <module>\n",
    "    print(\"A random number between 1 and 3:\", random.randint(1, 3))\n",
    "AttributeError: 'module' object has no attribute 'randint'\n",
    "```\n",
    "\n",
    "But what was that? Why didn't it work?\n"
   ]
  },
  {
   "cell_type": "markdown",
   "metadata": {},
   "source": [
    "What the heck? It's a module called random... but it's not the\n",
    "`random.py` we thought it was. **Our** `random.py` has imported\n",
    "itself!\n",
    "\n",
    "So let's go ahead and rename our file from `random.py` to\n",
    "something like `ourrandom.py` and try again:\n",
    "\n",
    "```\n",
    "A random number between 1 and 3: 3\n",
    "```\n",
    "\n",
    "There we go, now we don't have our own `random.py` so it works.\n",
    "\n",
    "So seems like that modules can be imported from the directory that\n",
    "our Python file is in, and also from the directory that the real\n",
    "`random.py` is in. But where else can they come from?\n"
   ]
  },
  {
   "cell_type": "markdown",
   "metadata": {},
   "source": [
    "There's a module called **sys** that contains various things built\n",
    "into Python. Actually the whole module is built-in, so there's no\n",
    "`sys.py` anywhere. The sys module has a list that contains all\n",
    "places that modules are searched from:\n",
    "\n"
   ]
  },
  {
   "cell_type": "code",
   "execution_count": null,
   "metadata": {},
   "outputs": [],
   "source": [
    "import sys\n",
    "\n",
    "sys.path"
   ]
  },
  {
   "cell_type": "markdown",
   "metadata": {},
   "source": [
    "So that's where my Python finds its modules. The first thing in my\n",
    "sys.path is an empty string, and in this case it means the current\n",
    "working directory.\n",
    "\n",
    "## Caching modules\n",
    "\n",
    "Let's create a file called `hello.py` that contains a classic greeting:\n",
    "```\n",
    "print(\"Hello World!\")\n",
    "```\n",
    "\n",
    "Let's go ahead and import it, and see how it works."
   ]
  },
  {
   "cell_type": "code",
   "execution_count": null,
   "metadata": {
    "collapsed": true
   },
   "outputs": [],
   "source": [
    "\n",
    "import hello"
   ]
  },
  {
   "cell_type": "markdown",
   "metadata": {},
   "source": [
    "Works as expected, but what happens if we try to import it again?\n"
   ]
  },
  {
   "cell_type": "code",
   "execution_count": null,
   "metadata": {
    "collapsed": true
   },
   "outputs": [],
   "source": [
    "import hello"
   ]
  },
  {
   "cell_type": "markdown",
   "metadata": {},
   "source": [
    "Nothing happened at all.\n",
    "\n",
    "The reason why the module wasn't loaded twice is simple. In a\n",
    "large project with many files it's normal to import the same\n",
    "module in many files, so it gets imported multiple times. If\n",
    "Python would reload the module every time it's imported,\n",
    "dividing code to multiple files would make the code run slower.\n",
    "\n",
    "If we need to load the module again we can just exit out of Python and\n",
    "launch it again.\n"
   ]
  },
  {
   "cell_type": "markdown",
   "metadata": {},
   "source": [
    "## Brief overview of the standard library\n",
    "\n",
    "The **standard library** consists of modules that Python comes\n",
    "with. Here's a very brief overview of what it can do. All of\n",
    "these modules can also do other things, and you can read more\n",
    "about that in the official documentation.\n",
    "\n",
    "### Random numbers\n",
    "\n",
    "The official documentation is\n",
    "[here](https://docs.python.org/3/library/random.html).\n",
    "\n"
   ]
  },
  {
   "cell_type": "code",
   "execution_count": null,
   "metadata": {
    "collapsed": true
   },
   "outputs": [],
   "source": [
    "import random"
   ]
  },
  {
   "cell_type": "code",
   "execution_count": null,
   "metadata": {
    "collapsed": true
   },
   "outputs": [],
   "source": [
    "random.randint(1, 3)      # 1, 2 or 3"
   ]
  },
  {
   "cell_type": "code",
   "execution_count": null,
   "metadata": {
    "collapsed": true
   },
   "outputs": [],
   "source": [
    "colors = ['red', 'blue', 'yellow']\n",
    "random.choice(colors)     # choose one color"
   ]
  },
  {
   "cell_type": "code",
   "execution_count": null,
   "metadata": {
    "collapsed": true
   },
   "outputs": [],
   "source": [
    "random.sample(colors, 2)  # choose two different colors\n"
   ]
  },
  {
   "cell_type": "code",
   "execution_count": null,
   "metadata": {
    "collapsed": true
   },
   "outputs": [],
   "source": [
    "random.shuffle(colors)    # mix the color list in-place\n",
    "print(colors)"
   ]
  },
  {
   "cell_type": "markdown",
   "metadata": {},
   "source": [
    "### Things that are built into Python\n",
    "\n",
    "The module name \"sys\" is short for \"system\", and it contains things\n",
    "that are built into Python. The official documentation is\n",
    "[here](https://docs.python.org/3/library/sys.html).\n",
    "\n",
    "`sys.stdin`, `sys.stdout` and `sys.stderr` are file objects, just like the file objects that `open()` gives us.\n",
    "\n"
   ]
  },
  {
   "cell_type": "code",
   "execution_count": null,
   "metadata": {
    "collapsed": true
   },
   "outputs": [],
   "source": [
    "import sys\n",
    "\n",
    "print(\"Hello!\", file=sys.stdout)  # this is where prints go by default\n"
   ]
  },
  {
   "cell_type": "code",
   "execution_count": null,
   "metadata": {
    "collapsed": true
   },
   "outputs": [],
   "source": [
    "print(\"Hello!\", file=sys.stderr)  # use this for error messages"
   ]
  },
  {
   "cell_type": "code",
   "execution_count": null,
   "metadata": {
    "collapsed": true
   },
   "outputs": [],
   "source": [
    "line = sys.stdin.readline()  # type hello and press enter"
   ]
  },
  {
   "cell_type": "code",
   "execution_count": null,
   "metadata": {
    "collapsed": true
   },
   "outputs": [],
   "source": [
    "# information about Python's version, behaves like a tuple\n",
    "sys.version_info"
   ]
  },
  {
   "cell_type": "code",
   "execution_count": null,
   "metadata": {
    "collapsed": true
   },
   "outputs": [],
   "source": [
    "sys.version_info[:3] "
   ]
  },
  {
   "cell_type": "code",
   "execution_count": null,
   "metadata": {
    "collapsed": true
   },
   "outputs": [],
   "source": [
    "sys.exit()  # exit out of Python\n"
   ]
  },
  {
   "cell_type": "markdown",
   "metadata": {},
   "source": [
    "### Mathematics\n",
    "\n",
    "There's no math.py anywhere, math is a built-in module like\n",
    "sys. The official documentation is\n",
    "[here](https://docs.python.org/3/library/math.html).\n"
   ]
  },
  {
   "cell_type": "code",
   "execution_count": null,
   "metadata": {
    "collapsed": true
   },
   "outputs": [],
   "source": [
    "import math"
   ]
  },
  {
   "cell_type": "code",
   "execution_count": null,
   "metadata": {
    "collapsed": true
   },
   "outputs": [],
   "source": [
    "math"
   ]
  },
  {
   "cell_type": "code",
   "execution_count": null,
   "metadata": {
    "collapsed": true
   },
   "outputs": [],
   "source": [
    "math.pi # approximate value of π"
   ]
  },
  {
   "cell_type": "code",
   "execution_count": null,
   "metadata": {
    "collapsed": true
   },
   "outputs": [],
   "source": [
    "math.sqrt(2)             # square root of 2"
   ]
  },
  {
   "cell_type": "code",
   "execution_count": null,
   "metadata": {
    "collapsed": true
   },
   "outputs": [],
   "source": [
    "math.sin(math.pi/2)      # sin of 90 degrees or 1/2 π radians"
   ]
  },
  {
   "cell_type": "markdown",
   "metadata": {},
   "source": [
    "### Time-related things\n",
    "\n",
    "The official documentation for the time module is\n",
    "[here](https://docs.python.org/3/library/time.html).\n"
   ]
  },
  {
   "cell_type": "code",
   "execution_count": null,
   "metadata": {
    "collapsed": true
   },
   "outputs": [],
   "source": [
    "import time"
   ]
  },
  {
   "cell_type": "code",
   "execution_count": null,
   "metadata": {
    "collapsed": true
   },
   "outputs": [],
   "source": [
    "time.sleep(1)   # wait one second"
   ]
  },
  {
   "cell_type": "code",
   "execution_count": null,
   "metadata": {
    "collapsed": true
   },
   "outputs": [],
   "source": [
    "time.time()     # return time in seconds since beginning of the year 1970"
   ]
  },
  {
   "cell_type": "code",
   "execution_count": null,
   "metadata": {
    "collapsed": true
   },
   "outputs": [],
   "source": [
    "time.strftime('%d.%m.%Y %H:%M:%S')  # format current time nicely"
   ]
  },
  {
   "cell_type": "markdown",
   "metadata": {},
   "source": [
    "You are probably wondering how `time.time()` can be used and why its\n",
    "timing starts from the beginning of 1970. `time.time()` is useful for\n",
    "measuring time differences because we can save its return value to a\n",
    "variable before doing something, and then afterwards check how much it\n",
    "changed."
   ]
  },
  {
   "cell_type": "markdown",
   "metadata": {},
   "source": [
    "### Operating system related things\n",
    "The module name \"os\" is short for \"operating system\", and it contains\n",
    "handy functions for interacting with the operating system that Python\n",
    "is running on. The official documentation is\n",
    "[here](https://docs.python.org/3/library/os.html).\n"
   ]
  },
  {
   "cell_type": "code",
   "execution_count": null,
   "metadata": {
    "collapsed": true
   },
   "outputs": [],
   "source": [
    "import os"
   ]
  },
  {
   "cell_type": "code",
   "execution_count": null,
   "metadata": {
    "collapsed": true
   },
   "outputs": [],
   "source": [
    "os.getcwd()        # short for \"get current working directory\""
   ]
  },
  {
   "cell_type": "code",
   "execution_count": null,
   "metadata": {
    "collapsed": true
   },
   "outputs": [],
   "source": [
    "os.mkdir('stuff')  # create a folder, short for \"make directory\""
   ]
  },
  {
   "cell_type": "code",
   "execution_count": null,
   "metadata": {
    "collapsed": true
   },
   "outputs": [],
   "source": [
    "os.path.isfile('hello.txt')  # check if it's a file\n"
   ]
  },
  {
   "cell_type": "code",
   "execution_count": null,
   "metadata": {
    "collapsed": true
   },
   "outputs": [],
   "source": [
    "os.path.isfile('stuff')"
   ]
  },
  {
   "cell_type": "code",
   "execution_count": null,
   "metadata": {
    "collapsed": true
   },
   "outputs": [],
   "source": [
    "os.path.isdir('hello.txt')   # check if it's a directory"
   ]
  },
  {
   "cell_type": "code",
   "execution_count": null,
   "metadata": {
    "collapsed": true
   },
   "outputs": [],
   "source": [
    "os.path.isdir('stuff')"
   ]
  },
  {
   "cell_type": "code",
   "execution_count": null,
   "metadata": {
    "collapsed": true
   },
   "outputs": [],
   "source": [
    "os.path.exists('hello.txt')  # check if it's anything"
   ]
  },
  {
   "cell_type": "code",
   "execution_count": null,
   "metadata": {
    "collapsed": true
   },
   "outputs": [],
   "source": [
    "os.path.exists('stuff')"
   ]
  },
  {
   "cell_type": "code",
   "execution_count": null,
   "metadata": {
    "collapsed": true
   },
   "outputs": [],
   "source": [
    " # this joins two paths by '/' on Mac\n",
    "path = os.path.join('stuff', 'hello-world.txt')\n",
    "print(path)"
   ]
  },
  {
   "cell_type": "code",
   "execution_count": null,
   "metadata": {
    "collapsed": true
   },
   "outputs": [],
   "source": [
    "with open(path, 'w') as f:\n",
    "    # now this goes to the stuff folder we created\n",
    "    print(\"Hello World!\", file=f)"
   ]
  },
  {
   "cell_type": "code",
   "execution_count": null,
   "metadata": {
    "collapsed": true
   },
   "outputs": [],
   "source": [
    "os.listdir('stuff') # create a list of everything in stuff"
   ]
  },
  {
   "cell_type": "markdown",
   "metadata": {},
   "source": [
    "## Examples\n",
    "\n",
    "#### Mix a list of things.\n"
   ]
  },
  {
   "cell_type": "code",
   "execution_count": null,
   "metadata": {
    "collapsed": true
   },
   "outputs": [],
   "source": [
    "import random\n",
    "\n",
    "print(\"Enter things to mix, and press Enter without typing\",\n",
    "      \"anything when you're done.\")\n",
    "things = []\n",
    "while True:\n",
    "    thing = input(\"Next thing: \")\n",
    "    if thing == \"\":\n",
    "        break\n",
    "    things.append(thing)\n",
    "\n",
    "random.shuffle(things)\n",
    "\n",
    "print(\"After mixing:\")\n",
    "for thing in things:\n",
    "    print(thing)\n"
   ]
  },
  {
   "cell_type": "markdown",
   "metadata": {},
   "source": [
    "\n",
    "#### Measure how long it takes for the user to answer a question.\n",
    "The `{.2f}` rounds to 2 decimals, and you can find more formatting\n",
    "tricks [here](https://pyformat.info/).\n"
   ]
  },
  {
   "cell_type": "code",
   "execution_count": null,
   "metadata": {},
   "outputs": [],
   "source": [
    "import time\n",
    "\n",
    "start = time.time()\n",
    "answer = input(\"What is 1 + 2? \")\n",
    "end = time.time()\n",
    "difference = end - start\n",
    "\n",
    "if answer == '3':\n",
    "    print(\"Correct! That took {:2f} seconds.\".format(difference))\n",
    "else:\n",
    "    print(\"That's not correct...\")\n"
   ]
  },
  {
   "cell_type": "markdown",
   "metadata": {},
   "source": [
    "### Wait a given number of seconds.\n"
   ]
  },
  {
   "cell_type": "code",
   "execution_count": null,
   "metadata": {
    "collapsed": true
   },
   "outputs": [],
   "source": [
    "import sys\n",
    "import time\n",
    "\n",
    "\n",
    "answer = input(\"How long do you want to wait in seconds? \")\n",
    "waitingtime = float(answer)\n",
    "if waitingtime < 0:\n",
    "    print(\"Error: cannot wait a negative time.\", file=sys.stderr)\n",
    "    sys.exit(1)\n",
    "\n",
    "print(\"Waiting...\")\n",
    "time.sleep(waitingtime)\n",
    "print(\"Done!\")\n"
   ]
  },
  {
   "cell_type": "markdown",
   "metadata": {},
   "source": [
    "### Check what a path points to."
   ]
  },
  {
   "cell_type": "code",
   "execution_count": null,
   "metadata": {
    "collapsed": true
   },
   "outputs": [],
   "source": [
    "import os\n",
    "import sys\n",
    "\n",
    "print(\"You are currently in %s.\" % os.getcwd())\n",
    "\n",
    "while True:\n",
    "    path = input(\"A path, or nothing at all to quit: \")\n",
    "    if path == '':\n",
    "        # We could just break out of the loop, but I'll show how\n",
    "        # this can be done with sys.exit. The difference is that\n",
    "        # break only breaks the innermost loop it is in, and\n",
    "        # sys.exit ends the whole program.\n",
    "        sys.exit()\n",
    "    if os.path.isfile(path):\n",
    "        print(\"It's a file!\")\n",
    "    elif os.path.isdir(path):\n",
    "        print(\"It's a folder!\")\n",
    "    elif os.path.exists(path):\n",
    "        # i have no idea when this code would actually run\n",
    "        print(\"Interesting, it exists but it's not a file or a folder.\")\n",
    "    else:\n",
    "        print(\"I can't find it :(\", file=sys.stderr)\n"
   ]
  },
  {
   "cell_type": "markdown",
   "metadata": {},
   "source": [
    "## More modules!\n",
    "\n",
    "Python's standard library has many awesome modules and I just\n",
    "can't tell about each and every module I use here. Here's some of\n",
    "my favorite modules from the standard library. Don't study them\n",
    "one by one, but look into them when you think you might need them.\n",
    "When reading the documentation it's usually easiest to find what\n",
    "you are looking for by pressing Ctrl+F in your web browser, and\n",
    "then typing in what you want to search for.\n",
    "\n",
    "- [argparse](https://docs.python.org/3/howto/argparse.html):\n",
    "    a full-featured command-line argument parser\n",
    "- [collections](https://docs.python.org/3/library/collections.html),\n",
    "    [functools](https://docs.python.org/3/library/functools.html) and\n",
    "    [itertools](https://docs.python.org/3/library/itertools.html):\n",
    "    handy utilities\n",
    "- [configparser](https://docs.python.org/3/library/configparser.html):\n",
    "    load and save setting files\n",
    "- [csv](https://docs.python.org/3/library/csv.html):\n",
    "    store comma-separated lines in files\n",
    "- [json](https://docs.python.org/3/library/json.html):\n",
    "    yet another way to store data in files and strings\n",
    "- [textwrap](https://docs.python.org/3/library/textwrap.html):\n",
    "    break long text into multiple lines\n",
    "- [warnings](https://pymotw.com/3/warnings/):\n",
    "    like [exceptions](exceptions.md), but they don't interrupt the\n",
    "    whole program\n",
    "- [webbrowser](https://pymotw.com/3/webbrowser/):\n",
    "    open a web browser from Python\n",
    "\n",
    "I also use these modules, but they don't come with Python so you'll\n",
    "need to install them yourself if you want to use them:\n",
    "\n",
    "- [appdirs](https://github.com/activestate/appdirs):\n",
    "    an easy way to find out where to put setting files\n",
    "- [requests](http://docs.python-requests.org/en/master/user/quickstart/):\n",
    "    an awesome networking library\n",
    "\n",
    "I recommend reading [the official documentation about installing\n",
    "modules](https://docs.python.org/3/installing/). If you're using\n",
    "GNU/Linux also read the \"Installing into the system Python on Linux\"\n",
    "section at the bottom.\n",
    "\n",
    "## Summary\n",
    "\n",
    "- Most modules are files on our computers, but some of them are built\n",
    "    in to Python. We can use modules in our projects by importing them,\n",
    "    and after that using `modulename.variable` to get a variable from\n",
    "    the module.\n",
    "- Some of the most commonly used modules are random, sys, math, time\n",
    "    and os.\n",
    "- Avoid creating `.py` files that have the same name as a name of a\n",
    "    module you want to use.\n",
    "- Python comes with many modules, and we can install even more modules\n",
    "    if we want to.\n"
   ]
  },
  {
   "cell_type": "code",
   "execution_count": null,
   "metadata": {
    "collapsed": true
   },
   "outputs": [],
   "source": []
  }
 ],
 "metadata": {
  "kernelspec": {
   "display_name": "Python 3",
   "language": "python",
   "name": "python3"
  },
  "language_info": {
   "codemirror_mode": {
    "name": "ipython",
    "version": 3
   },
   "file_extension": ".py",
   "mimetype": "text/x-python",
   "name": "python",
   "nbconvert_exporter": "python",
   "pygments_lexer": "ipython3",
   "version": "3.6.1"
  }
 },
 "nbformat": 4,
 "nbformat_minor": 2
}
