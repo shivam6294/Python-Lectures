{
 "cells": [
  {
   "cell_type": "markdown",
   "metadata": {},
   "source": [
    "# Data Structures"
   ]
  },
  {
   "cell_type": "markdown",
   "metadata": {},
   "source": [
    "Expanding on our knowledge from the data types introduced last session, this class we make our code more pythonic by introducing advanced methods and tools. Covers list and dict comprehensions, the iterator toolkit for efficient looping, and how to create generators. You’ll learn how to import other libraries, write anonymous functions with lambdas, and go on a rudimentary exploration of the functional programming paradigm with the map, filter, and reduce functions.\n",
    "\n",
    "At the end of this class you’ll be able to choose the right data structures to represent your problem and use efficient methods to stream your data through your script."
   ]
  },
  {
   "cell_type": "markdown",
   "metadata": {},
   "source": [
    "### Agenda"
   ]
  },
  {
   "cell_type": "markdown",
   "metadata": {},
   "source": [
    "     2.0 While Loops\n",
    "     2.1 List Comprehensions\n",
    "     2.2 Set Comprehensions\n",
    "     2.3 Dictionaries\n",
    "     2.4 Dictionary Comprehension\n",
    "     2.5 Collections\n",
    "     2.6 Python Execution Environment\n",
    "     "
   ]
  },
  {
   "cell_type": "markdown",
   "metadata": {},
   "source": [
    "## While"
   ]
  },
  {
   "cell_type": "markdown",
   "metadata": {},
   "source": [
    "We covered 'for' loops in the previous session, but Python also allows you to construct while loops."
   ]
  },
  {
   "cell_type": "markdown",
   "metadata": {},
   "source": [
    "The syntax for while statement is like"
   ]
  },
  {
   "cell_type": "markdown",
   "metadata": {},
   "source": [
    "```python\n",
    "while condition:\n",
    "    statement1\n",
    "    statement2\n",
    "```"
   ]
  },
  {
   "cell_type": "markdown",
   "metadata": {},
   "source": [
    "The code we want to reuse must be indented properly under the while statement. They will be executed if the condition is true. Again like in if-else statement any non zero value is true. Let us write a simple code to print numbers 0 to 10"
   ]
  },
  {
   "cell_type": "code",
   "execution_count": 1,
   "metadata": {},
   "outputs": [
    {
     "name": "stdout",
     "output_type": "stream",
     "text": [
      "0\n",
      "1\n",
      "2\n",
      "3\n",
      "4\n",
      "5\n",
      "6\n",
      "7\n",
      "8\n",
      "9\n",
      "10\n"
     ]
    }
   ],
   "source": [
    "n = 0\n",
    "while n < 11:\n",
    "    print(n)\n",
    "    n += 1"
   ]
  },
  {
   "cell_type": "markdown",
   "metadata": {},
   "source": [
    "#### break"
   ]
  },
  {
   "cell_type": "markdown",
   "metadata": {},
   "source": [
    "Let us write a program to evaluate the power series. The series looks like $e**x =1 + x + \\frac{x^2}{2!} + \\frac{x^3}{3!} +....+ \\frac{x^n}{n!} $ where $0 < x < 1$"
   ]
  },
  {
   "cell_type": "code",
   "execution_count": 6,
   "metadata": {},
   "outputs": [
    {
     "name": "stdout",
     "output_type": "stream",
     "text": [
      "Enter the value of x: 1\n",
      "No of Times= 9 and Sum= 2.71827876984127\n"
     ]
    }
   ],
   "source": [
    "x = float(input(\"Enter the value of x: \"))\n",
    "n = term = num = 1\n",
    "summation = 1.0\n",
    "while n <= 100:\n",
    "    term *= x / n\n",
    "    summation += term\n",
    "    n += 1\n",
    "    if term < 0.0001:\n",
    "        break\n",
    "print(\"No of Times= {} and Sum= {}\".format(n, summation))"
   ]
  },
  {
   "cell_type": "markdown",
   "metadata": {},
   "source": [
    "What break does is stop the innermost loop. In this example we are using break under the if statement. This means if the value of term is less than 0.0001 then get out of the loop."
   ]
  },
  {
   "cell_type": "markdown",
   "metadata": {},
   "source": [
    "#### continue"
   ]
  },
  {
   "cell_type": "markdown",
   "metadata": {},
   "source": [
    "Just like break we have another statement, continue, which skips the execution of the code after itself and goes back to the start of the loop. That means it will help you to skip a part of the loop. In the below example we will ask the user to input an integer, if the input is negative then we will ask again, if positive then we will square the number. To get out of the infinite loop user must input 0."
   ]
  },
  {
   "cell_type": "code",
   "execution_count": 7,
   "metadata": {},
   "outputs": [
    {
     "name": "stdout",
     "output_type": "stream",
     "text": [
      "Please enter an Integer: 1\n",
      "Square is  1\n",
      "Please enter an Integer: 2\n",
      "Square is  4\n",
      "Please enter an Integer: 3\n",
      "Square is  9\n",
      "Please enter an Integer: 4\n",
      "Square is  16\n",
      "Please enter an Integer: 4\n",
      "Square is  16\n",
      "Please enter an Integer: 5\n",
      "Square is  25\n",
      "Please enter an Integer: 5\n",
      "Square is  25\n"
     ]
    },
    {
     "ename": "KeyboardInterrupt",
     "evalue": "",
     "output_type": "error",
     "traceback": [
      "\u001b[0;31m---------------------------------------------------------------------------\u001b[0m",
      "\u001b[0;31mKeyboardInterrupt\u001b[0m                         Traceback (most recent call last)",
      "\u001b[0;32m/home/shivam/anaconda3/lib/python3.6/site-packages/ipykernel/kernelbase.py\u001b[0m in \u001b[0;36m_input_request\u001b[0;34m(self, prompt, ident, parent, password)\u001b[0m\n\u001b[1;32m    729\u001b[0m             \u001b[0;32mtry\u001b[0m\u001b[0;34m:\u001b[0m\u001b[0;34m\u001b[0m\u001b[0m\n\u001b[0;32m--> 730\u001b[0;31m                 \u001b[0mident\u001b[0m\u001b[0;34m,\u001b[0m \u001b[0mreply\u001b[0m \u001b[0;34m=\u001b[0m \u001b[0mself\u001b[0m\u001b[0;34m.\u001b[0m\u001b[0msession\u001b[0m\u001b[0;34m.\u001b[0m\u001b[0mrecv\u001b[0m\u001b[0;34m(\u001b[0m\u001b[0mself\u001b[0m\u001b[0;34m.\u001b[0m\u001b[0mstdin_socket\u001b[0m\u001b[0;34m,\u001b[0m \u001b[0;36m0\u001b[0m\u001b[0;34m)\u001b[0m\u001b[0;34m\u001b[0m\u001b[0m\n\u001b[0m\u001b[1;32m    731\u001b[0m             \u001b[0;32mexcept\u001b[0m \u001b[0mException\u001b[0m\u001b[0;34m:\u001b[0m\u001b[0;34m\u001b[0m\u001b[0m\n",
      "\u001b[0;32m/home/shivam/anaconda3/lib/python3.6/site-packages/jupyter_client/session.py\u001b[0m in \u001b[0;36mrecv\u001b[0;34m(self, socket, mode, content, copy)\u001b[0m\n\u001b[1;32m    777\u001b[0m         \u001b[0;32mtry\u001b[0m\u001b[0;34m:\u001b[0m\u001b[0;34m\u001b[0m\u001b[0m\n\u001b[0;32m--> 778\u001b[0;31m             \u001b[0mmsg_list\u001b[0m \u001b[0;34m=\u001b[0m \u001b[0msocket\u001b[0m\u001b[0;34m.\u001b[0m\u001b[0mrecv_multipart\u001b[0m\u001b[0;34m(\u001b[0m\u001b[0mmode\u001b[0m\u001b[0;34m,\u001b[0m \u001b[0mcopy\u001b[0m\u001b[0;34m=\u001b[0m\u001b[0mcopy\u001b[0m\u001b[0;34m)\u001b[0m\u001b[0;34m\u001b[0m\u001b[0m\n\u001b[0m\u001b[1;32m    779\u001b[0m         \u001b[0;32mexcept\u001b[0m \u001b[0mzmq\u001b[0m\u001b[0;34m.\u001b[0m\u001b[0mZMQError\u001b[0m \u001b[0;32mas\u001b[0m \u001b[0me\u001b[0m\u001b[0;34m:\u001b[0m\u001b[0;34m\u001b[0m\u001b[0m\n",
      "\u001b[0;32m/home/shivam/anaconda3/lib/python3.6/site-packages/zmq/sugar/socket.py\u001b[0m in \u001b[0;36mrecv_multipart\u001b[0;34m(self, flags, copy, track)\u001b[0m\n\u001b[1;32m    394\u001b[0m         \"\"\"\n\u001b[0;32m--> 395\u001b[0;31m         \u001b[0mparts\u001b[0m \u001b[0;34m=\u001b[0m \u001b[0;34m[\u001b[0m\u001b[0mself\u001b[0m\u001b[0;34m.\u001b[0m\u001b[0mrecv\u001b[0m\u001b[0;34m(\u001b[0m\u001b[0mflags\u001b[0m\u001b[0;34m,\u001b[0m \u001b[0mcopy\u001b[0m\u001b[0;34m=\u001b[0m\u001b[0mcopy\u001b[0m\u001b[0;34m,\u001b[0m \u001b[0mtrack\u001b[0m\u001b[0;34m=\u001b[0m\u001b[0mtrack\u001b[0m\u001b[0;34m)\u001b[0m\u001b[0;34m]\u001b[0m\u001b[0;34m\u001b[0m\u001b[0m\n\u001b[0m\u001b[1;32m    396\u001b[0m         \u001b[0;31m# have first part already, only loop while more to receive\u001b[0m\u001b[0;34m\u001b[0m\u001b[0;34m\u001b[0m\u001b[0m\n",
      "\u001b[0;32mzmq/backend/cython/socket.pyx\u001b[0m in \u001b[0;36mzmq.backend.cython.socket.Socket.recv (zmq/backend/cython/socket.c:7683)\u001b[0;34m()\u001b[0m\n",
      "\u001b[0;32mzmq/backend/cython/socket.pyx\u001b[0m in \u001b[0;36mzmq.backend.cython.socket.Socket.recv (zmq/backend/cython/socket.c:7460)\u001b[0;34m()\u001b[0m\n",
      "\u001b[0;32mzmq/backend/cython/socket.pyx\u001b[0m in \u001b[0;36mzmq.backend.cython.socket._recv_copy (zmq/backend/cython/socket.c:2344)\u001b[0;34m()\u001b[0m\n",
      "\u001b[0;32m/home/shivam/anaconda3/lib/python3.6/site-packages/zmq/backend/cython/checkrc.pxd\u001b[0m in \u001b[0;36mzmq.backend.cython.checkrc._check_rc (zmq/backend/cython/socket.c:9621)\u001b[0;34m()\u001b[0m\n",
      "\u001b[0;31mKeyboardInterrupt\u001b[0m: ",
      "\nDuring handling of the above exception, another exception occurred:\n",
      "\u001b[0;31mKeyboardInterrupt\u001b[0m                         Traceback (most recent call last)",
      "\u001b[0;32m<ipython-input-7-76f8a83b0441>\u001b[0m in \u001b[0;36m<module>\u001b[0;34m()\u001b[0m\n\u001b[1;32m      1\u001b[0m \u001b[0;32mwhile\u001b[0m \u001b[0;32mTrue\u001b[0m\u001b[0;34m:\u001b[0m\u001b[0;34m\u001b[0m\u001b[0m\n\u001b[0;32m----> 2\u001b[0;31m     \u001b[0mn\u001b[0m \u001b[0;34m=\u001b[0m \u001b[0mint\u001b[0m\u001b[0;34m(\u001b[0m\u001b[0minput\u001b[0m\u001b[0;34m(\u001b[0m\u001b[0;34m\"Please enter an Integer: \"\u001b[0m\u001b[0;34m)\u001b[0m\u001b[0;34m)\u001b[0m\u001b[0;34m\u001b[0m\u001b[0m\n\u001b[0m\u001b[1;32m      3\u001b[0m     \u001b[0;32mif\u001b[0m \u001b[0mn\u001b[0m \u001b[0;34m<\u001b[0m \u001b[0;36m0\u001b[0m\u001b[0;34m:\u001b[0m\u001b[0;34m\u001b[0m\u001b[0m\n\u001b[1;32m      4\u001b[0m         \u001b[0;32mcontinue\u001b[0m \u001b[0;31m# this will take the execution back to the starting of the loop\u001b[0m\u001b[0;34m\u001b[0m\u001b[0m\n\u001b[1;32m      5\u001b[0m     \u001b[0;32melif\u001b[0m \u001b[0mn\u001b[0m \u001b[0;34m==\u001b[0m \u001b[0;36m0\u001b[0m\u001b[0;34m:\u001b[0m\u001b[0;34m\u001b[0m\u001b[0m\n",
      "\u001b[0;32m/home/shivam/anaconda3/lib/python3.6/site-packages/ipykernel/kernelbase.py\u001b[0m in \u001b[0;36mraw_input\u001b[0;34m(self, prompt)\u001b[0m\n\u001b[1;32m    703\u001b[0m             \u001b[0mself\u001b[0m\u001b[0;34m.\u001b[0m\u001b[0m_parent_ident\u001b[0m\u001b[0;34m,\u001b[0m\u001b[0;34m\u001b[0m\u001b[0m\n\u001b[1;32m    704\u001b[0m             \u001b[0mself\u001b[0m\u001b[0;34m.\u001b[0m\u001b[0m_parent_header\u001b[0m\u001b[0;34m,\u001b[0m\u001b[0;34m\u001b[0m\u001b[0m\n\u001b[0;32m--> 705\u001b[0;31m             \u001b[0mpassword\u001b[0m\u001b[0;34m=\u001b[0m\u001b[0;32mFalse\u001b[0m\u001b[0;34m,\u001b[0m\u001b[0;34m\u001b[0m\u001b[0m\n\u001b[0m\u001b[1;32m    706\u001b[0m         )\n\u001b[1;32m    707\u001b[0m \u001b[0;34m\u001b[0m\u001b[0m\n",
      "\u001b[0;32m/home/shivam/anaconda3/lib/python3.6/site-packages/ipykernel/kernelbase.py\u001b[0m in \u001b[0;36m_input_request\u001b[0;34m(self, prompt, ident, parent, password)\u001b[0m\n\u001b[1;32m    733\u001b[0m             \u001b[0;32mexcept\u001b[0m \u001b[0mKeyboardInterrupt\u001b[0m\u001b[0;34m:\u001b[0m\u001b[0;34m\u001b[0m\u001b[0m\n\u001b[1;32m    734\u001b[0m                 \u001b[0;31m# re-raise KeyboardInterrupt, to truncate traceback\u001b[0m\u001b[0;34m\u001b[0m\u001b[0;34m\u001b[0m\u001b[0m\n\u001b[0;32m--> 735\u001b[0;31m                 \u001b[0;32mraise\u001b[0m \u001b[0mKeyboardInterrupt\u001b[0m\u001b[0;34m\u001b[0m\u001b[0m\n\u001b[0m\u001b[1;32m    736\u001b[0m             \u001b[0;32melse\u001b[0m\u001b[0;34m:\u001b[0m\u001b[0;34m\u001b[0m\u001b[0m\n\u001b[1;32m    737\u001b[0m                 \u001b[0;32mbreak\u001b[0m\u001b[0;34m\u001b[0m\u001b[0m\n",
      "\u001b[0;31mKeyboardInterrupt\u001b[0m: "
     ]
    }
   ],
   "source": [
    "while True:\n",
    "    n = int(input(\"Please enter an Integer: \"))\n",
    "    if n < 0:\n",
    "        continue # this will take the execution back to the starting of the loop\n",
    "    elif n == 0:\n",
    "        break\n",
    "    print(\"Square is \", n ** 2)\n",
    "print(\"Goodbye\")"
   ]
  },
  {
   "cell_type": "markdown",
   "metadata": {},
   "source": [
    "#### **Problem** : Game of Sticks"
   ]
  },
  {
   "cell_type": "code",
   "execution_count": 19,
   "metadata": {},
   "outputs": [
    {
     "name": "stdout",
     "output_type": "stream",
     "text": [
      "There are 21 sticks, you can take 1-4 number of sticks at a time.\n",
      "Whoever will take the last stick will loose\n",
      "Sticks left:  21\n",
      "Take sticks(1-4):1\n",
      "Computer took:  4 \n",
      "\n",
      "Sticks left:  16\n",
      "Take sticks(1-4):2\n",
      "Computer took:  3 \n",
      "\n",
      "Sticks left:  11\n",
      "Take sticks(1-4):4\n",
      "Computer took:  1 \n",
      "\n",
      "Sticks left:  6\n",
      "Take sticks(1-4):1\n",
      "Computer took:  4 \n",
      "\n",
      "Sticks left:  1\n",
      "Take sticks(1-4):1\n",
      "You took the last stick, you loose\n"
     ]
    }
   ],
   "source": [
    "sticks = 21\n",
    "\n",
    "print(\"There are 21 sticks, you can take 1-4 number of sticks at a time.\")\n",
    "print(\"Whoever will take the last stick will loose\")\n",
    "\n",
    "while True:\n",
    "    print(\"Sticks left: \" , sticks)\n",
    "    sticks_taken = int(input(\"Take sticks(1-4):\"))\n",
    "    if sticks == 1:\n",
    "        print(\"You took the last stick, you loose\")\n",
    "        break\n",
    "    if sticks_taken >= 5 or sticks_taken <= 0:\n",
    "        print(\"Wrong choice\")\n",
    "        continue\n",
    "    print(\"Computer took: \" , (5 - sticks_taken) , \"\\n\")\n",
    "    sticks -= 5"
   ]
  },
  {
   "cell_type": "markdown",
   "metadata": {},
   "source": [
    "Can you figure out how to win? "
   ]
  },
  {
   "cell_type": "markdown",
   "metadata": {},
   "source": [
    "What if you were a programmer?"
   ]
  },
  {
   "cell_type": "markdown",
   "metadata": {},
   "source": [
    "## List Comprehensions"
   ]
  },
  {
   "cell_type": "markdown",
   "metadata": {},
   "source": [
    "List Comprehensions provide a concise way of creating lists. Many times a complex task can be modelled in a single line."
   ]
  },
  {
   "cell_type": "markdown",
   "metadata": {},
   "source": [
    "Here are some simple examples for transforming a list."
   ]
  },
  {
   "cell_type": "code",
   "execution_count": 20,
   "metadata": {
    "collapsed": true
   },
   "outputs": [],
   "source": [
    "a = range(10)"
   ]
  },
  {
   "cell_type": "code",
   "execution_count": 21,
   "metadata": {},
   "outputs": [
    {
     "data": {
      "text/plain": [
       "range(0, 10)"
      ]
     },
     "execution_count": 21,
     "metadata": {},
     "output_type": "execute_result"
    }
   ],
   "source": [
    "a"
   ]
  },
  {
   "cell_type": "code",
   "execution_count": 22,
   "metadata": {},
   "outputs": [
    {
     "data": {
      "text/plain": [
       "[0, 1, 2, 3, 4, 5, 6, 7, 8, 9]"
      ]
     },
     "execution_count": 22,
     "metadata": {},
     "output_type": "execute_result"
    }
   ],
   "source": [
    "[x for x in a]"
   ]
  },
  {
   "cell_type": "code",
   "execution_count": 23,
   "metadata": {},
   "outputs": [
    {
     "data": {
      "text/plain": [
       "[1, 2, 3, 4, 5, 6, 7, 8, 9, 10]"
      ]
     },
     "execution_count": 23,
     "metadata": {},
     "output_type": "execute_result"
    }
   ],
   "source": [
    "[x+1 for x in a]"
   ]
  },
  {
   "cell_type": "markdown",
   "metadata": {},
   "source": [
    "It is also possible to filter a list using if inside a list comprehension."
   ]
  },
  {
   "cell_type": "code",
   "execution_count": 24,
   "metadata": {
    "collapsed": true
   },
   "outputs": [],
   "source": [
    "a = range(10)"
   ]
  },
  {
   "cell_type": "code",
   "execution_count": 25,
   "metadata": {},
   "outputs": [
    {
     "data": {
      "text/plain": [
       "[0, 2, 4, 6, 8]"
      ]
     },
     "execution_count": 25,
     "metadata": {},
     "output_type": "execute_result"
    }
   ],
   "source": [
    "[x for x in a if x % 2 == 0]"
   ]
  },
  {
   "cell_type": "code",
   "execution_count": 26,
   "metadata": {},
   "outputs": [
    {
     "data": {
      "text/plain": [
       "[0, 4, 16, 36, 64]"
      ]
     },
     "execution_count": 26,
     "metadata": {},
     "output_type": "execute_result"
    }
   ],
   "source": [
    "[x*x for x in a if x%2 == 0]"
   ]
  },
  {
   "cell_type": "markdown",
   "metadata": {},
   "source": [
    "It is possible to iterate over multiple lists using the built-in function zip."
   ]
  },
  {
   "cell_type": "code",
   "execution_count": 27,
   "metadata": {},
   "outputs": [
    {
     "data": {
      "text/plain": [
       "<zip at 0x7f8bbefac148>"
      ]
     },
     "execution_count": 27,
     "metadata": {},
     "output_type": "execute_result"
    }
   ],
   "source": [
    "a = [1, 2, 3, 4]\n",
    "b = [2, 3, 5, 7]\n",
    "zip(a, b)"
   ]
  },
  {
   "cell_type": "code",
   "execution_count": 28,
   "metadata": {},
   "outputs": [
    {
     "data": {
      "text/plain": [
       "[3, 5, 8, 11]"
      ]
     },
     "execution_count": 28,
     "metadata": {},
     "output_type": "execute_result"
    }
   ],
   "source": [
    "[x+y for x, y in zip(a, b)]"
   ]
  },
  {
   "cell_type": "markdown",
   "metadata": {},
   "source": [
    "we can use multiple for clauses in single list comprehension."
   ]
  },
  {
   "cell_type": "code",
   "execution_count": 29,
   "metadata": {},
   "outputs": [
    {
     "data": {
      "text/plain": [
       "[(0, 0),\n",
       " (0, 2),\n",
       " (0, 4),\n",
       " (1, 1),\n",
       " (1, 3),\n",
       " (2, 0),\n",
       " (2, 2),\n",
       " (2, 4),\n",
       " (3, 1),\n",
       " (3, 3),\n",
       " (4, 0),\n",
       " (4, 2),\n",
       " (4, 4)]"
      ]
     },
     "execution_count": 29,
     "metadata": {},
     "output_type": "execute_result"
    }
   ],
   "source": [
    "[(x, y) for x in range(5) for y in range(5) if (x+y)%2 == 0]"
   ]
  },
  {
   "cell_type": "code",
   "execution_count": 30,
   "metadata": {},
   "outputs": [
    {
     "data": {
      "text/plain": [
       "[(0, 2), (0, 4), (1, 3), (2, 0), (2, 4), (3, 1), (4, 0), (4, 2)]"
      ]
     },
     "execution_count": 30,
     "metadata": {},
     "output_type": "execute_result"
    }
   ],
   "source": [
    "[(x, y) for x in range(5) for y in range(5) if (x+y)%2 == 0 and x != y]"
   ]
  },
  {
   "cell_type": "code",
   "execution_count": 31,
   "metadata": {},
   "outputs": [
    {
     "data": {
      "text/plain": [
       "[(2, 0), (3, 1), (4, 0), (4, 2)]"
      ]
     },
     "execution_count": 31,
     "metadata": {},
     "output_type": "execute_result"
    }
   ],
   "source": [
    "[(x, y) for x in range(5) for y in range(x) if (x+y)%2 == 0]"
   ]
  },
  {
   "cell_type": "markdown",
   "metadata": {},
   "source": [
    "The following example finds all Pythagorean triplets using numbers below 25. (x, y, z) is a called pythagorean triplet if `x*x + y*y == z*z`."
   ]
  },
  {
   "cell_type": "code",
   "execution_count": 32,
   "metadata": {},
   "outputs": [
    {
     "data": {
      "text/plain": [
       "[(3, 4, 5), (5, 12, 13), (6, 8, 10), (8, 15, 17), (9, 12, 15), (12, 16, 20)]"
      ]
     },
     "execution_count": 32,
     "metadata": {},
     "output_type": "execute_result"
    }
   ],
   "source": [
    "n = 25\n",
    "[(x, y, z) for x in range(1, n) for y in range(x, n) for z in range(y, n) if x*x + y*y == z*z]"
   ]
  },
  {
   "cell_type": "markdown",
   "metadata": {},
   "source": [
    "**Problem** : Provide an implementation for zip function using list comprehensions."
   ]
  },
  {
   "cell_type": "code",
   "execution_count": 33,
   "metadata": {},
   "outputs": [
    {
     "data": {
      "text/plain": [
       "<zip at 0x7f8bbefb3ec8>"
      ]
     },
     "execution_count": 33,
     "metadata": {},
     "output_type": "execute_result"
    }
   ],
   "source": [
    "zip([1, 2, 3], [\"a\", \"b\", \"c\"])"
   ]
  },
  {
   "cell_type": "markdown",
   "metadata": {},
   "source": [
    "**Problem** : Python provides a built-in function map that applies a function to each element of a list. Provide an implementation for map using list comprehensions."
   ]
  },
  {
   "cell_type": "code",
   "execution_count": 40,
   "metadata": {},
   "outputs": [
    {
     "data": {
      "text/plain": [
       "[1, 4, 9, 16, 25]"
      ]
     },
     "execution_count": 40,
     "metadata": {},
     "output_type": "execute_result"
    }
   ],
   "source": [
    "def square(x): return x * x\n",
    "list(map(square, [1,2,3,4,5]))"
   ]
  },
  {
   "cell_type": "markdown",
   "metadata": {},
   "source": [
    "## Set Comprehension"
   ]
  },
  {
   "cell_type": "markdown",
   "metadata": {},
   "source": [
    "Set comprehensions allow sets to be constructed using the same principles as list comprehensions, the only difference is that resulting sequence is a set."
   ]
  },
  {
   "cell_type": "markdown",
   "metadata": {},
   "source": [
    "Say we have a list of names. The list can contain names which only differ in the case used to represent them, duplicates and names consisting of only one character. We are only interested in names longer then one character and wish to represent all names in the same format: The first letter should be capitalised, all other characters should be lower case."
   ]
  },
  {
   "cell_type": "code",
   "execution_count": 41,
   "metadata": {
    "collapsed": true
   },
   "outputs": [],
   "source": [
    "# Given the list \n",
    "names = [ 'Bob', 'JOHN', 'alice', 'bob', 'ALICE', 'J', 'Bob' ]"
   ]
  },
  {
   "cell_type": "code",
   "execution_count": 42,
   "metadata": {},
   "outputs": [
    {
     "data": {
      "text/plain": [
       "{'Alice', 'Bob', 'John'}"
      ]
     },
     "execution_count": 42,
     "metadata": {},
     "output_type": "execute_result"
    }
   ],
   "source": [
    "# We require the set:\n",
    "{ 'Bob', 'John', 'Alice' }"
   ]
  },
  {
   "cell_type": "markdown",
   "metadata": {},
   "source": [
    "Note the syntax for denoting a set. Members are enclosed in curly braces.\n",
    "\n",
    "The following set comprehension accomplishes this:"
   ]
  },
  {
   "cell_type": "code",
   "execution_count": 43,
   "metadata": {},
   "outputs": [
    {
     "data": {
      "text/plain": [
       "{'Alice', 'Bob', 'John'}"
      ]
     },
     "execution_count": 43,
     "metadata": {},
     "output_type": "execute_result"
    }
   ],
   "source": [
    "{ name[0].upper() + name[1:].lower() for name in names if len(name) > 1 }"
   ]
  },
  {
   "cell_type": "markdown",
   "metadata": {},
   "source": [
    "## Dictionaries\n",
    "\n",
    "One of the most loved data structures in Computer Science!!\n",
    "\n",
    "What makes them so cool?"
   ]
  },
  {
   "cell_type": "markdown",
   "metadata": {},
   "source": [
    "Dictionaries are like lists, but they can be indexed with non integer keys also. Unlike lists, dictionaries are not ordered."
   ]
  },
  {
   "cell_type": "code",
   "execution_count": 48,
   "metadata": {
    "collapsed": true
   },
   "outputs": [],
   "source": [
    "a = {'x': 1, 'y': 2, 'z': 3}"
   ]
  },
  {
   "cell_type": "code",
   "execution_count": 49,
   "metadata": {},
   "outputs": [
    {
     "data": {
      "text/plain": [
       "1"
      ]
     },
     "execution_count": 49,
     "metadata": {},
     "output_type": "execute_result"
    }
   ],
   "source": [
    "a['x']"
   ]
  },
  {
   "cell_type": "code",
   "execution_count": 50,
   "metadata": {},
   "outputs": [
    {
     "data": {
      "text/plain": [
       "3"
      ]
     },
     "execution_count": 50,
     "metadata": {},
     "output_type": "execute_result"
    }
   ],
   "source": [
    "a['z']"
   ]
  },
  {
   "cell_type": "code",
   "execution_count": 51,
   "metadata": {},
   "outputs": [
    {
     "data": {
      "text/plain": [
       "{'x': 2, 2: 'foo', (1, 2): 3}"
      ]
     },
     "execution_count": 51,
     "metadata": {},
     "output_type": "execute_result"
    }
   ],
   "source": [
    "b = {}\n",
    "b['x'] = 2\n",
    "b[2] = 'foo'\n",
    "b[(1, 2)] = 3\n",
    "b"
   ]
  },
  {
   "cell_type": "markdown",
   "metadata": {},
   "source": [
    "The del keyword can be used to delete an item from a dictionary."
   ]
  },
  {
   "cell_type": "code",
   "execution_count": 69,
   "metadata": {
    "collapsed": true
   },
   "outputs": [],
   "source": [
    "a = {'x': 1, 'y': 2, 'z': 3}"
   ]
  },
  {
   "cell_type": "code",
   "execution_count": 70,
   "metadata": {
    "collapsed": true
   },
   "outputs": [],
   "source": [
    "del a['x']"
   ]
  },
  {
   "cell_type": "markdown",
   "metadata": {},
   "source": [
    "The keys method returns all keys in a dictionary, the values method returns all values in a dictionary and items method returns all key-value pairs in a dictionary."
   ]
  },
  {
   "cell_type": "code",
   "execution_count": 71,
   "metadata": {},
   "outputs": [
    {
     "data": {
      "text/plain": [
       "dict_keys(['y', 'z'])"
      ]
     },
     "execution_count": 71,
     "metadata": {},
     "output_type": "execute_result"
    }
   ],
   "source": [
    "a.keys()"
   ]
  },
  {
   "cell_type": "code",
   "execution_count": 72,
   "metadata": {},
   "outputs": [
    {
     "data": {
      "text/plain": [
       "dict_values([2, 3])"
      ]
     },
     "execution_count": 72,
     "metadata": {},
     "output_type": "execute_result"
    }
   ],
   "source": [
    "a.values()"
   ]
  },
  {
   "cell_type": "code",
   "execution_count": 73,
   "metadata": {},
   "outputs": [
    {
     "data": {
      "text/plain": [
       "dict_items([('y', 2), ('z', 3)])"
      ]
     },
     "execution_count": 73,
     "metadata": {},
     "output_type": "execute_result"
    }
   ],
   "source": [
    "a.items()"
   ]
  },
  {
   "cell_type": "markdown",
   "metadata": {},
   "source": [
    "The for statement can be used to iterate over a dictionary."
   ]
  },
  {
   "cell_type": "code",
   "execution_count": 74,
   "metadata": {},
   "outputs": [
    {
     "name": "stdout",
     "output_type": "stream",
     "text": [
      "y\n",
      "z\n"
     ]
    }
   ],
   "source": [
    "for key in a: print(key)"
   ]
  },
  {
   "cell_type": "code",
   "execution_count": 75,
   "metadata": {},
   "outputs": [
    {
     "name": "stdout",
     "output_type": "stream",
     "text": [
      "y 2\n",
      "z 3\n"
     ]
    }
   ],
   "source": [
    "for key, value in a.items(): print(key, value)"
   ]
  },
  {
   "cell_type": "markdown",
   "metadata": {},
   "source": [
    "Presence of a key in a dictionary can be tested using in operator or has_key method."
   ]
  },
  {
   "cell_type": "code",
   "execution_count": 76,
   "metadata": {},
   "outputs": [
    {
     "data": {
      "text/plain": [
       "False"
      ]
     },
     "execution_count": 76,
     "metadata": {},
     "output_type": "execute_result"
    }
   ],
   "source": [
    "'x' in a"
   ]
  },
  {
   "cell_type": "code",
   "execution_count": 77,
   "metadata": {},
   "outputs": [
    {
     "data": {
      "text/plain": [
       "False"
      ]
     },
     "execution_count": 77,
     "metadata": {},
     "output_type": "execute_result"
    }
   ],
   "source": [
    "'p' in a"
   ]
  },
  {
   "cell_type": "code",
   "execution_count": 78,
   "metadata": {},
   "outputs": [
    {
     "data": {
      "text/plain": [
       "False"
      ]
     },
     "execution_count": 78,
     "metadata": {},
     "output_type": "execute_result"
    }
   ],
   "source": [
    "'g' in a.keys()"
   ]
  },
  {
   "cell_type": "markdown",
   "metadata": {},
   "source": [
    "Other useful methods on dictionaries are get and setdefault."
   ]
  },
  {
   "cell_type": "code",
   "execution_count": 79,
   "metadata": {
    "collapsed": true
   },
   "outputs": [],
   "source": [
    "d = {'x': 1, 'y': 2, 'z': 3}"
   ]
  },
  {
   "cell_type": "code",
   "execution_count": 80,
   "metadata": {},
   "outputs": [
    {
     "data": {
      "text/plain": [
       "1"
      ]
     },
     "execution_count": 80,
     "metadata": {},
     "output_type": "execute_result"
    }
   ],
   "source": [
    "d.get('x', 5)"
   ]
  },
  {
   "cell_type": "code",
   "execution_count": 81,
   "metadata": {},
   "outputs": [
    {
     "data": {
      "text/plain": [
       "5"
      ]
     },
     "execution_count": 81,
     "metadata": {},
     "output_type": "execute_result"
    }
   ],
   "source": [
    "d.get('p', 5)"
   ]
  },
  {
   "cell_type": "code",
   "execution_count": 82,
   "metadata": {},
   "outputs": [
    {
     "data": {
      "text/plain": [
       "1"
      ]
     },
     "execution_count": 82,
     "metadata": {},
     "output_type": "execute_result"
    }
   ],
   "source": [
    "d.setdefault('x', 0)"
   ]
  },
  {
   "cell_type": "code",
   "execution_count": 83,
   "metadata": {},
   "outputs": [
    {
     "data": {
      "text/plain": [
       "0"
      ]
     },
     "execution_count": 83,
     "metadata": {},
     "output_type": "execute_result"
    }
   ],
   "source": [
    "d.setdefault('p', 0)"
   ]
  },
  {
   "cell_type": "markdown",
   "metadata": {},
   "source": [
    "Dictionaries can be used in string formatting to specify named parameters."
   ]
  },
  {
   "cell_type": "code",
   "execution_count": 89,
   "metadata": {},
   "outputs": [
    {
     "data": {
      "text/plain": [
       "'hello python'"
      ]
     },
     "execution_count": 89,
     "metadata": {},
     "output_type": "execute_result"
    }
   ],
   "source": [
    "'hello %(name)s' % {'name': 'python'}"
   ]
  },
  {
   "cell_type": "code",
   "execution_count": 91,
   "metadata": {},
   "outputs": [
    {
     "data": {
      "text/plain": [
       "'Tutorial 2: Data Structures'"
      ]
     },
     "execution_count": 91,
     "metadata": {},
     "output_type": "execute_result"
    }
   ],
   "source": [
    "'Tutorial %(index)d: %(name)s' % {'index': 2, 'name': 'Data Structures'}"
   ]
  },
  {
   "cell_type": "markdown",
   "metadata": {},
   "source": [
    "### Example: Word Frequency"
   ]
  },
  {
   "cell_type": "markdown",
   "metadata": {},
   "source": [
    "Suppose we want to find number of occurrences of each word in a file. Dictionary can be used to store the number of occurrences for each word.\n",
    "\n",
    "Lets first write a function to count frequency of words, given a list of words."
   ]
  },
  {
   "cell_type": "code",
   "execution_count": 92,
   "metadata": {
    "collapsed": true
   },
   "outputs": [],
   "source": [
    "def word_frequency(words):\n",
    "    \"\"\"Returns frequency of each word given a list of words.\n",
    "\n",
    "        >>> word_frequency(['a', 'b', 'a'])\n",
    "        {'a': 2, 'b': 1}\n",
    "    \"\"\"\n",
    "    frequency = {}\n",
    "    for w in words:\n",
    "        try:\n",
    "            frequency[w] += 1\n",
    "        except KeyError:\n",
    "            frequency[w] = 1\n",
    "        \n",
    "    return frequency"
   ]
  },
  {
   "cell_type": "markdown",
   "metadata": {},
   "source": [
    "**Problem** : How could we have used the .get() method to avoid the try execpt clause?"
   ]
  },
  {
   "cell_type": "code",
   "execution_count": 93,
   "metadata": {
    "collapsed": true
   },
   "outputs": [],
   "source": [
    "# solution('ZnJlcXVlbmN5W3ddID0gZnJlcXVlbmN5LmdldCh3LCAwKSArIDE=')"
   ]
  },
  {
   "cell_type": "markdown",
   "metadata": {},
   "source": [
    "Getting words from a file is very trivial."
   ]
  },
  {
   "cell_type": "code",
   "execution_count": 99,
   "metadata": {
    "collapsed": true
   },
   "outputs": [],
   "source": [
    "def read_words(filename):\n",
    "    return open(filename).read().split()"
   ]
  },
  {
   "cell_type": "markdown",
   "metadata": {},
   "source": [
    "We can combine these two functions to find frequency of all words in a file."
   ]
  },
  {
   "cell_type": "code",
   "execution_count": 103,
   "metadata": {},
   "outputs": [],
   "source": [
    "def main(filename):\n",
    "    frequency = word_frequency(read_words(filename))\n",
    "    for word, count in frequency.items():\n",
    "        print(word.lower(), count)\n",
    "        \n",
    "# In a Python Script, you'd add this to the bottom to make it run from the command line\n",
    "# while also taking in a single argument referring to the filename.\n",
    "# \n",
    "# if __name__ == \"__main__\":\n",
    "#     import sys\n",
    "#     main(sys.argv[1])"
   ]
  },
  {
   "cell_type": "code",
   "execution_count": 104,
   "metadata": {},
   "outputs": [
    {
     "name": "stdout",
     "output_type": "stream",
     "text": [
      "you 3\n",
      "are 3\n",
      "now 1\n",
      "about 3\n",
      "to 7\n",
      "witness 2\n",
      "the 33\n",
      "strength 1\n",
      "of 11\n",
      "street 2\n",
      "knowledge 1\n",
      "verse 3\n",
      "one: 1\n",
      "ice 3\n",
      "cube 3\n",
      "straight 3\n",
      "outta 6\n",
      "compton, 5\n",
      "crazy 4\n",
      "motherfucker 5\n",
      "named 1\n",
      "from 1\n",
      "gang 1\n",
      "called 3\n",
      "niggaz 2\n",
      "with 1\n",
      "attitudes 1\n",
      "when 1\n",
      "i'm 16\n",
      "off, 1\n",
      "i 19\n",
      "got 3\n",
      "a 38\n",
      "sawed 1\n",
      "off 4\n",
      "squeeze 1\n",
      "trigger, 1\n",
      "and 11\n",
      "bodies 1\n",
      "hauled 1\n",
      "too, 1\n",
      "boy, 2\n",
      "if 4\n",
      "ya 2\n",
      "fuck 5\n",
      "with 6\n",
      "me 7\n",
      "the 3\n",
      "police 1\n",
      "gonna 1\n",
      "hafta 1\n",
      "come 2\n",
      "get 5\n",
      "off 1\n",
      "yo 4\n",
      "ass, 1\n",
      "that's 6\n",
      "how 1\n",
      "goin 1\n",
      "out 3\n",
      "for 2\n",
      "punk 2\n",
      "motherfuckers 2\n",
      "showin 2\n",
      "start 1\n",
      "mumble, 1\n",
      "they 3\n",
      "wanna 1\n",
      "rumble 1\n",
      "mix 1\n",
      "em 3\n",
      "cook 1\n",
      "in 6\n",
      "pot 1\n",
      "like 7\n",
      "gumbo 1\n",
      "goin 1\n",
      "on 3\n",
      "that 5\n",
      "gat 1\n",
      "pointed 1\n",
      "at 2\n",
      "ass 4\n",
      "so 4\n",
      "give 4\n",
      "it 3\n",
      "up 3\n",
      "smooth 1\n",
      "ain't 1\n",
      "no 3\n",
      "tellin 1\n",
      "when 6\n",
      "down 2\n",
      "for 2\n",
      "jack 1\n",
      "move 1\n",
      "here's 1\n",
      "murder 1\n",
      "rap 1\n",
      "keep 1\n",
      "dancin 1\n",
      "crime 1\n",
      "record 1\n",
      "charles 1\n",
      "manson 1\n",
      "ak-47 1\n",
      "is 12\n",
      "tool 1\n",
      "don't 1\n",
      "make 4\n",
      "act 1\n",
      "motherfuckin 3\n",
      "fool 1\n",
      "me 1\n",
      "you 8\n",
      "can 1\n",
      "go 2\n",
      "toe 1\n",
      "toe, 1\n",
      "maybe 1\n",
      "knockin 1\n",
      "niggaz 2\n",
      "tha 2\n",
      "box, 1\n",
      "daily 1\n",
      "weekly, 1\n",
      "monthly 1\n",
      "yearly 1\n",
      "until 1\n",
      "them 1\n",
      "dumb 2\n",
      "see 4\n",
      "clearly 1\n",
      "capital 1\n",
      "c-p-t 1\n",
      "boy 1\n",
      "can't 1\n",
      "your 2\n",
      "neighborhood, 1\n",
      "better 1\n",
      "duck 1\n",
      "coz 1\n",
      "as 2\n",
      "as 1\n",
      "leave, 1\n",
      "believe 1\n",
      "stompin 1\n",
      "but 4\n",
      "back, 1\n",
      "comin 1\n",
      "straight 2\n",
      "compton 3\n",
      "chorus: 3\n",
      "[city 3\n",
      "city 3\n",
      "compton] 3\n",
      "[eazy 2\n",
      "e] 2\n",
      "yo 1\n",
      "ren 5\n",
      "[mc 1\n",
      "ren] 1\n",
      "whassup? 1\n",
      "tell 1\n",
      "where 2\n",
      "from! 1\n",
      "two: 1\n",
      "mc 2\n",
      "another 1\n",
      "nigga 3\n",
      "more 1\n",
      "punks 1\n",
      "smoke, 1\n",
      "yo, 1\n",
      "my 2\n",
      "rep 1\n",
      "gets 1\n",
      "bigger 1\n",
      "bad 1\n",
      "know 2\n",
      "this 2\n",
      "but 6\n",
      "pussy 1\n",
      "don't 5\n",
      "show 2\n",
      "fuck, 2\n",
      "i'ma 1\n",
      "snaps 1\n",
      "if 1\n",
      "not 1\n",
      "from 3\n",
      "records, 1\n",
      "jackin 1\n",
      "crops 1\n",
      "just 1\n",
      "burglary, 1\n",
      "definition 2\n",
      "'jackin' 1\n",
      "and 4\n",
      "illegally 1\n",
      "armed 1\n",
      "it's 2\n",
      "'packin' 1\n",
      "shoot 1\n",
      "minute 1\n",
      "find 1\n",
      "good 1\n",
      "piece 1\n",
      "o' 1\n",
      "pussy, 1\n",
      "you're 4\n",
      "front 1\n",
      "row 1\n",
      "call 2\n",
      "bitch 3\n",
      "or 1\n",
      "dirty-ass 1\n",
      "ho 1\n",
      "you'll 2\n",
      "probably 1\n",
      "mad 1\n",
      "supposed 1\n",
      "shows 1\n",
      "me, 1\n",
      "slut, 1\n",
      "composed 1\n",
      "muthafucker 2\n",
      "attitude 1\n",
      "legit 1\n",
      "cause 2\n",
      "tearin 1\n",
      "shit 2\n",
      "controls 1\n",
      "automatic 1\n",
      "any 1\n",
      "starts 1\n",
      "static 1\n",
      "not 1\n",
      "right 1\n",
      "hand 2\n",
      "itself 1\n",
      "every 1\n",
      "time 1\n",
      "pull 1\n",
      "ak 1\n",
      "shelf 1\n",
      "security 1\n",
      "maximum 1\n",
      "law 1\n",
      "r-e-n 1\n",
      "spells 1\n",
      "raw 1\n",
      "see, 2\n",
      "coz 1\n",
      "villain 1\n",
      "clear, 1\n",
      "killin 1\n",
      "takin 1\n",
      "place 1\n",
      "without 1\n",
      "clue 1\n",
      "once 1\n",
      "scope, 1\n",
      "through 1\n",
      "look, 1\n",
      "might 1\n",
      "take 1\n",
      "trip 1\n",
      "gangsta 1\n",
      "tip 1\n",
      "compton... 1\n",
      "[dr. 1\n",
      "dre] 1\n",
      "eazy 2\n",
      "his 1\n",
      "name 1\n",
      "boy 1\n",
      "comin... 1\n",
      "three: 1\n",
      "eazy-e 1\n",
      "...straight 1\n",
      "brotha 2\n",
      "that'll 1\n",
      "smother 2\n",
      "yo' 1\n",
      "mother 1\n",
      "sister 1\n",
      "think 2\n",
      "love 1\n",
      "her 1\n",
      "dangerous 1\n",
      "raises 1\n",
      "hell 1\n",
      "ever 2\n",
      "caught 1\n",
      "bail 1\n",
      "problem 1\n",
      "cop 1\n",
      "dodge 1\n",
      "him 1\n",
      "smart, 1\n",
      "lay 1\n",
      "low, 1\n",
      "creep 1\n",
      "while 1\n",
      "pass, 1\n",
      "smile 1\n",
      "to 1\n",
      "kinda 1\n",
      "funny, 1\n",
      "attitude 1\n",
      "drivin 1\n",
      "he's 1\n",
      "going, 1\n",
      "just 1\n",
      "rollin 1\n",
      "lookin 1\n",
      "one 2\n",
      "here's 1\n",
      "flash, 1\n",
      "never 1\n",
      "seize 1\n",
      "ruthless! 1\n",
      "never 1\n",
      "seen 1\n",
      "shadow 1\n",
      "dark 1\n",
      "except 1\n",
      "unload, 1\n",
      "i'll 1\n",
      "over 1\n",
      "hesitation 1\n",
      "hear 1\n",
      "scream 1\n",
      "who 3\n",
      "last 1\n",
      "penetration 1\n",
      "give 1\n",
      "little 1\n",
      "gust 1\n",
      "wind 1\n",
      "jettin 1\n",
      "leave 1\n",
      "memory 1\n",
      "one'll 1\n",
      "be 1\n",
      "forgettin 1\n",
      "what 1\n",
      "shot? 1\n",
      "fuck 1\n",
      "her! 1\n",
      "damn 1\n",
      "bitch? 1\n",
      "ain't 1\n",
      "sucker! 1\n",
      "this 1\n",
      "autobiography 1\n",
      "e, 1\n",
      "taken 1\n",
      "by 1\n",
      "stupid 1\n",
      "dope 1\n",
      "will 1\n",
      "word 1\n",
      "motherfucker, 1\n",
      "[damn 1\n",
      "was 1\n",
      "dope!] 1\n"
     ]
    }
   ],
   "source": [
    "main('files/straight_outta_compton.txt')"
   ]
  },
  {
   "cell_type": "markdown",
   "metadata": {},
   "source": [
    "**Problem **: Improve the above program to print the words in the descending order of the number of occurrences."
   ]
  },
  {
   "cell_type": "code",
   "execution_count": null,
   "metadata": {
    "collapsed": true
   },
   "outputs": [],
   "source": [
    "# Tip : List compresension to the rescue!"
   ]
  },
  {
   "cell_type": "markdown",
   "metadata": {},
   "source": [
    "## Dictionary Comprehension"
   ]
  },
  {
   "cell_type": "markdown",
   "metadata": {},
   "source": [
    "Say we have a dictionary the keys of which are characters and the values of which map to the number of times that character appears in some text. The dictionary currently distinguishes between upper and lower case characters.\n",
    "\n",
    "We require a dictionary in which the occurrences of upper and lower case characters are combined:"
   ]
  },
  {
   "cell_type": "code",
   "execution_count": 105,
   "metadata": {
    "collapsed": true
   },
   "outputs": [],
   "source": [
    "mcase = {'a':10, 'b': 34, 'A': 7, 'Z':3}\n",
    "\n",
    "mcase_frequency = { k.lower() : mcase.get(k.lower(), 0) + mcase.get(k.upper(), 0) for k in mcase.keys() }\n",
    "\n",
    "# mcase_frequency == {'a': 17, 'z': 3, 'b': 34}"
   ]
  },
  {
   "cell_type": "markdown",
   "metadata": {},
   "source": [
    "Instead of a list comprehension, we could have simply used a dict comprehension in the last problem."
   ]
  },
  {
   "cell_type": "code",
   "execution_count": 106,
   "metadata": {},
   "outputs": [
    {
     "data": {
      "text/plain": [
       "{1: 'a', 2: 'b', 3: 'c'}"
      ]
     },
     "execution_count": 106,
     "metadata": {},
     "output_type": "execute_result"
    }
   ],
   "source": [
    "a_dict = {'a': 1, 'b': 2, 'c': 3}\n",
    "{value:key for key, value in a_dict.items()}"
   ]
  },
  {
   "cell_type": "markdown",
   "metadata": {},
   "source": [
    "Of course, this only works if the values of the dictionary are immutable, like strings or tuples. If you try this with a dictionary that contains lists, it will fail most spectacularly."
   ]
  },
  {
   "cell_type": "code",
   "execution_count": 107,
   "metadata": {
    "collapsed": true
   },
   "outputs": [],
   "source": [
    "a_dict = {'a': [1, 2, 3], 'b': 4, 'c': 5}"
   ]
  },
  {
   "cell_type": "code",
   "execution_count": 108,
   "metadata": {
    "collapsed": true
   },
   "outputs": [],
   "source": [
    "# {value:key for key, value in a_dict.items()}"
   ]
  },
  {
   "cell_type": "markdown",
   "metadata": {},
   "source": [
    "## Collections"
   ]
  },
  {
   "cell_type": "markdown",
   "metadata": {},
   "source": [
    "This sectioncovers a module called Collections which implements some nice data structures which will help you to solve various real life problems."
   ]
  },
  {
   "cell_type": "code",
   "execution_count": 109,
   "metadata": {
    "collapsed": true
   },
   "outputs": [],
   "source": [
    "import collections"
   ]
  },
  {
   "cell_type": "markdown",
   "metadata": {},
   "source": [
    "### Counter"
   ]
  },
  {
   "cell_type": "markdown",
   "metadata": {},
   "source": [
    "Counter is a dict subclass which helps to count hashable objects. Inside it elements are stored as dictionary keys and counts are stored as values which can be zero or negative."
   ]
  },
  {
   "cell_type": "code",
   "execution_count": 114,
   "metadata": {},
   "outputs": [
    {
     "data": {
      "text/plain": [
       "[('a', 38),\n",
       " ('i', 37),\n",
       " ('the', 36),\n",
       " ('you', 17),\n",
       " ('m', 16),\n",
       " ('and', 15),\n",
       " ('compton', 12),\n",
       " ('that', 12),\n",
       " ('is', 12),\n",
       " ('of', 11)]"
      ]
     },
     "execution_count": 114,
     "metadata": {},
     "output_type": "execute_result"
    }
   ],
   "source": [
    "from collections import Counter\n",
    "import re\n",
    "path = 'files/straight_outta_compton.txt'\n",
    "# let's be a bit more precise about what we mean by 'words'\n",
    "words = re.findall('\\w+', open(path).read().lower())\n",
    "Counter(words).most_common(10)"
   ]
  },
  {
   "cell_type": "markdown",
   "metadata": {},
   "source": [
    "Print out the methods available to you"
   ]
  },
  {
   "cell_type": "code",
   "execution_count": 115,
   "metadata": {
    "collapsed": true
   },
   "outputs": [],
   "source": [
    "# dir(Counter)"
   ]
  },
  {
   "cell_type": "code",
   "execution_count": 116,
   "metadata": {},
   "outputs": [
    {
     "data": {
      "text/plain": [
       "['_keep_positive',\n",
       " 'clear',\n",
       " 'copy',\n",
       " 'elements',\n",
       " 'fromkeys',\n",
       " 'get',\n",
       " 'items',\n",
       " 'keys',\n",
       " 'most_common',\n",
       " 'pop',\n",
       " 'popitem',\n",
       " 'setdefault',\n",
       " 'subtract',\n",
       " 'update',\n",
       " 'values']"
      ]
     },
     "execution_count": 116,
     "metadata": {},
     "output_type": "execute_result"
    }
   ],
   "source": [
    "[n for n in dir(Counter) if '__' not in n]"
   ]
  },
  {
   "cell_type": "markdown",
   "metadata": {},
   "source": [
    "Counter objects has a method called elements which returns an iterator over elements repeating each as many times as its count. Elements are returned in arbitrary order."
   ]
  },
  {
   "cell_type": "code",
   "execution_count": 117,
   "metadata": {
    "collapsed": true
   },
   "outputs": [],
   "source": [
    "c = Counter(a=4, b=2, c=0, d=-2)"
   ]
  },
  {
   "cell_type": "code",
   "execution_count": 118,
   "metadata": {},
   "outputs": [
    {
     "data": {
      "text/plain": [
       "['a', 'a', 'a', 'a', 'b', 'b']"
      ]
     },
     "execution_count": 118,
     "metadata": {},
     "output_type": "execute_result"
    }
   ],
   "source": [
    "list(c.elements())"
   ]
  },
  {
   "cell_type": "markdown",
   "metadata": {},
   "source": [
    "most_common is a method which returns most common elements and their counts from the most common to the least."
   ]
  },
  {
   "cell_type": "code",
   "execution_count": 119,
   "metadata": {},
   "outputs": [
    {
     "data": {
      "text/plain": [
       "[('a', 5), ('b', 2), ('r', 2)]"
      ]
     },
     "execution_count": 119,
     "metadata": {},
     "output_type": "execute_result"
    }
   ],
   "source": [
    "Counter('abracadabra').most_common(3)"
   ]
  },
  {
   "cell_type": "markdown",
   "metadata": {},
   "source": [
    "### Default Dictionary"
   ]
  },
  {
   "cell_type": "markdown",
   "metadata": {},
   "source": [
    "A defaultdict is a dictionary with a default value for keys, so that keys for which no value has been explicitly defined can be accessed without errors. Let’s see it in action. Using defaultdict is faster than doing the same using dict.set_default method."
   ]
  },
  {
   "cell_type": "markdown",
   "metadata": {},
   "source": [
    "#### Word Frequency Revisited"
   ]
  },
  {
   "cell_type": "markdown",
   "metadata": {},
   "source": [
    "We previously used a try/except clause to word around the missing starting value in the dict."
   ]
  },
  {
   "cell_type": "code",
   "execution_count": 120,
   "metadata": {
    "collapsed": true
   },
   "outputs": [],
   "source": [
    "def word_frequency(words):\n",
    "    frequency = {}\n",
    "    for w in words:\n",
    "        try:\n",
    "            frequency[w] += 1\n",
    "        except KeyError:\n",
    "            frequency[w] = 1"
   ]
  },
  {
   "cell_type": "markdown",
   "metadata": {},
   "source": [
    "A defaultdict is just like a regular Python dict, except that it supports an additional argument at initialization: a function. If someone attempts to access a key to which no value has been assigned, that function will be called (without arguments) and its return value is used as the default value for the key. "
   ]
  },
  {
   "cell_type": "markdown",
   "metadata": {},
   "source": [
    "Going back to our example, we want the default value to be 0, so we pass the built-in function int()to the defaultdict constructor. When called without arguments, the int() function simply returns 0."
   ]
  },
  {
   "cell_type": "code",
   "execution_count": 121,
   "metadata": {
    "collapsed": true
   },
   "outputs": [],
   "source": [
    "from collections import defaultdict\n",
    "\n",
    "def word_frequency(words):\n",
    "    frequency = defaultdict(int)\n",
    "    for w in words:\n",
    "        frequency[w] += 1"
   ]
  },
  {
   "cell_type": "markdown",
   "metadata": {},
   "source": [
    "### Ordered dictionaries"
   ]
  },
  {
   "cell_type": "markdown",
   "metadata": {},
   "source": [
    "### Named Tuple"
   ]
  },
  {
   "cell_type": "markdown",
   "metadata": {},
   "source": [
    "Named tuples helps to have meaning of each position in a tuple and allow us to code with better readability and self-documenting code. You can use them in any place where you are using tuples. In the example we will create a namedtuple to show hold information for points."
   ]
  },
  {
   "cell_type": "code",
   "execution_count": 122,
   "metadata": {},
   "outputs": [
    {
     "data": {
      "text/plain": [
       "Point(x=10, y=20)"
      ]
     },
     "execution_count": 122,
     "metadata": {},
     "output_type": "execute_result"
    }
   ],
   "source": [
    "from collections import namedtuple\n",
    "\n",
    "Point = namedtuple('Point', ['x', 'y'])\n",
    "p = Point(10, y=20)\n",
    "p"
   ]
  },
  {
   "cell_type": "code",
   "execution_count": 123,
   "metadata": {},
   "outputs": [
    {
     "data": {
      "text/plain": [
       "30"
      ]
     },
     "execution_count": 123,
     "metadata": {},
     "output_type": "execute_result"
    }
   ],
   "source": [
    "Point(x=10, y=20)\n",
    "p.x + p.y"
   ]
  },
  {
   "cell_type": "code",
   "execution_count": 124,
   "metadata": {},
   "outputs": [
    {
     "data": {
      "text/plain": [
       "30"
      ]
     },
     "execution_count": 124,
     "metadata": {},
     "output_type": "execute_result"
    }
   ],
   "source": [
    "p[0] + p[1]  # Accessing the values in normal way"
   ]
  },
  {
   "cell_type": "code",
   "execution_count": 125,
   "metadata": {},
   "outputs": [
    {
     "data": {
      "text/plain": [
       "10"
      ]
     },
     "execution_count": 125,
     "metadata": {},
     "output_type": "execute_result"
    }
   ],
   "source": [
    "x, y = p     # Unpacking the tuple\n",
    "x"
   ]
  },
  {
   "cell_type": "code",
   "execution_count": 126,
   "metadata": {},
   "outputs": [
    {
     "data": {
      "text/plain": [
       "20"
      ]
     },
     "execution_count": 126,
     "metadata": {},
     "output_type": "execute_result"
    }
   ],
   "source": [
    "y"
   ]
  },
  {
   "cell_type": "markdown",
   "metadata": {},
   "source": [
    "## Python Execution Environment"
   ]
  },
  {
   "cell_type": "markdown",
   "metadata": {},
   "source": [
    "Python stores the variables we use as a dictionary. The globals() function returns all the globals variables in the current environment."
   ]
  },
  {
   "cell_type": "code",
   "execution_count": 127,
   "metadata": {},
   "outputs": [
    {
     "data": {
      "text/plain": [
       "{'Counter': collections.Counter,\n",
       " 'In': ['',\n",
       "  'n = 0\\nwhile n < 11:\\n    print(n)\\n    n += 1',\n",
       "  'x = float(input(\"Enter the value of x: \"))\\nn = term = num = 1\\nsum = 1.0\\nwhile n <= 100:\\n    term *= x / n\\n    sum += term\\n    n += 1\\n    if term < 0.0001:\\n        break\\nprint \"No of Times= %d and Sum= %f\" % (n, sum)',\n",
       "  'x = float(input(\"Enter the value of x: \"))\\nn = term = num = 1\\nsummation = 1.0\\nwhile n <= 100:\\n    term *= x / n\\n    summation += term\\n    n += 1\\n    if term < 0.0001:\\n        break\\nprint(\"No of Times= {} and Sum= {}\".format(n, summation))',\n",
       "  'x = float(input(\"Enter the value of x: \"))\\nn = term = num = 1\\nsummation = 1.0\\nwhile n <= 100:\\n    term *= x / n\\n    summation += term\\n    n += 1\\n    if term < 0.0001:\\n        break\\nprint(\"No of Times= {} and Sum= {}\".format(n, summation))',\n",
       "  'x = float(input(\"Enter the value of x: \"))\\nn = term = num = 1\\nsummation = 1.0\\nwhile n <= 100:\\n    term *= x / n\\n    summation += term\\n    n += 1\\n    if term < 0.0001:\\n        break\\nprint(\"No of Times= {} and Sum= {}\".format(n, summation))',\n",
       "  'x = float(input(\"Enter the value of x: \"))\\nn = term = num = 1\\nsummation = 1.0\\nwhile n <= 100:\\n    term *= x / n\\n    summation += term\\n    n += 1\\n    if term < 0.0001:\\n        break\\nprint(\"No of Times= {} and Sum= {}\".format(n, summation))',\n",
       "  'while True:\\n    n = int(input(\"Please enter an Integer: \"))\\n    if n < 0:\\n        continue # this will take the execution back to the starting of the loop\\n    elif n == 0:\\n        break\\n    print(\"Square is \", n ** 2)\\nprint(\"Goodbye\")',\n",
       "  'sticks = 21\\n\\nprint \"There are 21 sticks, you can take 1-4 number of sticks at a time.\"\\nprint \"Whoever will take the last stick will loose\"\\n\\nwhile True:\\n    print \"Sticks left: \" , sticks\\n    sticks_taken = int(input(\"Take sticks(1-4):\"))\\n    if sticks == 1:\\n        print(\"You took the last stick, you loose\")\\n        break\\n    if sticks_taken >= 5 or sticks_taken <= 0:\\n        print(\"Wrong choice\")\\n        continue\\n    print(\"Computer took: \" , (5 - sticks_taken) , \"\\\\n\")\\n    sticks -= 5',\n",
       "  'sticks = 21\\n\\nprint \"There are 21 sticks, you can take 1-4 number of sticks at a time.\"\\nprint \"Whoever will take the last stick will loose\"\\n\\nwhile True:\\n    print(\"Sticks left: \" , sticks)\\n    sticks_taken = int(input(\"Take sticks(1-4):\"))\\n    if sticks == 1:\\n        print(\"You took the last stick, you loose\")\\n        break\\n    if sticks_taken >= 5 or sticks_taken <= 0:\\n        print(\"Wrong choice\")\\n        continue\\n    print(\"Computer took: \" , (5 - sticks_taken) , \"\\\\n\")\\n    sticks -= 5',\n",
       "  'sticks = 21\\n\\nprint(\"There are 21 sticks, you can take 1-4 number of sticks at a time.\")\\nprint(\"Whoever will take the last stick will loose\")\\n\\nwhile True:\\n    print(\"Sticks left: \" , sticks)\\n    sticks_taken = int(input(\"Take sticks(1-4):\"))\\n    if sticks == 1:\\n        print(\"You took the last stick, you loose\")\\n        break\\n    if sticks_taken >= 5 or sticks_taken <= 0:\\n        print(\"Wrong choice\")\\n        continue\\n    print(\"Computer took: \" , (5 - sticks_taken) , \"\\\\n\")\\n    sticks -= 5',\n",
       "  'sticks = 21\\n\\nprint(\"There are 21 sticks, you can take 1-4 number of sticks at a time.\")\\nprint(\"Whoever will take the last stick will loose\")\\n\\nwhile True:\\n    print(\"Sticks left: \" , sticks)\\n    sticks_taken = int(input(\"Take sticks(1-4):\"))\\n    if sticks == 1:\\n        print(\"You took the last stick, you loose\")\\n        break\\n    if sticks_taken >= 5 or sticks_taken <= 0:\\n        print(\"Wrong choice\")\\n        continue\\n    print(\"Computer took: \" , (5 - sticks_taken) , \"\\\\n\")\\n    sticks -= 5',\n",
       "  'sticks = 21\\n\\nprint(\"There are 21 sticks, you can take 1-4 number of sticks at a time.\")\\nprint(\"Whoever will take the last stick will loose\")\\n\\nwhile True:\\n    print(\"Sticks left: \" , sticks)\\n    sticks_taken = int(input(\"Take sticks(1-4):\"))\\n    if sticks == 1:\\n        print(\"You took the last stick, you loose\")\\n        break\\n    if sticks_taken >= 5 or sticks_taken <= 0:\\n        print(\"Wrong choice\")\\n        continue\\n    print(\"Computer took: \" , (5 - sticks_taken) , \"\\\\n\")\\n    sticks -= 5',\n",
       "  'sticks = 21\\n\\nprint(\"There are 21 sticks, you can take 1-4 number of sticks at a time.\")\\nprint(\"Whoever will take the last stick will loose\")\\n\\nwhile True:\\n    print(\"Sticks left: \" , sticks)\\n    sticks_taken = int(input(\"Take sticks(1-4):\"))\\n    if sticks == 1:\\n        print(\"You took the last stick, you loose\")\\n        break\\n    if sticks_taken >= 5 or sticks_taken <= 0:\\n        print(\"Wrong choice\")\\n        continue\\n    print(\"Computer took: \" , (5 - sticks_taken) , \"\\\\n\")\\n    sticks -= 5',\n",
       "  'sticks = 21\\n\\nprint(\"There are 21 sticks, you can take 1-4 number of sticks at a time.\")\\nprint(\"Whoever will take the last stick will loose\")\\n\\nwhile True:\\n    print(\"Sticks left: \" , sticks)\\n    sticks_taken = int(input(\"Take sticks(1-4):\"))\\n    if sticks == 1:\\n        print(\"You took the last stick, you loose\")\\n        break\\n    if sticks_taken >= 5 or sticks_taken <= 0:\\n        print(\"Wrong choice\")\\n        continue\\n    print(\"Computer took: \" , (5 - sticks_taken) , \"\\\\n\")\\n    sticks -= 5',\n",
       "  'sticks = 21\\n\\nprint(\"There are 21 sticks, you can take 1-4 number of sticks at a time.\")\\nprint(\"Whoever will take the last stick will loose\")\\n\\nwhile True:\\n    print(\"Sticks left: \" , sticks)\\n    sticks_taken = int(input(\"Take sticks(1-4):\"))\\n    if sticks == 1:\\n        print(\"You took the last stick, you loose\")\\n        break\\n    if sticks_taken >= 5 or sticks_taken <= 0:\\n        print(\"Wrong choice\")\\n        continue\\n    print(\"Computer took: \" , (5 - sticks_taken) , \"\\\\n\")\\n    sticks -= 5',\n",
       "  'sticks = 21\\n\\nprint(\"There are 21 sticks, you can take 1-4 number of sticks at a time.\")\\nprint(\"Whoever will take the last stick will loose\")\\n\\nwhile True:\\n    print(\"Sticks left: \" , sticks)\\n    sticks_taken = int(input(\"Take sticks(1-4):\"))\\n    if sticks == 1:\\n        print(\"You took the last stick, you loose\")\\n        break\\n    if sticks_taken >= 5 or sticks_taken <= 0:\\n        print(\"Wrong choice\")\\n        continue\\n    print(\"Computer took: \" , (5 - sticks_taken) , \"\\\\n\")\\n    sticks -= 5',\n",
       "  'sticks = 21\\n\\nprint(\"There are 21 sticks, you can take 1-4 number of sticks at a time.\")\\nprint(\"Whoever will take the last stick will loose\")\\n\\nwhile True:\\n    print(\"Sticks left: \" , sticks)\\n    sticks_taken = int(input(\"Take sticks(1-4):\"))\\n    if sticks == 1:\\n        print(\"You took the last stick, you loose\")\\n        break\\n    if sticks_taken >= 5 or sticks_taken <= 0:\\n        print(\"Wrong choice\")\\n        continue\\n    print(\"Computer took: \" , (5 - sticks_taken) , \"\\\\n\")\\n    sticks -= 5',\n",
       "  'sticks = 21\\n\\nprint(\"There are 21 sticks, you can take 1-4 number of sticks at a time.\")\\nprint(\"Whoever will take the last stick will loose\")\\n\\nwhile True:\\n    print(\"Sticks left: \" , sticks)\\n    sticks_taken = int(input(\"Take sticks(1-4):\"))\\n    if sticks == 1:\\n        print(\"You took the last stick, you loose\")\\n        break\\n    if sticks_taken >= 5 or sticks_taken <= 0:\\n        print(\"Wrong choice\")\\n        continue\\n    print(\"Computer took: \" , (5 - sticks_taken) , \"\\\\n\")\\n    sticks -= 5',\n",
       "  'sticks = 21\\n\\nprint(\"There are 21 sticks, you can take 1-4 number of sticks at a time.\")\\nprint(\"Whoever will take the last stick will loose\")\\n\\nwhile True:\\n    print(\"Sticks left: \" , sticks)\\n    sticks_taken = int(input(\"Take sticks(1-4):\"))\\n    if sticks == 1:\\n        print(\"You took the last stick, you loose\")\\n        break\\n    if sticks_taken >= 5 or sticks_taken <= 0:\\n        print(\"Wrong choice\")\\n        continue\\n    print(\"Computer took: \" , (5 - sticks_taken) , \"\\\\n\")\\n    sticks -= 5',\n",
       "  'a = range(10)',\n",
       "  'a',\n",
       "  '[x for x in a]',\n",
       "  '[x+1 for x in a]',\n",
       "  'a = range(10)',\n",
       "  '[x for x in a if x % 2 == 0]',\n",
       "  '[x*x for x in a if x%2 == 0]',\n",
       "  'a = [1, 2, 3, 4]\\nb = [2, 3, 5, 7]\\nzip(a, b)',\n",
       "  '[x+y for x, y in zip(a, b)]',\n",
       "  '[(x, y) for x in range(5) for y in range(5) if (x+y)%2 == 0]',\n",
       "  '[(x, y) for x in range(5) for y in range(5) if (x+y)%2 == 0 and x != y]',\n",
       "  '[(x, y) for x in range(5) for y in range(x) if (x+y)%2 == 0]',\n",
       "  'n = 25\\n[(x, y, z) for x in range(1, n) for y in range(x, n) for z in range(y, n) if x*x + y*y == z*z]',\n",
       "  'zip([1, 2, 3], [\"a\", \"b\", \"c\"])',\n",
       "  'def square(x): return x * x\\nmap(square, range(5))',\n",
       "  'def square(x): return x * x\\n    map(square, range(5))',\n",
       "  'def square(x): return x * x\\nmap(square, range(5))',\n",
       "  'def square(x): return x * x\\nprint(map(square, range(5)))',\n",
       "  'def square(x): return x * x\\nmap(square, range(5))',\n",
       "  'def square(x): return x * x\\nmap(square, [1,2,3,4,5])',\n",
       "  'def square(x): return x * x\\nlist(map(square, [1,2,3,4,5]))',\n",
       "  \"# Given the list \\nnames = [ 'Bob', 'JOHN', 'alice', 'bob', 'ALICE', 'J', 'Bob' ]\",\n",
       "  \"# We require the set:\\n{ 'Bob', 'John', 'Alice' }\",\n",
       "  '{ name[0].upper() + name[1:].lower() for name in names if len(name) > 1 }',\n",
       "  \"a = {'x': 1, 'y': 2, 'z': 3}\",\n",
       "  \"a['x']\",\n",
       "  \"a['z']\",\n",
       "  \"b = {}\\nb['x'] = 2\\nb[2] = 'foo'\\nb[(1, 2)] = 3\\nb\",\n",
       "  \"a = {'x': 1, 'y': 2, 'z': 3}\",\n",
       "  \"a['x']\",\n",
       "  \"a['z']\",\n",
       "  \"b = {}\\nb['x'] = 2\\nb[2] = 'foo'\\nb[(1, 2)] = 3\\nb\",\n",
       "  \"a = {'x': 1, 'y': 2, 'z': 3}\",\n",
       "  \"del a['x']\",\n",
       "  'a.keys()',\n",
       "  'a.values()',\n",
       "  'a.items()',\n",
       "  'for key in a: print key',\n",
       "  'for key, value in a.items(): print key, value',\n",
       "  'for key in a: print(key)',\n",
       "  'for key, value in a.items(): print(key, value)',\n",
       "  \"'x' in a\",\n",
       "  \"'p' in a\",\n",
       "  \"a.has_key('x')\",\n",
       "  \"a.has_key('p')\",\n",
       "  \"'g' in a.keys()\",\n",
       "  \"a.has_key('p')\",\n",
       "  \"d = {'x': 1, 'y': 2, 'z': 3}\",\n",
       "  \"'x' in a\",\n",
       "  \"a = {'x': 1, 'y': 2, 'z': 3}\",\n",
       "  \"del a['x']\",\n",
       "  'a.keys()',\n",
       "  'a.values()',\n",
       "  'a.items()',\n",
       "  'for key in a: print(key)',\n",
       "  'for key, value in a.items(): print(key, value)',\n",
       "  \"'x' in a\",\n",
       "  \"'p' in a\",\n",
       "  \"'g' in a.keys()\",\n",
       "  \"d = {'x': 1, 'y': 2, 'z': 3}\",\n",
       "  \"d.get('x', 5)\",\n",
       "  \"d.get('p', 5)\",\n",
       "  \"d.setdefault('x', 0)\",\n",
       "  \"d.setdefault('p', 0)\",\n",
       "  \"'hello %(name)s' % {'name': 'python'}\",\n",
       "  \"'Chapter %(index)d: %(name)s' % {'index': 2, 'name': 'Data Structures'}\",\n",
       "  \"'hello $(name)'.format({'name': 'python'})\",\n",
       "  \"'hello %(name)'.format({'name': 'python'})\",\n",
       "  \"'hello %(name)' % {'name': 'python'}\",\n",
       "  \"'hello %(name)s' % {'name': 'python'}\",\n",
       "  \"'Chapter %(index)d: %(name)s' % {'index': 2, 'name': 'Data Structures'}\",\n",
       "  \"'Tutorial %(index)d: %(name)s' % {'index': 2, 'name': 'Data Structures'}\",\n",
       "  'def word_frequency(words):\\n    \"\"\"Returns frequency of each word given a list of words.\\n\\n        >>> word_frequency([\\'a\\', \\'b\\', \\'a\\'])\\n        {\\'a\\': 2, \\'b\\': 1}\\n    \"\"\"\\n    frequency = {}\\n    for w in words:\\n        try:\\n            frequency[w] += 1\\n        except KeyError:\\n            frequency[w] = 1\\n        \\n    return frequency',\n",
       "  \"# solution('ZnJlcXVlbmN5W3ddID0gZnJlcXVlbmN5LmdldCh3LCAwKSArIDE=')\",\n",
       "  'def read_words(filename):\\n    return open(filename).read().split()',\n",
       "  'def main(filename):\\n    frequency = word_frequency(read_words(filename))\\n    for word, count in frequency.items():\\n        print word, count\\n        \\n# In a Python Script, you\\'d add this to the bottom to make it run from the command line\\n# while also taking in a single argument referring to the filename.\\n# \\n# if __name__ == \"__main__\":\\n#     import sys\\n#     main(sys.argv[1])',\n",
       "  'def main(filename):\\n    frequency = word_frequency(read_words(filename))\\n    for word, count in frequency.items():\\n        print(word, count)\\n        \\n# In a Python Script, you\\'d add this to the bottom to make it run from the command line\\n# while also taking in a single argument referring to the filename.\\n# \\n# if __name__ == \"__main__\":\\n#     import sys\\n#     main(sys.argv[1])',\n",
       "  \"main('usdeclar.txt')\",\n",
       "  \"main('http://ohhla.com/anonymous/nwa/straight/straight.nwa.txt')\",\n",
       "  'def read_words(filename):\\n    return open(filename).read().split()',\n",
       "  'def main(filename):\\n    frequency = word_frequency(read_words(filename))\\n    for word, count in frequency.items():\\n        print(word, count)\\n        \\n# In a Python Script, you\\'d add this to the bottom to make it run from the command line\\n# while also taking in a single argument referring to the filename.\\n# \\n# if __name__ == \"__main__\":\\n#     import sys\\n#     main(sys.argv[1])',\n",
       "  \"main('files/straight.nwa.txt')\",\n",
       "  \"main('files/straight_outta_compton.txt')\",\n",
       "  'def main(filename):\\n    frequency = word_frequency(read_words(filename))\\n    for word, count in frequency.items():\\n        print(word.lower(), count)\\n        \\n# In a Python Script, you\\'d add this to the bottom to make it run from the command line\\n# while also taking in a single argument referring to the filename.\\n# \\n# if __name__ == \"__main__\":\\n#     import sys\\n#     main(sys.argv[1])',\n",
       "  \"main('files/straight_outta_compton.txt')\",\n",
       "  \"mcase = {'a':10, 'b': 34, 'A': 7, 'Z':3}\\n\\nmcase_frequency = { k.lower() : mcase.get(k.lower(), 0) + mcase.get(k.upper(), 0) for k in mcase.keys() }\\n\\n# mcase_frequency == {'a': 17, 'z': 3, 'b': 34}\",\n",
       "  \"a_dict = {'a': 1, 'b': 2, 'c': 3}\\n{value:key for key, value in a_dict.items()}\",\n",
       "  \"a_dict = {'a': [1, 2, 3], 'b': 4, 'c': 5}\",\n",
       "  '# {value:key for key, value in a_dict.items()}',\n",
       "  'import collections',\n",
       "  \"from collections import Counter\\nimport re\\npath = 'usdeclar.txt'\\n# let's be a bit more precise about what we mean by 'words'\\nwords = re.findall('\\\\w+', open(path).read().lower())\\nCounter(words).most_common(10)\",\n",
       "  \"from collections import Counter\\nimport re\\npath = 'files/straight_outta_compton.txt'\\n# let's be a bit more precise about what we mean by 'words'\\nwords = re.findall('\\\\w+', open(path).read().lower())\\nCounter(words).most_common(10)\",\n",
       "  '# dir(Counter)',\n",
       "  \"[n for n in dir(Counter) if '__' not in n]\",\n",
       "  \"from collections import Counter\\nimport re\\npath = 'files/straight_outta_compton.txt'\\n# let's be a bit more precise about what we mean by 'words'\\nwords = re.findall('\\\\w+', open(path).read().lower())\\nCounter(words).most_common(10)\",\n",
       "  '# dir(Counter)',\n",
       "  \"[n for n in dir(Counter) if '__' not in n]\",\n",
       "  'c = Counter(a=4, b=2, c=0, d=-2)',\n",
       "  'list(c.elements())',\n",
       "  \"Counter('abracadabra').most_common(3)\",\n",
       "  'def word_frequency(words):\\n    frequency = {}\\n    for w in words:\\n        try:\\n            frequency[w] += 1\\n        except KeyError:\\n            frequency[w] = 1',\n",
       "  'from collections import defaultdict\\n\\ndef word_frequency(words):\\n    frequency = defaultdict(int)\\n    for w in words:\\n        frequency[w] += 1',\n",
       "  \"from collections import namedtuple\\n\\nPoint = namedtuple('Point', ['x', 'y'])\\np = Point(10, y=20)\\np\",\n",
       "  'Point(x=10, y=20)\\np.x + p.y',\n",
       "  'p[0] + p[1]  # Accessing the values in normal way',\n",
       "  'x, y = p     # Unpacking the tuple\\nx',\n",
       "  'y',\n",
       "  'globals()'],\n",
       " 'Out': {21: range(0, 10),\n",
       "  22: [0, 1, 2, 3, 4, 5, 6, 7, 8, 9],\n",
       "  23: [1, 2, 3, 4, 5, 6, 7, 8, 9, 10],\n",
       "  25: [0, 2, 4, 6, 8],\n",
       "  26: [0, 4, 16, 36, 64],\n",
       "  27: <zip at 0x7f8bbefac148>,\n",
       "  28: [3, 5, 8, 11],\n",
       "  29: [(0, 0),\n",
       "   (0, 2),\n",
       "   (0, 4),\n",
       "   (1, 1),\n",
       "   (1, 3),\n",
       "   (2, 0),\n",
       "   (2, 2),\n",
       "   (2, 4),\n",
       "   (3, 1),\n",
       "   (3, 3),\n",
       "   (4, 0),\n",
       "   (4, 2),\n",
       "   (4, 4)],\n",
       "  30: [(0, 2), (0, 4), (1, 3), (2, 0), (2, 4), (3, 1), (4, 0), (4, 2)],\n",
       "  31: [(2, 0), (3, 1), (4, 0), (4, 2)],\n",
       "  32: [(3, 4, 5),\n",
       "   (5, 12, 13),\n",
       "   (6, 8, 10),\n",
       "   (8, 15, 17),\n",
       "   (9, 12, 15),\n",
       "   (12, 16, 20)],\n",
       "  33: <zip at 0x7f8bbefb3ec8>,\n",
       "  34: <map at 0x7f8bbefb7c50>,\n",
       "  36: <map at 0x7f8bbef47630>,\n",
       "  38: <map at 0x7f8bbef47160>,\n",
       "  39: <map at 0x7f8bbef47c50>,\n",
       "  40: [1, 4, 9, 16, 25],\n",
       "  42: {'Alice', 'Bob', 'John'},\n",
       "  43: {'Alice', 'Bob', 'John'},\n",
       "  45: 1,\n",
       "  46: 3,\n",
       "  47: {'x': 2, 2: 'foo', (1, 2): 3},\n",
       "  49: 1,\n",
       "  50: 3,\n",
       "  51: {'x': 2, 2: 'foo', (1, 2): 3},\n",
       "  54: dict_keys(['y', 'z']),\n",
       "  55: dict_values([2, 3]),\n",
       "  56: dict_items([('y', 2), ('z', 3)]),\n",
       "  61: False,\n",
       "  62: False,\n",
       "  65: False,\n",
       "  68: False,\n",
       "  71: dict_keys(['y', 'z']),\n",
       "  72: dict_values([2, 3]),\n",
       "  73: dict_items([('y', 2), ('z', 3)]),\n",
       "  76: False,\n",
       "  77: False,\n",
       "  78: False,\n",
       "  80: 1,\n",
       "  81: 5,\n",
       "  82: 1,\n",
       "  83: 0,\n",
       "  84: 'hello python',\n",
       "  85: 'Chapter 2: Data Structures',\n",
       "  86: 'hello $(name)',\n",
       "  87: 'hello %(name)',\n",
       "  89: 'hello python',\n",
       "  90: 'Chapter 2: Data Structures',\n",
       "  91: 'Tutorial 2: Data Structures',\n",
       "  106: {1: 'a', 2: 'b', 3: 'c'},\n",
       "  111: [('a', 38),\n",
       "   ('i', 37),\n",
       "   ('the', 36),\n",
       "   ('you', 17),\n",
       "   ('m', 16),\n",
       "   ('and', 15),\n",
       "   ('compton', 12),\n",
       "   ('that', 12),\n",
       "   ('is', 12),\n",
       "   ('of', 11)],\n",
       "  113: ['_keep_positive',\n",
       "   'clear',\n",
       "   'copy',\n",
       "   'elements',\n",
       "   'fromkeys',\n",
       "   'get',\n",
       "   'items',\n",
       "   'keys',\n",
       "   'most_common',\n",
       "   'pop',\n",
       "   'popitem',\n",
       "   'setdefault',\n",
       "   'subtract',\n",
       "   'update',\n",
       "   'values'],\n",
       "  114: [('a', 38),\n",
       "   ('i', 37),\n",
       "   ('the', 36),\n",
       "   ('you', 17),\n",
       "   ('m', 16),\n",
       "   ('and', 15),\n",
       "   ('compton', 12),\n",
       "   ('that', 12),\n",
       "   ('is', 12),\n",
       "   ('of', 11)],\n",
       "  116: ['_keep_positive',\n",
       "   'clear',\n",
       "   'copy',\n",
       "   'elements',\n",
       "   'fromkeys',\n",
       "   'get',\n",
       "   'items',\n",
       "   'keys',\n",
       "   'most_common',\n",
       "   'pop',\n",
       "   'popitem',\n",
       "   'setdefault',\n",
       "   'subtract',\n",
       "   'update',\n",
       "   'values'],\n",
       "  118: ['a', 'a', 'a', 'a', 'b', 'b'],\n",
       "  119: [('a', 5), ('b', 2), ('r', 2)],\n",
       "  122: Point(x=10, y=20),\n",
       "  123: 30,\n",
       "  124: 30,\n",
       "  125: 10,\n",
       "  126: 20},\n",
       " 'Point': __main__.Point,\n",
       " '_': 20,\n",
       " '_106': {1: 'a', 2: 'b', 3: 'c'},\n",
       " '_111': [('a', 38),\n",
       "  ('i', 37),\n",
       "  ('the', 36),\n",
       "  ('you', 17),\n",
       "  ('m', 16),\n",
       "  ('and', 15),\n",
       "  ('compton', 12),\n",
       "  ('that', 12),\n",
       "  ('is', 12),\n",
       "  ('of', 11)],\n",
       " '_113': ['_keep_positive',\n",
       "  'clear',\n",
       "  'copy',\n",
       "  'elements',\n",
       "  'fromkeys',\n",
       "  'get',\n",
       "  'items',\n",
       "  'keys',\n",
       "  'most_common',\n",
       "  'pop',\n",
       "  'popitem',\n",
       "  'setdefault',\n",
       "  'subtract',\n",
       "  'update',\n",
       "  'values'],\n",
       " '_114': [('a', 38),\n",
       "  ('i', 37),\n",
       "  ('the', 36),\n",
       "  ('you', 17),\n",
       "  ('m', 16),\n",
       "  ('and', 15),\n",
       "  ('compton', 12),\n",
       "  ('that', 12),\n",
       "  ('is', 12),\n",
       "  ('of', 11)],\n",
       " '_116': ['_keep_positive',\n",
       "  'clear',\n",
       "  'copy',\n",
       "  'elements',\n",
       "  'fromkeys',\n",
       "  'get',\n",
       "  'items',\n",
       "  'keys',\n",
       "  'most_common',\n",
       "  'pop',\n",
       "  'popitem',\n",
       "  'setdefault',\n",
       "  'subtract',\n",
       "  'update',\n",
       "  'values'],\n",
       " '_118': ['a', 'a', 'a', 'a', 'b', 'b'],\n",
       " '_119': [('a', 5), ('b', 2), ('r', 2)],\n",
       " '_122': Point(x=10, y=20),\n",
       " '_123': 30,\n",
       " '_124': 30,\n",
       " '_125': 10,\n",
       " '_126': 20,\n",
       " '_21': range(0, 10),\n",
       " '_22': [0, 1, 2, 3, 4, 5, 6, 7, 8, 9],\n",
       " '_23': [1, 2, 3, 4, 5, 6, 7, 8, 9, 10],\n",
       " '_25': [0, 2, 4, 6, 8],\n",
       " '_26': [0, 4, 16, 36, 64],\n",
       " '_27': <zip at 0x7f8bbefac148>,\n",
       " '_28': [3, 5, 8, 11],\n",
       " '_29': [(0, 0),\n",
       "  (0, 2),\n",
       "  (0, 4),\n",
       "  (1, 1),\n",
       "  (1, 3),\n",
       "  (2, 0),\n",
       "  (2, 2),\n",
       "  (2, 4),\n",
       "  (3, 1),\n",
       "  (3, 3),\n",
       "  (4, 0),\n",
       "  (4, 2),\n",
       "  (4, 4)],\n",
       " '_30': [(0, 2), (0, 4), (1, 3), (2, 0), (2, 4), (3, 1), (4, 0), (4, 2)],\n",
       " '_31': [(2, 0), (3, 1), (4, 0), (4, 2)],\n",
       " '_32': [(3, 4, 5),\n",
       "  (5, 12, 13),\n",
       "  (6, 8, 10),\n",
       "  (8, 15, 17),\n",
       "  (9, 12, 15),\n",
       "  (12, 16, 20)],\n",
       " '_33': <zip at 0x7f8bbefb3ec8>,\n",
       " '_34': <map at 0x7f8bbefb7c50>,\n",
       " '_36': <map at 0x7f8bbef47630>,\n",
       " '_38': <map at 0x7f8bbef47160>,\n",
       " '_39': <map at 0x7f8bbef47c50>,\n",
       " '_40': [1, 4, 9, 16, 25],\n",
       " '_42': {'Alice', 'Bob', 'John'},\n",
       " '_43': {'Alice', 'Bob', 'John'},\n",
       " '_45': 1,\n",
       " '_46': 3,\n",
       " '_47': {'x': 2, 2: 'foo', (1, 2): 3},\n",
       " '_49': 1,\n",
       " '_50': 3,\n",
       " '_51': {'x': 2, 2: 'foo', (1, 2): 3},\n",
       " '_54': dict_keys(['y', 'z']),\n",
       " '_55': dict_values([2, 3]),\n",
       " '_56': dict_items([('y', 2), ('z', 3)]),\n",
       " '_61': False,\n",
       " '_62': False,\n",
       " '_65': False,\n",
       " '_68': False,\n",
       " '_71': dict_keys(['y', 'z']),\n",
       " '_72': dict_values([2, 3]),\n",
       " '_73': dict_items([('y', 2), ('z', 3)]),\n",
       " '_76': False,\n",
       " '_77': False,\n",
       " '_78': False,\n",
       " '_80': 1,\n",
       " '_81': 5,\n",
       " '_82': 1,\n",
       " '_83': 0,\n",
       " '_84': 'hello python',\n",
       " '_85': 'Chapter 2: Data Structures',\n",
       " '_86': 'hello $(name)',\n",
       " '_87': 'hello %(name)',\n",
       " '_89': 'hello python',\n",
       " '_90': 'Chapter 2: Data Structures',\n",
       " '_91': 'Tutorial 2: Data Structures',\n",
       " '__': 10,\n",
       " '___': 30,\n",
       " '__builtin__': <module 'builtins' (built-in)>,\n",
       " '__builtins__': <module 'builtins' (built-in)>,\n",
       " '__doc__': 'Automatically created module for IPython interactive environment',\n",
       " '__loader__': None,\n",
       " '__name__': '__main__',\n",
       " '__package__': None,\n",
       " '__spec__': None,\n",
       " '_dh': ['/home/shivam/Tutoring_New/python-tutorials'],\n",
       " '_i': 'y',\n",
       " '_i1': 'n = 0\\nwhile n < 11:\\n    print(n)\\n    n += 1',\n",
       " '_i10': 'sticks = 21\\n\\nprint(\"There are 21 sticks, you can take 1-4 number of sticks at a time.\")\\nprint(\"Whoever will take the last stick will loose\")\\n\\nwhile True:\\n    print(\"Sticks left: \" , sticks)\\n    sticks_taken = int(input(\"Take sticks(1-4):\"))\\n    if sticks == 1:\\n        print(\"You took the last stick, you loose\")\\n        break\\n    if sticks_taken >= 5 or sticks_taken <= 0:\\n        print(\"Wrong choice\")\\n        continue\\n    print(\"Computer took: \" , (5 - sticks_taken) , \"\\\\n\")\\n    sticks -= 5',\n",
       " '_i100': 'def main(filename):\\n    frequency = word_frequency(read_words(filename))\\n    for word, count in frequency.items():\\n        print(word, count)\\n        \\n# In a Python Script, you\\'d add this to the bottom to make it run from the command line\\n# while also taking in a single argument referring to the filename.\\n# \\n# if __name__ == \"__main__\":\\n#     import sys\\n#     main(sys.argv[1])',\n",
       " '_i101': \"main('files/straight.nwa.txt')\",\n",
       " '_i102': \"main('files/straight_outta_compton.txt')\",\n",
       " '_i103': 'def main(filename):\\n    frequency = word_frequency(read_words(filename))\\n    for word, count in frequency.items():\\n        print(word.lower(), count)\\n        \\n# In a Python Script, you\\'d add this to the bottom to make it run from the command line\\n# while also taking in a single argument referring to the filename.\\n# \\n# if __name__ == \"__main__\":\\n#     import sys\\n#     main(sys.argv[1])',\n",
       " '_i104': \"main('files/straight_outta_compton.txt')\",\n",
       " '_i105': \"mcase = {'a':10, 'b': 34, 'A': 7, 'Z':3}\\n\\nmcase_frequency = { k.lower() : mcase.get(k.lower(), 0) + mcase.get(k.upper(), 0) for k in mcase.keys() }\\n\\n# mcase_frequency == {'a': 17, 'z': 3, 'b': 34}\",\n",
       " '_i106': \"a_dict = {'a': 1, 'b': 2, 'c': 3}\\n{value:key for key, value in a_dict.items()}\",\n",
       " '_i107': \"a_dict = {'a': [1, 2, 3], 'b': 4, 'c': 5}\",\n",
       " '_i108': '# {value:key for key, value in a_dict.items()}',\n",
       " '_i109': 'import collections',\n",
       " '_i11': 'sticks = 21\\n\\nprint(\"There are 21 sticks, you can take 1-4 number of sticks at a time.\")\\nprint(\"Whoever will take the last stick will loose\")\\n\\nwhile True:\\n    print(\"Sticks left: \" , sticks)\\n    sticks_taken = int(input(\"Take sticks(1-4):\"))\\n    if sticks == 1:\\n        print(\"You took the last stick, you loose\")\\n        break\\n    if sticks_taken >= 5 or sticks_taken <= 0:\\n        print(\"Wrong choice\")\\n        continue\\n    print(\"Computer took: \" , (5 - sticks_taken) , \"\\\\n\")\\n    sticks -= 5',\n",
       " '_i110': \"from collections import Counter\\nimport re\\npath = 'usdeclar.txt'\\n# let's be a bit more precise about what we mean by 'words'\\nwords = re.findall('\\\\w+', open(path).read().lower())\\nCounter(words).most_common(10)\",\n",
       " '_i111': \"from collections import Counter\\nimport re\\npath = 'files/straight_outta_compton.txt'\\n# let's be a bit more precise about what we mean by 'words'\\nwords = re.findall('\\\\w+', open(path).read().lower())\\nCounter(words).most_common(10)\",\n",
       " '_i112': '# dir(Counter)',\n",
       " '_i113': \"[n for n in dir(Counter) if '__' not in n]\",\n",
       " '_i114': \"from collections import Counter\\nimport re\\npath = 'files/straight_outta_compton.txt'\\n# let's be a bit more precise about what we mean by 'words'\\nwords = re.findall('\\\\w+', open(path).read().lower())\\nCounter(words).most_common(10)\",\n",
       " '_i115': '# dir(Counter)',\n",
       " '_i116': \"[n for n in dir(Counter) if '__' not in n]\",\n",
       " '_i117': 'c = Counter(a=4, b=2, c=0, d=-2)',\n",
       " '_i118': 'list(c.elements())',\n",
       " '_i119': \"Counter('abracadabra').most_common(3)\",\n",
       " '_i12': 'sticks = 21\\n\\nprint(\"There are 21 sticks, you can take 1-4 number of sticks at a time.\")\\nprint(\"Whoever will take the last stick will loose\")\\n\\nwhile True:\\n    print(\"Sticks left: \" , sticks)\\n    sticks_taken = int(input(\"Take sticks(1-4):\"))\\n    if sticks == 1:\\n        print(\"You took the last stick, you loose\")\\n        break\\n    if sticks_taken >= 5 or sticks_taken <= 0:\\n        print(\"Wrong choice\")\\n        continue\\n    print(\"Computer took: \" , (5 - sticks_taken) , \"\\\\n\")\\n    sticks -= 5',\n",
       " '_i120': 'def word_frequency(words):\\n    frequency = {}\\n    for w in words:\\n        try:\\n            frequency[w] += 1\\n        except KeyError:\\n            frequency[w] = 1',\n",
       " '_i121': 'from collections import defaultdict\\n\\ndef word_frequency(words):\\n    frequency = defaultdict(int)\\n    for w in words:\\n        frequency[w] += 1',\n",
       " '_i122': \"from collections import namedtuple\\n\\nPoint = namedtuple('Point', ['x', 'y'])\\np = Point(10, y=20)\\np\",\n",
       " '_i123': 'Point(x=10, y=20)\\np.x + p.y',\n",
       " '_i124': 'p[0] + p[1]  # Accessing the values in normal way',\n",
       " '_i125': 'x, y = p     # Unpacking the tuple\\nx',\n",
       " '_i126': 'y',\n",
       " '_i127': 'globals()',\n",
       " '_i13': 'sticks = 21\\n\\nprint(\"There are 21 sticks, you can take 1-4 number of sticks at a time.\")\\nprint(\"Whoever will take the last stick will loose\")\\n\\nwhile True:\\n    print(\"Sticks left: \" , sticks)\\n    sticks_taken = int(input(\"Take sticks(1-4):\"))\\n    if sticks == 1:\\n        print(\"You took the last stick, you loose\")\\n        break\\n    if sticks_taken >= 5 or sticks_taken <= 0:\\n        print(\"Wrong choice\")\\n        continue\\n    print(\"Computer took: \" , (5 - sticks_taken) , \"\\\\n\")\\n    sticks -= 5',\n",
       " '_i14': 'sticks = 21\\n\\nprint(\"There are 21 sticks, you can take 1-4 number of sticks at a time.\")\\nprint(\"Whoever will take the last stick will loose\")\\n\\nwhile True:\\n    print(\"Sticks left: \" , sticks)\\n    sticks_taken = int(input(\"Take sticks(1-4):\"))\\n    if sticks == 1:\\n        print(\"You took the last stick, you loose\")\\n        break\\n    if sticks_taken >= 5 or sticks_taken <= 0:\\n        print(\"Wrong choice\")\\n        continue\\n    print(\"Computer took: \" , (5 - sticks_taken) , \"\\\\n\")\\n    sticks -= 5',\n",
       " '_i15': 'sticks = 21\\n\\nprint(\"There are 21 sticks, you can take 1-4 number of sticks at a time.\")\\nprint(\"Whoever will take the last stick will loose\")\\n\\nwhile True:\\n    print(\"Sticks left: \" , sticks)\\n    sticks_taken = int(input(\"Take sticks(1-4):\"))\\n    if sticks == 1:\\n        print(\"You took the last stick, you loose\")\\n        break\\n    if sticks_taken >= 5 or sticks_taken <= 0:\\n        print(\"Wrong choice\")\\n        continue\\n    print(\"Computer took: \" , (5 - sticks_taken) , \"\\\\n\")\\n    sticks -= 5',\n",
       " '_i16': 'sticks = 21\\n\\nprint(\"There are 21 sticks, you can take 1-4 number of sticks at a time.\")\\nprint(\"Whoever will take the last stick will loose\")\\n\\nwhile True:\\n    print(\"Sticks left: \" , sticks)\\n    sticks_taken = int(input(\"Take sticks(1-4):\"))\\n    if sticks == 1:\\n        print(\"You took the last stick, you loose\")\\n        break\\n    if sticks_taken >= 5 or sticks_taken <= 0:\\n        print(\"Wrong choice\")\\n        continue\\n    print(\"Computer took: \" , (5 - sticks_taken) , \"\\\\n\")\\n    sticks -= 5',\n",
       " '_i17': 'sticks = 21\\n\\nprint(\"There are 21 sticks, you can take 1-4 number of sticks at a time.\")\\nprint(\"Whoever will take the last stick will loose\")\\n\\nwhile True:\\n    print(\"Sticks left: \" , sticks)\\n    sticks_taken = int(input(\"Take sticks(1-4):\"))\\n    if sticks == 1:\\n        print(\"You took the last stick, you loose\")\\n        break\\n    if sticks_taken >= 5 or sticks_taken <= 0:\\n        print(\"Wrong choice\")\\n        continue\\n    print(\"Computer took: \" , (5 - sticks_taken) , \"\\\\n\")\\n    sticks -= 5',\n",
       " '_i18': 'sticks = 21\\n\\nprint(\"There are 21 sticks, you can take 1-4 number of sticks at a time.\")\\nprint(\"Whoever will take the last stick will loose\")\\n\\nwhile True:\\n    print(\"Sticks left: \" , sticks)\\n    sticks_taken = int(input(\"Take sticks(1-4):\"))\\n    if sticks == 1:\\n        print(\"You took the last stick, you loose\")\\n        break\\n    if sticks_taken >= 5 or sticks_taken <= 0:\\n        print(\"Wrong choice\")\\n        continue\\n    print(\"Computer took: \" , (5 - sticks_taken) , \"\\\\n\")\\n    sticks -= 5',\n",
       " '_i19': 'sticks = 21\\n\\nprint(\"There are 21 sticks, you can take 1-4 number of sticks at a time.\")\\nprint(\"Whoever will take the last stick will loose\")\\n\\nwhile True:\\n    print(\"Sticks left: \" , sticks)\\n    sticks_taken = int(input(\"Take sticks(1-4):\"))\\n    if sticks == 1:\\n        print(\"You took the last stick, you loose\")\\n        break\\n    if sticks_taken >= 5 or sticks_taken <= 0:\\n        print(\"Wrong choice\")\\n        continue\\n    print(\"Computer took: \" , (5 - sticks_taken) , \"\\\\n\")\\n    sticks -= 5',\n",
       " '_i2': 'x = float(input(\"Enter the value of x: \"))\\nn = term = num = 1\\nsum = 1.0\\nwhile n <= 100:\\n    term *= x / n\\n    sum += term\\n    n += 1\\n    if term < 0.0001:\\n        break\\nprint \"No of Times= %d and Sum= %f\" % (n, sum)',\n",
       " '_i20': 'a = range(10)',\n",
       " '_i21': 'a',\n",
       " '_i22': '[x for x in a]',\n",
       " '_i23': '[x+1 for x in a]',\n",
       " '_i24': 'a = range(10)',\n",
       " '_i25': '[x for x in a if x % 2 == 0]',\n",
       " '_i26': '[x*x for x in a if x%2 == 0]',\n",
       " '_i27': 'a = [1, 2, 3, 4]\\nb = [2, 3, 5, 7]\\nzip(a, b)',\n",
       " '_i28': '[x+y for x, y in zip(a, b)]',\n",
       " '_i29': '[(x, y) for x in range(5) for y in range(5) if (x+y)%2 == 0]',\n",
       " '_i3': 'x = float(input(\"Enter the value of x: \"))\\nn = term = num = 1\\nsummation = 1.0\\nwhile n <= 100:\\n    term *= x / n\\n    summation += term\\n    n += 1\\n    if term < 0.0001:\\n        break\\nprint(\"No of Times= {} and Sum= {}\".format(n, summation))',\n",
       " '_i30': '[(x, y) for x in range(5) for y in range(5) if (x+y)%2 == 0 and x != y]',\n",
       " '_i31': '[(x, y) for x in range(5) for y in range(x) if (x+y)%2 == 0]',\n",
       " '_i32': 'n = 25\\n[(x, y, z) for x in range(1, n) for y in range(x, n) for z in range(y, n) if x*x + y*y == z*z]',\n",
       " '_i33': 'zip([1, 2, 3], [\"a\", \"b\", \"c\"])',\n",
       " '_i34': 'def square(x): return x * x\\nmap(square, range(5))',\n",
       " '_i35': 'def square(x): return x * x\\n    map(square, range(5))',\n",
       " '_i36': 'def square(x): return x * x\\nmap(square, range(5))',\n",
       " '_i37': 'def square(x): return x * x\\nprint(map(square, range(5)))',\n",
       " '_i38': 'def square(x): return x * x\\nmap(square, range(5))',\n",
       " '_i39': 'def square(x): return x * x\\nmap(square, [1,2,3,4,5])',\n",
       " '_i4': 'x = float(input(\"Enter the value of x: \"))\\nn = term = num = 1\\nsummation = 1.0\\nwhile n <= 100:\\n    term *= x / n\\n    summation += term\\n    n += 1\\n    if term < 0.0001:\\n        break\\nprint(\"No of Times= {} and Sum= {}\".format(n, summation))',\n",
       " '_i40': 'def square(x): return x * x\\nlist(map(square, [1,2,3,4,5]))',\n",
       " '_i41': \"# Given the list \\nnames = [ 'Bob', 'JOHN', 'alice', 'bob', 'ALICE', 'J', 'Bob' ]\",\n",
       " '_i42': \"# We require the set:\\n{ 'Bob', 'John', 'Alice' }\",\n",
       " '_i43': '{ name[0].upper() + name[1:].lower() for name in names if len(name) > 1 }',\n",
       " '_i44': \"a = {'x': 1, 'y': 2, 'z': 3}\",\n",
       " '_i45': \"a['x']\",\n",
       " '_i46': \"a['z']\",\n",
       " '_i47': \"b = {}\\nb['x'] = 2\\nb[2] = 'foo'\\nb[(1, 2)] = 3\\nb\",\n",
       " '_i48': \"a = {'x': 1, 'y': 2, 'z': 3}\",\n",
       " '_i49': \"a['x']\",\n",
       " '_i5': 'x = float(input(\"Enter the value of x: \"))\\nn = term = num = 1\\nsummation = 1.0\\nwhile n <= 100:\\n    term *= x / n\\n    summation += term\\n    n += 1\\n    if term < 0.0001:\\n        break\\nprint(\"No of Times= {} and Sum= {}\".format(n, summation))',\n",
       " '_i50': \"a['z']\",\n",
       " '_i51': \"b = {}\\nb['x'] = 2\\nb[2] = 'foo'\\nb[(1, 2)] = 3\\nb\",\n",
       " '_i52': \"a = {'x': 1, 'y': 2, 'z': 3}\",\n",
       " '_i53': \"del a['x']\",\n",
       " '_i54': 'a.keys()',\n",
       " '_i55': 'a.values()',\n",
       " '_i56': 'a.items()',\n",
       " '_i57': 'for key in a: print key',\n",
       " '_i58': 'for key, value in a.items(): print key, value',\n",
       " '_i59': 'for key in a: print(key)',\n",
       " '_i6': 'x = float(input(\"Enter the value of x: \"))\\nn = term = num = 1\\nsummation = 1.0\\nwhile n <= 100:\\n    term *= x / n\\n    summation += term\\n    n += 1\\n    if term < 0.0001:\\n        break\\nprint(\"No of Times= {} and Sum= {}\".format(n, summation))',\n",
       " '_i60': 'for key, value in a.items(): print(key, value)',\n",
       " '_i61': \"'x' in a\",\n",
       " '_i62': \"'p' in a\",\n",
       " '_i63': \"a.has_key('x')\",\n",
       " '_i64': \"a.has_key('p')\",\n",
       " '_i65': \"'g' in a.keys()\",\n",
       " '_i66': \"a.has_key('p')\",\n",
       " '_i67': \"d = {'x': 1, 'y': 2, 'z': 3}\",\n",
       " '_i68': \"'x' in a\",\n",
       " '_i69': \"a = {'x': 1, 'y': 2, 'z': 3}\",\n",
       " '_i7': 'while True:\\n    n = int(input(\"Please enter an Integer: \"))\\n    if n < 0:\\n        continue # this will take the execution back to the starting of the loop\\n    elif n == 0:\\n        break\\n    print(\"Square is \", n ** 2)\\nprint(\"Goodbye\")',\n",
       " '_i70': \"del a['x']\",\n",
       " '_i71': 'a.keys()',\n",
       " '_i72': 'a.values()',\n",
       " '_i73': 'a.items()',\n",
       " '_i74': 'for key in a: print(key)',\n",
       " '_i75': 'for key, value in a.items(): print(key, value)',\n",
       " '_i76': \"'x' in a\",\n",
       " '_i77': \"'p' in a\",\n",
       " '_i78': \"'g' in a.keys()\",\n",
       " '_i79': \"d = {'x': 1, 'y': 2, 'z': 3}\",\n",
       " '_i8': 'sticks = 21\\n\\nprint \"There are 21 sticks, you can take 1-4 number of sticks at a time.\"\\nprint \"Whoever will take the last stick will loose\"\\n\\nwhile True:\\n    print \"Sticks left: \" , sticks\\n    sticks_taken = int(input(\"Take sticks(1-4):\"))\\n    if sticks == 1:\\n        print(\"You took the last stick, you loose\")\\n        break\\n    if sticks_taken >= 5 or sticks_taken <= 0:\\n        print(\"Wrong choice\")\\n        continue\\n    print(\"Computer took: \" , (5 - sticks_taken) , \"\\\\n\")\\n    sticks -= 5',\n",
       " '_i80': \"d.get('x', 5)\",\n",
       " '_i81': \"d.get('p', 5)\",\n",
       " '_i82': \"d.setdefault('x', 0)\",\n",
       " '_i83': \"d.setdefault('p', 0)\",\n",
       " '_i84': \"'hello %(name)s' % {'name': 'python'}\",\n",
       " '_i85': \"'Chapter %(index)d: %(name)s' % {'index': 2, 'name': 'Data Structures'}\",\n",
       " '_i86': \"'hello $(name)'.format({'name': 'python'})\",\n",
       " '_i87': \"'hello %(name)'.format({'name': 'python'})\",\n",
       " '_i88': \"'hello %(name)' % {'name': 'python'}\",\n",
       " '_i89': \"'hello %(name)s' % {'name': 'python'}\",\n",
       " '_i9': 'sticks = 21\\n\\nprint \"There are 21 sticks, you can take 1-4 number of sticks at a time.\"\\nprint \"Whoever will take the last stick will loose\"\\n\\nwhile True:\\n    print(\"Sticks left: \" , sticks)\\n    sticks_taken = int(input(\"Take sticks(1-4):\"))\\n    if sticks == 1:\\n        print(\"You took the last stick, you loose\")\\n        break\\n    if sticks_taken >= 5 or sticks_taken <= 0:\\n        print(\"Wrong choice\")\\n        continue\\n    print(\"Computer took: \" , (5 - sticks_taken) , \"\\\\n\")\\n    sticks -= 5',\n",
       " '_i90': \"'Chapter %(index)d: %(name)s' % {'index': 2, 'name': 'Data Structures'}\",\n",
       " '_i91': \"'Tutorial %(index)d: %(name)s' % {'index': 2, 'name': 'Data Structures'}\",\n",
       " '_i92': 'def word_frequency(words):\\n    \"\"\"Returns frequency of each word given a list of words.\\n\\n        >>> word_frequency([\\'a\\', \\'b\\', \\'a\\'])\\n        {\\'a\\': 2, \\'b\\': 1}\\n    \"\"\"\\n    frequency = {}\\n    for w in words:\\n        try:\\n            frequency[w] += 1\\n        except KeyError:\\n            frequency[w] = 1\\n        \\n    return frequency',\n",
       " '_i93': \"# solution('ZnJlcXVlbmN5W3ddID0gZnJlcXVlbmN5LmdldCh3LCAwKSArIDE=')\",\n",
       " '_i94': 'def read_words(filename):\\n    return open(filename).read().split()',\n",
       " '_i95': 'def main(filename):\\n    frequency = word_frequency(read_words(filename))\\n    for word, count in frequency.items():\\n        print word, count\\n        \\n# In a Python Script, you\\'d add this to the bottom to make it run from the command line\\n# while also taking in a single argument referring to the filename.\\n# \\n# if __name__ == \"__main__\":\\n#     import sys\\n#     main(sys.argv[1])',\n",
       " '_i96': 'def main(filename):\\n    frequency = word_frequency(read_words(filename))\\n    for word, count in frequency.items():\\n        print(word, count)\\n        \\n# In a Python Script, you\\'d add this to the bottom to make it run from the command line\\n# while also taking in a single argument referring to the filename.\\n# \\n# if __name__ == \"__main__\":\\n#     import sys\\n#     main(sys.argv[1])',\n",
       " '_i97': \"main('usdeclar.txt')\",\n",
       " '_i98': \"main('http://ohhla.com/anonymous/nwa/straight/straight.nwa.txt')\",\n",
       " '_i99': 'def read_words(filename):\\n    return open(filename).read().split()',\n",
       " '_ih': ['',\n",
       "  'n = 0\\nwhile n < 11:\\n    print(n)\\n    n += 1',\n",
       "  'x = float(input(\"Enter the value of x: \"))\\nn = term = num = 1\\nsum = 1.0\\nwhile n <= 100:\\n    term *= x / n\\n    sum += term\\n    n += 1\\n    if term < 0.0001:\\n        break\\nprint \"No of Times= %d and Sum= %f\" % (n, sum)',\n",
       "  'x = float(input(\"Enter the value of x: \"))\\nn = term = num = 1\\nsummation = 1.0\\nwhile n <= 100:\\n    term *= x / n\\n    summation += term\\n    n += 1\\n    if term < 0.0001:\\n        break\\nprint(\"No of Times= {} and Sum= {}\".format(n, summation))',\n",
       "  'x = float(input(\"Enter the value of x: \"))\\nn = term = num = 1\\nsummation = 1.0\\nwhile n <= 100:\\n    term *= x / n\\n    summation += term\\n    n += 1\\n    if term < 0.0001:\\n        break\\nprint(\"No of Times= {} and Sum= {}\".format(n, summation))',\n",
       "  'x = float(input(\"Enter the value of x: \"))\\nn = term = num = 1\\nsummation = 1.0\\nwhile n <= 100:\\n    term *= x / n\\n    summation += term\\n    n += 1\\n    if term < 0.0001:\\n        break\\nprint(\"No of Times= {} and Sum= {}\".format(n, summation))',\n",
       "  'x = float(input(\"Enter the value of x: \"))\\nn = term = num = 1\\nsummation = 1.0\\nwhile n <= 100:\\n    term *= x / n\\n    summation += term\\n    n += 1\\n    if term < 0.0001:\\n        break\\nprint(\"No of Times= {} and Sum= {}\".format(n, summation))',\n",
       "  'while True:\\n    n = int(input(\"Please enter an Integer: \"))\\n    if n < 0:\\n        continue # this will take the execution back to the starting of the loop\\n    elif n == 0:\\n        break\\n    print(\"Square is \", n ** 2)\\nprint(\"Goodbye\")',\n",
       "  'sticks = 21\\n\\nprint \"There are 21 sticks, you can take 1-4 number of sticks at a time.\"\\nprint \"Whoever will take the last stick will loose\"\\n\\nwhile True:\\n    print \"Sticks left: \" , sticks\\n    sticks_taken = int(input(\"Take sticks(1-4):\"))\\n    if sticks == 1:\\n        print(\"You took the last stick, you loose\")\\n        break\\n    if sticks_taken >= 5 or sticks_taken <= 0:\\n        print(\"Wrong choice\")\\n        continue\\n    print(\"Computer took: \" , (5 - sticks_taken) , \"\\\\n\")\\n    sticks -= 5',\n",
       "  'sticks = 21\\n\\nprint \"There are 21 sticks, you can take 1-4 number of sticks at a time.\"\\nprint \"Whoever will take the last stick will loose\"\\n\\nwhile True:\\n    print(\"Sticks left: \" , sticks)\\n    sticks_taken = int(input(\"Take sticks(1-4):\"))\\n    if sticks == 1:\\n        print(\"You took the last stick, you loose\")\\n        break\\n    if sticks_taken >= 5 or sticks_taken <= 0:\\n        print(\"Wrong choice\")\\n        continue\\n    print(\"Computer took: \" , (5 - sticks_taken) , \"\\\\n\")\\n    sticks -= 5',\n",
       "  'sticks = 21\\n\\nprint(\"There are 21 sticks, you can take 1-4 number of sticks at a time.\")\\nprint(\"Whoever will take the last stick will loose\")\\n\\nwhile True:\\n    print(\"Sticks left: \" , sticks)\\n    sticks_taken = int(input(\"Take sticks(1-4):\"))\\n    if sticks == 1:\\n        print(\"You took the last stick, you loose\")\\n        break\\n    if sticks_taken >= 5 or sticks_taken <= 0:\\n        print(\"Wrong choice\")\\n        continue\\n    print(\"Computer took: \" , (5 - sticks_taken) , \"\\\\n\")\\n    sticks -= 5',\n",
       "  'sticks = 21\\n\\nprint(\"There are 21 sticks, you can take 1-4 number of sticks at a time.\")\\nprint(\"Whoever will take the last stick will loose\")\\n\\nwhile True:\\n    print(\"Sticks left: \" , sticks)\\n    sticks_taken = int(input(\"Take sticks(1-4):\"))\\n    if sticks == 1:\\n        print(\"You took the last stick, you loose\")\\n        break\\n    if sticks_taken >= 5 or sticks_taken <= 0:\\n        print(\"Wrong choice\")\\n        continue\\n    print(\"Computer took: \" , (5 - sticks_taken) , \"\\\\n\")\\n    sticks -= 5',\n",
       "  'sticks = 21\\n\\nprint(\"There are 21 sticks, you can take 1-4 number of sticks at a time.\")\\nprint(\"Whoever will take the last stick will loose\")\\n\\nwhile True:\\n    print(\"Sticks left: \" , sticks)\\n    sticks_taken = int(input(\"Take sticks(1-4):\"))\\n    if sticks == 1:\\n        print(\"You took the last stick, you loose\")\\n        break\\n    if sticks_taken >= 5 or sticks_taken <= 0:\\n        print(\"Wrong choice\")\\n        continue\\n    print(\"Computer took: \" , (5 - sticks_taken) , \"\\\\n\")\\n    sticks -= 5',\n",
       "  'sticks = 21\\n\\nprint(\"There are 21 sticks, you can take 1-4 number of sticks at a time.\")\\nprint(\"Whoever will take the last stick will loose\")\\n\\nwhile True:\\n    print(\"Sticks left: \" , sticks)\\n    sticks_taken = int(input(\"Take sticks(1-4):\"))\\n    if sticks == 1:\\n        print(\"You took the last stick, you loose\")\\n        break\\n    if sticks_taken >= 5 or sticks_taken <= 0:\\n        print(\"Wrong choice\")\\n        continue\\n    print(\"Computer took: \" , (5 - sticks_taken) , \"\\\\n\")\\n    sticks -= 5',\n",
       "  'sticks = 21\\n\\nprint(\"There are 21 sticks, you can take 1-4 number of sticks at a time.\")\\nprint(\"Whoever will take the last stick will loose\")\\n\\nwhile True:\\n    print(\"Sticks left: \" , sticks)\\n    sticks_taken = int(input(\"Take sticks(1-4):\"))\\n    if sticks == 1:\\n        print(\"You took the last stick, you loose\")\\n        break\\n    if sticks_taken >= 5 or sticks_taken <= 0:\\n        print(\"Wrong choice\")\\n        continue\\n    print(\"Computer took: \" , (5 - sticks_taken) , \"\\\\n\")\\n    sticks -= 5',\n",
       "  'sticks = 21\\n\\nprint(\"There are 21 sticks, you can take 1-4 number of sticks at a time.\")\\nprint(\"Whoever will take the last stick will loose\")\\n\\nwhile True:\\n    print(\"Sticks left: \" , sticks)\\n    sticks_taken = int(input(\"Take sticks(1-4):\"))\\n    if sticks == 1:\\n        print(\"You took the last stick, you loose\")\\n        break\\n    if sticks_taken >= 5 or sticks_taken <= 0:\\n        print(\"Wrong choice\")\\n        continue\\n    print(\"Computer took: \" , (5 - sticks_taken) , \"\\\\n\")\\n    sticks -= 5',\n",
       "  'sticks = 21\\n\\nprint(\"There are 21 sticks, you can take 1-4 number of sticks at a time.\")\\nprint(\"Whoever will take the last stick will loose\")\\n\\nwhile True:\\n    print(\"Sticks left: \" , sticks)\\n    sticks_taken = int(input(\"Take sticks(1-4):\"))\\n    if sticks == 1:\\n        print(\"You took the last stick, you loose\")\\n        break\\n    if sticks_taken >= 5 or sticks_taken <= 0:\\n        print(\"Wrong choice\")\\n        continue\\n    print(\"Computer took: \" , (5 - sticks_taken) , \"\\\\n\")\\n    sticks -= 5',\n",
       "  'sticks = 21\\n\\nprint(\"There are 21 sticks, you can take 1-4 number of sticks at a time.\")\\nprint(\"Whoever will take the last stick will loose\")\\n\\nwhile True:\\n    print(\"Sticks left: \" , sticks)\\n    sticks_taken = int(input(\"Take sticks(1-4):\"))\\n    if sticks == 1:\\n        print(\"You took the last stick, you loose\")\\n        break\\n    if sticks_taken >= 5 or sticks_taken <= 0:\\n        print(\"Wrong choice\")\\n        continue\\n    print(\"Computer took: \" , (5 - sticks_taken) , \"\\\\n\")\\n    sticks -= 5',\n",
       "  'sticks = 21\\n\\nprint(\"There are 21 sticks, you can take 1-4 number of sticks at a time.\")\\nprint(\"Whoever will take the last stick will loose\")\\n\\nwhile True:\\n    print(\"Sticks left: \" , sticks)\\n    sticks_taken = int(input(\"Take sticks(1-4):\"))\\n    if sticks == 1:\\n        print(\"You took the last stick, you loose\")\\n        break\\n    if sticks_taken >= 5 or sticks_taken <= 0:\\n        print(\"Wrong choice\")\\n        continue\\n    print(\"Computer took: \" , (5 - sticks_taken) , \"\\\\n\")\\n    sticks -= 5',\n",
       "  'sticks = 21\\n\\nprint(\"There are 21 sticks, you can take 1-4 number of sticks at a time.\")\\nprint(\"Whoever will take the last stick will loose\")\\n\\nwhile True:\\n    print(\"Sticks left: \" , sticks)\\n    sticks_taken = int(input(\"Take sticks(1-4):\"))\\n    if sticks == 1:\\n        print(\"You took the last stick, you loose\")\\n        break\\n    if sticks_taken >= 5 or sticks_taken <= 0:\\n        print(\"Wrong choice\")\\n        continue\\n    print(\"Computer took: \" , (5 - sticks_taken) , \"\\\\n\")\\n    sticks -= 5',\n",
       "  'a = range(10)',\n",
       "  'a',\n",
       "  '[x for x in a]',\n",
       "  '[x+1 for x in a]',\n",
       "  'a = range(10)',\n",
       "  '[x for x in a if x % 2 == 0]',\n",
       "  '[x*x for x in a if x%2 == 0]',\n",
       "  'a = [1, 2, 3, 4]\\nb = [2, 3, 5, 7]\\nzip(a, b)',\n",
       "  '[x+y for x, y in zip(a, b)]',\n",
       "  '[(x, y) for x in range(5) for y in range(5) if (x+y)%2 == 0]',\n",
       "  '[(x, y) for x in range(5) for y in range(5) if (x+y)%2 == 0 and x != y]',\n",
       "  '[(x, y) for x in range(5) for y in range(x) if (x+y)%2 == 0]',\n",
       "  'n = 25\\n[(x, y, z) for x in range(1, n) for y in range(x, n) for z in range(y, n) if x*x + y*y == z*z]',\n",
       "  'zip([1, 2, 3], [\"a\", \"b\", \"c\"])',\n",
       "  'def square(x): return x * x\\nmap(square, range(5))',\n",
       "  'def square(x): return x * x\\n    map(square, range(5))',\n",
       "  'def square(x): return x * x\\nmap(square, range(5))',\n",
       "  'def square(x): return x * x\\nprint(map(square, range(5)))',\n",
       "  'def square(x): return x * x\\nmap(square, range(5))',\n",
       "  'def square(x): return x * x\\nmap(square, [1,2,3,4,5])',\n",
       "  'def square(x): return x * x\\nlist(map(square, [1,2,3,4,5]))',\n",
       "  \"# Given the list \\nnames = [ 'Bob', 'JOHN', 'alice', 'bob', 'ALICE', 'J', 'Bob' ]\",\n",
       "  \"# We require the set:\\n{ 'Bob', 'John', 'Alice' }\",\n",
       "  '{ name[0].upper() + name[1:].lower() for name in names if len(name) > 1 }',\n",
       "  \"a = {'x': 1, 'y': 2, 'z': 3}\",\n",
       "  \"a['x']\",\n",
       "  \"a['z']\",\n",
       "  \"b = {}\\nb['x'] = 2\\nb[2] = 'foo'\\nb[(1, 2)] = 3\\nb\",\n",
       "  \"a = {'x': 1, 'y': 2, 'z': 3}\",\n",
       "  \"a['x']\",\n",
       "  \"a['z']\",\n",
       "  \"b = {}\\nb['x'] = 2\\nb[2] = 'foo'\\nb[(1, 2)] = 3\\nb\",\n",
       "  \"a = {'x': 1, 'y': 2, 'z': 3}\",\n",
       "  \"del a['x']\",\n",
       "  'a.keys()',\n",
       "  'a.values()',\n",
       "  'a.items()',\n",
       "  'for key in a: print key',\n",
       "  'for key, value in a.items(): print key, value',\n",
       "  'for key in a: print(key)',\n",
       "  'for key, value in a.items(): print(key, value)',\n",
       "  \"'x' in a\",\n",
       "  \"'p' in a\",\n",
       "  \"a.has_key('x')\",\n",
       "  \"a.has_key('p')\",\n",
       "  \"'g' in a.keys()\",\n",
       "  \"a.has_key('p')\",\n",
       "  \"d = {'x': 1, 'y': 2, 'z': 3}\",\n",
       "  \"'x' in a\",\n",
       "  \"a = {'x': 1, 'y': 2, 'z': 3}\",\n",
       "  \"del a['x']\",\n",
       "  'a.keys()',\n",
       "  'a.values()',\n",
       "  'a.items()',\n",
       "  'for key in a: print(key)',\n",
       "  'for key, value in a.items(): print(key, value)',\n",
       "  \"'x' in a\",\n",
       "  \"'p' in a\",\n",
       "  \"'g' in a.keys()\",\n",
       "  \"d = {'x': 1, 'y': 2, 'z': 3}\",\n",
       "  \"d.get('x', 5)\",\n",
       "  \"d.get('p', 5)\",\n",
       "  \"d.setdefault('x', 0)\",\n",
       "  \"d.setdefault('p', 0)\",\n",
       "  \"'hello %(name)s' % {'name': 'python'}\",\n",
       "  \"'Chapter %(index)d: %(name)s' % {'index': 2, 'name': 'Data Structures'}\",\n",
       "  \"'hello $(name)'.format({'name': 'python'})\",\n",
       "  \"'hello %(name)'.format({'name': 'python'})\",\n",
       "  \"'hello %(name)' % {'name': 'python'}\",\n",
       "  \"'hello %(name)s' % {'name': 'python'}\",\n",
       "  \"'Chapter %(index)d: %(name)s' % {'index': 2, 'name': 'Data Structures'}\",\n",
       "  \"'Tutorial %(index)d: %(name)s' % {'index': 2, 'name': 'Data Structures'}\",\n",
       "  'def word_frequency(words):\\n    \"\"\"Returns frequency of each word given a list of words.\\n\\n        >>> word_frequency([\\'a\\', \\'b\\', \\'a\\'])\\n        {\\'a\\': 2, \\'b\\': 1}\\n    \"\"\"\\n    frequency = {}\\n    for w in words:\\n        try:\\n            frequency[w] += 1\\n        except KeyError:\\n            frequency[w] = 1\\n        \\n    return frequency',\n",
       "  \"# solution('ZnJlcXVlbmN5W3ddID0gZnJlcXVlbmN5LmdldCh3LCAwKSArIDE=')\",\n",
       "  'def read_words(filename):\\n    return open(filename).read().split()',\n",
       "  'def main(filename):\\n    frequency = word_frequency(read_words(filename))\\n    for word, count in frequency.items():\\n        print word, count\\n        \\n# In a Python Script, you\\'d add this to the bottom to make it run from the command line\\n# while also taking in a single argument referring to the filename.\\n# \\n# if __name__ == \"__main__\":\\n#     import sys\\n#     main(sys.argv[1])',\n",
       "  'def main(filename):\\n    frequency = word_frequency(read_words(filename))\\n    for word, count in frequency.items():\\n        print(word, count)\\n        \\n# In a Python Script, you\\'d add this to the bottom to make it run from the command line\\n# while also taking in a single argument referring to the filename.\\n# \\n# if __name__ == \"__main__\":\\n#     import sys\\n#     main(sys.argv[1])',\n",
       "  \"main('usdeclar.txt')\",\n",
       "  \"main('http://ohhla.com/anonymous/nwa/straight/straight.nwa.txt')\",\n",
       "  'def read_words(filename):\\n    return open(filename).read().split()',\n",
       "  'def main(filename):\\n    frequency = word_frequency(read_words(filename))\\n    for word, count in frequency.items():\\n        print(word, count)\\n        \\n# In a Python Script, you\\'d add this to the bottom to make it run from the command line\\n# while also taking in a single argument referring to the filename.\\n# \\n# if __name__ == \"__main__\":\\n#     import sys\\n#     main(sys.argv[1])',\n",
       "  \"main('files/straight.nwa.txt')\",\n",
       "  \"main('files/straight_outta_compton.txt')\",\n",
       "  'def main(filename):\\n    frequency = word_frequency(read_words(filename))\\n    for word, count in frequency.items():\\n        print(word.lower(), count)\\n        \\n# In a Python Script, you\\'d add this to the bottom to make it run from the command line\\n# while also taking in a single argument referring to the filename.\\n# \\n# if __name__ == \"__main__\":\\n#     import sys\\n#     main(sys.argv[1])',\n",
       "  \"main('files/straight_outta_compton.txt')\",\n",
       "  \"mcase = {'a':10, 'b': 34, 'A': 7, 'Z':3}\\n\\nmcase_frequency = { k.lower() : mcase.get(k.lower(), 0) + mcase.get(k.upper(), 0) for k in mcase.keys() }\\n\\n# mcase_frequency == {'a': 17, 'z': 3, 'b': 34}\",\n",
       "  \"a_dict = {'a': 1, 'b': 2, 'c': 3}\\n{value:key for key, value in a_dict.items()}\",\n",
       "  \"a_dict = {'a': [1, 2, 3], 'b': 4, 'c': 5}\",\n",
       "  '# {value:key for key, value in a_dict.items()}',\n",
       "  'import collections',\n",
       "  \"from collections import Counter\\nimport re\\npath = 'usdeclar.txt'\\n# let's be a bit more precise about what we mean by 'words'\\nwords = re.findall('\\\\w+', open(path).read().lower())\\nCounter(words).most_common(10)\",\n",
       "  \"from collections import Counter\\nimport re\\npath = 'files/straight_outta_compton.txt'\\n# let's be a bit more precise about what we mean by 'words'\\nwords = re.findall('\\\\w+', open(path).read().lower())\\nCounter(words).most_common(10)\",\n",
       "  '# dir(Counter)',\n",
       "  \"[n for n in dir(Counter) if '__' not in n]\",\n",
       "  \"from collections import Counter\\nimport re\\npath = 'files/straight_outta_compton.txt'\\n# let's be a bit more precise about what we mean by 'words'\\nwords = re.findall('\\\\w+', open(path).read().lower())\\nCounter(words).most_common(10)\",\n",
       "  '# dir(Counter)',\n",
       "  \"[n for n in dir(Counter) if '__' not in n]\",\n",
       "  'c = Counter(a=4, b=2, c=0, d=-2)',\n",
       "  'list(c.elements())',\n",
       "  \"Counter('abracadabra').most_common(3)\",\n",
       "  'def word_frequency(words):\\n    frequency = {}\\n    for w in words:\\n        try:\\n            frequency[w] += 1\\n        except KeyError:\\n            frequency[w] = 1',\n",
       "  'from collections import defaultdict\\n\\ndef word_frequency(words):\\n    frequency = defaultdict(int)\\n    for w in words:\\n        frequency[w] += 1',\n",
       "  \"from collections import namedtuple\\n\\nPoint = namedtuple('Point', ['x', 'y'])\\np = Point(10, y=20)\\np\",\n",
       "  'Point(x=10, y=20)\\np.x + p.y',\n",
       "  'p[0] + p[1]  # Accessing the values in normal way',\n",
       "  'x, y = p     # Unpacking the tuple\\nx',\n",
       "  'y',\n",
       "  'globals()'],\n",
       " '_ii': 'x, y = p     # Unpacking the tuple\\nx',\n",
       " '_iii': 'p[0] + p[1]  # Accessing the values in normal way',\n",
       " '_oh': {21: range(0, 10),\n",
       "  22: [0, 1, 2, 3, 4, 5, 6, 7, 8, 9],\n",
       "  23: [1, 2, 3, 4, 5, 6, 7, 8, 9, 10],\n",
       "  25: [0, 2, 4, 6, 8],\n",
       "  26: [0, 4, 16, 36, 64],\n",
       "  27: <zip at 0x7f8bbefac148>,\n",
       "  28: [3, 5, 8, 11],\n",
       "  29: [(0, 0),\n",
       "   (0, 2),\n",
       "   (0, 4),\n",
       "   (1, 1),\n",
       "   (1, 3),\n",
       "   (2, 0),\n",
       "   (2, 2),\n",
       "   (2, 4),\n",
       "   (3, 1),\n",
       "   (3, 3),\n",
       "   (4, 0),\n",
       "   (4, 2),\n",
       "   (4, 4)],\n",
       "  30: [(0, 2), (0, 4), (1, 3), (2, 0), (2, 4), (3, 1), (4, 0), (4, 2)],\n",
       "  31: [(2, 0), (3, 1), (4, 0), (4, 2)],\n",
       "  32: [(3, 4, 5),\n",
       "   (5, 12, 13),\n",
       "   (6, 8, 10),\n",
       "   (8, 15, 17),\n",
       "   (9, 12, 15),\n",
       "   (12, 16, 20)],\n",
       "  33: <zip at 0x7f8bbefb3ec8>,\n",
       "  34: <map at 0x7f8bbefb7c50>,\n",
       "  36: <map at 0x7f8bbef47630>,\n",
       "  38: <map at 0x7f8bbef47160>,\n",
       "  39: <map at 0x7f8bbef47c50>,\n",
       "  40: [1, 4, 9, 16, 25],\n",
       "  42: {'Alice', 'Bob', 'John'},\n",
       "  43: {'Alice', 'Bob', 'John'},\n",
       "  45: 1,\n",
       "  46: 3,\n",
       "  47: {'x': 2, 2: 'foo', (1, 2): 3},\n",
       "  49: 1,\n",
       "  50: 3,\n",
       "  51: {'x': 2, 2: 'foo', (1, 2): 3},\n",
       "  54: dict_keys(['y', 'z']),\n",
       "  55: dict_values([2, 3]),\n",
       "  56: dict_items([('y', 2), ('z', 3)]),\n",
       "  61: False,\n",
       "  62: False,\n",
       "  65: False,\n",
       "  68: False,\n",
       "  71: dict_keys(['y', 'z']),\n",
       "  72: dict_values([2, 3]),\n",
       "  73: dict_items([('y', 2), ('z', 3)]),\n",
       "  76: False,\n",
       "  77: False,\n",
       "  78: False,\n",
       "  80: 1,\n",
       "  81: 5,\n",
       "  82: 1,\n",
       "  83: 0,\n",
       "  84: 'hello python',\n",
       "  85: 'Chapter 2: Data Structures',\n",
       "  86: 'hello $(name)',\n",
       "  87: 'hello %(name)',\n",
       "  89: 'hello python',\n",
       "  90: 'Chapter 2: Data Structures',\n",
       "  91: 'Tutorial 2: Data Structures',\n",
       "  106: {1: 'a', 2: 'b', 3: 'c'},\n",
       "  111: [('a', 38),\n",
       "   ('i', 37),\n",
       "   ('the', 36),\n",
       "   ('you', 17),\n",
       "   ('m', 16),\n",
       "   ('and', 15),\n",
       "   ('compton', 12),\n",
       "   ('that', 12),\n",
       "   ('is', 12),\n",
       "   ('of', 11)],\n",
       "  113: ['_keep_positive',\n",
       "   'clear',\n",
       "   'copy',\n",
       "   'elements',\n",
       "   'fromkeys',\n",
       "   'get',\n",
       "   'items',\n",
       "   'keys',\n",
       "   'most_common',\n",
       "   'pop',\n",
       "   'popitem',\n",
       "   'setdefault',\n",
       "   'subtract',\n",
       "   'update',\n",
       "   'values'],\n",
       "  114: [('a', 38),\n",
       "   ('i', 37),\n",
       "   ('the', 36),\n",
       "   ('you', 17),\n",
       "   ('m', 16),\n",
       "   ('and', 15),\n",
       "   ('compton', 12),\n",
       "   ('that', 12),\n",
       "   ('is', 12),\n",
       "   ('of', 11)],\n",
       "  116: ['_keep_positive',\n",
       "   'clear',\n",
       "   'copy',\n",
       "   'elements',\n",
       "   'fromkeys',\n",
       "   'get',\n",
       "   'items',\n",
       "   'keys',\n",
       "   'most_common',\n",
       "   'pop',\n",
       "   'popitem',\n",
       "   'setdefault',\n",
       "   'subtract',\n",
       "   'update',\n",
       "   'values'],\n",
       "  118: ['a', 'a', 'a', 'a', 'b', 'b'],\n",
       "  119: [('a', 5), ('b', 2), ('r', 2)],\n",
       "  122: Point(x=10, y=20),\n",
       "  123: 30,\n",
       "  124: 30,\n",
       "  125: 10,\n",
       "  126: 20},\n",
       " '_sh': <module 'IPython.core.shadowns' from '/home/shivam/anaconda3/lib/python3.6/site-packages/IPython/core/shadowns.py'>,\n",
       " 'a': {'y': 2, 'z': 3},\n",
       " 'a_dict': {'a': [1, 2, 3], 'b': 4, 'c': 5},\n",
       " 'b': {'x': 2, 2: 'foo', (1, 2): 3},\n",
       " 'c': Counter({'a': 4, 'b': 2, 'c': 0, 'd': -2}),\n",
       " 'collections': <module 'collections' from '/home/shivam/anaconda3/lib/python3.6/collections/__init__.py'>,\n",
       " 'd': {'p': 0, 'x': 1, 'y': 2, 'z': 3},\n",
       " 'defaultdict': collections.defaultdict,\n",
       " 'exit': <IPython.core.autocall.ZMQExitAutocall at 0x7f8bce13e780>,\n",
       " 'get_ipython': <bound method InteractiveShell.get_ipython of <ipykernel.zmqshell.ZMQInteractiveShell object at 0x7f8bd73e2d30>>,\n",
       " 'key': 'z',\n",
       " 'main': <function __main__.main>,\n",
       " 'mcase': {'A': 7, 'Z': 3, 'a': 10, 'b': 34},\n",
       " 'mcase_frequency': {'a': 17, 'b': 34, 'z': 3},\n",
       " 'n': 25,\n",
       " 'namedtuple': <function collections.namedtuple>,\n",
       " 'names': ['Bob', 'JOHN', 'alice', 'bob', 'ALICE', 'J', 'Bob'],\n",
       " 'num': 1,\n",
       " 'p': Point(x=10, y=20),\n",
       " 'path': 'files/straight_outta_compton.txt',\n",
       " 'quit': <IPython.core.autocall.ZMQExitAutocall at 0x7f8bce13e780>,\n",
       " 're': <module 're' from '/home/shivam/anaconda3/lib/python3.6/re.py'>,\n",
       " 'read_words': <function __main__.read_words>,\n",
       " 'square': <function __main__.square>,\n",
       " 'sticks': 1,\n",
       " 'sticks_taken': 1,\n",
       " 'summation': 2.71827876984127,\n",
       " 'term': 2.4801587301587298e-05,\n",
       " 'value': 3,\n",
       " 'word_frequency': <function __main__.word_frequency>,\n",
       " 'words': ['you',\n",
       "  'are',\n",
       "  'now',\n",
       "  'about',\n",
       "  'to',\n",
       "  'witness',\n",
       "  'the',\n",
       "  'strength',\n",
       "  'of',\n",
       "  'street',\n",
       "  'knowledge',\n",
       "  'verse',\n",
       "  'one',\n",
       "  'ice',\n",
       "  'cube',\n",
       "  'straight',\n",
       "  'outta',\n",
       "  'compton',\n",
       "  'crazy',\n",
       "  'motherfucker',\n",
       "  'named',\n",
       "  'ice',\n",
       "  'cube',\n",
       "  'from',\n",
       "  'the',\n",
       "  'gang',\n",
       "  'called',\n",
       "  'niggaz',\n",
       "  'with',\n",
       "  'attitudes',\n",
       "  'when',\n",
       "  'i',\n",
       "  'm',\n",
       "  'called',\n",
       "  'off',\n",
       "  'i',\n",
       "  'got',\n",
       "  'a',\n",
       "  'sawed',\n",
       "  'off',\n",
       "  'squeeze',\n",
       "  'the',\n",
       "  'trigger',\n",
       "  'and',\n",
       "  'bodies',\n",
       "  'are',\n",
       "  'hauled',\n",
       "  'off',\n",
       "  'you',\n",
       "  'too',\n",
       "  'boy',\n",
       "  'if',\n",
       "  'ya',\n",
       "  'fuck',\n",
       "  'with',\n",
       "  'me',\n",
       "  'the',\n",
       "  'police',\n",
       "  'are',\n",
       "  'gonna',\n",
       "  'hafta',\n",
       "  'come',\n",
       "  'and',\n",
       "  'get',\n",
       "  'me',\n",
       "  'off',\n",
       "  'yo',\n",
       "  'ass',\n",
       "  'that',\n",
       "  's',\n",
       "  'how',\n",
       "  'i',\n",
       "  'm',\n",
       "  'goin',\n",
       "  'out',\n",
       "  'for',\n",
       "  'the',\n",
       "  'punk',\n",
       "  'motherfuckers',\n",
       "  'that',\n",
       "  's',\n",
       "  'showin',\n",
       "  'out',\n",
       "  'niggaz',\n",
       "  'start',\n",
       "  'to',\n",
       "  'mumble',\n",
       "  'they',\n",
       "  'wanna',\n",
       "  'rumble',\n",
       "  'mix',\n",
       "  'em',\n",
       "  'and',\n",
       "  'cook',\n",
       "  'em',\n",
       "  'in',\n",
       "  'a',\n",
       "  'pot',\n",
       "  'like',\n",
       "  'gumbo',\n",
       "  'goin',\n",
       "  'off',\n",
       "  'on',\n",
       "  'a',\n",
       "  'motherfucker',\n",
       "  'like',\n",
       "  'that',\n",
       "  'with',\n",
       "  'a',\n",
       "  'gat',\n",
       "  'that',\n",
       "  's',\n",
       "  'pointed',\n",
       "  'at',\n",
       "  'yo',\n",
       "  'ass',\n",
       "  'so',\n",
       "  'give',\n",
       "  'it',\n",
       "  'up',\n",
       "  'smooth',\n",
       "  'ain',\n",
       "  't',\n",
       "  'no',\n",
       "  'tellin',\n",
       "  'when',\n",
       "  'i',\n",
       "  'm',\n",
       "  'down',\n",
       "  'for',\n",
       "  'a',\n",
       "  'jack',\n",
       "  'move',\n",
       "  'here',\n",
       "  's',\n",
       "  'a',\n",
       "  'murder',\n",
       "  'rap',\n",
       "  'to',\n",
       "  'keep',\n",
       "  'yo',\n",
       "  'dancin',\n",
       "  'with',\n",
       "  'a',\n",
       "  'crime',\n",
       "  'record',\n",
       "  'like',\n",
       "  'charles',\n",
       "  'manson',\n",
       "  'ak',\n",
       "  '47',\n",
       "  'is',\n",
       "  'the',\n",
       "  'tool',\n",
       "  'don',\n",
       "  't',\n",
       "  'make',\n",
       "  'me',\n",
       "  'act',\n",
       "  'the',\n",
       "  'motherfuckin',\n",
       "  'fool',\n",
       "  'me',\n",
       "  'you',\n",
       "  'can',\n",
       "  'go',\n",
       "  'toe',\n",
       "  'to',\n",
       "  'toe',\n",
       "  'no',\n",
       "  'maybe',\n",
       "  'i',\n",
       "  'm',\n",
       "  'knockin',\n",
       "  'niggaz',\n",
       "  'out',\n",
       "  'tha',\n",
       "  'box',\n",
       "  'daily',\n",
       "  'yo',\n",
       "  'weekly',\n",
       "  'monthly',\n",
       "  'and',\n",
       "  'yearly',\n",
       "  'until',\n",
       "  'them',\n",
       "  'dumb',\n",
       "  'motherfuckers',\n",
       "  'see',\n",
       "  'clearly',\n",
       "  'that',\n",
       "  'i',\n",
       "  'm',\n",
       "  'down',\n",
       "  'with',\n",
       "  'the',\n",
       "  'capital',\n",
       "  'c',\n",
       "  'p',\n",
       "  't',\n",
       "  'boy',\n",
       "  'you',\n",
       "  'can',\n",
       "  't',\n",
       "  'fuck',\n",
       "  'with',\n",
       "  'me',\n",
       "  'so',\n",
       "  'when',\n",
       "  'i',\n",
       "  'm',\n",
       "  'in',\n",
       "  'your',\n",
       "  'neighborhood',\n",
       "  'you',\n",
       "  'better',\n",
       "  'duck',\n",
       "  'coz',\n",
       "  'ice',\n",
       "  'cube',\n",
       "  'is',\n",
       "  'crazy',\n",
       "  'as',\n",
       "  'fuck',\n",
       "  'as',\n",
       "  'i',\n",
       "  'leave',\n",
       "  'believe',\n",
       "  'i',\n",
       "  'm',\n",
       "  'stompin',\n",
       "  'but',\n",
       "  'when',\n",
       "  'i',\n",
       "  'come',\n",
       "  'back',\n",
       "  'boy',\n",
       "  'i',\n",
       "  'm',\n",
       "  'comin',\n",
       "  'straight',\n",
       "  'outta',\n",
       "  'compton',\n",
       "  'chorus',\n",
       "  'city',\n",
       "  'of',\n",
       "  'compton',\n",
       "  'city',\n",
       "  'of',\n",
       "  'compton',\n",
       "  'eazy',\n",
       "  'e',\n",
       "  'yo',\n",
       "  'ren',\n",
       "  'mc',\n",
       "  'ren',\n",
       "  'whassup',\n",
       "  'eazy',\n",
       "  'e',\n",
       "  'tell',\n",
       "  'em',\n",
       "  'where',\n",
       "  'you',\n",
       "  'from',\n",
       "  'verse',\n",
       "  'two',\n",
       "  'mc',\n",
       "  'ren',\n",
       "  'straight',\n",
       "  'outta',\n",
       "  'compton',\n",
       "  'another',\n",
       "  'crazy',\n",
       "  'ass',\n",
       "  'nigga',\n",
       "  'more',\n",
       "  'punks',\n",
       "  'i',\n",
       "  'smoke',\n",
       "  'yo',\n",
       "  'my',\n",
       "  'rep',\n",
       "  'gets',\n",
       "  'bigger',\n",
       "  'i',\n",
       "  'm',\n",
       "  'a',\n",
       "  'bad',\n",
       "  'motherfucker',\n",
       "  'and',\n",
       "  'you',\n",
       "  'know',\n",
       "  'this',\n",
       "  'but',\n",
       "  'the',\n",
       "  'pussy',\n",
       "  'ass',\n",
       "  'niggaz',\n",
       "  'don',\n",
       "  't',\n",
       "  'show',\n",
       "  'this',\n",
       "  'but',\n",
       "  'i',\n",
       "  'don',\n",
       "  't',\n",
       "  'give',\n",
       "  'a',\n",
       "  'fuck',\n",
       "  'i',\n",
       "  'ma',\n",
       "  'make',\n",
       "  'my',\n",
       "  'snaps',\n",
       "  'if',\n",
       "  'not',\n",
       "  'from',\n",
       "  'the',\n",
       "  'records',\n",
       "  'from',\n",
       "  'jackin',\n",
       "  'the',\n",
       "  'crops',\n",
       "  'just',\n",
       "  'like',\n",
       "  'burglary',\n",
       "  'the',\n",
       "  'definition',\n",
       "  'is',\n",
       "  'jackin',\n",
       "  'and',\n",
       "  'when',\n",
       "  'illegally',\n",
       "  'armed',\n",
       "  'it',\n",
       "  's',\n",
       "  'called',\n",
       "  'packin',\n",
       "  'shoot',\n",
       "  'a',\n",
       "  'motherfucker',\n",
       "  'in',\n",
       "  'a',\n",
       "  'minute',\n",
       "  'i',\n",
       "  'find',\n",
       "  'a',\n",
       "  'good',\n",
       "  'piece',\n",
       "  'o',\n",
       "  'pussy',\n",
       "  'i',\n",
       "  'go',\n",
       "  'up',\n",
       "  'in',\n",
       "  'it',\n",
       "  'so',\n",
       "  'if',\n",
       "  'you',\n",
       "  're',\n",
       "  'at',\n",
       "  'a',\n",
       "  'show',\n",
       "  'in',\n",
       "  'the',\n",
       "  'front',\n",
       "  'row',\n",
       "  'i',\n",
       "  'm',\n",
       "  'a',\n",
       "  'call',\n",
       "  'you',\n",
       "  'a',\n",
       "  'bitch',\n",
       "  'or',\n",
       "  'dirty',\n",
       "  'ass',\n",
       "  'ho',\n",
       "  'you',\n",
       "  'll',\n",
       "  'probably',\n",
       "  'get',\n",
       "  'mad',\n",
       "  'like',\n",
       "  'a',\n",
       "  'bitch',\n",
       "  'is',\n",
       "  'supposed',\n",
       "  'to',\n",
       "  'but',\n",
       "  'that',\n",
       "  'shows',\n",
       "  'me',\n",
       "  'slut',\n",
       "  'you',\n",
       "  're',\n",
       "  'composed',\n",
       "  'to',\n",
       "  'a',\n",
       "  'crazy',\n",
       "  'muthafucker',\n",
       "  'from',\n",
       "  'tha',\n",
       "  'street',\n",
       "  'attitude',\n",
       "  'legit',\n",
       "  'cause',\n",
       "  'i',\n",
       "  'm',\n",
       "  'tearin',\n",
       "  'up',\n",
       "  'shit',\n",
       "  'mc',\n",
       "  'ren',\n",
       "  'controls',\n",
       "  'the',\n",
       "  'automatic',\n",
       "  'for',\n",
       "  'any',\n",
       "  'dumb',\n",
       "  'muthafucker',\n",
       "  'that',\n",
       "  'starts',\n",
       "  'static',\n",
       "  'not',\n",
       "  'the',\n",
       "  'right',\n",
       "  'hand',\n",
       "  'cause',\n",
       "  'i',\n",
       "  'm',\n",
       "  'the',\n",
       "  'hand',\n",
       "  'itself',\n",
       "  'every',\n",
       "  'time',\n",
       "  'i',\n",
       "  'pull',\n",
       "  'a',\n",
       "  'ak',\n",
       "  'off',\n",
       "  'the',\n",
       "  'shelf',\n",
       "  'the',\n",
       "  'security',\n",
       "  'is',\n",
       "  'maximum',\n",
       "  'and',\n",
       "  'that',\n",
       "  's',\n",
       "  'a',\n",
       "  'law',\n",
       "  'r',\n",
       "  'e',\n",
       "  'n',\n",
       "  'spells',\n",
       "  'ren',\n",
       "  'but',\n",
       "  'i',\n",
       "  'm',\n",
       "  'raw',\n",
       "  'see',\n",
       "  'coz',\n",
       "  'i',\n",
       "  'm',\n",
       "  'the',\n",
       "  'motherfuckin',\n",
       "  'villain',\n",
       "  'the',\n",
       "  'definition',\n",
       "  'is',\n",
       "  'clear',\n",
       "  'you',\n",
       "  're',\n",
       "  'the',\n",
       "  'witness',\n",
       "  'of',\n",
       "  'a',\n",
       "  'killin',\n",
       "  'that',\n",
       "  's',\n",
       "  'takin',\n",
       "  'place',\n",
       "  'without',\n",
       "  'a',\n",
       "  'clue',\n",
       "  'and',\n",
       "  'once',\n",
       "  'you',\n",
       "  're',\n",
       "  'on',\n",
       "  'the',\n",
       "  'scope',\n",
       "  'your',\n",
       "  'ass',\n",
       "  'is',\n",
       "  'through',\n",
       "  'look',\n",
       "  'you',\n",
       "  'might',\n",
       "  'take',\n",
       "  'it',\n",
       "  'as',\n",
       "  'a',\n",
       "  'trip',\n",
       "  'but',\n",
       "  'a',\n",
       "  'nigga',\n",
       "  'like',\n",
       "  'ren',\n",
       "  'is',\n",
       "  'on',\n",
       "  'a',\n",
       "  'gangsta',\n",
       "  'tip',\n",
       "  'straight',\n",
       "  'outta',\n",
       "  'compton',\n",
       "  'chorus',\n",
       "  'city',\n",
       "  'of',\n",
       "  'compton',\n",
       "  'city',\n",
       "  'of',\n",
       "  'compton',\n",
       "  'dr',\n",
       "  'dre',\n",
       "  'eazy',\n",
       "  'is',\n",
       "  'his',\n",
       "  'name',\n",
       "  'and',\n",
       "  'the',\n",
       "  'boy',\n",
       "  'is',\n",
       "  'comin',\n",
       "  'verse',\n",
       "  'three',\n",
       "  'eazy',\n",
       "  'e',\n",
       "  'straight',\n",
       "  'outta',\n",
       "  'compton',\n",
       "  'is',\n",
       "  'a',\n",
       "  'brotha',\n",
       "  'that',\n",
       "  'll',\n",
       "  'smother',\n",
       "  'yo',\n",
       "  'mother',\n",
       "  'and',\n",
       "  'make',\n",
       "  'ya',\n",
       "  'sister',\n",
       "  'think',\n",
       "  'i',\n",
       "  'love',\n",
       "  'her',\n",
       "  'dangerous',\n",
       "  'motherfucker',\n",
       "  'raises',\n",
       "  'hell',\n",
       "  'and',\n",
       "  'if',\n",
       "  'i',\n",
       "  'ever',\n",
       "  'get',\n",
       "  'caught',\n",
       "  'i',\n",
       "  'make',\n",
       "  'bail',\n",
       "  'see',\n",
       "  'i',\n",
       "  'don',\n",
       "  't',\n",
       "  'give',\n",
       "  'a',\n",
       "  'fuck',\n",
       "  'that',\n",
       "  's',\n",
       "  'the',\n",
       "  'problem',\n",
       "  'i',\n",
       "  'see',\n",
       "  'a',\n",
       "  'motherfuckin',\n",
       "  'cop',\n",
       "  'i',\n",
       "  'don',\n",
       "  't',\n",
       "  'dodge',\n",
       "  'him',\n",
       "  'but',\n",
       "  'i',\n",
       "  'm',\n",
       "  'smart',\n",
       "  'lay',\n",
       "  'low',\n",
       "  'creep',\n",
       "  'a',\n",
       "  'while',\n",
       "  'and',\n",
       "  'when',\n",
       "  'i',\n",
       "  'see',\n",
       "  'a',\n",
       "  'punk',\n",
       "  'pass',\n",
       "  'i',\n",
       "  'smile',\n",
       "  'to',\n",
       "  'me',\n",
       "  'it',\n",
       "  's',\n",
       "  'kinda',\n",
       "  'funny',\n",
       "  'the',\n",
       "  'attitude',\n",
       "  'showin',\n",
       "  'a',\n",
       "  'nigga',\n",
       "  'drivin',\n",
       "  'but',\n",
       "  'don',\n",
       "  't',\n",
       "  'know',\n",
       "  'where',\n",
       "  'the',\n",
       "  'fuck',\n",
       "  'he',\n",
       "  's',\n",
       "  'going',\n",
       "  'just',\n",
       "  'rollin',\n",
       "  'lookin',\n",
       "  'for',\n",
       "  'the',\n",
       "  'one',\n",
       "  'they',\n",
       "  'call',\n",
       "  'eazy',\n",
       "  'but',\n",
       "  'here',\n",
       "  's',\n",
       "  'a',\n",
       "  'flash',\n",
       "  'they',\n",
       "  'never',\n",
       "  'seize',\n",
       "  'me',\n",
       "  'ruthless',\n",
       "  'never',\n",
       "  'seen',\n",
       "  'like',\n",
       "  'a',\n",
       "  'shadow',\n",
       "  'in',\n",
       "  'the',\n",
       "  'dark',\n",
       "  'except',\n",
       "  'when',\n",
       "  'i',\n",
       "  'unload',\n",
       "  'see',\n",
       "  'i',\n",
       "  'll',\n",
       "  'get',\n",
       "  'over',\n",
       "  'the',\n",
       "  'hesitation',\n",
       "  'and',\n",
       "  'hear',\n",
       "  'the',\n",
       "  'scream',\n",
       "  'of',\n",
       "  'the',\n",
       "  'one',\n",
       "  'who',\n",
       "  'got',\n",
       "  'the',\n",
       "  'last',\n",
       "  'penetration',\n",
       "  'give',\n",
       "  'a',\n",
       "  'little',\n",
       "  'gust',\n",
       "  'of',\n",
       "  'wind',\n",
       "  'and',\n",
       "  'i',\n",
       "  'm',\n",
       "  'jettin',\n",
       "  'but',\n",
       "  'leave',\n",
       "  'a',\n",
       "  'memory',\n",
       "  'no',\n",
       "  'one',\n",
       "  'll',\n",
       "  'be',\n",
       "  'forgettin',\n",
       "  'so',\n",
       "  'what',\n",
       "  'about',\n",
       "  'the',\n",
       "  'bitch',\n",
       "  'who',\n",
       "  'got',\n",
       "  'shot',\n",
       "  'fuck',\n",
       "  'her',\n",
       "  'you',\n",
       "  'think',\n",
       "  'i',\n",
       "  'give',\n",
       "  'a',\n",
       "  'damn',\n",
       "  'about',\n",
       "  'a',\n",
       "  'bitch',\n",
       "  'i',\n",
       "  'ain',\n",
       "  't',\n",
       "  'a',\n",
       "  'sucker',\n",
       "  'this',\n",
       "  'is',\n",
       "  'the',\n",
       "  'autobiography',\n",
       "  'of',\n",
       "  'the',\n",
       "  'e',\n",
       "  'and',\n",
       "  'if',\n",
       "  'you',\n",
       "  'ever',\n",
       "  'fuck',\n",
       "  'with',\n",
       "  'me',\n",
       "  'you',\n",
       "  'll',\n",
       "  'get',\n",
       "  'taken',\n",
       "  'by',\n",
       "  'a',\n",
       "  'stupid',\n",
       "  'dope',\n",
       "  'brotha',\n",
       "  'who',\n",
       "  'will',\n",
       "  'smother',\n",
       "  'word',\n",
       "  'to',\n",
       "  'the',\n",
       "  'motherfucker',\n",
       "  'straight',\n",
       "  'outta',\n",
       "  'compton',\n",
       "  'chorus',\n",
       "  'city',\n",
       "  'of',\n",
       "  'compton',\n",
       "  'city',\n",
       "  'of',\n",
       "  'compton',\n",
       "  'damn',\n",
       "  'that',\n",
       "  'shit',\n",
       "  'was',\n",
       "  'dope'],\n",
       " 'x': 10,\n",
       " 'y': 20}"
      ]
     },
     "execution_count": 127,
     "metadata": {},
     "output_type": "execute_result"
    }
   ],
   "source": [
    "globals()"
   ]
  },
  {
   "cell_type": "code",
   "execution_count": 128,
   "metadata": {
    "collapsed": true
   },
   "outputs": [],
   "source": [
    "x = 1"
   ]
  },
  {
   "cell_type": "code",
   "execution_count": 129,
   "metadata": {},
   "outputs": [
    {
     "data": {
      "text/plain": [
       "{'Counter': collections.Counter,\n",
       " 'In': ['',\n",
       "  'n = 0\\nwhile n < 11:\\n    print(n)\\n    n += 1',\n",
       "  'x = float(input(\"Enter the value of x: \"))\\nn = term = num = 1\\nsum = 1.0\\nwhile n <= 100:\\n    term *= x / n\\n    sum += term\\n    n += 1\\n    if term < 0.0001:\\n        break\\nprint \"No of Times= %d and Sum= %f\" % (n, sum)',\n",
       "  'x = float(input(\"Enter the value of x: \"))\\nn = term = num = 1\\nsummation = 1.0\\nwhile n <= 100:\\n    term *= x / n\\n    summation += term\\n    n += 1\\n    if term < 0.0001:\\n        break\\nprint(\"No of Times= {} and Sum= {}\".format(n, summation))',\n",
       "  'x = float(input(\"Enter the value of x: \"))\\nn = term = num = 1\\nsummation = 1.0\\nwhile n <= 100:\\n    term *= x / n\\n    summation += term\\n    n += 1\\n    if term < 0.0001:\\n        break\\nprint(\"No of Times= {} and Sum= {}\".format(n, summation))',\n",
       "  'x = float(input(\"Enter the value of x: \"))\\nn = term = num = 1\\nsummation = 1.0\\nwhile n <= 100:\\n    term *= x / n\\n    summation += term\\n    n += 1\\n    if term < 0.0001:\\n        break\\nprint(\"No of Times= {} and Sum= {}\".format(n, summation))',\n",
       "  'x = float(input(\"Enter the value of x: \"))\\nn = term = num = 1\\nsummation = 1.0\\nwhile n <= 100:\\n    term *= x / n\\n    summation += term\\n    n += 1\\n    if term < 0.0001:\\n        break\\nprint(\"No of Times= {} and Sum= {}\".format(n, summation))',\n",
       "  'while True:\\n    n = int(input(\"Please enter an Integer: \"))\\n    if n < 0:\\n        continue # this will take the execution back to the starting of the loop\\n    elif n == 0:\\n        break\\n    print(\"Square is \", n ** 2)\\nprint(\"Goodbye\")',\n",
       "  'sticks = 21\\n\\nprint \"There are 21 sticks, you can take 1-4 number of sticks at a time.\"\\nprint \"Whoever will take the last stick will loose\"\\n\\nwhile True:\\n    print \"Sticks left: \" , sticks\\n    sticks_taken = int(input(\"Take sticks(1-4):\"))\\n    if sticks == 1:\\n        print(\"You took the last stick, you loose\")\\n        break\\n    if sticks_taken >= 5 or sticks_taken <= 0:\\n        print(\"Wrong choice\")\\n        continue\\n    print(\"Computer took: \" , (5 - sticks_taken) , \"\\\\n\")\\n    sticks -= 5',\n",
       "  'sticks = 21\\n\\nprint \"There are 21 sticks, you can take 1-4 number of sticks at a time.\"\\nprint \"Whoever will take the last stick will loose\"\\n\\nwhile True:\\n    print(\"Sticks left: \" , sticks)\\n    sticks_taken = int(input(\"Take sticks(1-4):\"))\\n    if sticks == 1:\\n        print(\"You took the last stick, you loose\")\\n        break\\n    if sticks_taken >= 5 or sticks_taken <= 0:\\n        print(\"Wrong choice\")\\n        continue\\n    print(\"Computer took: \" , (5 - sticks_taken) , \"\\\\n\")\\n    sticks -= 5',\n",
       "  'sticks = 21\\n\\nprint(\"There are 21 sticks, you can take 1-4 number of sticks at a time.\")\\nprint(\"Whoever will take the last stick will loose\")\\n\\nwhile True:\\n    print(\"Sticks left: \" , sticks)\\n    sticks_taken = int(input(\"Take sticks(1-4):\"))\\n    if sticks == 1:\\n        print(\"You took the last stick, you loose\")\\n        break\\n    if sticks_taken >= 5 or sticks_taken <= 0:\\n        print(\"Wrong choice\")\\n        continue\\n    print(\"Computer took: \" , (5 - sticks_taken) , \"\\\\n\")\\n    sticks -= 5',\n",
       "  'sticks = 21\\n\\nprint(\"There are 21 sticks, you can take 1-4 number of sticks at a time.\")\\nprint(\"Whoever will take the last stick will loose\")\\n\\nwhile True:\\n    print(\"Sticks left: \" , sticks)\\n    sticks_taken = int(input(\"Take sticks(1-4):\"))\\n    if sticks == 1:\\n        print(\"You took the last stick, you loose\")\\n        break\\n    if sticks_taken >= 5 or sticks_taken <= 0:\\n        print(\"Wrong choice\")\\n        continue\\n    print(\"Computer took: \" , (5 - sticks_taken) , \"\\\\n\")\\n    sticks -= 5',\n",
       "  'sticks = 21\\n\\nprint(\"There are 21 sticks, you can take 1-4 number of sticks at a time.\")\\nprint(\"Whoever will take the last stick will loose\")\\n\\nwhile True:\\n    print(\"Sticks left: \" , sticks)\\n    sticks_taken = int(input(\"Take sticks(1-4):\"))\\n    if sticks == 1:\\n        print(\"You took the last stick, you loose\")\\n        break\\n    if sticks_taken >= 5 or sticks_taken <= 0:\\n        print(\"Wrong choice\")\\n        continue\\n    print(\"Computer took: \" , (5 - sticks_taken) , \"\\\\n\")\\n    sticks -= 5',\n",
       "  'sticks = 21\\n\\nprint(\"There are 21 sticks, you can take 1-4 number of sticks at a time.\")\\nprint(\"Whoever will take the last stick will loose\")\\n\\nwhile True:\\n    print(\"Sticks left: \" , sticks)\\n    sticks_taken = int(input(\"Take sticks(1-4):\"))\\n    if sticks == 1:\\n        print(\"You took the last stick, you loose\")\\n        break\\n    if sticks_taken >= 5 or sticks_taken <= 0:\\n        print(\"Wrong choice\")\\n        continue\\n    print(\"Computer took: \" , (5 - sticks_taken) , \"\\\\n\")\\n    sticks -= 5',\n",
       "  'sticks = 21\\n\\nprint(\"There are 21 sticks, you can take 1-4 number of sticks at a time.\")\\nprint(\"Whoever will take the last stick will loose\")\\n\\nwhile True:\\n    print(\"Sticks left: \" , sticks)\\n    sticks_taken = int(input(\"Take sticks(1-4):\"))\\n    if sticks == 1:\\n        print(\"You took the last stick, you loose\")\\n        break\\n    if sticks_taken >= 5 or sticks_taken <= 0:\\n        print(\"Wrong choice\")\\n        continue\\n    print(\"Computer took: \" , (5 - sticks_taken) , \"\\\\n\")\\n    sticks -= 5',\n",
       "  'sticks = 21\\n\\nprint(\"There are 21 sticks, you can take 1-4 number of sticks at a time.\")\\nprint(\"Whoever will take the last stick will loose\")\\n\\nwhile True:\\n    print(\"Sticks left: \" , sticks)\\n    sticks_taken = int(input(\"Take sticks(1-4):\"))\\n    if sticks == 1:\\n        print(\"You took the last stick, you loose\")\\n        break\\n    if sticks_taken >= 5 or sticks_taken <= 0:\\n        print(\"Wrong choice\")\\n        continue\\n    print(\"Computer took: \" , (5 - sticks_taken) , \"\\\\n\")\\n    sticks -= 5',\n",
       "  'sticks = 21\\n\\nprint(\"There are 21 sticks, you can take 1-4 number of sticks at a time.\")\\nprint(\"Whoever will take the last stick will loose\")\\n\\nwhile True:\\n    print(\"Sticks left: \" , sticks)\\n    sticks_taken = int(input(\"Take sticks(1-4):\"))\\n    if sticks == 1:\\n        print(\"You took the last stick, you loose\")\\n        break\\n    if sticks_taken >= 5 or sticks_taken <= 0:\\n        print(\"Wrong choice\")\\n        continue\\n    print(\"Computer took: \" , (5 - sticks_taken) , \"\\\\n\")\\n    sticks -= 5',\n",
       "  'sticks = 21\\n\\nprint(\"There are 21 sticks, you can take 1-4 number of sticks at a time.\")\\nprint(\"Whoever will take the last stick will loose\")\\n\\nwhile True:\\n    print(\"Sticks left: \" , sticks)\\n    sticks_taken = int(input(\"Take sticks(1-4):\"))\\n    if sticks == 1:\\n        print(\"You took the last stick, you loose\")\\n        break\\n    if sticks_taken >= 5 or sticks_taken <= 0:\\n        print(\"Wrong choice\")\\n        continue\\n    print(\"Computer took: \" , (5 - sticks_taken) , \"\\\\n\")\\n    sticks -= 5',\n",
       "  'sticks = 21\\n\\nprint(\"There are 21 sticks, you can take 1-4 number of sticks at a time.\")\\nprint(\"Whoever will take the last stick will loose\")\\n\\nwhile True:\\n    print(\"Sticks left: \" , sticks)\\n    sticks_taken = int(input(\"Take sticks(1-4):\"))\\n    if sticks == 1:\\n        print(\"You took the last stick, you loose\")\\n        break\\n    if sticks_taken >= 5 or sticks_taken <= 0:\\n        print(\"Wrong choice\")\\n        continue\\n    print(\"Computer took: \" , (5 - sticks_taken) , \"\\\\n\")\\n    sticks -= 5',\n",
       "  'sticks = 21\\n\\nprint(\"There are 21 sticks, you can take 1-4 number of sticks at a time.\")\\nprint(\"Whoever will take the last stick will loose\")\\n\\nwhile True:\\n    print(\"Sticks left: \" , sticks)\\n    sticks_taken = int(input(\"Take sticks(1-4):\"))\\n    if sticks == 1:\\n        print(\"You took the last stick, you loose\")\\n        break\\n    if sticks_taken >= 5 or sticks_taken <= 0:\\n        print(\"Wrong choice\")\\n        continue\\n    print(\"Computer took: \" , (5 - sticks_taken) , \"\\\\n\")\\n    sticks -= 5',\n",
       "  'a = range(10)',\n",
       "  'a',\n",
       "  '[x for x in a]',\n",
       "  '[x+1 for x in a]',\n",
       "  'a = range(10)',\n",
       "  '[x for x in a if x % 2 == 0]',\n",
       "  '[x*x for x in a if x%2 == 0]',\n",
       "  'a = [1, 2, 3, 4]\\nb = [2, 3, 5, 7]\\nzip(a, b)',\n",
       "  '[x+y for x, y in zip(a, b)]',\n",
       "  '[(x, y) for x in range(5) for y in range(5) if (x+y)%2 == 0]',\n",
       "  '[(x, y) for x in range(5) for y in range(5) if (x+y)%2 == 0 and x != y]',\n",
       "  '[(x, y) for x in range(5) for y in range(x) if (x+y)%2 == 0]',\n",
       "  'n = 25\\n[(x, y, z) for x in range(1, n) for y in range(x, n) for z in range(y, n) if x*x + y*y == z*z]',\n",
       "  'zip([1, 2, 3], [\"a\", \"b\", \"c\"])',\n",
       "  'def square(x): return x * x\\nmap(square, range(5))',\n",
       "  'def square(x): return x * x\\n    map(square, range(5))',\n",
       "  'def square(x): return x * x\\nmap(square, range(5))',\n",
       "  'def square(x): return x * x\\nprint(map(square, range(5)))',\n",
       "  'def square(x): return x * x\\nmap(square, range(5))',\n",
       "  'def square(x): return x * x\\nmap(square, [1,2,3,4,5])',\n",
       "  'def square(x): return x * x\\nlist(map(square, [1,2,3,4,5]))',\n",
       "  \"# Given the list \\nnames = [ 'Bob', 'JOHN', 'alice', 'bob', 'ALICE', 'J', 'Bob' ]\",\n",
       "  \"# We require the set:\\n{ 'Bob', 'John', 'Alice' }\",\n",
       "  '{ name[0].upper() + name[1:].lower() for name in names if len(name) > 1 }',\n",
       "  \"a = {'x': 1, 'y': 2, 'z': 3}\",\n",
       "  \"a['x']\",\n",
       "  \"a['z']\",\n",
       "  \"b = {}\\nb['x'] = 2\\nb[2] = 'foo'\\nb[(1, 2)] = 3\\nb\",\n",
       "  \"a = {'x': 1, 'y': 2, 'z': 3}\",\n",
       "  \"a['x']\",\n",
       "  \"a['z']\",\n",
       "  \"b = {}\\nb['x'] = 2\\nb[2] = 'foo'\\nb[(1, 2)] = 3\\nb\",\n",
       "  \"a = {'x': 1, 'y': 2, 'z': 3}\",\n",
       "  \"del a['x']\",\n",
       "  'a.keys()',\n",
       "  'a.values()',\n",
       "  'a.items()',\n",
       "  'for key in a: print key',\n",
       "  'for key, value in a.items(): print key, value',\n",
       "  'for key in a: print(key)',\n",
       "  'for key, value in a.items(): print(key, value)',\n",
       "  \"'x' in a\",\n",
       "  \"'p' in a\",\n",
       "  \"a.has_key('x')\",\n",
       "  \"a.has_key('p')\",\n",
       "  \"'g' in a.keys()\",\n",
       "  \"a.has_key('p')\",\n",
       "  \"d = {'x': 1, 'y': 2, 'z': 3}\",\n",
       "  \"'x' in a\",\n",
       "  \"a = {'x': 1, 'y': 2, 'z': 3}\",\n",
       "  \"del a['x']\",\n",
       "  'a.keys()',\n",
       "  'a.values()',\n",
       "  'a.items()',\n",
       "  'for key in a: print(key)',\n",
       "  'for key, value in a.items(): print(key, value)',\n",
       "  \"'x' in a\",\n",
       "  \"'p' in a\",\n",
       "  \"'g' in a.keys()\",\n",
       "  \"d = {'x': 1, 'y': 2, 'z': 3}\",\n",
       "  \"d.get('x', 5)\",\n",
       "  \"d.get('p', 5)\",\n",
       "  \"d.setdefault('x', 0)\",\n",
       "  \"d.setdefault('p', 0)\",\n",
       "  \"'hello %(name)s' % {'name': 'python'}\",\n",
       "  \"'Chapter %(index)d: %(name)s' % {'index': 2, 'name': 'Data Structures'}\",\n",
       "  \"'hello $(name)'.format({'name': 'python'})\",\n",
       "  \"'hello %(name)'.format({'name': 'python'})\",\n",
       "  \"'hello %(name)' % {'name': 'python'}\",\n",
       "  \"'hello %(name)s' % {'name': 'python'}\",\n",
       "  \"'Chapter %(index)d: %(name)s' % {'index': 2, 'name': 'Data Structures'}\",\n",
       "  \"'Tutorial %(index)d: %(name)s' % {'index': 2, 'name': 'Data Structures'}\",\n",
       "  'def word_frequency(words):\\n    \"\"\"Returns frequency of each word given a list of words.\\n\\n        >>> word_frequency([\\'a\\', \\'b\\', \\'a\\'])\\n        {\\'a\\': 2, \\'b\\': 1}\\n    \"\"\"\\n    frequency = {}\\n    for w in words:\\n        try:\\n            frequency[w] += 1\\n        except KeyError:\\n            frequency[w] = 1\\n        \\n    return frequency',\n",
       "  \"# solution('ZnJlcXVlbmN5W3ddID0gZnJlcXVlbmN5LmdldCh3LCAwKSArIDE=')\",\n",
       "  'def read_words(filename):\\n    return open(filename).read().split()',\n",
       "  'def main(filename):\\n    frequency = word_frequency(read_words(filename))\\n    for word, count in frequency.items():\\n        print word, count\\n        \\n# In a Python Script, you\\'d add this to the bottom to make it run from the command line\\n# while also taking in a single argument referring to the filename.\\n# \\n# if __name__ == \"__main__\":\\n#     import sys\\n#     main(sys.argv[1])',\n",
       "  'def main(filename):\\n    frequency = word_frequency(read_words(filename))\\n    for word, count in frequency.items():\\n        print(word, count)\\n        \\n# In a Python Script, you\\'d add this to the bottom to make it run from the command line\\n# while also taking in a single argument referring to the filename.\\n# \\n# if __name__ == \"__main__\":\\n#     import sys\\n#     main(sys.argv[1])',\n",
       "  \"main('usdeclar.txt')\",\n",
       "  \"main('http://ohhla.com/anonymous/nwa/straight/straight.nwa.txt')\",\n",
       "  'def read_words(filename):\\n    return open(filename).read().split()',\n",
       "  'def main(filename):\\n    frequency = word_frequency(read_words(filename))\\n    for word, count in frequency.items():\\n        print(word, count)\\n        \\n# In a Python Script, you\\'d add this to the bottom to make it run from the command line\\n# while also taking in a single argument referring to the filename.\\n# \\n# if __name__ == \"__main__\":\\n#     import sys\\n#     main(sys.argv[1])',\n",
       "  \"main('files/straight.nwa.txt')\",\n",
       "  \"main('files/straight_outta_compton.txt')\",\n",
       "  'def main(filename):\\n    frequency = word_frequency(read_words(filename))\\n    for word, count in frequency.items():\\n        print(word.lower(), count)\\n        \\n# In a Python Script, you\\'d add this to the bottom to make it run from the command line\\n# while also taking in a single argument referring to the filename.\\n# \\n# if __name__ == \"__main__\":\\n#     import sys\\n#     main(sys.argv[1])',\n",
       "  \"main('files/straight_outta_compton.txt')\",\n",
       "  \"mcase = {'a':10, 'b': 34, 'A': 7, 'Z':3}\\n\\nmcase_frequency = { k.lower() : mcase.get(k.lower(), 0) + mcase.get(k.upper(), 0) for k in mcase.keys() }\\n\\n# mcase_frequency == {'a': 17, 'z': 3, 'b': 34}\",\n",
       "  \"a_dict = {'a': 1, 'b': 2, 'c': 3}\\n{value:key for key, value in a_dict.items()}\",\n",
       "  \"a_dict = {'a': [1, 2, 3], 'b': 4, 'c': 5}\",\n",
       "  '# {value:key for key, value in a_dict.items()}',\n",
       "  'import collections',\n",
       "  \"from collections import Counter\\nimport re\\npath = 'usdeclar.txt'\\n# let's be a bit more precise about what we mean by 'words'\\nwords = re.findall('\\\\w+', open(path).read().lower())\\nCounter(words).most_common(10)\",\n",
       "  \"from collections import Counter\\nimport re\\npath = 'files/straight_outta_compton.txt'\\n# let's be a bit more precise about what we mean by 'words'\\nwords = re.findall('\\\\w+', open(path).read().lower())\\nCounter(words).most_common(10)\",\n",
       "  '# dir(Counter)',\n",
       "  \"[n for n in dir(Counter) if '__' not in n]\",\n",
       "  \"from collections import Counter\\nimport re\\npath = 'files/straight_outta_compton.txt'\\n# let's be a bit more precise about what we mean by 'words'\\nwords = re.findall('\\\\w+', open(path).read().lower())\\nCounter(words).most_common(10)\",\n",
       "  '# dir(Counter)',\n",
       "  \"[n for n in dir(Counter) if '__' not in n]\",\n",
       "  'c = Counter(a=4, b=2, c=0, d=-2)',\n",
       "  'list(c.elements())',\n",
       "  \"Counter('abracadabra').most_common(3)\",\n",
       "  'def word_frequency(words):\\n    frequency = {}\\n    for w in words:\\n        try:\\n            frequency[w] += 1\\n        except KeyError:\\n            frequency[w] = 1',\n",
       "  'from collections import defaultdict\\n\\ndef word_frequency(words):\\n    frequency = defaultdict(int)\\n    for w in words:\\n        frequency[w] += 1',\n",
       "  \"from collections import namedtuple\\n\\nPoint = namedtuple('Point', ['x', 'y'])\\np = Point(10, y=20)\\np\",\n",
       "  'Point(x=10, y=20)\\np.x + p.y',\n",
       "  'p[0] + p[1]  # Accessing the values in normal way',\n",
       "  'x, y = p     # Unpacking the tuple\\nx',\n",
       "  'y',\n",
       "  'globals()',\n",
       "  'x = 1',\n",
       "  'globals()'],\n",
       " 'Out': {21: range(0, 10),\n",
       "  22: [0, 1, 2, 3, 4, 5, 6, 7, 8, 9],\n",
       "  23: [1, 2, 3, 4, 5, 6, 7, 8, 9, 10],\n",
       "  25: [0, 2, 4, 6, 8],\n",
       "  26: [0, 4, 16, 36, 64],\n",
       "  27: <zip at 0x7f8bbefac148>,\n",
       "  28: [3, 5, 8, 11],\n",
       "  29: [(0, 0),\n",
       "   (0, 2),\n",
       "   (0, 4),\n",
       "   (1, 1),\n",
       "   (1, 3),\n",
       "   (2, 0),\n",
       "   (2, 2),\n",
       "   (2, 4),\n",
       "   (3, 1),\n",
       "   (3, 3),\n",
       "   (4, 0),\n",
       "   (4, 2),\n",
       "   (4, 4)],\n",
       "  30: [(0, 2), (0, 4), (1, 3), (2, 0), (2, 4), (3, 1), (4, 0), (4, 2)],\n",
       "  31: [(2, 0), (3, 1), (4, 0), (4, 2)],\n",
       "  32: [(3, 4, 5),\n",
       "   (5, 12, 13),\n",
       "   (6, 8, 10),\n",
       "   (8, 15, 17),\n",
       "   (9, 12, 15),\n",
       "   (12, 16, 20)],\n",
       "  33: <zip at 0x7f8bbefb3ec8>,\n",
       "  34: <map at 0x7f8bbefb7c50>,\n",
       "  36: <map at 0x7f8bbef47630>,\n",
       "  38: <map at 0x7f8bbef47160>,\n",
       "  39: <map at 0x7f8bbef47c50>,\n",
       "  40: [1, 4, 9, 16, 25],\n",
       "  42: {'Alice', 'Bob', 'John'},\n",
       "  43: {'Alice', 'Bob', 'John'},\n",
       "  45: 1,\n",
       "  46: 3,\n",
       "  47: {'x': 2, 2: 'foo', (1, 2): 3},\n",
       "  49: 1,\n",
       "  50: 3,\n",
       "  51: {'x': 2, 2: 'foo', (1, 2): 3},\n",
       "  54: dict_keys(['y', 'z']),\n",
       "  55: dict_values([2, 3]),\n",
       "  56: dict_items([('y', 2), ('z', 3)]),\n",
       "  61: False,\n",
       "  62: False,\n",
       "  65: False,\n",
       "  68: False,\n",
       "  71: dict_keys(['y', 'z']),\n",
       "  72: dict_values([2, 3]),\n",
       "  73: dict_items([('y', 2), ('z', 3)]),\n",
       "  76: False,\n",
       "  77: False,\n",
       "  78: False,\n",
       "  80: 1,\n",
       "  81: 5,\n",
       "  82: 1,\n",
       "  83: 0,\n",
       "  84: 'hello python',\n",
       "  85: 'Chapter 2: Data Structures',\n",
       "  86: 'hello $(name)',\n",
       "  87: 'hello %(name)',\n",
       "  89: 'hello python',\n",
       "  90: 'Chapter 2: Data Structures',\n",
       "  91: 'Tutorial 2: Data Structures',\n",
       "  106: {1: 'a', 2: 'b', 3: 'c'},\n",
       "  111: [('a', 38),\n",
       "   ('i', 37),\n",
       "   ('the', 36),\n",
       "   ('you', 17),\n",
       "   ('m', 16),\n",
       "   ('and', 15),\n",
       "   ('compton', 12),\n",
       "   ('that', 12),\n",
       "   ('is', 12),\n",
       "   ('of', 11)],\n",
       "  113: ['_keep_positive',\n",
       "   'clear',\n",
       "   'copy',\n",
       "   'elements',\n",
       "   'fromkeys',\n",
       "   'get',\n",
       "   'items',\n",
       "   'keys',\n",
       "   'most_common',\n",
       "   'pop',\n",
       "   'popitem',\n",
       "   'setdefault',\n",
       "   'subtract',\n",
       "   'update',\n",
       "   'values'],\n",
       "  114: [('a', 38),\n",
       "   ('i', 37),\n",
       "   ('the', 36),\n",
       "   ('you', 17),\n",
       "   ('m', 16),\n",
       "   ('and', 15),\n",
       "   ('compton', 12),\n",
       "   ('that', 12),\n",
       "   ('is', 12),\n",
       "   ('of', 11)],\n",
       "  116: ['_keep_positive',\n",
       "   'clear',\n",
       "   'copy',\n",
       "   'elements',\n",
       "   'fromkeys',\n",
       "   'get',\n",
       "   'items',\n",
       "   'keys',\n",
       "   'most_common',\n",
       "   'pop',\n",
       "   'popitem',\n",
       "   'setdefault',\n",
       "   'subtract',\n",
       "   'update',\n",
       "   'values'],\n",
       "  118: ['a', 'a', 'a', 'a', 'b', 'b'],\n",
       "  119: [('a', 5), ('b', 2), ('r', 2)],\n",
       "  122: Point(x=10, y=20),\n",
       "  123: 30,\n",
       "  124: 30,\n",
       "  125: 10,\n",
       "  126: 20,\n",
       "  127: {...}},\n",
       " 'Point': __main__.Point,\n",
       " '_': {...},\n",
       " '_106': {1: 'a', 2: 'b', 3: 'c'},\n",
       " '_111': [('a', 38),\n",
       "  ('i', 37),\n",
       "  ('the', 36),\n",
       "  ('you', 17),\n",
       "  ('m', 16),\n",
       "  ('and', 15),\n",
       "  ('compton', 12),\n",
       "  ('that', 12),\n",
       "  ('is', 12),\n",
       "  ('of', 11)],\n",
       " '_113': ['_keep_positive',\n",
       "  'clear',\n",
       "  'copy',\n",
       "  'elements',\n",
       "  'fromkeys',\n",
       "  'get',\n",
       "  'items',\n",
       "  'keys',\n",
       "  'most_common',\n",
       "  'pop',\n",
       "  'popitem',\n",
       "  'setdefault',\n",
       "  'subtract',\n",
       "  'update',\n",
       "  'values'],\n",
       " '_114': [('a', 38),\n",
       "  ('i', 37),\n",
       "  ('the', 36),\n",
       "  ('you', 17),\n",
       "  ('m', 16),\n",
       "  ('and', 15),\n",
       "  ('compton', 12),\n",
       "  ('that', 12),\n",
       "  ('is', 12),\n",
       "  ('of', 11)],\n",
       " '_116': ['_keep_positive',\n",
       "  'clear',\n",
       "  'copy',\n",
       "  'elements',\n",
       "  'fromkeys',\n",
       "  'get',\n",
       "  'items',\n",
       "  'keys',\n",
       "  'most_common',\n",
       "  'pop',\n",
       "  'popitem',\n",
       "  'setdefault',\n",
       "  'subtract',\n",
       "  'update',\n",
       "  'values'],\n",
       " '_118': ['a', 'a', 'a', 'a', 'b', 'b'],\n",
       " '_119': [('a', 5), ('b', 2), ('r', 2)],\n",
       " '_122': Point(x=10, y=20),\n",
       " '_123': 30,\n",
       " '_124': 30,\n",
       " '_125': 10,\n",
       " '_126': 20,\n",
       " '_127': {...},\n",
       " '_21': range(0, 10),\n",
       " '_22': [0, 1, 2, 3, 4, 5, 6, 7, 8, 9],\n",
       " '_23': [1, 2, 3, 4, 5, 6, 7, 8, 9, 10],\n",
       " '_25': [0, 2, 4, 6, 8],\n",
       " '_26': [0, 4, 16, 36, 64],\n",
       " '_27': <zip at 0x7f8bbefac148>,\n",
       " '_28': [3, 5, 8, 11],\n",
       " '_29': [(0, 0),\n",
       "  (0, 2),\n",
       "  (0, 4),\n",
       "  (1, 1),\n",
       "  (1, 3),\n",
       "  (2, 0),\n",
       "  (2, 2),\n",
       "  (2, 4),\n",
       "  (3, 1),\n",
       "  (3, 3),\n",
       "  (4, 0),\n",
       "  (4, 2),\n",
       "  (4, 4)],\n",
       " '_30': [(0, 2), (0, 4), (1, 3), (2, 0), (2, 4), (3, 1), (4, 0), (4, 2)],\n",
       " '_31': [(2, 0), (3, 1), (4, 0), (4, 2)],\n",
       " '_32': [(3, 4, 5),\n",
       "  (5, 12, 13),\n",
       "  (6, 8, 10),\n",
       "  (8, 15, 17),\n",
       "  (9, 12, 15),\n",
       "  (12, 16, 20)],\n",
       " '_33': <zip at 0x7f8bbefb3ec8>,\n",
       " '_34': <map at 0x7f8bbefb7c50>,\n",
       " '_36': <map at 0x7f8bbef47630>,\n",
       " '_38': <map at 0x7f8bbef47160>,\n",
       " '_39': <map at 0x7f8bbef47c50>,\n",
       " '_40': [1, 4, 9, 16, 25],\n",
       " '_42': {'Alice', 'Bob', 'John'},\n",
       " '_43': {'Alice', 'Bob', 'John'},\n",
       " '_45': 1,\n",
       " '_46': 3,\n",
       " '_47': {'x': 2, 2: 'foo', (1, 2): 3},\n",
       " '_49': 1,\n",
       " '_50': 3,\n",
       " '_51': {'x': 2, 2: 'foo', (1, 2): 3},\n",
       " '_54': dict_keys(['y', 'z']),\n",
       " '_55': dict_values([2, 3]),\n",
       " '_56': dict_items([('y', 2), ('z', 3)]),\n",
       " '_61': False,\n",
       " '_62': False,\n",
       " '_65': False,\n",
       " '_68': False,\n",
       " '_71': dict_keys(['y', 'z']),\n",
       " '_72': dict_values([2, 3]),\n",
       " '_73': dict_items([('y', 2), ('z', 3)]),\n",
       " '_76': False,\n",
       " '_77': False,\n",
       " '_78': False,\n",
       " '_80': 1,\n",
       " '_81': 5,\n",
       " '_82': 1,\n",
       " '_83': 0,\n",
       " '_84': 'hello python',\n",
       " '_85': 'Chapter 2: Data Structures',\n",
       " '_86': 'hello $(name)',\n",
       " '_87': 'hello %(name)',\n",
       " '_89': 'hello python',\n",
       " '_90': 'Chapter 2: Data Structures',\n",
       " '_91': 'Tutorial 2: Data Structures',\n",
       " '__': 20,\n",
       " '___': 10,\n",
       " '__builtin__': <module 'builtins' (built-in)>,\n",
       " '__builtins__': <module 'builtins' (built-in)>,\n",
       " '__doc__': 'Automatically created module for IPython interactive environment',\n",
       " '__loader__': None,\n",
       " '__name__': '__main__',\n",
       " '__package__': None,\n",
       " '__spec__': None,\n",
       " '_dh': ['/home/shivam/Tutoring_New/python-tutorials'],\n",
       " '_i': 'x = 1',\n",
       " '_i1': 'n = 0\\nwhile n < 11:\\n    print(n)\\n    n += 1',\n",
       " '_i10': 'sticks = 21\\n\\nprint(\"There are 21 sticks, you can take 1-4 number of sticks at a time.\")\\nprint(\"Whoever will take the last stick will loose\")\\n\\nwhile True:\\n    print(\"Sticks left: \" , sticks)\\n    sticks_taken = int(input(\"Take sticks(1-4):\"))\\n    if sticks == 1:\\n        print(\"You took the last stick, you loose\")\\n        break\\n    if sticks_taken >= 5 or sticks_taken <= 0:\\n        print(\"Wrong choice\")\\n        continue\\n    print(\"Computer took: \" , (5 - sticks_taken) , \"\\\\n\")\\n    sticks -= 5',\n",
       " '_i100': 'def main(filename):\\n    frequency = word_frequency(read_words(filename))\\n    for word, count in frequency.items():\\n        print(word, count)\\n        \\n# In a Python Script, you\\'d add this to the bottom to make it run from the command line\\n# while also taking in a single argument referring to the filename.\\n# \\n# if __name__ == \"__main__\":\\n#     import sys\\n#     main(sys.argv[1])',\n",
       " '_i101': \"main('files/straight.nwa.txt')\",\n",
       " '_i102': \"main('files/straight_outta_compton.txt')\",\n",
       " '_i103': 'def main(filename):\\n    frequency = word_frequency(read_words(filename))\\n    for word, count in frequency.items():\\n        print(word.lower(), count)\\n        \\n# In a Python Script, you\\'d add this to the bottom to make it run from the command line\\n# while also taking in a single argument referring to the filename.\\n# \\n# if __name__ == \"__main__\":\\n#     import sys\\n#     main(sys.argv[1])',\n",
       " '_i104': \"main('files/straight_outta_compton.txt')\",\n",
       " '_i105': \"mcase = {'a':10, 'b': 34, 'A': 7, 'Z':3}\\n\\nmcase_frequency = { k.lower() : mcase.get(k.lower(), 0) + mcase.get(k.upper(), 0) for k in mcase.keys() }\\n\\n# mcase_frequency == {'a': 17, 'z': 3, 'b': 34}\",\n",
       " '_i106': \"a_dict = {'a': 1, 'b': 2, 'c': 3}\\n{value:key for key, value in a_dict.items()}\",\n",
       " '_i107': \"a_dict = {'a': [1, 2, 3], 'b': 4, 'c': 5}\",\n",
       " '_i108': '# {value:key for key, value in a_dict.items()}',\n",
       " '_i109': 'import collections',\n",
       " '_i11': 'sticks = 21\\n\\nprint(\"There are 21 sticks, you can take 1-4 number of sticks at a time.\")\\nprint(\"Whoever will take the last stick will loose\")\\n\\nwhile True:\\n    print(\"Sticks left: \" , sticks)\\n    sticks_taken = int(input(\"Take sticks(1-4):\"))\\n    if sticks == 1:\\n        print(\"You took the last stick, you loose\")\\n        break\\n    if sticks_taken >= 5 or sticks_taken <= 0:\\n        print(\"Wrong choice\")\\n        continue\\n    print(\"Computer took: \" , (5 - sticks_taken) , \"\\\\n\")\\n    sticks -= 5',\n",
       " '_i110': \"from collections import Counter\\nimport re\\npath = 'usdeclar.txt'\\n# let's be a bit more precise about what we mean by 'words'\\nwords = re.findall('\\\\w+', open(path).read().lower())\\nCounter(words).most_common(10)\",\n",
       " '_i111': \"from collections import Counter\\nimport re\\npath = 'files/straight_outta_compton.txt'\\n# let's be a bit more precise about what we mean by 'words'\\nwords = re.findall('\\\\w+', open(path).read().lower())\\nCounter(words).most_common(10)\",\n",
       " '_i112': '# dir(Counter)',\n",
       " '_i113': \"[n for n in dir(Counter) if '__' not in n]\",\n",
       " '_i114': \"from collections import Counter\\nimport re\\npath = 'files/straight_outta_compton.txt'\\n# let's be a bit more precise about what we mean by 'words'\\nwords = re.findall('\\\\w+', open(path).read().lower())\\nCounter(words).most_common(10)\",\n",
       " '_i115': '# dir(Counter)',\n",
       " '_i116': \"[n for n in dir(Counter) if '__' not in n]\",\n",
       " '_i117': 'c = Counter(a=4, b=2, c=0, d=-2)',\n",
       " '_i118': 'list(c.elements())',\n",
       " '_i119': \"Counter('abracadabra').most_common(3)\",\n",
       " '_i12': 'sticks = 21\\n\\nprint(\"There are 21 sticks, you can take 1-4 number of sticks at a time.\")\\nprint(\"Whoever will take the last stick will loose\")\\n\\nwhile True:\\n    print(\"Sticks left: \" , sticks)\\n    sticks_taken = int(input(\"Take sticks(1-4):\"))\\n    if sticks == 1:\\n        print(\"You took the last stick, you loose\")\\n        break\\n    if sticks_taken >= 5 or sticks_taken <= 0:\\n        print(\"Wrong choice\")\\n        continue\\n    print(\"Computer took: \" , (5 - sticks_taken) , \"\\\\n\")\\n    sticks -= 5',\n",
       " '_i120': 'def word_frequency(words):\\n    frequency = {}\\n    for w in words:\\n        try:\\n            frequency[w] += 1\\n        except KeyError:\\n            frequency[w] = 1',\n",
       " '_i121': 'from collections import defaultdict\\n\\ndef word_frequency(words):\\n    frequency = defaultdict(int)\\n    for w in words:\\n        frequency[w] += 1',\n",
       " '_i122': \"from collections import namedtuple\\n\\nPoint = namedtuple('Point', ['x', 'y'])\\np = Point(10, y=20)\\np\",\n",
       " '_i123': 'Point(x=10, y=20)\\np.x + p.y',\n",
       " '_i124': 'p[0] + p[1]  # Accessing the values in normal way',\n",
       " '_i125': 'x, y = p     # Unpacking the tuple\\nx',\n",
       " '_i126': 'y',\n",
       " '_i127': 'globals()',\n",
       " '_i128': 'x = 1',\n",
       " '_i129': 'globals()',\n",
       " '_i13': 'sticks = 21\\n\\nprint(\"There are 21 sticks, you can take 1-4 number of sticks at a time.\")\\nprint(\"Whoever will take the last stick will loose\")\\n\\nwhile True:\\n    print(\"Sticks left: \" , sticks)\\n    sticks_taken = int(input(\"Take sticks(1-4):\"))\\n    if sticks == 1:\\n        print(\"You took the last stick, you loose\")\\n        break\\n    if sticks_taken >= 5 or sticks_taken <= 0:\\n        print(\"Wrong choice\")\\n        continue\\n    print(\"Computer took: \" , (5 - sticks_taken) , \"\\\\n\")\\n    sticks -= 5',\n",
       " '_i14': 'sticks = 21\\n\\nprint(\"There are 21 sticks, you can take 1-4 number of sticks at a time.\")\\nprint(\"Whoever will take the last stick will loose\")\\n\\nwhile True:\\n    print(\"Sticks left: \" , sticks)\\n    sticks_taken = int(input(\"Take sticks(1-4):\"))\\n    if sticks == 1:\\n        print(\"You took the last stick, you loose\")\\n        break\\n    if sticks_taken >= 5 or sticks_taken <= 0:\\n        print(\"Wrong choice\")\\n        continue\\n    print(\"Computer took: \" , (5 - sticks_taken) , \"\\\\n\")\\n    sticks -= 5',\n",
       " '_i15': 'sticks = 21\\n\\nprint(\"There are 21 sticks, you can take 1-4 number of sticks at a time.\")\\nprint(\"Whoever will take the last stick will loose\")\\n\\nwhile True:\\n    print(\"Sticks left: \" , sticks)\\n    sticks_taken = int(input(\"Take sticks(1-4):\"))\\n    if sticks == 1:\\n        print(\"You took the last stick, you loose\")\\n        break\\n    if sticks_taken >= 5 or sticks_taken <= 0:\\n        print(\"Wrong choice\")\\n        continue\\n    print(\"Computer took: \" , (5 - sticks_taken) , \"\\\\n\")\\n    sticks -= 5',\n",
       " '_i16': 'sticks = 21\\n\\nprint(\"There are 21 sticks, you can take 1-4 number of sticks at a time.\")\\nprint(\"Whoever will take the last stick will loose\")\\n\\nwhile True:\\n    print(\"Sticks left: \" , sticks)\\n    sticks_taken = int(input(\"Take sticks(1-4):\"))\\n    if sticks == 1:\\n        print(\"You took the last stick, you loose\")\\n        break\\n    if sticks_taken >= 5 or sticks_taken <= 0:\\n        print(\"Wrong choice\")\\n        continue\\n    print(\"Computer took: \" , (5 - sticks_taken) , \"\\\\n\")\\n    sticks -= 5',\n",
       " '_i17': 'sticks = 21\\n\\nprint(\"There are 21 sticks, you can take 1-4 number of sticks at a time.\")\\nprint(\"Whoever will take the last stick will loose\")\\n\\nwhile True:\\n    print(\"Sticks left: \" , sticks)\\n    sticks_taken = int(input(\"Take sticks(1-4):\"))\\n    if sticks == 1:\\n        print(\"You took the last stick, you loose\")\\n        break\\n    if sticks_taken >= 5 or sticks_taken <= 0:\\n        print(\"Wrong choice\")\\n        continue\\n    print(\"Computer took: \" , (5 - sticks_taken) , \"\\\\n\")\\n    sticks -= 5',\n",
       " '_i18': 'sticks = 21\\n\\nprint(\"There are 21 sticks, you can take 1-4 number of sticks at a time.\")\\nprint(\"Whoever will take the last stick will loose\")\\n\\nwhile True:\\n    print(\"Sticks left: \" , sticks)\\n    sticks_taken = int(input(\"Take sticks(1-4):\"))\\n    if sticks == 1:\\n        print(\"You took the last stick, you loose\")\\n        break\\n    if sticks_taken >= 5 or sticks_taken <= 0:\\n        print(\"Wrong choice\")\\n        continue\\n    print(\"Computer took: \" , (5 - sticks_taken) , \"\\\\n\")\\n    sticks -= 5',\n",
       " '_i19': 'sticks = 21\\n\\nprint(\"There are 21 sticks, you can take 1-4 number of sticks at a time.\")\\nprint(\"Whoever will take the last stick will loose\")\\n\\nwhile True:\\n    print(\"Sticks left: \" , sticks)\\n    sticks_taken = int(input(\"Take sticks(1-4):\"))\\n    if sticks == 1:\\n        print(\"You took the last stick, you loose\")\\n        break\\n    if sticks_taken >= 5 or sticks_taken <= 0:\\n        print(\"Wrong choice\")\\n        continue\\n    print(\"Computer took: \" , (5 - sticks_taken) , \"\\\\n\")\\n    sticks -= 5',\n",
       " '_i2': 'x = float(input(\"Enter the value of x: \"))\\nn = term = num = 1\\nsum = 1.0\\nwhile n <= 100:\\n    term *= x / n\\n    sum += term\\n    n += 1\\n    if term < 0.0001:\\n        break\\nprint \"No of Times= %d and Sum= %f\" % (n, sum)',\n",
       " '_i20': 'a = range(10)',\n",
       " '_i21': 'a',\n",
       " '_i22': '[x for x in a]',\n",
       " '_i23': '[x+1 for x in a]',\n",
       " '_i24': 'a = range(10)',\n",
       " '_i25': '[x for x in a if x % 2 == 0]',\n",
       " '_i26': '[x*x for x in a if x%2 == 0]',\n",
       " '_i27': 'a = [1, 2, 3, 4]\\nb = [2, 3, 5, 7]\\nzip(a, b)',\n",
       " '_i28': '[x+y for x, y in zip(a, b)]',\n",
       " '_i29': '[(x, y) for x in range(5) for y in range(5) if (x+y)%2 == 0]',\n",
       " '_i3': 'x = float(input(\"Enter the value of x: \"))\\nn = term = num = 1\\nsummation = 1.0\\nwhile n <= 100:\\n    term *= x / n\\n    summation += term\\n    n += 1\\n    if term < 0.0001:\\n        break\\nprint(\"No of Times= {} and Sum= {}\".format(n, summation))',\n",
       " '_i30': '[(x, y) for x in range(5) for y in range(5) if (x+y)%2 == 0 and x != y]',\n",
       " '_i31': '[(x, y) for x in range(5) for y in range(x) if (x+y)%2 == 0]',\n",
       " '_i32': 'n = 25\\n[(x, y, z) for x in range(1, n) for y in range(x, n) for z in range(y, n) if x*x + y*y == z*z]',\n",
       " '_i33': 'zip([1, 2, 3], [\"a\", \"b\", \"c\"])',\n",
       " '_i34': 'def square(x): return x * x\\nmap(square, range(5))',\n",
       " '_i35': 'def square(x): return x * x\\n    map(square, range(5))',\n",
       " '_i36': 'def square(x): return x * x\\nmap(square, range(5))',\n",
       " '_i37': 'def square(x): return x * x\\nprint(map(square, range(5)))',\n",
       " '_i38': 'def square(x): return x * x\\nmap(square, range(5))',\n",
       " '_i39': 'def square(x): return x * x\\nmap(square, [1,2,3,4,5])',\n",
       " '_i4': 'x = float(input(\"Enter the value of x: \"))\\nn = term = num = 1\\nsummation = 1.0\\nwhile n <= 100:\\n    term *= x / n\\n    summation += term\\n    n += 1\\n    if term < 0.0001:\\n        break\\nprint(\"No of Times= {} and Sum= {}\".format(n, summation))',\n",
       " '_i40': 'def square(x): return x * x\\nlist(map(square, [1,2,3,4,5]))',\n",
       " '_i41': \"# Given the list \\nnames = [ 'Bob', 'JOHN', 'alice', 'bob', 'ALICE', 'J', 'Bob' ]\",\n",
       " '_i42': \"# We require the set:\\n{ 'Bob', 'John', 'Alice' }\",\n",
       " '_i43': '{ name[0].upper() + name[1:].lower() for name in names if len(name) > 1 }',\n",
       " '_i44': \"a = {'x': 1, 'y': 2, 'z': 3}\",\n",
       " '_i45': \"a['x']\",\n",
       " '_i46': \"a['z']\",\n",
       " '_i47': \"b = {}\\nb['x'] = 2\\nb[2] = 'foo'\\nb[(1, 2)] = 3\\nb\",\n",
       " '_i48': \"a = {'x': 1, 'y': 2, 'z': 3}\",\n",
       " '_i49': \"a['x']\",\n",
       " '_i5': 'x = float(input(\"Enter the value of x: \"))\\nn = term = num = 1\\nsummation = 1.0\\nwhile n <= 100:\\n    term *= x / n\\n    summation += term\\n    n += 1\\n    if term < 0.0001:\\n        break\\nprint(\"No of Times= {} and Sum= {}\".format(n, summation))',\n",
       " '_i50': \"a['z']\",\n",
       " '_i51': \"b = {}\\nb['x'] = 2\\nb[2] = 'foo'\\nb[(1, 2)] = 3\\nb\",\n",
       " '_i52': \"a = {'x': 1, 'y': 2, 'z': 3}\",\n",
       " '_i53': \"del a['x']\",\n",
       " '_i54': 'a.keys()',\n",
       " '_i55': 'a.values()',\n",
       " '_i56': 'a.items()',\n",
       " '_i57': 'for key in a: print key',\n",
       " '_i58': 'for key, value in a.items(): print key, value',\n",
       " '_i59': 'for key in a: print(key)',\n",
       " '_i6': 'x = float(input(\"Enter the value of x: \"))\\nn = term = num = 1\\nsummation = 1.0\\nwhile n <= 100:\\n    term *= x / n\\n    summation += term\\n    n += 1\\n    if term < 0.0001:\\n        break\\nprint(\"No of Times= {} and Sum= {}\".format(n, summation))',\n",
       " '_i60': 'for key, value in a.items(): print(key, value)',\n",
       " '_i61': \"'x' in a\",\n",
       " '_i62': \"'p' in a\",\n",
       " '_i63': \"a.has_key('x')\",\n",
       " '_i64': \"a.has_key('p')\",\n",
       " '_i65': \"'g' in a.keys()\",\n",
       " '_i66': \"a.has_key('p')\",\n",
       " '_i67': \"d = {'x': 1, 'y': 2, 'z': 3}\",\n",
       " '_i68': \"'x' in a\",\n",
       " '_i69': \"a = {'x': 1, 'y': 2, 'z': 3}\",\n",
       " '_i7': 'while True:\\n    n = int(input(\"Please enter an Integer: \"))\\n    if n < 0:\\n        continue # this will take the execution back to the starting of the loop\\n    elif n == 0:\\n        break\\n    print(\"Square is \", n ** 2)\\nprint(\"Goodbye\")',\n",
       " '_i70': \"del a['x']\",\n",
       " '_i71': 'a.keys()',\n",
       " '_i72': 'a.values()',\n",
       " '_i73': 'a.items()',\n",
       " '_i74': 'for key in a: print(key)',\n",
       " '_i75': 'for key, value in a.items(): print(key, value)',\n",
       " '_i76': \"'x' in a\",\n",
       " '_i77': \"'p' in a\",\n",
       " '_i78': \"'g' in a.keys()\",\n",
       " '_i79': \"d = {'x': 1, 'y': 2, 'z': 3}\",\n",
       " '_i8': 'sticks = 21\\n\\nprint \"There are 21 sticks, you can take 1-4 number of sticks at a time.\"\\nprint \"Whoever will take the last stick will loose\"\\n\\nwhile True:\\n    print \"Sticks left: \" , sticks\\n    sticks_taken = int(input(\"Take sticks(1-4):\"))\\n    if sticks == 1:\\n        print(\"You took the last stick, you loose\")\\n        break\\n    if sticks_taken >= 5 or sticks_taken <= 0:\\n        print(\"Wrong choice\")\\n        continue\\n    print(\"Computer took: \" , (5 - sticks_taken) , \"\\\\n\")\\n    sticks -= 5',\n",
       " '_i80': \"d.get('x', 5)\",\n",
       " '_i81': \"d.get('p', 5)\",\n",
       " '_i82': \"d.setdefault('x', 0)\",\n",
       " '_i83': \"d.setdefault('p', 0)\",\n",
       " '_i84': \"'hello %(name)s' % {'name': 'python'}\",\n",
       " '_i85': \"'Chapter %(index)d: %(name)s' % {'index': 2, 'name': 'Data Structures'}\",\n",
       " '_i86': \"'hello $(name)'.format({'name': 'python'})\",\n",
       " '_i87': \"'hello %(name)'.format({'name': 'python'})\",\n",
       " '_i88': \"'hello %(name)' % {'name': 'python'}\",\n",
       " '_i89': \"'hello %(name)s' % {'name': 'python'}\",\n",
       " '_i9': 'sticks = 21\\n\\nprint \"There are 21 sticks, you can take 1-4 number of sticks at a time.\"\\nprint \"Whoever will take the last stick will loose\"\\n\\nwhile True:\\n    print(\"Sticks left: \" , sticks)\\n    sticks_taken = int(input(\"Take sticks(1-4):\"))\\n    if sticks == 1:\\n        print(\"You took the last stick, you loose\")\\n        break\\n    if sticks_taken >= 5 or sticks_taken <= 0:\\n        print(\"Wrong choice\")\\n        continue\\n    print(\"Computer took: \" , (5 - sticks_taken) , \"\\\\n\")\\n    sticks -= 5',\n",
       " '_i90': \"'Chapter %(index)d: %(name)s' % {'index': 2, 'name': 'Data Structures'}\",\n",
       " '_i91': \"'Tutorial %(index)d: %(name)s' % {'index': 2, 'name': 'Data Structures'}\",\n",
       " '_i92': 'def word_frequency(words):\\n    \"\"\"Returns frequency of each word given a list of words.\\n\\n        >>> word_frequency([\\'a\\', \\'b\\', \\'a\\'])\\n        {\\'a\\': 2, \\'b\\': 1}\\n    \"\"\"\\n    frequency = {}\\n    for w in words:\\n        try:\\n            frequency[w] += 1\\n        except KeyError:\\n            frequency[w] = 1\\n        \\n    return frequency',\n",
       " '_i93': \"# solution('ZnJlcXVlbmN5W3ddID0gZnJlcXVlbmN5LmdldCh3LCAwKSArIDE=')\",\n",
       " '_i94': 'def read_words(filename):\\n    return open(filename).read().split()',\n",
       " '_i95': 'def main(filename):\\n    frequency = word_frequency(read_words(filename))\\n    for word, count in frequency.items():\\n        print word, count\\n        \\n# In a Python Script, you\\'d add this to the bottom to make it run from the command line\\n# while also taking in a single argument referring to the filename.\\n# \\n# if __name__ == \"__main__\":\\n#     import sys\\n#     main(sys.argv[1])',\n",
       " '_i96': 'def main(filename):\\n    frequency = word_frequency(read_words(filename))\\n    for word, count in frequency.items():\\n        print(word, count)\\n        \\n# In a Python Script, you\\'d add this to the bottom to make it run from the command line\\n# while also taking in a single argument referring to the filename.\\n# \\n# if __name__ == \"__main__\":\\n#     import sys\\n#     main(sys.argv[1])',\n",
       " '_i97': \"main('usdeclar.txt')\",\n",
       " '_i98': \"main('http://ohhla.com/anonymous/nwa/straight/straight.nwa.txt')\",\n",
       " '_i99': 'def read_words(filename):\\n    return open(filename).read().split()',\n",
       " '_ih': ['',\n",
       "  'n = 0\\nwhile n < 11:\\n    print(n)\\n    n += 1',\n",
       "  'x = float(input(\"Enter the value of x: \"))\\nn = term = num = 1\\nsum = 1.0\\nwhile n <= 100:\\n    term *= x / n\\n    sum += term\\n    n += 1\\n    if term < 0.0001:\\n        break\\nprint \"No of Times= %d and Sum= %f\" % (n, sum)',\n",
       "  'x = float(input(\"Enter the value of x: \"))\\nn = term = num = 1\\nsummation = 1.0\\nwhile n <= 100:\\n    term *= x / n\\n    summation += term\\n    n += 1\\n    if term < 0.0001:\\n        break\\nprint(\"No of Times= {} and Sum= {}\".format(n, summation))',\n",
       "  'x = float(input(\"Enter the value of x: \"))\\nn = term = num = 1\\nsummation = 1.0\\nwhile n <= 100:\\n    term *= x / n\\n    summation += term\\n    n += 1\\n    if term < 0.0001:\\n        break\\nprint(\"No of Times= {} and Sum= {}\".format(n, summation))',\n",
       "  'x = float(input(\"Enter the value of x: \"))\\nn = term = num = 1\\nsummation = 1.0\\nwhile n <= 100:\\n    term *= x / n\\n    summation += term\\n    n += 1\\n    if term < 0.0001:\\n        break\\nprint(\"No of Times= {} and Sum= {}\".format(n, summation))',\n",
       "  'x = float(input(\"Enter the value of x: \"))\\nn = term = num = 1\\nsummation = 1.0\\nwhile n <= 100:\\n    term *= x / n\\n    summation += term\\n    n += 1\\n    if term < 0.0001:\\n        break\\nprint(\"No of Times= {} and Sum= {}\".format(n, summation))',\n",
       "  'while True:\\n    n = int(input(\"Please enter an Integer: \"))\\n    if n < 0:\\n        continue # this will take the execution back to the starting of the loop\\n    elif n == 0:\\n        break\\n    print(\"Square is \", n ** 2)\\nprint(\"Goodbye\")',\n",
       "  'sticks = 21\\n\\nprint \"There are 21 sticks, you can take 1-4 number of sticks at a time.\"\\nprint \"Whoever will take the last stick will loose\"\\n\\nwhile True:\\n    print \"Sticks left: \" , sticks\\n    sticks_taken = int(input(\"Take sticks(1-4):\"))\\n    if sticks == 1:\\n        print(\"You took the last stick, you loose\")\\n        break\\n    if sticks_taken >= 5 or sticks_taken <= 0:\\n        print(\"Wrong choice\")\\n        continue\\n    print(\"Computer took: \" , (5 - sticks_taken) , \"\\\\n\")\\n    sticks -= 5',\n",
       "  'sticks = 21\\n\\nprint \"There are 21 sticks, you can take 1-4 number of sticks at a time.\"\\nprint \"Whoever will take the last stick will loose\"\\n\\nwhile True:\\n    print(\"Sticks left: \" , sticks)\\n    sticks_taken = int(input(\"Take sticks(1-4):\"))\\n    if sticks == 1:\\n        print(\"You took the last stick, you loose\")\\n        break\\n    if sticks_taken >= 5 or sticks_taken <= 0:\\n        print(\"Wrong choice\")\\n        continue\\n    print(\"Computer took: \" , (5 - sticks_taken) , \"\\\\n\")\\n    sticks -= 5',\n",
       "  'sticks = 21\\n\\nprint(\"There are 21 sticks, you can take 1-4 number of sticks at a time.\")\\nprint(\"Whoever will take the last stick will loose\")\\n\\nwhile True:\\n    print(\"Sticks left: \" , sticks)\\n    sticks_taken = int(input(\"Take sticks(1-4):\"))\\n    if sticks == 1:\\n        print(\"You took the last stick, you loose\")\\n        break\\n    if sticks_taken >= 5 or sticks_taken <= 0:\\n        print(\"Wrong choice\")\\n        continue\\n    print(\"Computer took: \" , (5 - sticks_taken) , \"\\\\n\")\\n    sticks -= 5',\n",
       "  'sticks = 21\\n\\nprint(\"There are 21 sticks, you can take 1-4 number of sticks at a time.\")\\nprint(\"Whoever will take the last stick will loose\")\\n\\nwhile True:\\n    print(\"Sticks left: \" , sticks)\\n    sticks_taken = int(input(\"Take sticks(1-4):\"))\\n    if sticks == 1:\\n        print(\"You took the last stick, you loose\")\\n        break\\n    if sticks_taken >= 5 or sticks_taken <= 0:\\n        print(\"Wrong choice\")\\n        continue\\n    print(\"Computer took: \" , (5 - sticks_taken) , \"\\\\n\")\\n    sticks -= 5',\n",
       "  'sticks = 21\\n\\nprint(\"There are 21 sticks, you can take 1-4 number of sticks at a time.\")\\nprint(\"Whoever will take the last stick will loose\")\\n\\nwhile True:\\n    print(\"Sticks left: \" , sticks)\\n    sticks_taken = int(input(\"Take sticks(1-4):\"))\\n    if sticks == 1:\\n        print(\"You took the last stick, you loose\")\\n        break\\n    if sticks_taken >= 5 or sticks_taken <= 0:\\n        print(\"Wrong choice\")\\n        continue\\n    print(\"Computer took: \" , (5 - sticks_taken) , \"\\\\n\")\\n    sticks -= 5',\n",
       "  'sticks = 21\\n\\nprint(\"There are 21 sticks, you can take 1-4 number of sticks at a time.\")\\nprint(\"Whoever will take the last stick will loose\")\\n\\nwhile True:\\n    print(\"Sticks left: \" , sticks)\\n    sticks_taken = int(input(\"Take sticks(1-4):\"))\\n    if sticks == 1:\\n        print(\"You took the last stick, you loose\")\\n        break\\n    if sticks_taken >= 5 or sticks_taken <= 0:\\n        print(\"Wrong choice\")\\n        continue\\n    print(\"Computer took: \" , (5 - sticks_taken) , \"\\\\n\")\\n    sticks -= 5',\n",
       "  'sticks = 21\\n\\nprint(\"There are 21 sticks, you can take 1-4 number of sticks at a time.\")\\nprint(\"Whoever will take the last stick will loose\")\\n\\nwhile True:\\n    print(\"Sticks left: \" , sticks)\\n    sticks_taken = int(input(\"Take sticks(1-4):\"))\\n    if sticks == 1:\\n        print(\"You took the last stick, you loose\")\\n        break\\n    if sticks_taken >= 5 or sticks_taken <= 0:\\n        print(\"Wrong choice\")\\n        continue\\n    print(\"Computer took: \" , (5 - sticks_taken) , \"\\\\n\")\\n    sticks -= 5',\n",
       "  'sticks = 21\\n\\nprint(\"There are 21 sticks, you can take 1-4 number of sticks at a time.\")\\nprint(\"Whoever will take the last stick will loose\")\\n\\nwhile True:\\n    print(\"Sticks left: \" , sticks)\\n    sticks_taken = int(input(\"Take sticks(1-4):\"))\\n    if sticks == 1:\\n        print(\"You took the last stick, you loose\")\\n        break\\n    if sticks_taken >= 5 or sticks_taken <= 0:\\n        print(\"Wrong choice\")\\n        continue\\n    print(\"Computer took: \" , (5 - sticks_taken) , \"\\\\n\")\\n    sticks -= 5',\n",
       "  'sticks = 21\\n\\nprint(\"There are 21 sticks, you can take 1-4 number of sticks at a time.\")\\nprint(\"Whoever will take the last stick will loose\")\\n\\nwhile True:\\n    print(\"Sticks left: \" , sticks)\\n    sticks_taken = int(input(\"Take sticks(1-4):\"))\\n    if sticks == 1:\\n        print(\"You took the last stick, you loose\")\\n        break\\n    if sticks_taken >= 5 or sticks_taken <= 0:\\n        print(\"Wrong choice\")\\n        continue\\n    print(\"Computer took: \" , (5 - sticks_taken) , \"\\\\n\")\\n    sticks -= 5',\n",
       "  'sticks = 21\\n\\nprint(\"There are 21 sticks, you can take 1-4 number of sticks at a time.\")\\nprint(\"Whoever will take the last stick will loose\")\\n\\nwhile True:\\n    print(\"Sticks left: \" , sticks)\\n    sticks_taken = int(input(\"Take sticks(1-4):\"))\\n    if sticks == 1:\\n        print(\"You took the last stick, you loose\")\\n        break\\n    if sticks_taken >= 5 or sticks_taken <= 0:\\n        print(\"Wrong choice\")\\n        continue\\n    print(\"Computer took: \" , (5 - sticks_taken) , \"\\\\n\")\\n    sticks -= 5',\n",
       "  'sticks = 21\\n\\nprint(\"There are 21 sticks, you can take 1-4 number of sticks at a time.\")\\nprint(\"Whoever will take the last stick will loose\")\\n\\nwhile True:\\n    print(\"Sticks left: \" , sticks)\\n    sticks_taken = int(input(\"Take sticks(1-4):\"))\\n    if sticks == 1:\\n        print(\"You took the last stick, you loose\")\\n        break\\n    if sticks_taken >= 5 or sticks_taken <= 0:\\n        print(\"Wrong choice\")\\n        continue\\n    print(\"Computer took: \" , (5 - sticks_taken) , \"\\\\n\")\\n    sticks -= 5',\n",
       "  'sticks = 21\\n\\nprint(\"There are 21 sticks, you can take 1-4 number of sticks at a time.\")\\nprint(\"Whoever will take the last stick will loose\")\\n\\nwhile True:\\n    print(\"Sticks left: \" , sticks)\\n    sticks_taken = int(input(\"Take sticks(1-4):\"))\\n    if sticks == 1:\\n        print(\"You took the last stick, you loose\")\\n        break\\n    if sticks_taken >= 5 or sticks_taken <= 0:\\n        print(\"Wrong choice\")\\n        continue\\n    print(\"Computer took: \" , (5 - sticks_taken) , \"\\\\n\")\\n    sticks -= 5',\n",
       "  'a = range(10)',\n",
       "  'a',\n",
       "  '[x for x in a]',\n",
       "  '[x+1 for x in a]',\n",
       "  'a = range(10)',\n",
       "  '[x for x in a if x % 2 == 0]',\n",
       "  '[x*x for x in a if x%2 == 0]',\n",
       "  'a = [1, 2, 3, 4]\\nb = [2, 3, 5, 7]\\nzip(a, b)',\n",
       "  '[x+y for x, y in zip(a, b)]',\n",
       "  '[(x, y) for x in range(5) for y in range(5) if (x+y)%2 == 0]',\n",
       "  '[(x, y) for x in range(5) for y in range(5) if (x+y)%2 == 0 and x != y]',\n",
       "  '[(x, y) for x in range(5) for y in range(x) if (x+y)%2 == 0]',\n",
       "  'n = 25\\n[(x, y, z) for x in range(1, n) for y in range(x, n) for z in range(y, n) if x*x + y*y == z*z]',\n",
       "  'zip([1, 2, 3], [\"a\", \"b\", \"c\"])',\n",
       "  'def square(x): return x * x\\nmap(square, range(5))',\n",
       "  'def square(x): return x * x\\n    map(square, range(5))',\n",
       "  'def square(x): return x * x\\nmap(square, range(5))',\n",
       "  'def square(x): return x * x\\nprint(map(square, range(5)))',\n",
       "  'def square(x): return x * x\\nmap(square, range(5))',\n",
       "  'def square(x): return x * x\\nmap(square, [1,2,3,4,5])',\n",
       "  'def square(x): return x * x\\nlist(map(square, [1,2,3,4,5]))',\n",
       "  \"# Given the list \\nnames = [ 'Bob', 'JOHN', 'alice', 'bob', 'ALICE', 'J', 'Bob' ]\",\n",
       "  \"# We require the set:\\n{ 'Bob', 'John', 'Alice' }\",\n",
       "  '{ name[0].upper() + name[1:].lower() for name in names if len(name) > 1 }',\n",
       "  \"a = {'x': 1, 'y': 2, 'z': 3}\",\n",
       "  \"a['x']\",\n",
       "  \"a['z']\",\n",
       "  \"b = {}\\nb['x'] = 2\\nb[2] = 'foo'\\nb[(1, 2)] = 3\\nb\",\n",
       "  \"a = {'x': 1, 'y': 2, 'z': 3}\",\n",
       "  \"a['x']\",\n",
       "  \"a['z']\",\n",
       "  \"b = {}\\nb['x'] = 2\\nb[2] = 'foo'\\nb[(1, 2)] = 3\\nb\",\n",
       "  \"a = {'x': 1, 'y': 2, 'z': 3}\",\n",
       "  \"del a['x']\",\n",
       "  'a.keys()',\n",
       "  'a.values()',\n",
       "  'a.items()',\n",
       "  'for key in a: print key',\n",
       "  'for key, value in a.items(): print key, value',\n",
       "  'for key in a: print(key)',\n",
       "  'for key, value in a.items(): print(key, value)',\n",
       "  \"'x' in a\",\n",
       "  \"'p' in a\",\n",
       "  \"a.has_key('x')\",\n",
       "  \"a.has_key('p')\",\n",
       "  \"'g' in a.keys()\",\n",
       "  \"a.has_key('p')\",\n",
       "  \"d = {'x': 1, 'y': 2, 'z': 3}\",\n",
       "  \"'x' in a\",\n",
       "  \"a = {'x': 1, 'y': 2, 'z': 3}\",\n",
       "  \"del a['x']\",\n",
       "  'a.keys()',\n",
       "  'a.values()',\n",
       "  'a.items()',\n",
       "  'for key in a: print(key)',\n",
       "  'for key, value in a.items(): print(key, value)',\n",
       "  \"'x' in a\",\n",
       "  \"'p' in a\",\n",
       "  \"'g' in a.keys()\",\n",
       "  \"d = {'x': 1, 'y': 2, 'z': 3}\",\n",
       "  \"d.get('x', 5)\",\n",
       "  \"d.get('p', 5)\",\n",
       "  \"d.setdefault('x', 0)\",\n",
       "  \"d.setdefault('p', 0)\",\n",
       "  \"'hello %(name)s' % {'name': 'python'}\",\n",
       "  \"'Chapter %(index)d: %(name)s' % {'index': 2, 'name': 'Data Structures'}\",\n",
       "  \"'hello $(name)'.format({'name': 'python'})\",\n",
       "  \"'hello %(name)'.format({'name': 'python'})\",\n",
       "  \"'hello %(name)' % {'name': 'python'}\",\n",
       "  \"'hello %(name)s' % {'name': 'python'}\",\n",
       "  \"'Chapter %(index)d: %(name)s' % {'index': 2, 'name': 'Data Structures'}\",\n",
       "  \"'Tutorial %(index)d: %(name)s' % {'index': 2, 'name': 'Data Structures'}\",\n",
       "  'def word_frequency(words):\\n    \"\"\"Returns frequency of each word given a list of words.\\n\\n        >>> word_frequency([\\'a\\', \\'b\\', \\'a\\'])\\n        {\\'a\\': 2, \\'b\\': 1}\\n    \"\"\"\\n    frequency = {}\\n    for w in words:\\n        try:\\n            frequency[w] += 1\\n        except KeyError:\\n            frequency[w] = 1\\n        \\n    return frequency',\n",
       "  \"# solution('ZnJlcXVlbmN5W3ddID0gZnJlcXVlbmN5LmdldCh3LCAwKSArIDE=')\",\n",
       "  'def read_words(filename):\\n    return open(filename).read().split()',\n",
       "  'def main(filename):\\n    frequency = word_frequency(read_words(filename))\\n    for word, count in frequency.items():\\n        print word, count\\n        \\n# In a Python Script, you\\'d add this to the bottom to make it run from the command line\\n# while also taking in a single argument referring to the filename.\\n# \\n# if __name__ == \"__main__\":\\n#     import sys\\n#     main(sys.argv[1])',\n",
       "  'def main(filename):\\n    frequency = word_frequency(read_words(filename))\\n    for word, count in frequency.items():\\n        print(word, count)\\n        \\n# In a Python Script, you\\'d add this to the bottom to make it run from the command line\\n# while also taking in a single argument referring to the filename.\\n# \\n# if __name__ == \"__main__\":\\n#     import sys\\n#     main(sys.argv[1])',\n",
       "  \"main('usdeclar.txt')\",\n",
       "  \"main('http://ohhla.com/anonymous/nwa/straight/straight.nwa.txt')\",\n",
       "  'def read_words(filename):\\n    return open(filename).read().split()',\n",
       "  'def main(filename):\\n    frequency = word_frequency(read_words(filename))\\n    for word, count in frequency.items():\\n        print(word, count)\\n        \\n# In a Python Script, you\\'d add this to the bottom to make it run from the command line\\n# while also taking in a single argument referring to the filename.\\n# \\n# if __name__ == \"__main__\":\\n#     import sys\\n#     main(sys.argv[1])',\n",
       "  \"main('files/straight.nwa.txt')\",\n",
       "  \"main('files/straight_outta_compton.txt')\",\n",
       "  'def main(filename):\\n    frequency = word_frequency(read_words(filename))\\n    for word, count in frequency.items():\\n        print(word.lower(), count)\\n        \\n# In a Python Script, you\\'d add this to the bottom to make it run from the command line\\n# while also taking in a single argument referring to the filename.\\n# \\n# if __name__ == \"__main__\":\\n#     import sys\\n#     main(sys.argv[1])',\n",
       "  \"main('files/straight_outta_compton.txt')\",\n",
       "  \"mcase = {'a':10, 'b': 34, 'A': 7, 'Z':3}\\n\\nmcase_frequency = { k.lower() : mcase.get(k.lower(), 0) + mcase.get(k.upper(), 0) for k in mcase.keys() }\\n\\n# mcase_frequency == {'a': 17, 'z': 3, 'b': 34}\",\n",
       "  \"a_dict = {'a': 1, 'b': 2, 'c': 3}\\n{value:key for key, value in a_dict.items()}\",\n",
       "  \"a_dict = {'a': [1, 2, 3], 'b': 4, 'c': 5}\",\n",
       "  '# {value:key for key, value in a_dict.items()}',\n",
       "  'import collections',\n",
       "  \"from collections import Counter\\nimport re\\npath = 'usdeclar.txt'\\n# let's be a bit more precise about what we mean by 'words'\\nwords = re.findall('\\\\w+', open(path).read().lower())\\nCounter(words).most_common(10)\",\n",
       "  \"from collections import Counter\\nimport re\\npath = 'files/straight_outta_compton.txt'\\n# let's be a bit more precise about what we mean by 'words'\\nwords = re.findall('\\\\w+', open(path).read().lower())\\nCounter(words).most_common(10)\",\n",
       "  '# dir(Counter)',\n",
       "  \"[n for n in dir(Counter) if '__' not in n]\",\n",
       "  \"from collections import Counter\\nimport re\\npath = 'files/straight_outta_compton.txt'\\n# let's be a bit more precise about what we mean by 'words'\\nwords = re.findall('\\\\w+', open(path).read().lower())\\nCounter(words).most_common(10)\",\n",
       "  '# dir(Counter)',\n",
       "  \"[n for n in dir(Counter) if '__' not in n]\",\n",
       "  'c = Counter(a=4, b=2, c=0, d=-2)',\n",
       "  'list(c.elements())',\n",
       "  \"Counter('abracadabra').most_common(3)\",\n",
       "  'def word_frequency(words):\\n    frequency = {}\\n    for w in words:\\n        try:\\n            frequency[w] += 1\\n        except KeyError:\\n            frequency[w] = 1',\n",
       "  'from collections import defaultdict\\n\\ndef word_frequency(words):\\n    frequency = defaultdict(int)\\n    for w in words:\\n        frequency[w] += 1',\n",
       "  \"from collections import namedtuple\\n\\nPoint = namedtuple('Point', ['x', 'y'])\\np = Point(10, y=20)\\np\",\n",
       "  'Point(x=10, y=20)\\np.x + p.y',\n",
       "  'p[0] + p[1]  # Accessing the values in normal way',\n",
       "  'x, y = p     # Unpacking the tuple\\nx',\n",
       "  'y',\n",
       "  'globals()',\n",
       "  'x = 1',\n",
       "  'globals()'],\n",
       " '_ii': 'globals()',\n",
       " '_iii': 'y',\n",
       " '_oh': {21: range(0, 10),\n",
       "  22: [0, 1, 2, 3, 4, 5, 6, 7, 8, 9],\n",
       "  23: [1, 2, 3, 4, 5, 6, 7, 8, 9, 10],\n",
       "  25: [0, 2, 4, 6, 8],\n",
       "  26: [0, 4, 16, 36, 64],\n",
       "  27: <zip at 0x7f8bbefac148>,\n",
       "  28: [3, 5, 8, 11],\n",
       "  29: [(0, 0),\n",
       "   (0, 2),\n",
       "   (0, 4),\n",
       "   (1, 1),\n",
       "   (1, 3),\n",
       "   (2, 0),\n",
       "   (2, 2),\n",
       "   (2, 4),\n",
       "   (3, 1),\n",
       "   (3, 3),\n",
       "   (4, 0),\n",
       "   (4, 2),\n",
       "   (4, 4)],\n",
       "  30: [(0, 2), (0, 4), (1, 3), (2, 0), (2, 4), (3, 1), (4, 0), (4, 2)],\n",
       "  31: [(2, 0), (3, 1), (4, 0), (4, 2)],\n",
       "  32: [(3, 4, 5),\n",
       "   (5, 12, 13),\n",
       "   (6, 8, 10),\n",
       "   (8, 15, 17),\n",
       "   (9, 12, 15),\n",
       "   (12, 16, 20)],\n",
       "  33: <zip at 0x7f8bbefb3ec8>,\n",
       "  34: <map at 0x7f8bbefb7c50>,\n",
       "  36: <map at 0x7f8bbef47630>,\n",
       "  38: <map at 0x7f8bbef47160>,\n",
       "  39: <map at 0x7f8bbef47c50>,\n",
       "  40: [1, 4, 9, 16, 25],\n",
       "  42: {'Alice', 'Bob', 'John'},\n",
       "  43: {'Alice', 'Bob', 'John'},\n",
       "  45: 1,\n",
       "  46: 3,\n",
       "  47: {'x': 2, 2: 'foo', (1, 2): 3},\n",
       "  49: 1,\n",
       "  50: 3,\n",
       "  51: {'x': 2, 2: 'foo', (1, 2): 3},\n",
       "  54: dict_keys(['y', 'z']),\n",
       "  55: dict_values([2, 3]),\n",
       "  56: dict_items([('y', 2), ('z', 3)]),\n",
       "  61: False,\n",
       "  62: False,\n",
       "  65: False,\n",
       "  68: False,\n",
       "  71: dict_keys(['y', 'z']),\n",
       "  72: dict_values([2, 3]),\n",
       "  73: dict_items([('y', 2), ('z', 3)]),\n",
       "  76: False,\n",
       "  77: False,\n",
       "  78: False,\n",
       "  80: 1,\n",
       "  81: 5,\n",
       "  82: 1,\n",
       "  83: 0,\n",
       "  84: 'hello python',\n",
       "  85: 'Chapter 2: Data Structures',\n",
       "  86: 'hello $(name)',\n",
       "  87: 'hello %(name)',\n",
       "  89: 'hello python',\n",
       "  90: 'Chapter 2: Data Structures',\n",
       "  91: 'Tutorial 2: Data Structures',\n",
       "  106: {1: 'a', 2: 'b', 3: 'c'},\n",
       "  111: [('a', 38),\n",
       "   ('i', 37),\n",
       "   ('the', 36),\n",
       "   ('you', 17),\n",
       "   ('m', 16),\n",
       "   ('and', 15),\n",
       "   ('compton', 12),\n",
       "   ('that', 12),\n",
       "   ('is', 12),\n",
       "   ('of', 11)],\n",
       "  113: ['_keep_positive',\n",
       "   'clear',\n",
       "   'copy',\n",
       "   'elements',\n",
       "   'fromkeys',\n",
       "   'get',\n",
       "   'items',\n",
       "   'keys',\n",
       "   'most_common',\n",
       "   'pop',\n",
       "   'popitem',\n",
       "   'setdefault',\n",
       "   'subtract',\n",
       "   'update',\n",
       "   'values'],\n",
       "  114: [('a', 38),\n",
       "   ('i', 37),\n",
       "   ('the', 36),\n",
       "   ('you', 17),\n",
       "   ('m', 16),\n",
       "   ('and', 15),\n",
       "   ('compton', 12),\n",
       "   ('that', 12),\n",
       "   ('is', 12),\n",
       "   ('of', 11)],\n",
       "  116: ['_keep_positive',\n",
       "   'clear',\n",
       "   'copy',\n",
       "   'elements',\n",
       "   'fromkeys',\n",
       "   'get',\n",
       "   'items',\n",
       "   'keys',\n",
       "   'most_common',\n",
       "   'pop',\n",
       "   'popitem',\n",
       "   'setdefault',\n",
       "   'subtract',\n",
       "   'update',\n",
       "   'values'],\n",
       "  118: ['a', 'a', 'a', 'a', 'b', 'b'],\n",
       "  119: [('a', 5), ('b', 2), ('r', 2)],\n",
       "  122: Point(x=10, y=20),\n",
       "  123: 30,\n",
       "  124: 30,\n",
       "  125: 10,\n",
       "  126: 20,\n",
       "  127: {...}},\n",
       " '_sh': <module 'IPython.core.shadowns' from '/home/shivam/anaconda3/lib/python3.6/site-packages/IPython/core/shadowns.py'>,\n",
       " 'a': {'y': 2, 'z': 3},\n",
       " 'a_dict': {'a': [1, 2, 3], 'b': 4, 'c': 5},\n",
       " 'b': {'x': 2, 2: 'foo', (1, 2): 3},\n",
       " 'c': Counter({'a': 4, 'b': 2, 'c': 0, 'd': -2}),\n",
       " 'collections': <module 'collections' from '/home/shivam/anaconda3/lib/python3.6/collections/__init__.py'>,\n",
       " 'd': {'p': 0, 'x': 1, 'y': 2, 'z': 3},\n",
       " 'defaultdict': collections.defaultdict,\n",
       " 'exit': <IPython.core.autocall.ZMQExitAutocall at 0x7f8bce13e780>,\n",
       " 'get_ipython': <bound method InteractiveShell.get_ipython of <ipykernel.zmqshell.ZMQInteractiveShell object at 0x7f8bd73e2d30>>,\n",
       " 'key': 'z',\n",
       " 'main': <function __main__.main>,\n",
       " 'mcase': {'A': 7, 'Z': 3, 'a': 10, 'b': 34},\n",
       " 'mcase_frequency': {'a': 17, 'b': 34, 'z': 3},\n",
       " 'n': 25,\n",
       " 'namedtuple': <function collections.namedtuple>,\n",
       " 'names': ['Bob', 'JOHN', 'alice', 'bob', 'ALICE', 'J', 'Bob'],\n",
       " 'num': 1,\n",
       " 'p': Point(x=10, y=20),\n",
       " 'path': 'files/straight_outta_compton.txt',\n",
       " 'quit': <IPython.core.autocall.ZMQExitAutocall at 0x7f8bce13e780>,\n",
       " 're': <module 're' from '/home/shivam/anaconda3/lib/python3.6/re.py'>,\n",
       " 'read_words': <function __main__.read_words>,\n",
       " 'square': <function __main__.square>,\n",
       " 'sticks': 1,\n",
       " 'sticks_taken': 1,\n",
       " 'summation': 2.71827876984127,\n",
       " 'term': 2.4801587301587298e-05,\n",
       " 'value': 3,\n",
       " 'word_frequency': <function __main__.word_frequency>,\n",
       " 'words': ['you',\n",
       "  'are',\n",
       "  'now',\n",
       "  'about',\n",
       "  'to',\n",
       "  'witness',\n",
       "  'the',\n",
       "  'strength',\n",
       "  'of',\n",
       "  'street',\n",
       "  'knowledge',\n",
       "  'verse',\n",
       "  'one',\n",
       "  'ice',\n",
       "  'cube',\n",
       "  'straight',\n",
       "  'outta',\n",
       "  'compton',\n",
       "  'crazy',\n",
       "  'motherfucker',\n",
       "  'named',\n",
       "  'ice',\n",
       "  'cube',\n",
       "  'from',\n",
       "  'the',\n",
       "  'gang',\n",
       "  'called',\n",
       "  'niggaz',\n",
       "  'with',\n",
       "  'attitudes',\n",
       "  'when',\n",
       "  'i',\n",
       "  'm',\n",
       "  'called',\n",
       "  'off',\n",
       "  'i',\n",
       "  'got',\n",
       "  'a',\n",
       "  'sawed',\n",
       "  'off',\n",
       "  'squeeze',\n",
       "  'the',\n",
       "  'trigger',\n",
       "  'and',\n",
       "  'bodies',\n",
       "  'are',\n",
       "  'hauled',\n",
       "  'off',\n",
       "  'you',\n",
       "  'too',\n",
       "  'boy',\n",
       "  'if',\n",
       "  'ya',\n",
       "  'fuck',\n",
       "  'with',\n",
       "  'me',\n",
       "  'the',\n",
       "  'police',\n",
       "  'are',\n",
       "  'gonna',\n",
       "  'hafta',\n",
       "  'come',\n",
       "  'and',\n",
       "  'get',\n",
       "  'me',\n",
       "  'off',\n",
       "  'yo',\n",
       "  'ass',\n",
       "  'that',\n",
       "  's',\n",
       "  'how',\n",
       "  'i',\n",
       "  'm',\n",
       "  'goin',\n",
       "  'out',\n",
       "  'for',\n",
       "  'the',\n",
       "  'punk',\n",
       "  'motherfuckers',\n",
       "  'that',\n",
       "  's',\n",
       "  'showin',\n",
       "  'out',\n",
       "  'niggaz',\n",
       "  'start',\n",
       "  'to',\n",
       "  'mumble',\n",
       "  'they',\n",
       "  'wanna',\n",
       "  'rumble',\n",
       "  'mix',\n",
       "  'em',\n",
       "  'and',\n",
       "  'cook',\n",
       "  'em',\n",
       "  'in',\n",
       "  'a',\n",
       "  'pot',\n",
       "  'like',\n",
       "  'gumbo',\n",
       "  'goin',\n",
       "  'off',\n",
       "  'on',\n",
       "  'a',\n",
       "  'motherfucker',\n",
       "  'like',\n",
       "  'that',\n",
       "  'with',\n",
       "  'a',\n",
       "  'gat',\n",
       "  'that',\n",
       "  's',\n",
       "  'pointed',\n",
       "  'at',\n",
       "  'yo',\n",
       "  'ass',\n",
       "  'so',\n",
       "  'give',\n",
       "  'it',\n",
       "  'up',\n",
       "  'smooth',\n",
       "  'ain',\n",
       "  't',\n",
       "  'no',\n",
       "  'tellin',\n",
       "  'when',\n",
       "  'i',\n",
       "  'm',\n",
       "  'down',\n",
       "  'for',\n",
       "  'a',\n",
       "  'jack',\n",
       "  'move',\n",
       "  'here',\n",
       "  's',\n",
       "  'a',\n",
       "  'murder',\n",
       "  'rap',\n",
       "  'to',\n",
       "  'keep',\n",
       "  'yo',\n",
       "  'dancin',\n",
       "  'with',\n",
       "  'a',\n",
       "  'crime',\n",
       "  'record',\n",
       "  'like',\n",
       "  'charles',\n",
       "  'manson',\n",
       "  'ak',\n",
       "  '47',\n",
       "  'is',\n",
       "  'the',\n",
       "  'tool',\n",
       "  'don',\n",
       "  't',\n",
       "  'make',\n",
       "  'me',\n",
       "  'act',\n",
       "  'the',\n",
       "  'motherfuckin',\n",
       "  'fool',\n",
       "  'me',\n",
       "  'you',\n",
       "  'can',\n",
       "  'go',\n",
       "  'toe',\n",
       "  'to',\n",
       "  'toe',\n",
       "  'no',\n",
       "  'maybe',\n",
       "  'i',\n",
       "  'm',\n",
       "  'knockin',\n",
       "  'niggaz',\n",
       "  'out',\n",
       "  'tha',\n",
       "  'box',\n",
       "  'daily',\n",
       "  'yo',\n",
       "  'weekly',\n",
       "  'monthly',\n",
       "  'and',\n",
       "  'yearly',\n",
       "  'until',\n",
       "  'them',\n",
       "  'dumb',\n",
       "  'motherfuckers',\n",
       "  'see',\n",
       "  'clearly',\n",
       "  'that',\n",
       "  'i',\n",
       "  'm',\n",
       "  'down',\n",
       "  'with',\n",
       "  'the',\n",
       "  'capital',\n",
       "  'c',\n",
       "  'p',\n",
       "  't',\n",
       "  'boy',\n",
       "  'you',\n",
       "  'can',\n",
       "  't',\n",
       "  'fuck',\n",
       "  'with',\n",
       "  'me',\n",
       "  'so',\n",
       "  'when',\n",
       "  'i',\n",
       "  'm',\n",
       "  'in',\n",
       "  'your',\n",
       "  'neighborhood',\n",
       "  'you',\n",
       "  'better',\n",
       "  'duck',\n",
       "  'coz',\n",
       "  'ice',\n",
       "  'cube',\n",
       "  'is',\n",
       "  'crazy',\n",
       "  'as',\n",
       "  'fuck',\n",
       "  'as',\n",
       "  'i',\n",
       "  'leave',\n",
       "  'believe',\n",
       "  'i',\n",
       "  'm',\n",
       "  'stompin',\n",
       "  'but',\n",
       "  'when',\n",
       "  'i',\n",
       "  'come',\n",
       "  'back',\n",
       "  'boy',\n",
       "  'i',\n",
       "  'm',\n",
       "  'comin',\n",
       "  'straight',\n",
       "  'outta',\n",
       "  'compton',\n",
       "  'chorus',\n",
       "  'city',\n",
       "  'of',\n",
       "  'compton',\n",
       "  'city',\n",
       "  'of',\n",
       "  'compton',\n",
       "  'eazy',\n",
       "  'e',\n",
       "  'yo',\n",
       "  'ren',\n",
       "  'mc',\n",
       "  'ren',\n",
       "  'whassup',\n",
       "  'eazy',\n",
       "  'e',\n",
       "  'tell',\n",
       "  'em',\n",
       "  'where',\n",
       "  'you',\n",
       "  'from',\n",
       "  'verse',\n",
       "  'two',\n",
       "  'mc',\n",
       "  'ren',\n",
       "  'straight',\n",
       "  'outta',\n",
       "  'compton',\n",
       "  'another',\n",
       "  'crazy',\n",
       "  'ass',\n",
       "  'nigga',\n",
       "  'more',\n",
       "  'punks',\n",
       "  'i',\n",
       "  'smoke',\n",
       "  'yo',\n",
       "  'my',\n",
       "  'rep',\n",
       "  'gets',\n",
       "  'bigger',\n",
       "  'i',\n",
       "  'm',\n",
       "  'a',\n",
       "  'bad',\n",
       "  'motherfucker',\n",
       "  'and',\n",
       "  'you',\n",
       "  'know',\n",
       "  'this',\n",
       "  'but',\n",
       "  'the',\n",
       "  'pussy',\n",
       "  'ass',\n",
       "  'niggaz',\n",
       "  'don',\n",
       "  't',\n",
       "  'show',\n",
       "  'this',\n",
       "  'but',\n",
       "  'i',\n",
       "  'don',\n",
       "  't',\n",
       "  'give',\n",
       "  'a',\n",
       "  'fuck',\n",
       "  'i',\n",
       "  'ma',\n",
       "  'make',\n",
       "  'my',\n",
       "  'snaps',\n",
       "  'if',\n",
       "  'not',\n",
       "  'from',\n",
       "  'the',\n",
       "  'records',\n",
       "  'from',\n",
       "  'jackin',\n",
       "  'the',\n",
       "  'crops',\n",
       "  'just',\n",
       "  'like',\n",
       "  'burglary',\n",
       "  'the',\n",
       "  'definition',\n",
       "  'is',\n",
       "  'jackin',\n",
       "  'and',\n",
       "  'when',\n",
       "  'illegally',\n",
       "  'armed',\n",
       "  'it',\n",
       "  's',\n",
       "  'called',\n",
       "  'packin',\n",
       "  'shoot',\n",
       "  'a',\n",
       "  'motherfucker',\n",
       "  'in',\n",
       "  'a',\n",
       "  'minute',\n",
       "  'i',\n",
       "  'find',\n",
       "  'a',\n",
       "  'good',\n",
       "  'piece',\n",
       "  'o',\n",
       "  'pussy',\n",
       "  'i',\n",
       "  'go',\n",
       "  'up',\n",
       "  'in',\n",
       "  'it',\n",
       "  'so',\n",
       "  'if',\n",
       "  'you',\n",
       "  're',\n",
       "  'at',\n",
       "  'a',\n",
       "  'show',\n",
       "  'in',\n",
       "  'the',\n",
       "  'front',\n",
       "  'row',\n",
       "  'i',\n",
       "  'm',\n",
       "  'a',\n",
       "  'call',\n",
       "  'you',\n",
       "  'a',\n",
       "  'bitch',\n",
       "  'or',\n",
       "  'dirty',\n",
       "  'ass',\n",
       "  'ho',\n",
       "  'you',\n",
       "  'll',\n",
       "  'probably',\n",
       "  'get',\n",
       "  'mad',\n",
       "  'like',\n",
       "  'a',\n",
       "  'bitch',\n",
       "  'is',\n",
       "  'supposed',\n",
       "  'to',\n",
       "  'but',\n",
       "  'that',\n",
       "  'shows',\n",
       "  'me',\n",
       "  'slut',\n",
       "  'you',\n",
       "  're',\n",
       "  'composed',\n",
       "  'to',\n",
       "  'a',\n",
       "  'crazy',\n",
       "  'muthafucker',\n",
       "  'from',\n",
       "  'tha',\n",
       "  'street',\n",
       "  'attitude',\n",
       "  'legit',\n",
       "  'cause',\n",
       "  'i',\n",
       "  'm',\n",
       "  'tearin',\n",
       "  'up',\n",
       "  'shit',\n",
       "  'mc',\n",
       "  'ren',\n",
       "  'controls',\n",
       "  'the',\n",
       "  'automatic',\n",
       "  'for',\n",
       "  'any',\n",
       "  'dumb',\n",
       "  'muthafucker',\n",
       "  'that',\n",
       "  'starts',\n",
       "  'static',\n",
       "  'not',\n",
       "  'the',\n",
       "  'right',\n",
       "  'hand',\n",
       "  'cause',\n",
       "  'i',\n",
       "  'm',\n",
       "  'the',\n",
       "  'hand',\n",
       "  'itself',\n",
       "  'every',\n",
       "  'time',\n",
       "  'i',\n",
       "  'pull',\n",
       "  'a',\n",
       "  'ak',\n",
       "  'off',\n",
       "  'the',\n",
       "  'shelf',\n",
       "  'the',\n",
       "  'security',\n",
       "  'is',\n",
       "  'maximum',\n",
       "  'and',\n",
       "  'that',\n",
       "  's',\n",
       "  'a',\n",
       "  'law',\n",
       "  'r',\n",
       "  'e',\n",
       "  'n',\n",
       "  'spells',\n",
       "  'ren',\n",
       "  'but',\n",
       "  'i',\n",
       "  'm',\n",
       "  'raw',\n",
       "  'see',\n",
       "  'coz',\n",
       "  'i',\n",
       "  'm',\n",
       "  'the',\n",
       "  'motherfuckin',\n",
       "  'villain',\n",
       "  'the',\n",
       "  'definition',\n",
       "  'is',\n",
       "  'clear',\n",
       "  'you',\n",
       "  're',\n",
       "  'the',\n",
       "  'witness',\n",
       "  'of',\n",
       "  'a',\n",
       "  'killin',\n",
       "  'that',\n",
       "  's',\n",
       "  'takin',\n",
       "  'place',\n",
       "  'without',\n",
       "  'a',\n",
       "  'clue',\n",
       "  'and',\n",
       "  'once',\n",
       "  'you',\n",
       "  're',\n",
       "  'on',\n",
       "  'the',\n",
       "  'scope',\n",
       "  'your',\n",
       "  'ass',\n",
       "  'is',\n",
       "  'through',\n",
       "  'look',\n",
       "  'you',\n",
       "  'might',\n",
       "  'take',\n",
       "  'it',\n",
       "  'as',\n",
       "  'a',\n",
       "  'trip',\n",
       "  'but',\n",
       "  'a',\n",
       "  'nigga',\n",
       "  'like',\n",
       "  'ren',\n",
       "  'is',\n",
       "  'on',\n",
       "  'a',\n",
       "  'gangsta',\n",
       "  'tip',\n",
       "  'straight',\n",
       "  'outta',\n",
       "  'compton',\n",
       "  'chorus',\n",
       "  'city',\n",
       "  'of',\n",
       "  'compton',\n",
       "  'city',\n",
       "  'of',\n",
       "  'compton',\n",
       "  'dr',\n",
       "  'dre',\n",
       "  'eazy',\n",
       "  'is',\n",
       "  'his',\n",
       "  'name',\n",
       "  'and',\n",
       "  'the',\n",
       "  'boy',\n",
       "  'is',\n",
       "  'comin',\n",
       "  'verse',\n",
       "  'three',\n",
       "  'eazy',\n",
       "  'e',\n",
       "  'straight',\n",
       "  'outta',\n",
       "  'compton',\n",
       "  'is',\n",
       "  'a',\n",
       "  'brotha',\n",
       "  'that',\n",
       "  'll',\n",
       "  'smother',\n",
       "  'yo',\n",
       "  'mother',\n",
       "  'and',\n",
       "  'make',\n",
       "  'ya',\n",
       "  'sister',\n",
       "  'think',\n",
       "  'i',\n",
       "  'love',\n",
       "  'her',\n",
       "  'dangerous',\n",
       "  'motherfucker',\n",
       "  'raises',\n",
       "  'hell',\n",
       "  'and',\n",
       "  'if',\n",
       "  'i',\n",
       "  'ever',\n",
       "  'get',\n",
       "  'caught',\n",
       "  'i',\n",
       "  'make',\n",
       "  'bail',\n",
       "  'see',\n",
       "  'i',\n",
       "  'don',\n",
       "  't',\n",
       "  'give',\n",
       "  'a',\n",
       "  'fuck',\n",
       "  'that',\n",
       "  's',\n",
       "  'the',\n",
       "  'problem',\n",
       "  'i',\n",
       "  'see',\n",
       "  'a',\n",
       "  'motherfuckin',\n",
       "  'cop',\n",
       "  'i',\n",
       "  'don',\n",
       "  't',\n",
       "  'dodge',\n",
       "  'him',\n",
       "  'but',\n",
       "  'i',\n",
       "  'm',\n",
       "  'smart',\n",
       "  'lay',\n",
       "  'low',\n",
       "  'creep',\n",
       "  'a',\n",
       "  'while',\n",
       "  'and',\n",
       "  'when',\n",
       "  'i',\n",
       "  'see',\n",
       "  'a',\n",
       "  'punk',\n",
       "  'pass',\n",
       "  'i',\n",
       "  'smile',\n",
       "  'to',\n",
       "  'me',\n",
       "  'it',\n",
       "  's',\n",
       "  'kinda',\n",
       "  'funny',\n",
       "  'the',\n",
       "  'attitude',\n",
       "  'showin',\n",
       "  'a',\n",
       "  'nigga',\n",
       "  'drivin',\n",
       "  'but',\n",
       "  'don',\n",
       "  't',\n",
       "  'know',\n",
       "  'where',\n",
       "  'the',\n",
       "  'fuck',\n",
       "  'he',\n",
       "  's',\n",
       "  'going',\n",
       "  'just',\n",
       "  'rollin',\n",
       "  'lookin',\n",
       "  'for',\n",
       "  'the',\n",
       "  'one',\n",
       "  'they',\n",
       "  'call',\n",
       "  'eazy',\n",
       "  'but',\n",
       "  'here',\n",
       "  's',\n",
       "  'a',\n",
       "  'flash',\n",
       "  'they',\n",
       "  'never',\n",
       "  'seize',\n",
       "  'me',\n",
       "  'ruthless',\n",
       "  'never',\n",
       "  'seen',\n",
       "  'like',\n",
       "  'a',\n",
       "  'shadow',\n",
       "  'in',\n",
       "  'the',\n",
       "  'dark',\n",
       "  'except',\n",
       "  'when',\n",
       "  'i',\n",
       "  'unload',\n",
       "  'see',\n",
       "  'i',\n",
       "  'll',\n",
       "  'get',\n",
       "  'over',\n",
       "  'the',\n",
       "  'hesitation',\n",
       "  'and',\n",
       "  'hear',\n",
       "  'the',\n",
       "  'scream',\n",
       "  'of',\n",
       "  'the',\n",
       "  'one',\n",
       "  'who',\n",
       "  'got',\n",
       "  'the',\n",
       "  'last',\n",
       "  'penetration',\n",
       "  'give',\n",
       "  'a',\n",
       "  'little',\n",
       "  'gust',\n",
       "  'of',\n",
       "  'wind',\n",
       "  'and',\n",
       "  'i',\n",
       "  'm',\n",
       "  'jettin',\n",
       "  'but',\n",
       "  'leave',\n",
       "  'a',\n",
       "  'memory',\n",
       "  'no',\n",
       "  'one',\n",
       "  'll',\n",
       "  'be',\n",
       "  'forgettin',\n",
       "  'so',\n",
       "  'what',\n",
       "  'about',\n",
       "  'the',\n",
       "  'bitch',\n",
       "  'who',\n",
       "  'got',\n",
       "  'shot',\n",
       "  'fuck',\n",
       "  'her',\n",
       "  'you',\n",
       "  'think',\n",
       "  'i',\n",
       "  'give',\n",
       "  'a',\n",
       "  'damn',\n",
       "  'about',\n",
       "  'a',\n",
       "  'bitch',\n",
       "  'i',\n",
       "  'ain',\n",
       "  't',\n",
       "  'a',\n",
       "  'sucker',\n",
       "  'this',\n",
       "  'is',\n",
       "  'the',\n",
       "  'autobiography',\n",
       "  'of',\n",
       "  'the',\n",
       "  'e',\n",
       "  'and',\n",
       "  'if',\n",
       "  'you',\n",
       "  'ever',\n",
       "  'fuck',\n",
       "  'with',\n",
       "  'me',\n",
       "  'you',\n",
       "  'll',\n",
       "  'get',\n",
       "  'taken',\n",
       "  'by',\n",
       "  'a',\n",
       "  'stupid',\n",
       "  'dope',\n",
       "  'brotha',\n",
       "  'who',\n",
       "  'will',\n",
       "  'smother',\n",
       "  'word',\n",
       "  'to',\n",
       "  'the',\n",
       "  'motherfucker',\n",
       "  'straight',\n",
       "  'outta',\n",
       "  'compton',\n",
       "  'chorus',\n",
       "  'city',\n",
       "  'of',\n",
       "  'compton',\n",
       "  'city',\n",
       "  'of',\n",
       "  'compton',\n",
       "  'damn',\n",
       "  'that',\n",
       "  'shit',\n",
       "  'was',\n",
       "  'dope'],\n",
       " 'x': 1,\n",
       " 'y': 20}"
      ]
     },
     "execution_count": 129,
     "metadata": {},
     "output_type": "execute_result"
    }
   ],
   "source": [
    "globals()"
   ]
  },
  {
   "cell_type": "code",
   "execution_count": 130,
   "metadata": {
    "collapsed": true
   },
   "outputs": [],
   "source": [
    "x = 1"
   ]
  },
  {
   "cell_type": "code",
   "execution_count": 131,
   "metadata": {
    "collapsed": true
   },
   "outputs": [],
   "source": [
    "globals()['x'] = 3"
   ]
  },
  {
   "cell_type": "code",
   "execution_count": 132,
   "metadata": {},
   "outputs": [
    {
     "data": {
      "text/plain": [
       "3"
      ]
     },
     "execution_count": 132,
     "metadata": {},
     "output_type": "execute_result"
    }
   ],
   "source": [
    "x"
   ]
  },
  {
   "cell_type": "markdown",
   "metadata": {},
   "source": [
    "Just like globals python also provides a function locals which gives all the local variables in a function."
   ]
  },
  {
   "cell_type": "code",
   "execution_count": 134,
   "metadata": {},
   "outputs": [],
   "source": [
    "def f(a, b): print(locals())"
   ]
  },
  {
   "cell_type": "markdown",
   "metadata": {},
   "source": [
    "One more example:"
   ]
  },
  {
   "cell_type": "code",
   "execution_count": 135,
   "metadata": {
    "collapsed": true
   },
   "outputs": [],
   "source": [
    "def f(name):\n",
    "    return \"Hello %(name)s!\" % locals()"
   ]
  },
  {
   "cell_type": "code",
   "execution_count": 136,
   "metadata": {},
   "outputs": [
    {
     "data": {
      "text/plain": [
       "'Hello Guido!'"
      ]
     },
     "execution_count": 136,
     "metadata": {},
     "output_type": "execute_result"
    }
   ],
   "source": [
    "f(\"Guido\")"
   ]
  },
  {
   "cell_type": "markdown",
   "metadata": {},
   "source": [
    "## Python String Formatting"
   ]
  },
  {
   "cell_type": "markdown",
   "metadata": {},
   "source": [
    "### Number Formatting"
   ]
  },
  {
   "cell_type": "markdown",
   "metadata": {},
   "source": [
    "The following table shows various ways to format numbers using python's newish str.format(), examples for both float formatting and integers.\n",
    "\n",
    "To run examples use print(\"FORMAT\".format(NUMBER)); So to get the output of the first example, you would run: print(\"{:.2f}\".format(3.1415926));"
   ]
  },
  {
   "cell_type": "markdown",
   "metadata": {},
   "source": [
    "| Number     | Format  | Output    | Description                                   |\n",
    "|------------|---------|-----------|-----------------------------------------------|\n",
    "| 3.1415926  | {:.2f}  | 3.14      | 2 decimal places                              |\n",
    "| 3.1415926  | {:+.2f} | +3.14     | 2 decimal places with sign                    |\n",
    "| -1         | {:+.2f} | -1.00     | 2 decimal places with sign                    |\n",
    "| 2.71828    | {:.0f}  | 3         | No decimal places                             |\n",
    "| 5          | {:0>2d} | 05        | Pad number with zeros (left padding, width 2) |\n",
    "| 5          | {:x<4d} | 5xxx      | Pad number with x's (right padding, width 4)  |\n",
    "| 10         | {:x<4d} | 10xx      | Pad number with x's (right padding, width 4)  |\n",
    "| 1000000    | {:,}    | 1,000,000 | Number format with comma separator            |\n",
    "| 0.25       | {:.2%}  | 25.00%    | Format percentage                             |\n",
    "| 1000000000 | {:.2e}  | 1.00e+09  | Exponent notation                             |\n",
    "| 13         | {:10d}  | 13        | Right aligned (default, width 10)             |\n",
    "| 13         | {:<10d} | 13        | Left aligned (width 10)                       |\n",
    "| 13         | {:^10d} | 13        | Center aligned (width 10)                     |"
   ]
  },
  {
   "cell_type": "markdown",
   "metadata": {},
   "source": [
    "### string.format() basics"
   ]
  },
  {
   "cell_type": "markdown",
   "metadata": {},
   "source": [
    "Here are a couple of example of basic string substitution, the {} is the placeholder for the substituted variables. If no format is specified, it will insert and format as a string."
   ]
  },
  {
   "cell_type": "code",
   "execution_count": 137,
   "metadata": {
    "collapsed": true
   },
   "outputs": [],
   "source": [
    "s1 = \"so much depends upon {}\".format(\"a red wheel barrow\")\n",
    "s2 = \"glazed with {} water beside the {} chickens\".format(\"rain\", \"white\")"
   ]
  },
  {
   "cell_type": "markdown",
   "metadata": {},
   "source": [
    "You can also use the numeric position of the variables and change them in the strings, this gives some flexibility when doing the formatting, if you made a mistake in the order you can easily correct without shuffling all variables around."
   ]
  },
  {
   "cell_type": "code",
   "execution_count": 138,
   "metadata": {
    "collapsed": true
   },
   "outputs": [],
   "source": [
    "s1 = \" {0} is better than {1} \".format(\"emacs\", \"vim\")\n",
    "s2 = \" {1} is better than {0} \".format(\"emacs\", \"vim\")"
   ]
  },
  {
   "cell_type": "markdown",
   "metadata": {},
   "source": [
    "The format() function offers a fair amount of additional features and capabilities, here are a few useful tips and tricks using .format()"
   ]
  },
  {
   "cell_type": "markdown",
   "metadata": {},
   "source": [
    "#### Named Arguments"
   ]
  },
  {
   "cell_type": "markdown",
   "metadata": {},
   "source": [
    "You can use the new string format as a templating engine and use named arguments, instead of requiring a strict order."
   ]
  },
  {
   "cell_type": "code",
   "execution_count": 139,
   "metadata": {},
   "outputs": [
    {
     "data": {
      "text/plain": [
       "' I took the cheese off the table '"
      ]
     },
     "execution_count": 139,
     "metadata": {},
     "output_type": "execute_result"
    }
   ],
   "source": [
    "\" I {verb} the {object} off the {place} \".format(verb=\"took\", object=\"cheese\", place=\"table\")"
   ]
  },
  {
   "cell_type": "markdown",
   "metadata": {},
   "source": [
    "#### Reuse Same Variable Multiple Times"
   ]
  },
  {
   "cell_type": "markdown",
   "metadata": {},
   "source": [
    "The .format() method allows you to put them in any order as we saw above in the basics, but also allows for reuse."
   ]
  },
  {
   "cell_type": "code",
   "execution_count": 140,
   "metadata": {},
   "outputs": [
    {
     "data": {
      "text/plain": [
       "'Oh Romeo, Romeo! wherefore art thou Romeo?'"
      ]
     },
     "execution_count": 140,
     "metadata": {},
     "output_type": "execute_result"
    }
   ],
   "source": [
    "\"Oh {0}, {0}! wherefore art thou {0}?\".format(\"Romeo\")"
   ]
  },
  {
   "cell_type": "markdown",
   "metadata": {},
   "source": [
    "#### Convert Values to different Bases\n"
   ]
  },
  {
   "cell_type": "markdown",
   "metadata": {},
   "source": [
    "You can use the following letters to convert a number to their bases, decimal, hex, octal, binary"
   ]
  },
  {
   "cell_type": "code",
   "execution_count": 142,
   "metadata": {},
   "outputs": [
    {
     "name": "stdout",
     "output_type": "stream",
     "text": [
      "21 - 15 - 25 - 10101 \n"
     ]
    }
   ],
   "source": [
    "print(\"{0:d} - {0:x} - {0:o} - {0:b} \".format(21))"
   ]
  },
  {
   "cell_type": "markdown",
   "metadata": {},
   "source": [
    "#### Use Format as a Function"
   ]
  },
  {
   "cell_type": "markdown",
   "metadata": {},
   "source": [
    "You can use .format as a function which allows for some separation of text and formatting from code. For example at the beginning of your program you could include all your formats and then use later. This also could be a nice way to handle internationalization which not only requires different text but often requires different formats for numbers."
   ]
  },
  {
   "cell_type": "code",
   "execution_count": 144,
   "metadata": {},
   "outputs": [
    {
     "name": "stdout",
     "output_type": "stream",
     "text": [
      "Your email address was bob@example.com\n"
     ]
    }
   ],
   "source": [
    "## defining formats\n",
    "email_f = \"Your email address was {email}\".format\n",
    "\n",
    "## use elsewhere\n",
    "print(email_f(email=\"bob@example.com\"))"
   ]
  },
  {
   "cell_type": "markdown",
   "metadata": {},
   "source": [
    "Oh, and if you need to use braces when using str.format(), just double up"
   ]
  },
  {
   "cell_type": "code",
   "execution_count": 145,
   "metadata": {},
   "outputs": [
    {
     "data": {
      "text/plain": [
       "' The empty set is often represented as {0}'"
      ]
     },
     "execution_count": 145,
     "metadata": {},
     "output_type": "execute_result"
    }
   ],
   "source": [
    "\" The {} set is often represented as {{0}}\".format(\"empty\")"
   ]
  },
  {
   "cell_type": "markdown",
   "metadata": {},
   "source": [
    "For a more detailed treatment of string formating, please visit [pyformat.info](https://pyformat.info/#number_padding)"
   ]
  },
  {
   "cell_type": "markdown",
   "metadata": {},
   "source": [
    "## Challenges"
   ]
  },
  {
   "cell_type": "code",
   "execution_count": 175,
   "metadata": {},
   "outputs": [],
   "source": [
    "import sys, os\n",
    "from base64 import b64encode, b64decode\n",
    "from TestFramework.TestFramework import Test\n",
    "\n",
    "def solution(enc):\n",
    "    print(str(b64decode(enc), 'utf-8'))"
   ]
  },
  {
   "cell_type": "markdown",
   "metadata": {},
   "source": [
    "### Enough is enough!"
   ]
  },
  {
   "cell_type": "markdown",
   "metadata": {},
   "source": [
    "Alice and Bob were on a holiday. Both of them took many pictures of the places they've been, and now they want to show Charlie their entire collection. However, Charlie doesn't like this sessions, since the motive usually repeats. He isn't fond of seeing the Eiffel tower 40 times. He tells them that he will only sit during the session if they show the same motive at most N times. Luckily, Alice and Bob are able to encode the motive as a number. Can you help them to remove numbers such that their list contains each number only up to N times, without changing the order?\n",
    "\n",
    "Task\n",
    "\n",
    "Given a list lst and a number `N`, create a new list that contains each number of lst at most `N` times without reordering. For example if `N = 2`, and the input is `[1,2,3,1,2,1,2,3]`, you take `[1,2,3,1,2]`, drop the next `[1,2]` since this would lead to `1` and `2` being in the result `3` times, and then take `3`, which leads to `[1,2,3,1,2,3]`."
   ]
  },
  {
   "cell_type": "markdown",
   "metadata": {},
   "source": [
    "Example"
   ]
  },
  {
   "cell_type": "markdown",
   "metadata": {
    "collapsed": true
   },
   "source": [
    "delete_nth ([1,1,1,1],2) # return [1,1]\n",
    "\n",
    "delete_nth ([20,37,20,21],1) # return [20,37,21]"
   ]
  },
  {
   "cell_type": "markdown",
   "metadata": {},
   "source": [
    "#### Solution"
   ]
  },
  {
   "cell_type": "code",
   "execution_count": 176,
   "metadata": {
    "collapsed": true
   },
   "outputs": [],
   "source": [
    "##Your code\n",
    "def delete_nth(order,max_e):\n",
    "    pass"
   ]
  },
  {
   "cell_type": "code",
   "execution_count": 177,
   "metadata": {},
   "outputs": [
    {
     "name": "stdout",
     "output_type": "stream",
     "text": [
      "*** ERROR: None should be [20, 37, 21]\n",
      "*** ERROR: None should be [1, 1, 3, 3, 7, 2, 2, 2]\n"
     ]
    }
   ],
   "source": [
    "test = Test()\n",
    "test.assert_equals([20,37,21], delete_nth([20,37,20,21], 1))\n",
    "test.assert_equals([1, 1, 3, 3, 7, 2, 2, 2], delete_nth([1,1,3,3,7,2,2,2,2], 3))"
   ]
  },
  {
   "cell_type": "markdown",
   "metadata": {},
   "source": [
    "#### Sample Solution"
   ]
  },
  {
   "cell_type": "code",
   "execution_count": 178,
   "metadata": {
    "collapsed": true
   },
   "outputs": [],
   "source": [
    "# solution('IyNTb2x1dGlvbgpkZWYgZGVsZXRlX250aChvcmRlcixtYXhfZSk6CiAgICByZXN1bHQgPSBbXQogICAgZm9yIG51bSBpbiBvcmRlcjoKICAgICAgICBpZiByZXN1bHQuY291bnQobnVtKSA+PSBtYXhfZToKICAgICAgICAgICAgcGFzcwogICAgICAgIGVsc2U6CiAgICAgICAgICAgIHJlc3VsdC5hcHBlbmQobnVtKQogICAgcmV0dXJuKHJlc3VsdCk=')"
   ]
  },
  {
   "cell_type": "markdown",
   "metadata": {},
   "source": [
    "### Which are in?"
   ]
  },
  {
   "cell_type": "markdown",
   "metadata": {},
   "source": [
    "Given two list of strings a1 and a2 return a sorted array the strings of a1 which are substrings of strings of a2. Return the list in lexicographical order and without duplicates.\n",
    "\n",
    "Example: a1 = [\"arp\", \"live\", \"strong\"]\n",
    "\n",
    "a2 = [\"lively\", \"alive\", \"harp\", \"sharp\", \"armstrong\"]\n",
    "\n",
    "returns [\"arp\", \"live\", \"strong\"]\n",
    "\n",
    "a1 = [\"tarp\", \"mice\", \"bull\"]\n",
    "\n",
    "a2 = [\"lively\", \"alive\", \"harp\", \"sharp\", \"armstrong\"]\n",
    "\n",
    "returns []"
   ]
  },
  {
   "cell_type": "markdown",
   "metadata": {},
   "source": [
    "#### Solution"
   ]
  },
  {
   "cell_type": "code",
   "execution_count": 179,
   "metadata": {
    "collapsed": true
   },
   "outputs": [],
   "source": [
    "##Your code\n",
    "def in_list(list_1, list_2):\n",
    "    pass"
   ]
  },
  {
   "cell_type": "code",
   "execution_count": 180,
   "metadata": {},
   "outputs": [
    {
     "name": "stdout",
     "output_type": "stream",
     "text": [
      "*** ERROR: None should be ['arp', 'live', 'strong']\n",
      "*** ERROR: None should be []\n",
      "*** ERROR: None should be ['har', 'mst']\n"
     ]
    }
   ],
   "source": [
    "test = Test()\n",
    "a1 = [\"live\", \"arp\", \"strong\"] \n",
    "a2 = [\"lively\", \"alive\", \"harp\", \"sharp\", \"armstrong\"]\n",
    "r1 = ['arp', 'live', 'strong']\n",
    "test.assert_equals(r1, in_list(a1, a2))\n",
    "\n",
    "a3 = [\"tarp\", \"mice\", \"bull\"]\n",
    "a4 = [\"lively\", \"alive\", \"harp\", \"sharp\", \"armstrong\"]\n",
    "r2 = []\n",
    "test.assert_equals(r2, in_list(a3, a4))\n",
    "\n",
    "a5 = [\"tarp\", \"mst\", \"har\"]\n",
    "a6 = [\"lively\", \"alive\", \"harp\", \"sharp\", \"armstrong\"]\n",
    "r3 = ['har', 'mst']\n",
    "test.assert_equals(r3, in_list(a5, a6))"
   ]
  },
  {
   "cell_type": "markdown",
   "metadata": {},
   "source": [
    "#### Sample Solution"
   ]
  },
  {
   "cell_type": "code",
   "execution_count": 181,
   "metadata": {
    "collapsed": true
   },
   "outputs": [],
   "source": [
    "# solution('IyNTb2x1dGlvbgpkZWYgaW5fbGlzdChsaXN0XzEsIGxpc3RfMik6CiAgICBsaXN0XzEuc29ydCgpCiAgICByZXN1bHQgPSBbXQogICAgZm9yIHdvcmQgaW4gbGlzdF8xOgogICAgICAgIGhhc1dvcmQgPSBGYWxzZQogICAgICAgIGZvciB3b3JkMiBpbiBsaXN0XzI6CiAgICAgICAgICAgIGlmIHdvcmQyLmZpbmQod29yZCkgIT0gLTE6CiAgICAgICAgICAgICAgICBoYXNXb3JkID0gVHJ1ZQogICAgICAgIGlmIGhhc1dvcmQ6CiAgICAgICAgICAgIHJlc3VsdC5hcHBlbmQod29yZCkKICAgIHJldHVybihyZXN1bHQp')"
   ]
  },
  {
   "cell_type": "markdown",
   "metadata": {},
   "source": [
    "### Midpoint Sum"
   ]
  },
  {
   "cell_type": "markdown",
   "metadata": {},
   "source": [
    "For a given list of integers, return the index of the element where the sums of the integers to the left and right of the current element are equal.\n",
    "\n",
    "Ex:"
   ]
  },
  {
   "cell_type": "code",
   "execution_count": 182,
   "metadata": {
    "collapsed": true
   },
   "outputs": [],
   "source": [
    "ints = [4, 1, 7, 9, 3, 9]\n",
    "# Since 4 + 1 + 7 = 12 and 3 + 9 = 12, the returned index would be 3\n",
    "\n",
    "ints = [1, 0, -1]\n",
    "# Returns -1\n",
    "# are no indices where the left and right sums are equal"
   ]
  },
  {
   "cell_type": "markdown",
   "metadata": {},
   "source": [
    "Here are the 2 important rules:\n",
    "\n",
    "The element at the index to be returned is not included in either of the sum calculations!\n",
    "Both the first and last index cannot be considered as a \"midpoint\" (So None for [X] and [X, X])\n",
    "\n"
   ]
  },
  {
   "cell_type": "markdown",
   "metadata": {},
   "source": [
    "#### Solution"
   ]
  },
  {
   "cell_type": "code",
   "execution_count": 183,
   "metadata": {
    "collapsed": true
   },
   "outputs": [],
   "source": [
    "##Your code\n",
    "def midpoint_sum(ints):\n",
    "    pass"
   ]
  },
  {
   "cell_type": "code",
   "execution_count": 185,
   "metadata": {},
   "outputs": [
    {
     "name": "stdout",
     "output_type": "stream",
     "text": [
      "Normal Cases\n",
      "*** ERROR: [1, 0, -1] should return -1\n",
      "*** ERROR: [4,1,7,9,3,9] should return 3\n",
      "*** ERROR: [1,0,1] should equal 1\n",
      "*** ERROR: [9,0,1,2,3,4] should equal 2\n",
      "*** ERROR: [0,0,4,0] should equal 2\n",
      "*** ERROR: [-10,3,7,8,-6,-13,21] should equal 4\n",
      "*** ERROR: Large valid sequence: [1,1,1,1,-5,1,1,1,1,1,1,1,1,1,1,1,1,1,1,1,1,1,1,1,1,1,1,1,1,1,1,1,1,1,1,1,1,1,1,1,1,1,1,1,1,1,1,1,1,1,1,1,1,1,1,1,1,1,1,1,1,1,1,1,1,1,1,1,1,1,1,2,1,1,1,1,1,1,1,1,1,1,1,1,1,1,1,1,1,1,1,1,1,1,1,1,1,1] should equal 52\n"
     ]
    }
   ],
   "source": [
    "test = Test()\n",
    "test.describe(\"Normal Cases\")\n",
    "test.expect(midpoint_sum([1, 0, -1]) == -1, \"[1, 0, -1] should return -1\")\n",
    "test.expect(midpoint_sum([4,1,7,9,3,9]) == 3, \"[4,1,7,9,3,9] should return 3\")\n",
    "test.expect(midpoint_sum([1,0,1]) == 1, \"[1,0,1] should equal 1\")\n",
    "test.expect(midpoint_sum([9,0,1,2,3,4]) == 2, \"[9,0,1,2,3,4] should equal 2\")\n",
    "test.expect(midpoint_sum([0,0,4,0]) == 2, \"[0,0,4,0] should equal 2\")\n",
    "test.expect(midpoint_sum([-10,3,7,8,-6,-13,21]) == 4, \"[-10,3,7,8,-6,-13,21] should equal 4\")\n",
    "test.expect(midpoint_sum([1,1,1,1,-5,1,1,1,1,1,1,1,1,1,1,1,1,1,1,1,1,1,1,1,1,1,1,1,1,1,1,1,1,1,1,1,1,1,1,1,1,1,1,1,1,1,1,1,1,1,1,1,1,1,1,1,1,1,1,1,1,1,1,1,1,1,1,1,1,1,1,2,1,1,1,1,1,1,1,1,1,1,1,1,1,1,1,1,1,1,1,1,1,1,1,1,1,1]) ==  52, \"Large valid sequence: [1,1,1,1,-5,1,1,1,1,1,1,1,1,1,1,1,1,1,1,1,1,1,1,1,1,1,1,1,1,1,1,1,1,1,1,1,1,1,1,1,1,1,1,1,1,1,1,1,1,1,1,1,1,1,1,1,1,1,1,1,1,1,1,1,1,1,1,1,1,1,1,2,1,1,1,1,1,1,1,1,1,1,1,1,1,1,1,1,1,1,1,1,1,1,1,1,1,1] should equal 52\")"
   ]
  },
  {
   "cell_type": "markdown",
   "metadata": {},
   "source": [
    "#### Sample Solution"
   ]
  },
  {
   "cell_type": "code",
   "execution_count": 9,
   "metadata": {
    "collapsed": true
   },
   "outputs": [],
   "source": [
    "#  solution('IyNTb2x1dGlvbgpkZWYgbWlkcG9pbnRfc3VtKGludHMpOgogICAgbGVmdCA9IFtdCiAgICByaWdodCA9IFtdCiAgICBsZWZ0X2luZGV4ID0gMAogICAgcmlnaHRfaW5kZXggPSBsZW4oaW50cykKICAgIG1heF9zdW0gPSBzdW0oaW50cykvMgogICAgZm9yIGluZGV4IGluIHJhbmdlKDAsIChsZW4oaW50cykgLSAxKSk6CiAgICAgICAgaWYgbGVuKGludHNbMDppbmRleF0pID4gMDoKICAgICAgICAgICAgbGVmdC5hcHBlbmQoc3VtKGludHNbMDppbmRleF0pKQogICAgZm9yIGluZGV4IGluIHJhbmdlKDEsIChsZW4oaW50cykpKToKICAgICAgICBpZiBsZW4oaW50c1staW5kZXg6XSkgPiAwOgogICAgICAgICAgICByaWdodC5hcHBlbmQoc3VtKGludHNbLWluZGV4Ol0pKQogICAgZm9yIGxlZnRfbnVtIGluIGxlZnQ6CiAgICAgICAgcmlnaHRfaW5kZXggPSAwCiAgICAgICAgZm9yIHJpZ2h0X251bSBpbiByaWdodDoKICAgICAgICAgICAgaWYgbGVmdF9udW0gPT0gcmlnaHRfbnVtOgogICAgICAgICAgICAgICAgaWYgbGVmdF9pbmRleCArIHJpZ2h0X2luZGV4ICsgMyA9PSBsZW4oaW50cyk6CiAgICAgICAgICAgICAgICAgICAgcmV0dXJuKGxlZnRfaW5kZXggKyAxKQogICAgICAgICAgICByaWdodF9pbmRleCA9IHJpZ2h0X2luZGV4ICsgMQogICAgICAgIGxlZnRfaW5kZXggPSBsZWZ0X2luZGV4ICsgMQogICAgcmV0dXJuKC0xKQ==')"
   ]
  },
  {
   "cell_type": "markdown",
   "metadata": {},
   "source": [
    "## Homework"
   ]
  },
  {
   "cell_type": "markdown",
   "metadata": {},
   "source": [
    "This week's homework is to create a proof of concept backend for a predictive keyboard. Sounds fancy right? But you can already do this! The idea is that just like the Android keyboard, once you have completed a word, it will recommend three words which it thinks you'll want to type next.\n",
    "\n",
    "We are going to seed our model by reading in 100.000 emails from the [Enron Email Dataset](https://www.cs.cmu.edu/~./enron/). This represents our baseline for how we expect people to use language. We all went to talk like the smartest guys in the room, right?\n",
    "\n",
    "Your solution will consist of two functions. The first function reads in the email data to build up a probabilistic collocation model, i.e. how likely is one word to follow another word. Once you've prepared this model, the second function takes in a string, and based on that string (word, sub-word or phrase) used the language model you've created to return a tuple of the three most likely auto-complete options."
   ]
  },
  {
   "cell_type": "markdown",
   "metadata": {},
   "source": [
    "Please [download](http://python-intro.s3.amazonaws.com/data/email.txt) the cleaned up dataset"
   ]
  },
  {
   "cell_type": "code",
   "execution_count": null,
   "metadata": {
    "collapsed": true
   },
   "outputs": [],
   "source": [
    "def auto_complete_candidates(txt,no_candidates=3):\n",
    "    \"\"\"Auto complete candidates based on text input\n",
    "\n",
    "    Consults a language model to predict the most likely candidates\n",
    "    for a keyboard's auto-complete functionality.\n",
    "\n",
    "    By default returns the best three candidates.\n",
    "\n",
    "    Args:\n",
    "        txt (str): word or phrase to base autocomplete on\n",
    "        no_candidates (int): number of candidates to reutrn\n",
    "\n",
    "    Returns:\n",
    "        tuple: Best candidate autocompletions\n",
    "    \"\"\"\n",
    "    return txt\n"
   ]
  },
  {
   "cell_type": "markdown",
   "metadata": {},
   "source": [
    "#### Reach Goal"
   ]
  },
  {
   "cell_type": "markdown",
   "metadata": {},
   "source": [
    "The reach goal is to also provide predictive ​_text_​-completion. That is, if you pass an incomplete word to `auto_complete_candidates`, it will return candidates to complete the word instead of words which are likely to follow the input. This means that you'll need to be flexible in what you accept as input and figure out whether what you're being passed in is a complete word or not.  "
   ]
  },
  {
   "cell_type": "markdown",
   "metadata": {},
   "source": [
    "#### Programmer Goal"
   ]
  },
  {
   "cell_type": "markdown",
   "metadata": {},
   "source": [
    "The programmer goal is to also take the words into account which the user typed thus far. So instead of just a single word as input, consider a phrase. Also come up with a way to score the number of words you should be taking into account."
   ]
  }
 ],
 "metadata": {
  "kernelspec": {
   "display_name": "Python 3",
   "language": "python",
   "name": "python3"
  },
  "language_info": {
   "codemirror_mode": {
    "name": "ipython",
    "version": 3
   },
   "file_extension": ".py",
   "mimetype": "text/x-python",
   "name": "python",
   "nbconvert_exporter": "python",
   "pygments_lexer": "ipython3",
   "version": "3.6.1"
  }
 },
 "nbformat": 4,
 "nbformat_minor": 1
}
