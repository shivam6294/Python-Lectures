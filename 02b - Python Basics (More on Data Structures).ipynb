{
 "cells": [
  {
   "cell_type": "markdown",
   "metadata": {},
   "source": [
    "# Data Structures"
   ]
  },
  {
   "cell_type": "markdown",
   "metadata": {},
   "source": [
    "Expanding on our knowledge from the data types introduced last session, this class we make our code more pythonic by introducing advanced methods and tools. Covers list and dict comprehensions, the iterator toolkit for efficient looping, and how to create generators. You’ll learn how to import other libraries, write anonymous functions with lambdas, and go on a rudimentary exploration of the functional programming paradigm with the map, filter, and reduce functions.\n",
    "\n",
    "At the end of this class you’ll be able to choose the right data structures to represent your problem and use efficient methods to stream your data through your script."
   ]
  },
  {
   "cell_type": "markdown",
   "metadata": {},
   "source": [
    "### Agenda"
   ]
  },
  {
   "cell_type": "markdown",
   "metadata": {},
   "source": [
    "     2.0 While Loops\n",
    "     2.1 List Comprehensions\n",
    "     2.2 Set Comprehensions\n",
    "     2.3 Dictionaries\n",
    "     2.4 Dictionary Comprehension\n",
    "     2.5 Collections\n",
    "     2.6 Python Execution Environment\n",
    "     "
   ]
  },
  {
   "cell_type": "markdown",
   "metadata": {},
   "source": [
    "## While"
   ]
  },
  {
   "cell_type": "markdown",
   "metadata": {},
   "source": [
    "We covered 'for' loops in the previous session, but Python also allows you to construct while loops."
   ]
  },
  {
   "cell_type": "markdown",
   "metadata": {},
   "source": [
    "The syntax for while statement is like"
   ]
  },
  {
   "cell_type": "markdown",
   "metadata": {},
   "source": [
    "```python\n",
    "while condition:\n",
    "    statement1\n",
    "    statement2\n",
    "```"
   ]
  },
  {
   "cell_type": "markdown",
   "metadata": {},
   "source": [
    "The code we want to reuse must be indented properly under the while statement. They will be executed if the condition is true. Again like in if-else statement any non zero value is true. Let us write a simple code to print numbers 0 to 10"
   ]
  },
  {
   "cell_type": "code",
   "execution_count": null,
   "metadata": {
    "collapsed": true
   },
   "outputs": [],
   "source": [
    "n = 0\n",
    "while n < 11:\n",
    "    print(n)\n",
    "    n += 1"
   ]
  },
  {
   "cell_type": "markdown",
   "metadata": {},
   "source": [
    "#### break"
   ]
  },
  {
   "cell_type": "markdown",
   "metadata": {},
   "source": [
    "Let us write a program to evaluate the power series. The series looks like $e**x =1+x+x**2/2! +x**3/3! +....+ x**n/n!$ where $0 < x < 1$"
   ]
  },
  {
   "cell_type": "code",
   "execution_count": null,
   "metadata": {
    "collapsed": true
   },
   "outputs": [],
   "source": [
    "x = float(input(\"Enter the value of x: \"))\n",
    "n = term = num = 1\n",
    "sum = 1.0\n",
    "while n <= 100:\n",
    "    term *= x / n\n",
    "    sum += term\n",
    "    n += 1\n",
    "    if term < 0.0001:\n",
    "        break\n",
    "print \"No of Times= %d and Sum= %f\" % (n, sum)"
   ]
  },
  {
   "cell_type": "markdown",
   "metadata": {},
   "source": [
    "What break does is stop the innermost loop. In this example we are using break under the if statement. This means if the value of term is less than 0.0001 then get out of the loop."
   ]
  },
  {
   "cell_type": "markdown",
   "metadata": {},
   "source": [
    "#### continue"
   ]
  },
  {
   "cell_type": "markdown",
   "metadata": {},
   "source": [
    "Just like break we have another statement, continue, which skips the execution of the code after itself and goes back to the start of the loop. That means it will help you to skip a part of the loop. In the below example we will ask the user to input an integer, if the input is negative then we will ask again, if positive then we will square the number. To get out of the infinite loop user must input 0."
   ]
  },
  {
   "cell_type": "code",
   "execution_count": null,
   "metadata": {
    "collapsed": true
   },
   "outputs": [],
   "source": [
    "while True:\n",
    "    n = int(input(\"Please enter an Integer: \"))\n",
    "    if n < 0:\n",
    "        continue # this will take the execution back to the starting of the loop\n",
    "    elif n == 0:\n",
    "        break\n",
    "    print(\"Square is \", n ** 2)\n",
    "print(\"Goodbye\")"
   ]
  },
  {
   "cell_type": "markdown",
   "metadata": {},
   "source": [
    "#### **Problem** : Game of Sticks"
   ]
  },
  {
   "cell_type": "code",
   "execution_count": null,
   "metadata": {
    "collapsed": true
   },
   "outputs": [],
   "source": [
    "sticks = 21\n",
    "\n",
    "print \"There are 21 sticks, you can take 1-4 number of sticks at a time.\"\n",
    "print \"Whoever will take the last stick will loose\"\n",
    "\n",
    "while True:\n",
    "    print \"Sticks left: \" , sticks\n",
    "    sticks_taken = int(input(\"Take sticks(1-4):\"))\n",
    "    if sticks == 1:\n",
    "        print(\"You took the last stick, you loose\")\n",
    "        break\n",
    "    if sticks_taken >= 5 or sticks_taken <= 0:\n",
    "        print(\"Wrong choice\")\n",
    "        continue\n",
    "    print(\"Computer took: \" , (5 - sticks_taken) , \"\\n\")\n",
    "    sticks -= 5"
   ]
  },
  {
   "cell_type": "markdown",
   "metadata": {},
   "source": [
    "Can you figure out how to win? "
   ]
  },
  {
   "cell_type": "markdown",
   "metadata": {},
   "source": [
    "What if you were a programmer?"
   ]
  },
  {
   "cell_type": "markdown",
   "metadata": {},
   "source": [
    "## List Comprehensions"
   ]
  },
  {
   "cell_type": "markdown",
   "metadata": {},
   "source": [
    "List Comprehensions provide a concise way of creating lists. Many times a complex task can be modelled in a single line."
   ]
  },
  {
   "cell_type": "markdown",
   "metadata": {},
   "source": [
    "Here are some simple examples for transforming a list."
   ]
  },
  {
   "cell_type": "code",
   "execution_count": null,
   "metadata": {
    "collapsed": true
   },
   "outputs": [],
   "source": [
    "a = range(10)"
   ]
  },
  {
   "cell_type": "code",
   "execution_count": null,
   "metadata": {
    "collapsed": true
   },
   "outputs": [],
   "source": [
    "a"
   ]
  },
  {
   "cell_type": "code",
   "execution_count": null,
   "metadata": {
    "collapsed": true
   },
   "outputs": [],
   "source": [
    "[x for x in a]"
   ]
  },
  {
   "cell_type": "code",
   "execution_count": null,
   "metadata": {
    "collapsed": true
   },
   "outputs": [],
   "source": [
    "[x+1 for x in a]"
   ]
  },
  {
   "cell_type": "markdown",
   "metadata": {},
   "source": [
    "It is also possible to filter a list using if inside a list comprehension."
   ]
  },
  {
   "cell_type": "code",
   "execution_count": null,
   "metadata": {
    "collapsed": true
   },
   "outputs": [],
   "source": [
    "a = range(10)"
   ]
  },
  {
   "cell_type": "code",
   "execution_count": null,
   "metadata": {
    "collapsed": true
   },
   "outputs": [],
   "source": [
    "[x for x in a if x % 2 == 0]"
   ]
  },
  {
   "cell_type": "code",
   "execution_count": null,
   "metadata": {
    "collapsed": true
   },
   "outputs": [],
   "source": [
    "[x*x for x in a if x%2 == 0]"
   ]
  },
  {
   "cell_type": "markdown",
   "metadata": {},
   "source": [
    "It is possible to iterate over multiple lists using the built-in function zip."
   ]
  },
  {
   "cell_type": "code",
   "execution_count": null,
   "metadata": {
    "collapsed": true
   },
   "outputs": [],
   "source": [
    "a = [1, 2, 3, 4]\n",
    "b = [2, 3, 5, 7]\n",
    "zip(a, b)"
   ]
  },
  {
   "cell_type": "code",
   "execution_count": null,
   "metadata": {
    "collapsed": true
   },
   "outputs": [],
   "source": [
    "[x+y for x, y in zip(a, b)]"
   ]
  },
  {
   "cell_type": "markdown",
   "metadata": {},
   "source": [
    "we can use multiple for clauses in single list comprehension."
   ]
  },
  {
   "cell_type": "code",
   "execution_count": null,
   "metadata": {
    "collapsed": true
   },
   "outputs": [],
   "source": [
    "[(x, y) for x in range(5) for y in range(5) if (x+y)%2 == 0]"
   ]
  },
  {
   "cell_type": "code",
   "execution_count": null,
   "metadata": {
    "collapsed": true
   },
   "outputs": [],
   "source": [
    "[(x, y) for x in range(5) for y in range(5) if (x+y)%2 == 0 and x != y]"
   ]
  },
  {
   "cell_type": "code",
   "execution_count": null,
   "metadata": {
    "collapsed": true
   },
   "outputs": [],
   "source": [
    "[(x, y) for x in range(5) for y in range(x) if (x+y)%2 == 0]"
   ]
  },
  {
   "cell_type": "markdown",
   "metadata": {},
   "source": [
    "The following example finds all Pythagorean triplets using numbers below 25. (x, y, z) is a called pythagorean triplet if `x*x + y*y == z*z`."
   ]
  },
  {
   "cell_type": "code",
   "execution_count": null,
   "metadata": {
    "collapsed": true
   },
   "outputs": [],
   "source": [
    "n = 25\n",
    "[(x, y, z) for x in range(1, n) for y in range(x, n) for z in range(y, n) if x*x + y*y == z*z]"
   ]
  },
  {
   "cell_type": "markdown",
   "metadata": {},
   "source": [
    "**Problem** : Provide an implementation for zip function using list comprehensions."
   ]
  },
  {
   "cell_type": "code",
   "execution_count": null,
   "metadata": {
    "collapsed": true
   },
   "outputs": [],
   "source": [
    "zip([1, 2, 3], [\"a\", \"b\", \"c\"])"
   ]
  },
  {
   "cell_type": "markdown",
   "metadata": {},
   "source": [
    "**Problem** : Python provides a built-in function map that applies a function to each element of a list. Provide an implementation for map using list comprehensions."
   ]
  },
  {
   "cell_type": "code",
   "execution_count": null,
   "metadata": {
    "collapsed": true
   },
   "outputs": [],
   "source": [
    "def square(x): return x * x\n",
    "map(square, range(5))"
   ]
  },
  {
   "cell_type": "markdown",
   "metadata": {},
   "source": [
    "## Set Comprehension"
   ]
  },
  {
   "cell_type": "markdown",
   "metadata": {},
   "source": [
    "Set comprehensions allow sets to be constructed using the same principles as list comprehensions, the only difference is that resulting sequence is a set."
   ]
  },
  {
   "cell_type": "markdown",
   "metadata": {},
   "source": [
    "Say we have a list of names. The list can contain names which only differ in the case used to represent them, duplicates and names consisting of only one character. We are only interested in names longer then one character and wish to represent all names in the same format: The first letter should be capitalised, all other characters should be lower case."
   ]
  },
  {
   "cell_type": "code",
   "execution_count": null,
   "metadata": {
    "collapsed": true
   },
   "outputs": [],
   "source": [
    "# Given the list \n",
    "names = [ 'Bob', 'JOHN', 'alice', 'bob', 'ALICE', 'J', 'Bob' ]"
   ]
  },
  {
   "cell_type": "code",
   "execution_count": null,
   "metadata": {
    "collapsed": true
   },
   "outputs": [],
   "source": [
    "# We require the set:\n",
    "{ 'Bob', 'John', 'Alice' }"
   ]
  },
  {
   "cell_type": "markdown",
   "metadata": {},
   "source": [
    "Note the syntax for denoting a set. Members are enclosed in curly braces.\n",
    "\n",
    "The following set comprehension accomplishes this:"
   ]
  },
  {
   "cell_type": "code",
   "execution_count": null,
   "metadata": {
    "collapsed": true
   },
   "outputs": [],
   "source": [
    "{ name[0].upper() + name[1:].lower() for name in names if len(name) > 1 }"
   ]
  },
  {
   "cell_type": "markdown",
   "metadata": {},
   "source": [
    "## Dictionaries"
   ]
  },
  {
   "cell_type": "markdown",
   "metadata": {},
   "source": [
    "Dictionaries are like lists, but they can be indexed with non integer keys also. Unlike lists, dictionaries are not ordered."
   ]
  },
  {
   "cell_type": "code",
   "execution_count": null,
   "metadata": {
    "collapsed": true
   },
   "outputs": [],
   "source": [
    "a = {'x': 1, 'y': 2, 'z': 3}"
   ]
  },
  {
   "cell_type": "code",
   "execution_count": null,
   "metadata": {
    "collapsed": true
   },
   "outputs": [],
   "source": [
    "a['x']"
   ]
  },
  {
   "cell_type": "code",
   "execution_count": null,
   "metadata": {
    "collapsed": true
   },
   "outputs": [],
   "source": [
    "a['z']"
   ]
  },
  {
   "cell_type": "code",
   "execution_count": null,
   "metadata": {
    "collapsed": true
   },
   "outputs": [],
   "source": [
    "b = {}\n",
    "b['x'] = 2\n",
    "b[2] = 'foo'\n",
    "b[(1, 2)] = 3\n",
    "b"
   ]
  },
  {
   "cell_type": "markdown",
   "metadata": {},
   "source": [
    "The del keyword can be used to delete an item from a dictionary."
   ]
  },
  {
   "cell_type": "code",
   "execution_count": null,
   "metadata": {
    "collapsed": true
   },
   "outputs": [],
   "source": [
    "a = {'x': 1, 'y': 2, 'z': 3}"
   ]
  },
  {
   "cell_type": "code",
   "execution_count": null,
   "metadata": {
    "collapsed": true
   },
   "outputs": [],
   "source": [
    "del a['x']"
   ]
  },
  {
   "cell_type": "markdown",
   "metadata": {},
   "source": [
    "The keys method returns all keys in a dictionary, the values method returns all values in a dictionary and items method returns all key-value pairs in a dictionary."
   ]
  },
  {
   "cell_type": "code",
   "execution_count": null,
   "metadata": {
    "collapsed": true
   },
   "outputs": [],
   "source": [
    "a.keys()"
   ]
  },
  {
   "cell_type": "code",
   "execution_count": null,
   "metadata": {
    "collapsed": true
   },
   "outputs": [],
   "source": [
    "a.values()"
   ]
  },
  {
   "cell_type": "code",
   "execution_count": null,
   "metadata": {
    "collapsed": true
   },
   "outputs": [],
   "source": [
    "a.items()"
   ]
  },
  {
   "cell_type": "markdown",
   "metadata": {},
   "source": [
    "The for statement can be used to iterate over a dictionary."
   ]
  },
  {
   "cell_type": "code",
   "execution_count": null,
   "metadata": {
    "collapsed": true
   },
   "outputs": [],
   "source": [
    "for key in a: print key"
   ]
  },
  {
   "cell_type": "code",
   "execution_count": null,
   "metadata": {
    "collapsed": true
   },
   "outputs": [],
   "source": [
    "for key, value in a.items(): print key, value"
   ]
  },
  {
   "cell_type": "markdown",
   "metadata": {},
   "source": [
    "Presence of a key in a dictionary can be tested using in operator or has_key method."
   ]
  },
  {
   "cell_type": "code",
   "execution_count": null,
   "metadata": {
    "collapsed": true
   },
   "outputs": [],
   "source": [
    "'x' in a"
   ]
  },
  {
   "cell_type": "code",
   "execution_count": null,
   "metadata": {
    "collapsed": true
   },
   "outputs": [],
   "source": [
    "'p' in a"
   ]
  },
  {
   "cell_type": "code",
   "execution_count": null,
   "metadata": {
    "collapsed": true
   },
   "outputs": [],
   "source": [
    "a.has_key('x')"
   ]
  },
  {
   "cell_type": "code",
   "execution_count": null,
   "metadata": {
    "collapsed": true
   },
   "outputs": [],
   "source": [
    "a.has_key('p')"
   ]
  },
  {
   "cell_type": "markdown",
   "metadata": {},
   "source": [
    "Other useful methods on dictionaries are get and setdefault."
   ]
  },
  {
   "cell_type": "code",
   "execution_count": null,
   "metadata": {
    "collapsed": true
   },
   "outputs": [],
   "source": [
    "d = {'x': 1, 'y': 2, 'z': 3}"
   ]
  },
  {
   "cell_type": "code",
   "execution_count": null,
   "metadata": {
    "collapsed": true
   },
   "outputs": [],
   "source": [
    "d.get('x', 5)"
   ]
  },
  {
   "cell_type": "code",
   "execution_count": null,
   "metadata": {
    "collapsed": true
   },
   "outputs": [],
   "source": [
    "d.get('p', 5)"
   ]
  },
  {
   "cell_type": "code",
   "execution_count": null,
   "metadata": {
    "collapsed": true
   },
   "outputs": [],
   "source": [
    "d.setdefault('x', 0)"
   ]
  },
  {
   "cell_type": "code",
   "execution_count": null,
   "metadata": {
    "collapsed": true
   },
   "outputs": [],
   "source": [
    "d.setdefault('p', 0)"
   ]
  },
  {
   "cell_type": "markdown",
   "metadata": {},
   "source": [
    "Dictionaries can be used in string formatting to specify named parameters."
   ]
  },
  {
   "cell_type": "code",
   "execution_count": null,
   "metadata": {
    "collapsed": true
   },
   "outputs": [],
   "source": [
    "'hello %(name)s' % {'name': 'python'}"
   ]
  },
  {
   "cell_type": "code",
   "execution_count": null,
   "metadata": {
    "collapsed": true
   },
   "outputs": [],
   "source": [
    "'Chapter %(index)d: %(name)s' % {'index': 2, 'name': 'Data Structures'}"
   ]
  },
  {
   "cell_type": "markdown",
   "metadata": {},
   "source": [
    "### Example: Word Frequency"
   ]
  },
  {
   "cell_type": "markdown",
   "metadata": {},
   "source": [
    "Suppose we want to find number of occurrences of each word in a file. Dictionary can be used to store the number of occurrences for each word.\n",
    "\n",
    "Lets first write a function to count frequency of words, given a list of words."
   ]
  },
  {
   "cell_type": "code",
   "execution_count": null,
   "metadata": {
    "collapsed": true
   },
   "outputs": [],
   "source": [
    "def word_frequency(words):\n",
    "    \"\"\"Returns frequency of each word given a list of words.\n",
    "\n",
    "        >>> word_frequency(['a', 'b', 'a'])\n",
    "        {'a': 2, 'b': 1}\n",
    "    \"\"\"\n",
    "    frequency = {}\n",
    "    for w in words:\n",
    "        try:\n",
    "            frequency[w] += 1\n",
    "        except KeyError:\n",
    "            frequency[w] = 1\n",
    "        \n",
    "    return frequency"
   ]
  },
  {
   "cell_type": "markdown",
   "metadata": {},
   "source": [
    "**Problem** : How could we have used the .get() method to avoid the try execpt clause?"
   ]
  },
  {
   "cell_type": "code",
   "execution_count": null,
   "metadata": {
    "collapsed": true
   },
   "outputs": [],
   "source": [
    "# solution('ZnJlcXVlbmN5W3ddID0gZnJlcXVlbmN5LmdldCh3LCAwKSArIDE=')"
   ]
  },
  {
   "cell_type": "markdown",
   "metadata": {},
   "source": [
    "Getting words from a file is very trivial."
   ]
  },
  {
   "cell_type": "code",
   "execution_count": null,
   "metadata": {
    "collapsed": true
   },
   "outputs": [],
   "source": [
    "def read_words(filename):\n",
    "    return open(filename).read().split()"
   ]
  },
  {
   "cell_type": "markdown",
   "metadata": {},
   "source": [
    "We can combine these two functions to find frequency of all words in a file."
   ]
  },
  {
   "cell_type": "code",
   "execution_count": null,
   "metadata": {
    "collapsed": true
   },
   "outputs": [],
   "source": [
    "def main(filename):\n",
    "    frequency = word_frequency(read_words(filename))\n",
    "    for word, count in frequency.items():\n",
    "        print word, count\n",
    "        \n",
    "# In a Python Script, you'd add this to the bottom to make it run from the command line\n",
    "# while also taking in a single argument referring to the filename.\n",
    "# \n",
    "# if __name__ == \"__main__\":\n",
    "#     import sys\n",
    "#     main(sys.argv[1])"
   ]
  },
  {
   "cell_type": "code",
   "execution_count": null,
   "metadata": {
    "collapsed": true
   },
   "outputs": [],
   "source": [
    "main('usdeclar.txt')"
   ]
  },
  {
   "cell_type": "markdown",
   "metadata": {},
   "source": [
    "**Problem **: Improve the above program to print the words in the descending order of the number of occurrences."
   ]
  },
  {
   "cell_type": "code",
   "execution_count": null,
   "metadata": {
    "collapsed": true
   },
   "outputs": [],
   "source": [
    "# Tip : List compresension to the rescue!"
   ]
  },
  {
   "cell_type": "markdown",
   "metadata": {},
   "source": [
    "## Dictionary Comprehension"
   ]
  },
  {
   "cell_type": "markdown",
   "metadata": {},
   "source": [
    "Say we have a dictionary the keys of which are characters and the values of which map to the number of times that character appears in some text. The dictionary currently distinguishes between upper and lower case characters.\n",
    "\n",
    "We require a dictionary in which the occurrences of upper and lower case characters are combined:"
   ]
  },
  {
   "cell_type": "code",
   "execution_count": null,
   "metadata": {
    "collapsed": true
   },
   "outputs": [],
   "source": [
    "mcase = {'a':10, 'b': 34, 'A': 7, 'Z':3}\n",
    "\n",
    "mcase_frequency = { k.lower() : mcase.get(k.lower(), 0) + mcase.get(k.upper(), 0) for k in mcase.keys() }\n",
    "\n",
    "# mcase_frequency == {'a': 17, 'z': 3, 'b': 34}"
   ]
  },
  {
   "cell_type": "markdown",
   "metadata": {},
   "source": [
    "Instead of a list comprehension, we could have simply used a dict comprehension in the last problem."
   ]
  },
  {
   "cell_type": "code",
   "execution_count": null,
   "metadata": {
    "collapsed": true
   },
   "outputs": [],
   "source": [
    "a_dict = {'a': 1, 'b': 2, 'c': 3}\n",
    "{value:key for key, value in a_dict.items()}"
   ]
  },
  {
   "cell_type": "markdown",
   "metadata": {},
   "source": [
    "Of course, this only works if the values of the dictionary are immutable, like strings or tuples. If you try this with a dictionary that contains lists, it will fail most spectacularly."
   ]
  },
  {
   "cell_type": "code",
   "execution_count": null,
   "metadata": {
    "collapsed": true
   },
   "outputs": [],
   "source": [
    "a_dict = {'a': [1, 2, 3], 'b': 4, 'c': 5}"
   ]
  },
  {
   "cell_type": "code",
   "execution_count": null,
   "metadata": {
    "collapsed": true
   },
   "outputs": [],
   "source": [
    "# {value:key for key, value in a_dict.items()}"
   ]
  },
  {
   "cell_type": "markdown",
   "metadata": {},
   "source": []
  },
  {
   "cell_type": "markdown",
   "metadata": {},
   "source": [
    "## Collections"
   ]
  },
  {
   "cell_type": "markdown",
   "metadata": {},
   "source": [
    "This sectioncovers a module called Collections which implements some nice data structures which will help you to solve various real life problems."
   ]
  },
  {
   "cell_type": "code",
   "execution_count": null,
   "metadata": {
    "collapsed": true
   },
   "outputs": [],
   "source": [
    "import collections"
   ]
  },
  {
   "cell_type": "markdown",
   "metadata": {},
   "source": [
    "### Counter"
   ]
  },
  {
   "cell_type": "markdown",
   "metadata": {},
   "source": [
    "Counter is a dict subclass which helps to count hashable objects. Inside it elements are stored as dictionary keys and counts are stored as values which can be zero or negative."
   ]
  },
  {
   "cell_type": "code",
   "execution_count": null,
   "metadata": {
    "collapsed": true
   },
   "outputs": [],
   "source": [
    "from collections import Counter\n",
    "import re\n",
    "path = 'usdeclar.txt'\n",
    "# let's be a bit more precise about what we mean by 'words'\n",
    "words = re.findall('\\w+', open(path).read().lower())\n",
    "Counter(words).most_common(10)"
   ]
  },
  {
   "cell_type": "markdown",
   "metadata": {},
   "source": [
    "Print out the methods available to you"
   ]
  },
  {
   "cell_type": "code",
   "execution_count": null,
   "metadata": {
    "collapsed": true
   },
   "outputs": [],
   "source": [
    "# dir(Counter)"
   ]
  },
  {
   "cell_type": "code",
   "execution_count": null,
   "metadata": {
    "collapsed": true
   },
   "outputs": [],
   "source": [
    "[n for n in dir(Counter) if '__' not in n]"
   ]
  },
  {
   "cell_type": "markdown",
   "metadata": {},
   "source": [
    "Counter objects has a method called elements which returns an iterator over elements repeating each as many times as its count. Elements are returned in arbitrary order."
   ]
  },
  {
   "cell_type": "code",
   "execution_count": null,
   "metadata": {
    "collapsed": true
   },
   "outputs": [],
   "source": [
    "c = Counter(a=4, b=2, c=0, d=-2)"
   ]
  },
  {
   "cell_type": "code",
   "execution_count": null,
   "metadata": {
    "collapsed": true
   },
   "outputs": [],
   "source": [
    "list(c.elements())"
   ]
  },
  {
   "cell_type": "markdown",
   "metadata": {},
   "source": [
    "most_common is a method which returns most common elements and their counts from the most common to the least."
   ]
  },
  {
   "cell_type": "code",
   "execution_count": null,
   "metadata": {
    "collapsed": true
   },
   "outputs": [],
   "source": [
    "Counter('abracadabra').most_common(3)"
   ]
  },
  {
   "cell_type": "markdown",
   "metadata": {},
   "source": [
    "### Default Dictionary"
   ]
  },
  {
   "cell_type": "markdown",
   "metadata": {},
   "source": [
    "A defaultdict is a dictionary with a default value for keys, so that keys for which no value has been explicitly defined can be accessed without errors. Let’s see it in action. Using defaultdict is faster than doing the same using dict.set_default method."
   ]
  },
  {
   "cell_type": "markdown",
   "metadata": {},
   "source": [
    "#### Word Frequency Revisited"
   ]
  },
  {
   "cell_type": "markdown",
   "metadata": {},
   "source": [
    "We previously used a try/except clause to word around the missing starting value in the dict."
   ]
  },
  {
   "cell_type": "code",
   "execution_count": null,
   "metadata": {
    "collapsed": true
   },
   "outputs": [],
   "source": [
    "def word_frequency(words):\n",
    "    frequency = {}\n",
    "    for w in words:\n",
    "        try:\n",
    "            frequency[w] += 1\n",
    "        except KeyError:\n",
    "            frequency[w] = 1"
   ]
  },
  {
   "cell_type": "markdown",
   "metadata": {},
   "source": [
    "A defaultdict is just like a regular Python dict, except that it supports an additional argument at initialization: a function. If someone attempts to access a key to which no value has been assigned, that function will be called (without arguments) and its return value is used as the default value for the key. "
   ]
  },
  {
   "cell_type": "markdown",
   "metadata": {},
   "source": [
    "Going back to our example, we want the default value to be 0, so we pass the built-in function int()to the defaultdict constructor. When called without arguments, the int() function simply returns 0."
   ]
  },
  {
   "cell_type": "code",
   "execution_count": null,
   "metadata": {
    "collapsed": true
   },
   "outputs": [],
   "source": [
    "from collections import defaultdict\n",
    "\n",
    "def word_frequency(words):\n",
    "    frequency = defaultdict(int)\n",
    "    for w in words:\n",
    "        frequency[w] += 1"
   ]
  },
  {
   "cell_type": "markdown",
   "metadata": {},
   "source": [
    "### Ordered dictionaries"
   ]
  },
  {
   "cell_type": "markdown",
   "metadata": {},
   "source": [
    "### Named Tuple"
   ]
  },
  {
   "cell_type": "markdown",
   "metadata": {},
   "source": [
    "Named tuples helps to have meaning of each position in a tuple and allow us to code with better readability and self-documenting code. You can use them in any place where you are using tuples. In the example we will create a namedtuple to show hold information for points."
   ]
  },
  {
   "cell_type": "code",
   "execution_count": null,
   "metadata": {
    "collapsed": true
   },
   "outputs": [],
   "source": [
    "from collections import namedtuple\n",
    "\n",
    "Point = namedtuple('Point', ['x', 'y'])\n",
    "p = Point(10, y=20)\n",
    "p"
   ]
  },
  {
   "cell_type": "code",
   "execution_count": null,
   "metadata": {
    "collapsed": true
   },
   "outputs": [],
   "source": [
    "Point(x=10, y=20)\n",
    "p.x + p.y"
   ]
  },
  {
   "cell_type": "code",
   "execution_count": null,
   "metadata": {
    "collapsed": true
   },
   "outputs": [],
   "source": [
    "p[0] + p[1]  # Accessing the values in normal way"
   ]
  },
  {
   "cell_type": "code",
   "execution_count": null,
   "metadata": {
    "collapsed": true
   },
   "outputs": [],
   "source": [
    "x, y = p     # Unpacking the tuple\n",
    "x"
   ]
  },
  {
   "cell_type": "code",
   "execution_count": null,
   "metadata": {
    "collapsed": true
   },
   "outputs": [],
   "source": [
    "y"
   ]
  },
  {
   "cell_type": "markdown",
   "metadata": {},
   "source": [
    "## Python Execution Environment"
   ]
  },
  {
   "cell_type": "markdown",
   "metadata": {},
   "source": [
    "Python stores the variables we use as a dictionary. The globals() function returns all the globals variables in the current environment."
   ]
  },
  {
   "cell_type": "code",
   "execution_count": null,
   "metadata": {
    "collapsed": true
   },
   "outputs": [],
   "source": [
    "globals()"
   ]
  },
  {
   "cell_type": "code",
   "execution_count": null,
   "metadata": {
    "collapsed": true
   },
   "outputs": [],
   "source": [
    "x = 1"
   ]
  },
  {
   "cell_type": "code",
   "execution_count": null,
   "metadata": {
    "collapsed": true
   },
   "outputs": [],
   "source": [
    "globals()"
   ]
  },
  {
   "cell_type": "code",
   "execution_count": null,
   "metadata": {
    "collapsed": true
   },
   "outputs": [],
   "source": [
    "x = 1"
   ]
  },
  {
   "cell_type": "code",
   "execution_count": null,
   "metadata": {
    "collapsed": true
   },
   "outputs": [],
   "source": [
    "globals()['x'] = 3"
   ]
  },
  {
   "cell_type": "code",
   "execution_count": null,
   "metadata": {
    "collapsed": true
   },
   "outputs": [],
   "source": [
    "x"
   ]
  },
  {
   "cell_type": "markdown",
   "metadata": {},
   "source": [
    "Just like globals python also provides a function locals which gives all the local variables in a function."
   ]
  },
  {
   "cell_type": "code",
   "execution_count": null,
   "metadata": {
    "collapsed": true
   },
   "outputs": [],
   "source": [
    "def f(a, b): print locals()"
   ]
  },
  {
   "cell_type": "markdown",
   "metadata": {},
   "source": [
    "One more example:"
   ]
  },
  {
   "cell_type": "code",
   "execution_count": null,
   "metadata": {
    "collapsed": true
   },
   "outputs": [],
   "source": [
    "def f(name):\n",
    "    return \"Hello %(name)s!\" % locals()"
   ]
  },
  {
   "cell_type": "code",
   "execution_count": null,
   "metadata": {
    "collapsed": true
   },
   "outputs": [],
   "source": [
    "f(\"Guido\")"
   ]
  },
  {
   "cell_type": "markdown",
   "metadata": {},
   "source": [
    "## Python String Formatting"
   ]
  },
  {
   "cell_type": "markdown",
   "metadata": {},
   "source": [
    "### Number Formatting"
   ]
  },
  {
   "cell_type": "markdown",
   "metadata": {},
   "source": [
    "The following table shows various ways to format numbers using python's newish str.format(), examples for both float formatting and integers.\n",
    "\n",
    "To run examples use print(\"FORMAT\".format(NUMBER)); So to get the output of the first example, you would run: print(\"{:.2f}\".format(3.1415926));"
   ]
  },
  {
   "cell_type": "markdown",
   "metadata": {},
   "source": [
    "| Number     | Format  | Output    | Description                                   |\n",
    "|------------|---------|-----------|-----------------------------------------------|\n",
    "| 3.1415926  | {:.2f}  | 3.14      | 2 decimal places                              |\n",
    "| 3.1415926  | {:+.2f} | +3.14     | 2 decimal places with sign                    |\n",
    "| -1         | {:+.2f} | -1.00     | 2 decimal places with sign                    |\n",
    "| 2.71828    | {:.0f}  | 3         | No decimal places                             |\n",
    "| 5          | {:0>2d} | 05        | Pad number with zeros (left padding, width 2) |\n",
    "| 5          | {:x<4d} | 5xxx      | Pad number with x's (right padding, width 4)  |\n",
    "| 10         | {:x<4d} | 10xx      | Pad number with x's (right padding, width 4)  |\n",
    "| 1000000    | {:,}    | 1,000,000 | Number format with comma separator            |\n",
    "| 0.25       | {:.2%}  | 25.00%    | Format percentage                             |\n",
    "| 1000000000 | {:.2e}  | 1.00e+09  | Exponent notation                             |\n",
    "| 13         | {:10d}  | 13        | Right aligned (default, width 10)             |\n",
    "| 13         | {:<10d} | 13        | Left aligned (width 10)                       |\n",
    "| 13         | {:^10d} | 13        | Center aligned (width 10)                     |"
   ]
  },
  {
   "cell_type": "markdown",
   "metadata": {},
   "source": [
    "### string.format() basics"
   ]
  },
  {
   "cell_type": "markdown",
   "metadata": {},
   "source": [
    "Here are a couple of example of basic string substitution, the {} is the placeholder for the substituted variables. If no format is specified, it will insert and format as a string."
   ]
  },
  {
   "cell_type": "code",
   "execution_count": null,
   "metadata": {
    "collapsed": true
   },
   "outputs": [],
   "source": [
    "s1 = \"so much depends upon {}\".format(\"a red wheel barrow\")\n",
    "s2 = \"glazed with {} water beside the {} chickens\".format(\"rain\", \"white\")"
   ]
  },
  {
   "cell_type": "markdown",
   "metadata": {},
   "source": [
    "You can also use the numeric position of the variables and change them in the strings, this gives some flexibility when doing the formatting, if you made a mistake in the order you can easily correct without shuffling all variables around."
   ]
  },
  {
   "cell_type": "code",
   "execution_count": null,
   "metadata": {
    "collapsed": true
   },
   "outputs": [],
   "source": [
    "s1 = \" {0} is better than {1} \".format(\"emacs\", \"vim\")\n",
    "s2 = \" {1} is better than {0} \".format(\"emacs\", \"vim\")"
   ]
  },
  {
   "cell_type": "markdown",
   "metadata": {},
   "source": [
    "The format() function offers a fair amount of additional features and capabilities, here are a few useful tips and tricks using .format()"
   ]
  },
  {
   "cell_type": "markdown",
   "metadata": {},
   "source": [
    "#### Named Arguments"
   ]
  },
  {
   "cell_type": "markdown",
   "metadata": {},
   "source": [
    "You can use the new string format as a templating engine and use named arguments, instead of requiring a strict order."
   ]
  },
  {
   "cell_type": "code",
   "execution_count": null,
   "metadata": {
    "collapsed": true
   },
   "outputs": [],
   "source": [
    "\" I {verb} the {object} off the {place} \".format(verb=\"took\", object=\"cheese\", place=\"table\")"
   ]
  },
  {
   "cell_type": "markdown",
   "metadata": {},
   "source": [
    "#### Reuse Same Variable Multiple Times"
   ]
  },
  {
   "cell_type": "markdown",
   "metadata": {},
   "source": [
    "The .format() method allows you to put them in any order as we saw above in the basics, but also allows for reuse."
   ]
  },
  {
   "cell_type": "code",
   "execution_count": null,
   "metadata": {
    "collapsed": true
   },
   "outputs": [],
   "source": [
    "\"Oh {0}, {0}! wherefore art thou {0}?\".format(\"Romeo\")"
   ]
  },
  {
   "cell_type": "markdown",
   "metadata": {},
   "source": [
    "#### Convert Values to different Bases\n"
   ]
  },
  {
   "cell_type": "markdown",
   "metadata": {},
   "source": [
    "You can use the following letters to convert a number to their bases, decimal, hex, octal, binary"
   ]
  },
  {
   "cell_type": "code",
   "execution_count": null,
   "metadata": {
    "collapsed": true
   },
   "outputs": [],
   "source": [
    "print \"{0:d} - {0:x} - {0:o} - {0:b} \".format(21)"
   ]
  },
  {
   "cell_type": "markdown",
   "metadata": {},
   "source": [
    "#### Use Format as a Function"
   ]
  },
  {
   "cell_type": "markdown",
   "metadata": {},
   "source": [
    "You can use .format as a function which allows for some separation of text and formatting from code. For example at the beginning of your program you could include all your formats and then use later. This also could be a nice way to handle internationalization which not only requires different text but often requires different formats for numbers."
   ]
  },
  {
   "cell_type": "code",
   "execution_count": null,
   "metadata": {
    "collapsed": true
   },
   "outputs": [],
   "source": [
    "## defining formats\n",
    "email_f = \"Your email address was {email}\".format\n",
    "\n",
    "## use elsewhere\n",
    "print email_f(email=\"bob@example.com\")"
   ]
  },
  {
   "cell_type": "markdown",
   "metadata": {},
   "source": [
    "Oh, and if you need to use braces when using str.format(), just double up"
   ]
  },
  {
   "cell_type": "code",
   "execution_count": null,
   "metadata": {
    "collapsed": true
   },
   "outputs": [],
   "source": [
    "\" The {} set is often represented as {{0}}\".format(\"empty\")"
   ]
  },
  {
   "cell_type": "markdown",
   "metadata": {},
   "source": [
    "For a more detailed treatment of string formating, please visit [pyformat.info](https://pyformat.info/#number_padding)"
   ]
  },
  {
   "cell_type": "markdown",
   "metadata": {},
   "source": [
    "## Challenges"
   ]
  },
  {
   "cell_type": "code",
   "execution_count": 1,
   "metadata": {
    "collapsed": true
   },
   "outputs": [],
   "source": [
    "import sys, os\n",
    "from base64 import b64encode, b64decode\n",
    "sys.path.append(os.path.join(os.path.abspath(os.path.curdir), '..', 'TestFramework'))\n",
    "import TestFramework\n",
    "\n",
    "def solution(enc):\n",
    "    for n in b64decode(enc).split('\\n'):\n",
    "        print n"
   ]
  },
  {
   "cell_type": "markdown",
   "metadata": {},
   "source": [
    "### Enough is enough!"
   ]
  },
  {
   "cell_type": "markdown",
   "metadata": {},
   "source": [
    "Alice and Bob were on a holiday. Both of them took many pictures of the places they've been, and now they want to show Charlie their entire collection. However, Charlie doesn't like this sessions, since the motive usually repeats. He isn't fond of seeing the Eiffel tower 40 times. He tells them that he will only sit during the session if they show the same motive at most N times. Luckily, Alice and Bob are able to encode the motive as a number. Can you help them to remove numbers such that their list contains each number only up to N times, without changing the order?\n",
    "\n",
    "Task\n",
    "\n",
    "Given a list lst and a number `N`, create a new list that contains each number of lst at most `N` times without reordering. For example if `N = 2`, and the input is `[1,2,3,1,2,1,2,3]`, you take `[1,2,3,1,2]`, drop the next `[1,2]` since this would lead to `1` and `2` being in the result `3` times, and then take `3`, which leads to `[1,2,3,1,2,3]`."
   ]
  },
  {
   "cell_type": "markdown",
   "metadata": {},
   "source": [
    "Example"
   ]
  },
  {
   "cell_type": "markdown",
   "metadata": {
    "collapsed": true
   },
   "source": [
    "delete_nth ([1,1,1,1],2) # return [1,1]\n",
    "\n",
    "delete_nth ([20,37,20,21],1) # return [20,37,21]"
   ]
  },
  {
   "cell_type": "markdown",
   "metadata": {},
   "source": [
    "#### Solution"
   ]
  },
  {
   "cell_type": "code",
   "execution_count": null,
   "metadata": {
    "collapsed": true
   },
   "outputs": [],
   "source": [
    "##Your code\n",
    "def delete_nth(order,max_e):\n",
    "    pass"
   ]
  },
  {
   "cell_type": "code",
   "execution_count": null,
   "metadata": {
    "collapsed": true
   },
   "outputs": [],
   "source": [
    "Test = TestFramework.Test()\n",
    "Test.assert_equals([20,37,21], delete_nth([20,37,20,21], 1))\n",
    "Test.assert_equals([1, 1, 3, 3, 7, 2, 2, 2], delete_nth([1,1,3,3,7,2,2,2,2], 3))"
   ]
  },
  {
   "cell_type": "markdown",
   "metadata": {},
   "source": [
    "#### Sample Solution"
   ]
  },
  {
   "cell_type": "code",
   "execution_count": 3,
   "metadata": {
    "collapsed": true
   },
   "outputs": [],
   "source": [
    "# solution('IyNTb2x1dGlvbgpkZWYgZGVsZXRlX250aChvcmRlcixtYXhfZSk6CiAgICByZXN1bHQgPSBbXQogICAgZm9yIG51bSBpbiBvcmRlcjoKICAgICAgICBpZiByZXN1bHQuY291bnQobnVtKSA+PSBtYXhfZToKICAgICAgICAgICAgcGFzcwogICAgICAgIGVsc2U6CiAgICAgICAgICAgIHJlc3VsdC5hcHBlbmQobnVtKQogICAgcmV0dXJuKHJlc3VsdCk=')"
   ]
  },
  {
   "cell_type": "markdown",
   "metadata": {},
   "source": [
    "### Which are in?"
   ]
  },
  {
   "cell_type": "markdown",
   "metadata": {},
   "source": [
    "Given two list of strings a1 and a2 return a sorted array the strings of a1 which are substrings of strings of a2. Return the list in lexicographical order and without duplicates.\n",
    "\n",
    "Example: a1 = [\"arp\", \"live\", \"strong\"]\n",
    "\n",
    "a2 = [\"lively\", \"alive\", \"harp\", \"sharp\", \"armstrong\"]\n",
    "\n",
    "returns [\"arp\", \"live\", \"strong\"]\n",
    "\n",
    "a1 = [\"tarp\", \"mice\", \"bull\"]\n",
    "\n",
    "a2 = [\"lively\", \"alive\", \"harp\", \"sharp\", \"armstrong\"]\n",
    "\n",
    "returns []"
   ]
  },
  {
   "cell_type": "markdown",
   "metadata": {},
   "source": [
    "#### Solution"
   ]
  },
  {
   "cell_type": "code",
   "execution_count": null,
   "metadata": {
    "collapsed": true
   },
   "outputs": [],
   "source": [
    "##Your code\n",
    "def in_list(list_1, list_2):\n",
    "    pass"
   ]
  },
  {
   "cell_type": "code",
   "execution_count": null,
   "metadata": {
    "collapsed": true
   },
   "outputs": [],
   "source": [
    "Test = TestFramework.Test()\n",
    "a1 = [\"live\", \"arp\", \"strong\"] \n",
    "a2 = [\"lively\", \"alive\", \"harp\", \"sharp\", \"armstrong\"]\n",
    "r1 = ['arp', 'live', 'strong']\n",
    "Test.assert_equals(r1, in_list(a1, a2))\n",
    "\n",
    "a3 = [\"tarp\", \"mice\", \"bull\"]\n",
    "a4 = [\"lively\", \"alive\", \"harp\", \"sharp\", \"armstrong\"]\n",
    "r2 = []\n",
    "Test.assert_equals(r2, in_list(a3, a4))\n",
    "\n",
    "a5 = [\"tarp\", \"mst\", \"har\"]\n",
    "a6 = [\"lively\", \"alive\", \"harp\", \"sharp\", \"armstrong\"]\n",
    "r3 = ['har', 'mst']\n",
    "Test.assert_equals(r3, in_list(a5, a6))"
   ]
  },
  {
   "cell_type": "markdown",
   "metadata": {},
   "source": [
    "#### Sample Solution"
   ]
  },
  {
   "cell_type": "code",
   "execution_count": 7,
   "metadata": {
    "collapsed": true
   },
   "outputs": [],
   "source": [
    "# solution('IyNTb2x1dGlvbgpkZWYgaW5fbGlzdChsaXN0XzEsIGxpc3RfMik6CiAgICBsaXN0XzEuc29ydCgpCiAgICByZXN1bHQgPSBbXQogICAgZm9yIHdvcmQgaW4gbGlzdF8xOgogICAgICAgIGhhc1dvcmQgPSBGYWxzZQogICAgICAgIGZvciB3b3JkMiBpbiBsaXN0XzI6CiAgICAgICAgICAgIGlmIHdvcmQyLmZpbmQod29yZCkgIT0gLTE6CiAgICAgICAgICAgICAgICBoYXNXb3JkID0gVHJ1ZQogICAgICAgIGlmIGhhc1dvcmQ6CiAgICAgICAgICAgIHJlc3VsdC5hcHBlbmQod29yZCkKICAgIHJldHVybihyZXN1bHQp')"
   ]
  },
  {
   "cell_type": "markdown",
   "metadata": {},
   "source": [
    "### Midpoint Sum"
   ]
  },
  {
   "cell_type": "markdown",
   "metadata": {},
   "source": [
    "For a given list of integers, return the index of the element where the sums of the integers to the left and right of the current element are equal.\n",
    "\n",
    "Ex:"
   ]
  },
  {
   "cell_type": "code",
   "execution_count": null,
   "metadata": {
    "collapsed": true
   },
   "outputs": [],
   "source": [
    "ints = [4, 1, 7, 9, 3, 9]\n",
    "# Since 4 + 1 + 7 = 12 and 3 + 9 = 12, the returned index would be 3\n",
    "\n",
    "ints = [1, 0, -1]\n",
    "# Returns -1\n",
    "# are no indices where the left and right sums are equal"
   ]
  },
  {
   "cell_type": "markdown",
   "metadata": {},
   "source": [
    "Here are the 2 important rules:\n",
    "\n",
    "The element at the index to be returned is not included in either of the sum calculations!\n",
    "Both the first and last index cannot be considered as a \"midpoint\" (So None for [X] and [X, X])\n",
    "\n"
   ]
  },
  {
   "cell_type": "markdown",
   "metadata": {},
   "source": [
    "#### Solution"
   ]
  },
  {
   "cell_type": "code",
   "execution_count": null,
   "metadata": {
    "collapsed": true
   },
   "outputs": [],
   "source": [
    "##Your code\n",
    "def midpoint_sum(ints):\n",
    "    pass"
   ]
  },
  {
   "cell_type": "code",
   "execution_count": null,
   "metadata": {
    "collapsed": true
   },
   "outputs": [],
   "source": [
    "Test = TestFramework.Test()\n",
    "Test.describe(\"Normal Cases\")\n",
    "Test.expect(midpoint_sum([1, 0, -1]) == -1, \"[1, 0, -1] should return -1\")\n",
    "Test.expect(midpoint_sum([4,1,7,9,3,9]) == 3, \"[4,1,7,9,3,9] should return 3\")\n",
    "Test.expect(midpoint_sum([1,0,1]) == 1, \"[1,0,1] should equal 1\")\n",
    "Test.expect(midpoint_sum([9,0,1,2,3,4]) == 2, \"[9,0,1,2,3,4] should equal 2\")\n",
    "Test.expect(midpoint_sum([0,0,4,0]) == 2, \"[0,0,4,0] should equal 2\")\n",
    "Test.expect(midpoint_sum([-10,3,7,8,-6,-13,21]) == 4, \"[-10,3,7,8,-6,-13,21] should equal 4\")\n",
    "Test.expect(midpoint_sum([1,1,1,1,-5,1,1,1,1,1,1,1,1,1,1,1,1,1,1,1,1,1,1,1,1,1,1,1,1,1,1,1,1,1,1,1,1,1,1,1,1,1,1,1,1,1,1,1,1,1,1,1,1,1,1,1,1,1,1,1,1,1,1,1,1,1,1,1,1,1,1,2,1,1,1,1,1,1,1,1,1,1,1,1,1,1,1,1,1,1,1,1,1,1,1,1,1,1]) ==  52, \"Large valid sequence: [1,1,1,1,-5,1,1,1,1,1,1,1,1,1,1,1,1,1,1,1,1,1,1,1,1,1,1,1,1,1,1,1,1,1,1,1,1,1,1,1,1,1,1,1,1,1,1,1,1,1,1,1,1,1,1,1,1,1,1,1,1,1,1,1,1,1,1,1,1,1,1,2,1,1,1,1,1,1,1,1,1,1,1,1,1,1,1,1,1,1,1,1,1,1,1,1,1,1] should equal 52\")"
   ]
  },
  {
   "cell_type": "markdown",
   "metadata": {},
   "source": [
    "#### Sample Solution"
   ]
  },
  {
   "cell_type": "code",
   "execution_count": 9,
   "metadata": {
    "collapsed": true
   },
   "outputs": [],
   "source": [
    "#  solution('IyNTb2x1dGlvbgpkZWYgbWlkcG9pbnRfc3VtKGludHMpOgogICAgbGVmdCA9IFtdCiAgICByaWdodCA9IFtdCiAgICBsZWZ0X2luZGV4ID0gMAogICAgcmlnaHRfaW5kZXggPSBsZW4oaW50cykKICAgIG1heF9zdW0gPSBzdW0oaW50cykvMgogICAgZm9yIGluZGV4IGluIHJhbmdlKDAsIChsZW4oaW50cykgLSAxKSk6CiAgICAgICAgaWYgbGVuKGludHNbMDppbmRleF0pID4gMDoKICAgICAgICAgICAgbGVmdC5hcHBlbmQoc3VtKGludHNbMDppbmRleF0pKQogICAgZm9yIGluZGV4IGluIHJhbmdlKDEsIChsZW4oaW50cykpKToKICAgICAgICBpZiBsZW4oaW50c1staW5kZXg6XSkgPiAwOgogICAgICAgICAgICByaWdodC5hcHBlbmQoc3VtKGludHNbLWluZGV4Ol0pKQogICAgZm9yIGxlZnRfbnVtIGluIGxlZnQ6CiAgICAgICAgcmlnaHRfaW5kZXggPSAwCiAgICAgICAgZm9yIHJpZ2h0X251bSBpbiByaWdodDoKICAgICAgICAgICAgaWYgbGVmdF9udW0gPT0gcmlnaHRfbnVtOgogICAgICAgICAgICAgICAgaWYgbGVmdF9pbmRleCArIHJpZ2h0X2luZGV4ICsgMyA9PSBsZW4oaW50cyk6CiAgICAgICAgICAgICAgICAgICAgcmV0dXJuKGxlZnRfaW5kZXggKyAxKQogICAgICAgICAgICByaWdodF9pbmRleCA9IHJpZ2h0X2luZGV4ICsgMQogICAgICAgIGxlZnRfaW5kZXggPSBsZWZ0X2luZGV4ICsgMQogICAgcmV0dXJuKC0xKQ==')"
   ]
  },
  {
   "cell_type": "markdown",
   "metadata": {},
   "source": [
    "## Homework"
   ]
  },
  {
   "cell_type": "markdown",
   "metadata": {},
   "source": [
    "This week's homework is to create a proof of concept backend for a predictive keyboard. Sounds fancy right? But you can already do this! The idea is that just like the Android keyboard, once you have completed a word, it will recommend three words which it thinks you'll want to type next.\n",
    "\n",
    "We are going to seed our model by reading in 100.000 emails from the [Enron Email Dataset](https://www.cs.cmu.edu/~./enron/). This represents our baseline for how we expect people to use language. We all went to talk like the smartest guys in the room, right?\n",
    "\n",
    "Your solution will consist of two functions. The first function reads in the email data to build up a probabilistic collocation model, i.e. how likely is one word to follow another word. Once you've prepared this model, the second function takes in a string, and based on that string (word, sub-word or phrase) used the language model you've created to return a tuple of the three most likely auto-complete options."
   ]
  },
  {
   "cell_type": "markdown",
   "metadata": {},
   "source": [
    "Please [download](http://python-intro.s3.amazonaws.com/data/email.txt) the cleaned up dataset"
   ]
  },
  {
   "cell_type": "code",
   "execution_count": null,
   "metadata": {
    "collapsed": true
   },
   "outputs": [],
   "source": [
    "def auto_complete_candidates(txt,no_candidates=3):\n",
    "    \"\"\"Auto complete candidates based on text input\n",
    "\n",
    "    Consults a language model to predict the most likely candidates\n",
    "    for a keyboard's auto-complete functionality.\n",
    "\n",
    "    By default returns the best three candidates.\n",
    "\n",
    "    Args:\n",
    "        txt (str): word or phrase to base autocomplete on\n",
    "        no_candidates (int): number of candidates to reutrn\n",
    "\n",
    "    Returns:\n",
    "        tuple: Best candidate autocompletions\n",
    "    \"\"\"\n",
    "    return txt\n"
   ]
  },
  {
   "cell_type": "markdown",
   "metadata": {},
   "source": [
    "#### Reach Goal"
   ]
  },
  {
   "cell_type": "markdown",
   "metadata": {},
   "source": [
    "The reach goal is to also provide predictive ​_text_​-completion. That is, if you pass an incomplete word to `auto_complete_candidates`, it will return candidates to complete the word instead of words which are likely to follow the input. This means that you'll need to be flexible in what you accept as input and figure out whether what you're being passed in is a complete word or not.  "
   ]
  },
  {
   "cell_type": "markdown",
   "metadata": {},
   "source": [
    "#### Programmer Goal"
   ]
  },
  {
   "cell_type": "markdown",
   "metadata": {},
   "source": [
    "The programmer goal is to also take the words into account which the user typed thus far. So instead of just a single word as input, consider a phrase. Also come up with a way to score the number of words you should be taking into account."
   ]
  }
 ],
 "metadata": {
  "kernelspec": {
   "display_name": "Python 3",
   "language": "python",
   "name": "python3"
  },
  "language_info": {
   "codemirror_mode": {
    "name": "ipython",
    "version": 3
   },
   "file_extension": ".py",
   "mimetype": "text/x-python",
   "name": "python",
   "nbconvert_exporter": "python",
   "pygments_lexer": "ipython3",
   "version": "3.6.1"
  }
 },
 "nbformat": 4,
 "nbformat_minor": 1
}
